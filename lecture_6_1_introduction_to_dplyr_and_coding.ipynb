{
  "nbformat": 4,
  "nbformat_minor": 0,
  "metadata": {
    "kernelspec": {
      "display_name": "R",
      "language": "R",
      "name": "ir"
    },
    "language_info": {
      "codemirror_mode": "r",
      "file_extension": ".r",
      "mimetype": "text/x-r-source",
      "name": "R",
      "pygments_lexer": "r",
      "version": "3.5.1"
    },
    "colab": {
      "name": "Copy of lecture_6_1_introduction_to_dplyr_and_tidyr_(part_1).ipynb",
      "provenance": [],
      "include_colab_link": true
    }
  },
  "cells": [
    {
      "cell_type": "markdown",
      "metadata": {
        "id": "view-in-github",
        "colab_type": "text"
      },
      "source": [
        "<a href=\"https://colab.research.google.com/github/thooks630/DSCI_210_R_notebooks/blob/main/lecture_6_1_introduction_to_dplyr_and_coding.ipynb\" target=\"_parent\"><img src=\"https://colab.research.google.com/assets/colab-badge.svg\" alt=\"Open In Colab\"/></a>"
      ]
    },
    {
      "cell_type": "markdown",
      "metadata": {
        "id": "xwhAe-Auig_9"
      },
      "source": [
        "# Part 1 - Introduction to the `tidyverse` in `R`"
      ]
    },
    {
      "cell_type": "markdown",
      "metadata": {
        "id": "XkwD9qfBihAD"
      },
      "source": [
        "## Why use R?\n",
        "\n",
        "\n",
        "- Save and rerun code\n",
        "- Several data science/statistics packages available\n",
        "- Great graphics\n",
        "- Built for data\n",
        "- Free and open-source\n",
        "- Large user community"
      ]
    },
    {
      "cell_type": "markdown",
      "metadata": {
        "id": "bYHkVIWMihAF"
      },
      "source": [
        "### Market-share\n",
        "\n",
        "![](https://github.com/WSU-DataScience/DSCI_210_R_notebooks/blob/main/img/Fig-1a-IndeedJobs-2017.png?raw=1)"
      ]
    },
    {
      "cell_type": "markdown",
      "metadata": {
        "id": "Kje2BaGPihAG"
      },
      "source": [
        "## What is the `tidyverse`?\n",
        "\n",
        "The tidyverse is a collection of `R` packages designed for data science. They all share an underlying design philosophy, grammar, and data structures. We will focus on a few packages for managing data, using the data verb syntax.\n",
        "*   `dplyr` (`select`, `filter`, `mutate`, `group_by`, `summarize`)\n",
        "* `tidyr` (stack and unstack with `gather` and `spread`)\n",
        "\n",
        "\n",
        "In future data science courses, you will likely use `ggplot`  to create nice graphics.   \n",
        "    "
      ]
    },
    {
      "cell_type": "markdown",
      "metadata": {
        "id": "Q-Vk1RHiihAH"
      },
      "source": [
        "# Introduction to the `dplyr` package in `R`\n",
        "\n",
        "## Loading a Library"
      ]
    },
    {
      "cell_type": "code",
      "metadata": {
        "id": "IkxsiMxsihAH"
      },
      "source": [
        "# This loads all of the dplyr functions\n",
        "# You must do every time you start new R session\n",
        "\n",
        "library(\"dplyr\")"
      ],
      "execution_count": null,
      "outputs": []
    },
    {
      "cell_type": "markdown",
      "metadata": {
        "id": "kOZjy6VJihAK"
      },
      "source": [
        "## Reading in data"
      ]
    },
    {
      "cell_type": "code",
      "metadata": {
        "id": "_KCnzap0ihAM"
      },
      "source": [
        "surveys <- read.csv('https://github.com/WSU-DataScience/DSCI_210_R_notebooks/raw/main/data/portal_data_joined.csv')\n",
        "\n",
        "# Good habit: Always inspect the result with head\n",
        "head(surveys)"
      ],
      "execution_count": null,
      "outputs": []
    },
    {
      "cell_type": "markdown",
      "metadata": {
        "id": "vpquI1Z0ihAP"
      },
      "source": [
        "## Selecting columns with `select`"
      ]
    },
    {
      "cell_type": "code",
      "metadata": {
        "id": "dBpF4II8ihAQ"
      },
      "source": [
        "# Syntax: select(df, col1, col2, ...)\n",
        "\n",
        "new_df <- select(surveys, plot_id, species_id, weight)\n",
        "head(new_df)"
      ],
      "execution_count": null,
      "outputs": []
    },
    {
      "cell_type": "markdown",
      "metadata": {
        "id": "uBl321xOihAR"
      },
      "source": [
        "## Filtering rows with `filter`"
      ]
    },
    {
      "cell_type": "code",
      "metadata": {
        "id": "hxCIwG7uihAR"
      },
      "source": [
        "new_df2 <- filter(surveys, year == 1995)\n",
        "head(new_df2)"
      ],
      "execution_count": null,
      "outputs": []
    },
    {
      "cell_type": "markdown",
      "metadata": {
        "id": "h5E13Zc1-lb4"
      },
      "source": [
        "*Question: Why are the columns not selected up above still appearing here?*"
      ]
    },
    {
      "cell_type": "markdown",
      "metadata": {
        "id": "sBixZKVhihAS"
      },
      "source": [
        "## Creating a new column with `mutate`"
      ]
    },
    {
      "cell_type": "code",
      "metadata": {
        "id": "j9rFCK9LihAS"
      },
      "source": [
        "new_df <- select(surveys, plot_id, species_id, weight, year)\n",
        "new_df2 <- filter(new_df, year == 1995)\n",
        "new_df3 <- mutate(new_df2, weight_kg = weight / 1000)\n",
        "head(new_df3)"
      ],
      "execution_count": null,
      "outputs": []
    },
    {
      "cell_type": "code",
      "metadata": {
        "id": "-bkGoN2RihAT"
      },
      "source": [
        "# To drop the old weight column:\n",
        "\n",
        "new_df4 <- select(new_df3, -weight)\n",
        "head(new_df4)"
      ],
      "execution_count": null,
      "outputs": []
    },
    {
      "cell_type": "markdown",
      "metadata": {
        "id": "a7kWqyk1ihAT"
      },
      "source": [
        "## Motivating pipes\n",
        "\n",
        "The pipe, `%>%`, is a powerful tool for clearly expressing a sequence of multiple operations. Before we explore using the pipe with `dplyr` functions, let's look at some alternatives.\n",
        "\n",
        "### Alternative #1: Imperative coding pattern - save, save, save!\n",
        "\n",
        "\n",
        "<img width=\"450\" src=\"https://github.com/WSU-DataScience/DSCI_210_R_notebooks/blob/main/img/imperative_pattern.png?raw=1\">\n",
        "\n",
        "This works, but it's not the best approach.\n",
        "- **Problem 1:** Creates lots of temporary variables \n",
        "- **Problem 2:** Messy and lots of overhead\n",
        "\n",
        "All the extra *stuff* clouds the meaning/intent of the code!"
      ]
    },
    {
      "cell_type": "markdown",
      "metadata": {
        "id": "jQOVwFjUihAU"
      },
      "source": [
        "### Alternative #2 - Rewrite to the same data frame\n",
        "\n",
        "Instead of creating new objects at each step, we could just overwrite the original:"
      ]
    },
    {
      "cell_type": "markdown",
      "metadata": {
        "id": "wZX-_XkIihAU"
      },
      "source": [
        "```{R}\n",
        "surveys <- select(surveys, plot_id, species_id, weight, year)\n",
        "surveys <- filter(surveys, year == 1995)\n",
        "surveys <- mutate(surveys, weight_kg = weight / 1000)\n",
        "```"
      ]
    },
    {
      "cell_type": "markdown",
      "metadata": {
        "id": "dRmKchEUihAU"
      },
      "source": [
        "**Problem:** This approach obscures what's changing on each line.\n",
        "\n"
      ]
    },
    {
      "cell_type": "markdown",
      "metadata": {
        "id": "z82-lT7DPbUq"
      },
      "source": [
        "### Alternative #3 - Functional coding approach\n",
        "\n",
        "This approach just strings the function calls together:"
      ]
    },
    {
      "cell_type": "code",
      "metadata": {
        "id": "TLCT5OPKPtVb"
      },
      "source": [
        "surveys <-\n",
        "select(\n",
        "  filter(\n",
        "    mutate(surveys,\n",
        "      weight_kg = weight / 1000), \n",
        "    year == 1995), \n",
        "  plot_id, species_id, weight, year)"
      ],
      "execution_count": null,
      "outputs": []
    },
    {
      "cell_type": "markdown",
      "metadata": {
        "id": "9IqZoSH3Qyd5"
      },
      "source": [
        "**Problem:** We have to read from inside-out and from right to left. This is difficult to understand!"
      ]
    },
    {
      "cell_type": "markdown",
      "metadata": {
        "id": "L6JI11XYihAV"
      },
      "source": [
        "### The fix: use a pipe for cleaner code\n",
        "\n",
        "The pipe helps us write code in a way that is easier to read and understand. The pipe pushes the data frame through the first position:\n",
        "\n",
        "<img width=\"350\" src=\"https://github.com/WSU-DataScience/DSCI_210_R_notebooks/blob/main/img/pipe1.png?raw=1\">"
      ]
    },
    {
      "cell_type": "markdown",
      "metadata": {
        "id": "03qpYyALihAV"
      },
      "source": [
        "Imagine an invisible data frame in the first spot... but don't write it!\n",
        "\n",
        "<img width=\"350\" src=\"https://github.com/WSU-DataScience/DSCI_210_R_notebooks/blob/main/img/pipe2.png?raw=1\">"
      ]
    },
    {
      "cell_type": "markdown",
      "metadata": {
        "id": "nZPoPz9PihAV"
      },
      "source": [
        "Note this important point - each data frame is NEW when you use the pipe.\n",
        "\n",
        "\\\\\n",
        "\n",
        "### The code with pipes - much cleaner!\n",
        "The code shown below uses the pipe with `dplyr` functions. The advantage is that we are now focusing on the data verbs!"
      ]
    },
    {
      "cell_type": "code",
      "metadata": {
        "id": "O9fIZX35ihAW"
      },
      "source": [
        "surveys  %>% \n",
        "  select(plot_id, species_id, weight, year) %>%\n",
        "  filter(year == 1995) %>%\n",
        "  mutate(weight_kg = weight / 1000) %>%\n",
        "  head()"
      ],
      "execution_count": null,
      "outputs": []
    },
    {
      "cell_type": "markdown",
      "metadata": {
        "id": "CElG_Cc0ihAW"
      },
      "source": [
        "### My preferred code format"
      ]
    },
    {
      "cell_type": "code",
      "metadata": {
        "id": "YH8_tXU1ihAX"
      },
      "source": [
        "(surveys  \n",
        " %>% select(plot_id, species_id, weight, year) \n",
        " %>% filter(year == 1995) \n",
        " %>% mutate(weight_kg = weight / 1000) \n",
        " %>% head()\n",
        ")"
      ],
      "execution_count": null,
      "outputs": []
    },
    {
      "cell_type": "markdown",
      "metadata": {
        "id": "gDSuiTyVihAX"
      },
      "source": [
        "## <font color=\"red\"> Exercise 1 </font>\n",
        "\n",
        "Write code using `dplyr` with pipes to perform the following tasks.\n",
        "\n",
        "1. Compute the weight of all species in lbs.\n",
        "2. Filter out the rows containing only weights (in lbs) greater than 0.2 lbs."
      ]
    },
    {
      "cell_type": "code",
      "metadata": {
        "id": "0wNj1orvihAX"
      },
      "source": [
        "# Your code for task 1 here\n"
      ],
      "execution_count": null,
      "outputs": []
    },
    {
      "cell_type": "code",
      "metadata": {
        "id": "HtLCA6C7ihAY"
      },
      "source": [
        "# Your code for task 2 here\n"
      ],
      "execution_count": null,
      "outputs": []
    },
    {
      "cell_type": "markdown",
      "metadata": {
        "id": "OVpLbMkLihAY"
      },
      "source": [
        "\\\\\n",
        "# Part 2 - Converting code and types of errors"
      ]
    },
    {
      "cell_type": "markdown",
      "metadata": {
        "id": "9wdw6CclihAY"
      },
      "source": [
        "## You've seen piping before...\n",
        " \n",
        "<img width=\"850\" src=\"https://github.com/thooks630/DSCI_210_R_notebooks/raw/main/img/openrefine_piping.PNG\">"
      ]
    },
    {
      "cell_type": "markdown",
      "metadata": {
        "id": "s-MfMel7ihAY"
      },
      "source": [
        "## Saving the result of a piped operation"
      ]
    },
    {
      "cell_type": "code",
      "metadata": {
        "id": "W2eiFV5XUkLK"
      },
      "source": [
        "surveys_small <- \n",
        "(surveys \n",
        "  %>% filter(weight < 5) \n",
        "  %>% select(species_id, sex, weight)\n",
        ")\n",
        "\n",
        "head(surveys_small)"
      ],
      "execution_count": null,
      "outputs": []
    },
    {
      "cell_type": "markdown",
      "metadata": {
        "id": "OrXpJg4eihAZ"
      },
      "source": [
        "## A recap - the advantages of piping\n",
        "\n",
        "* Reads left-to-right\n",
        "* Reads top-to-bottom\n",
        "* Focuses on verbs\n",
        "* Removes pointless nouns"
      ]
    },
    {
      "cell_type": "markdown",
      "metadata": {
        "id": "eDcLOKxhihAZ"
      },
      "source": [
        "## Comparing three different coding approaches\n",
        "\n",
        "* Imperative\n",
        "* Functional\n",
        "* Piping"
      ]
    },
    {
      "cell_type": "markdown",
      "metadata": {
        "id": "9Gt9GQNBihAZ"
      },
      "source": [
        "### Imperative:"
      ]
    },
    {
      "cell_type": "code",
      "metadata": {
        "id": "QHkno9_zihAa"
      },
      "source": [
        "x <- pi\n",
        "r_x <- round(x, 2)\n",
        "c_x <- as.character(r_x)\n",
        "c_x"
      ],
      "execution_count": null,
      "outputs": []
    },
    {
      "cell_type": "markdown",
      "metadata": {
        "id": "oPHoXGtIihAa"
      },
      "source": [
        "### Functional:"
      ]
    },
    {
      "cell_type": "code",
      "metadata": {
        "id": "DRD7lBqyihAa"
      },
      "source": [
        "as.character(round(pi, 2))"
      ],
      "execution_count": null,
      "outputs": []
    },
    {
      "cell_type": "markdown",
      "metadata": {
        "id": "jQHLv4TQihAa"
      },
      "source": [
        "### Piping:"
      ]
    },
    {
      "cell_type": "code",
      "metadata": {
        "id": "DnoK1CJnihAb"
      },
      "source": [
        "pi %>%\n",
        "  round(2) %>%\n",
        "  as.character"
      ],
      "execution_count": null,
      "outputs": []
    },
    {
      "cell_type": "markdown",
      "metadata": {
        "id": "mG0w_dvMihAb"
      },
      "source": [
        "## Example 1 - converting to pipes"
      ]
    },
    {
      "cell_type": "code",
      "metadata": {
        "id": "DcF7RDyvihAb"
      },
      "source": [
        "surveys_small <- filter(surveys, weight < 5) \n",
        "survey_small_id_sex_wgt <- select(surveys_small, species_id, sex, weight)\n",
        "head(survey_small_id_sex_wgt)"
      ],
      "execution_count": null,
      "outputs": []
    },
    {
      "cell_type": "code",
      "metadata": {
        "id": "6mcgQ3ogihAb"
      },
      "source": [
        "# Convert to piped code"
      ],
      "execution_count": null,
      "outputs": []
    },
    {
      "cell_type": "markdown",
      "metadata": {
        "id": "9lDTzww9ihAb"
      },
      "source": [
        "## Example 2 - converting to imperative approach"
      ]
    },
    {
      "cell_type": "code",
      "metadata": {
        "id": "cqcujEKSihAb"
      },
      "source": [
        "surveys_small <- surveys %>%\n",
        "  filter(species_id == 'NL') %>%\n",
        "  select(species_id, sex, weight)\n",
        "\n",
        "head(surveys_small)"
      ],
      "execution_count": null,
      "outputs": []
    },
    {
      "cell_type": "code",
      "metadata": {
        "id": "mvkpAMgxihAc"
      },
      "source": [
        "# Convert to imperative"
      ],
      "execution_count": null,
      "outputs": []
    },
    {
      "cell_type": "markdown",
      "metadata": {
        "id": "i9xSkGA1ihAc"
      },
      "source": [
        "## Example 3 - converting to functional approach"
      ]
    },
    {
      "cell_type": "code",
      "metadata": {
        "id": "VBnzmc5ZihAc"
      },
      "source": [
        "surveys_small <- surveys %>%\n",
        "  filter(weight < 5) %>%\n",
        "  select(species_id, sex, weight)\n",
        "\n",
        "head(surveys_small)"
      ],
      "execution_count": null,
      "outputs": []
    },
    {
      "cell_type": "code",
      "metadata": {
        "id": "sYI4AJ9MihAd"
      },
      "source": [
        "# Convert to imperative"
      ],
      "execution_count": null,
      "outputs": []
    },
    {
      "cell_type": "markdown",
      "metadata": {
        "id": "ysPH1OJEihAd"
      },
      "source": [
        "## <font color=\"red\"> Exercise 2 </font>\n",
        "\n",
        "Perform each of the following code conversions."
      ]
    },
    {
      "cell_type": "code",
      "metadata": {
        "id": "c--UUpl4ihAd"
      },
      "source": [
        "sales <- read.csv('https://github.com/WSU-DataScience/DSCI_210_R_notebooks/raw/main/data/auto_sales.csv')\n",
        "head(sales)"
      ],
      "execution_count": null,
      "outputs": []
    },
    {
      "cell_type": "markdown",
      "metadata": {
        "id": "wLkmIHr8ihAd"
      },
      "source": [
        "#### <font color=\"red\">TASK 1</font>. Convert the following *piped code* to the *imperative style*"
      ]
    },
    {
      "cell_type": "code",
      "metadata": {
        "id": "GNpFwdAjihAe"
      },
      "source": [
        "sales %>%\n",
        "    select(Salesperson, Compact, Sedan) %>%\n",
        "    mutate(Car = Compact + Sedan) "
      ],
      "execution_count": null,
      "outputs": []
    },
    {
      "cell_type": "code",
      "metadata": {
        "id": "LufAaHWfihAe"
      },
      "source": [
        "# Your code here (using imperative approach)"
      ],
      "execution_count": null,
      "outputs": []
    },
    {
      "cell_type": "markdown",
      "metadata": {
        "id": "RL1MTMBKihAe"
      },
      "source": [
        "#### <font color=\"red\">TASK 2</font>. Convert the following *imperative code* to the *piped style*"
      ]
    },
    {
      "cell_type": "code",
      "metadata": {
        "id": "dUKg0E_zihAe"
      },
      "source": [
        "df2 <- mutate(sales, Car = Compact + Sedan)\n",
        "df3 <- mutate(df2, Utility = SUV + Truck)\n",
        "df4 <- select(df3, Salesperson, Car, Utility)\n",
        "head(df4)"
      ],
      "execution_count": null,
      "outputs": []
    },
    {
      "cell_type": "code",
      "metadata": {
        "id": "00T9PwNHihAe"
      },
      "source": [
        "# Your code here"
      ],
      "execution_count": null,
      "outputs": []
    },
    {
      "cell_type": "markdown",
      "metadata": {
        "id": "CyILabYJihAf"
      },
      "source": [
        "## Types of programming errors\n",
        "\n",
        "* Name errors\n",
        "* Syntax errors\n",
        "* Semantic errors (hardest/worst)"
      ]
    },
    {
      "cell_type": "markdown",
      "metadata": {
        "id": "D5hwQuIkihAf"
      },
      "source": [
        "### Name Errors - Using the wrong name"
      ]
    },
    {
      "cell_type": "code",
      "metadata": {
        "id": "zDKam4WgihAf"
      },
      "source": [
        "sales <- read.csv('https://github.com/WSU-DataScience/DSCI_210_R_notebooks/raw/main/data/auto_sales.csv')\n",
        "head(sales)"
      ],
      "execution_count": null,
      "outputs": []
    },
    {
      "cell_type": "code",
      "metadata": {
        "scrolled": true,
        "id": "A9NCyTe6ihAf"
      },
      "source": [
        "# Find the name errors\n",
        "sales %>%\n",
        "  select(salesperson, sedan)"
      ],
      "execution_count": null,
      "outputs": []
    },
    {
      "cell_type": "markdown",
      "metadata": {
        "id": "XpUWZTfuihAf"
      },
      "source": [
        "### Syntax errors - Incorrect syntax"
      ]
    },
    {
      "cell_type": "code",
      "metadata": {
        "id": "tVE82GRdihAf"
      },
      "source": [
        "head(sales"
      ],
      "execution_count": null,
      "outputs": []
    },
    {
      "cell_type": "code",
      "metadata": {
        "id": "2eA_sSdOihAg"
      },
      "source": [
        "# Find the syntax errors\n",
        "sales %>%\n",
        "  mutate(monthly_sedan = Sedan/3,\n",
        "         monthly_suv = SUV/3\n",
        "         monthly_truck = Truck/3"
      ],
      "execution_count": null,
      "outputs": []
    },
    {
      "cell_type": "markdown",
      "metadata": {
        "id": "o9xtnhjiihAg"
      },
      "source": [
        "### Semantic Errors - Correct code, wrong meaning"
      ]
    },
    {
      "cell_type": "code",
      "metadata": {
        "id": "EFbYXnbmihAg"
      },
      "source": [
        "# Find the semantic errors\n",
        "sales %>%\n",
        "  group_by(Salesperson) %>%\n",
        "  mutate(avg_sedan = median(Truck))"
      ],
      "execution_count": null,
      "outputs": []
    },
    {
      "cell_type": "markdown",
      "metadata": {
        "id": "0WD7nCLEihAg"
      },
      "source": [
        "## <font color=\"red\"> Exercise 3 </font>\n",
        "\n",
        "Identify all of the errors in the following code and classify each as either a name, syntax, or semantic error."
      ]
    },
    {
      "cell_type": "code",
      "metadata": {
        "id": "M_Nz8AxKihAh"
      },
      "source": [
        "sales %>%\n",
        "    mutate(Car = compact + sedan) %>%\n",
        "    mutate(Utility = SUV * Truck %>%"
      ],
      "execution_count": null,
      "outputs": []
    },
    {
      "cell_type": "markdown",
      "metadata": {
        "id": "gc9uYcNAihAh"
      },
      "source": [
        "> Your answer here"
      ]
    }
  ]
}