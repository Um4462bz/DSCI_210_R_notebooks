{
  "nbformat": 4,
  "nbformat_minor": 0,
  "metadata": {
    "kernelspec": {
      "display_name": "R",
      "language": "R",
      "name": "ir"
    },
    "language_info": {
      "codemirror_mode": "r",
      "file_extension": ".r",
      "mimetype": "text/x-r-source",
      "name": "R",
      "pygments_lexer": "r",
      "version": "3.5.1"
    },
    "colab": {
      "name": "lecture_6_1_introduction_to_dplyr_and_tidyr.ipynb",
      "provenance": [],
      "include_colab_link": true
    }
  },
  "cells": [
    {
      "cell_type": "markdown",
      "metadata": {
        "id": "view-in-github",
        "colab_type": "text"
      },
      "source": [
        "<a href=\"https://colab.research.google.com/github/Um4462bz/DSCI_210_R_notebooks/blob/main/lecture_6_1_introduction_to_dplyr_and_tidyr.ipynb\" target=\"_parent\"><img src=\"https://colab.research.google.com/assets/colab-badge.svg\" alt=\"Open In Colab\"/></a>"
      ]
    },
    {
      "cell_type": "markdown",
      "metadata": {
        "id": "xwhAe-Auig_9"
      },
      "source": [
        "# Part 1 - Introduction to the `tidyverse` in `R`"
      ]
    },
    {
      "cell_type": "markdown",
      "metadata": {
        "id": "XkwD9qfBihAD"
      },
      "source": [
        "## Why use R?\n",
        "\n",
        "\n",
        "- Save and rerun code\n",
        "- Several data science/statistics packages available\n",
        "- Great graphics\n",
        "- Built for data\n",
        "- Free and open-source\n",
        "- Large user community"
      ]
    },
    {
      "cell_type": "markdown",
      "metadata": {
        "id": "bYHkVIWMihAF"
      },
      "source": [
        "### Market-share\n",
        "\n",
        "![](https://github.com/WSU-DataScience/DSCI_210_R_notebooks/blob/main/img/Fig-1a-IndeedJobs-2017.png?raw=1)"
      ]
    },
    {
      "cell_type": "markdown",
      "metadata": {
        "id": "Kje2BaGPihAG"
      },
      "source": [
        "## What is the `tidyverse`?\n",
        "\n",
        "The tidyverse is a collection of `R` packages designed for data science. They all share an underlying design philosophy, grammar, and data structures. We will focus on a few packages for managing data, using the data verb syntax.\n",
        "*   `dplyr` (`select`, `filter`, `mutate`, `group_by`, `summarize`)\n",
        "* `tidyr` (stack and unstack with `gather` and `spread`)\n",
        "\n",
        "\n",
        "In future data science courses, you will likely use `ggplot`  to create nice graphics.   \n",
        "    "
      ]
    },
    {
      "cell_type": "markdown",
      "metadata": {
        "id": "Q-Vk1RHiihAH"
      },
      "source": [
        "# Introduction to the `dplyr` package in `R`\n",
        "\n",
        "## Loading a Library"
      ]
    },
    {
      "cell_type": "code",
      "metadata": {
        "id": "IkxsiMxsihAH"
      },
      "source": [
        "# This loads all of the dplyr functions\n",
        "# You must do every time you start new R session\n",
        "\n",
        "library(\"dplyr\")"
      ],
      "execution_count": 5,
      "outputs": []
    },
    {
      "cell_type": "markdown",
      "metadata": {
        "id": "kOZjy6VJihAK"
      },
      "source": [
        "## Reading in data"
      ]
    },
    {
      "cell_type": "code",
      "metadata": {
        "id": "_KCnzap0ihAM",
        "outputId": "f39d72e5-439f-412d-f8df-41daf667567c",
        "colab": {
          "base_uri": "https://localhost:8080/",
          "height": 412
        }
      },
      "source": [
        "surveys <- read.csv('https://github.com/WSU-DataScience/DSCI_210_R_notebooks/raw/main/data/portal_data_joined.csv')\n",
        "\n",
        "# Good habit: Always inspect the result with head\n",
        "head(surveys,n=10)"
      ],
      "execution_count": 6,
      "outputs": [
        {
          "output_type": "display_data",
          "data": {
            "text/html": [
              "<table class=\"dataframe\">\n",
              "<caption>A data.frame: 10 × 13</caption>\n",
              "<thead>\n",
              "\t<tr><th></th><th scope=col>record_id</th><th scope=col>month</th><th scope=col>day</th><th scope=col>year</th><th scope=col>plot_id</th><th scope=col>species_id</th><th scope=col>sex</th><th scope=col>hindfoot_length</th><th scope=col>weight</th><th scope=col>genus</th><th scope=col>species</th><th scope=col>taxa</th><th scope=col>plot_type</th></tr>\n",
              "\t<tr><th></th><th scope=col>&lt;int&gt;</th><th scope=col>&lt;int&gt;</th><th scope=col>&lt;int&gt;</th><th scope=col>&lt;int&gt;</th><th scope=col>&lt;int&gt;</th><th scope=col>&lt;chr&gt;</th><th scope=col>&lt;chr&gt;</th><th scope=col>&lt;int&gt;</th><th scope=col>&lt;int&gt;</th><th scope=col>&lt;chr&gt;</th><th scope=col>&lt;chr&gt;</th><th scope=col>&lt;chr&gt;</th><th scope=col>&lt;chr&gt;</th></tr>\n",
              "</thead>\n",
              "<tbody>\n",
              "\t<tr><th scope=row>1</th><td>  1</td><td> 7</td><td>16</td><td>1977</td><td>2</td><td>NL</td><td>M</td><td>32</td><td> NA</td><td>Neotoma</td><td>albigula</td><td>Rodent</td><td>Control</td></tr>\n",
              "\t<tr><th scope=row>2</th><td> 72</td><td> 8</td><td>19</td><td>1977</td><td>2</td><td>NL</td><td>M</td><td>31</td><td> NA</td><td>Neotoma</td><td>albigula</td><td>Rodent</td><td>Control</td></tr>\n",
              "\t<tr><th scope=row>3</th><td>224</td><td> 9</td><td>13</td><td>1977</td><td>2</td><td>NL</td><td> </td><td>NA</td><td> NA</td><td>Neotoma</td><td>albigula</td><td>Rodent</td><td>Control</td></tr>\n",
              "\t<tr><th scope=row>4</th><td>266</td><td>10</td><td>16</td><td>1977</td><td>2</td><td>NL</td><td> </td><td>NA</td><td> NA</td><td>Neotoma</td><td>albigula</td><td>Rodent</td><td>Control</td></tr>\n",
              "\t<tr><th scope=row>5</th><td>349</td><td>11</td><td>12</td><td>1977</td><td>2</td><td>NL</td><td> </td><td>NA</td><td> NA</td><td>Neotoma</td><td>albigula</td><td>Rodent</td><td>Control</td></tr>\n",
              "\t<tr><th scope=row>6</th><td>363</td><td>11</td><td>12</td><td>1977</td><td>2</td><td>NL</td><td> </td><td>NA</td><td> NA</td><td>Neotoma</td><td>albigula</td><td>Rodent</td><td>Control</td></tr>\n",
              "\t<tr><th scope=row>7</th><td>435</td><td>12</td><td>10</td><td>1977</td><td>2</td><td>NL</td><td> </td><td>NA</td><td> NA</td><td>Neotoma</td><td>albigula</td><td>Rodent</td><td>Control</td></tr>\n",
              "\t<tr><th scope=row>8</th><td>506</td><td> 1</td><td> 8</td><td>1978</td><td>2</td><td>NL</td><td> </td><td>NA</td><td> NA</td><td>Neotoma</td><td>albigula</td><td>Rodent</td><td>Control</td></tr>\n",
              "\t<tr><th scope=row>9</th><td>588</td><td> 2</td><td>18</td><td>1978</td><td>2</td><td>NL</td><td>M</td><td>NA</td><td>218</td><td>Neotoma</td><td>albigula</td><td>Rodent</td><td>Control</td></tr>\n",
              "\t<tr><th scope=row>10</th><td>661</td><td> 3</td><td>11</td><td>1978</td><td>2</td><td>NL</td><td> </td><td>NA</td><td> NA</td><td>Neotoma</td><td>albigula</td><td>Rodent</td><td>Control</td></tr>\n",
              "</tbody>\n",
              "</table>\n"
            ],
            "text/markdown": "\nA data.frame: 10 × 13\n\n| <!--/--> | record_id &lt;int&gt; | month &lt;int&gt; | day &lt;int&gt; | year &lt;int&gt; | plot_id &lt;int&gt; | species_id &lt;chr&gt; | sex &lt;chr&gt; | hindfoot_length &lt;int&gt; | weight &lt;int&gt; | genus &lt;chr&gt; | species &lt;chr&gt; | taxa &lt;chr&gt; | plot_type &lt;chr&gt; |\n|---|---|---|---|---|---|---|---|---|---|---|---|---|---|\n| 1 |   1 |  7 | 16 | 1977 | 2 | NL | M | 32 |  NA | Neotoma | albigula | Rodent | Control |\n| 2 |  72 |  8 | 19 | 1977 | 2 | NL | M | 31 |  NA | Neotoma | albigula | Rodent | Control |\n| 3 | 224 |  9 | 13 | 1977 | 2 | NL | <!----> | NA |  NA | Neotoma | albigula | Rodent | Control |\n| 4 | 266 | 10 | 16 | 1977 | 2 | NL | <!----> | NA |  NA | Neotoma | albigula | Rodent | Control |\n| 5 | 349 | 11 | 12 | 1977 | 2 | NL | <!----> | NA |  NA | Neotoma | albigula | Rodent | Control |\n| 6 | 363 | 11 | 12 | 1977 | 2 | NL | <!----> | NA |  NA | Neotoma | albigula | Rodent | Control |\n| 7 | 435 | 12 | 10 | 1977 | 2 | NL | <!----> | NA |  NA | Neotoma | albigula | Rodent | Control |\n| 8 | 506 |  1 |  8 | 1978 | 2 | NL | <!----> | NA |  NA | Neotoma | albigula | Rodent | Control |\n| 9 | 588 |  2 | 18 | 1978 | 2 | NL | M | NA | 218 | Neotoma | albigula | Rodent | Control |\n| 10 | 661 |  3 | 11 | 1978 | 2 | NL | <!----> | NA |  NA | Neotoma | albigula | Rodent | Control |\n\n",
            "text/latex": "A data.frame: 10 × 13\n\\begin{tabular}{r|lllllllllllll}\n  & record\\_id & month & day & year & plot\\_id & species\\_id & sex & hindfoot\\_length & weight & genus & species & taxa & plot\\_type\\\\\n  & <int> & <int> & <int> & <int> & <int> & <chr> & <chr> & <int> & <int> & <chr> & <chr> & <chr> & <chr>\\\\\n\\hline\n\t1 &   1 &  7 & 16 & 1977 & 2 & NL & M & 32 &  NA & Neotoma & albigula & Rodent & Control\\\\\n\t2 &  72 &  8 & 19 & 1977 & 2 & NL & M & 31 &  NA & Neotoma & albigula & Rodent & Control\\\\\n\t3 & 224 &  9 & 13 & 1977 & 2 & NL &   & NA &  NA & Neotoma & albigula & Rodent & Control\\\\\n\t4 & 266 & 10 & 16 & 1977 & 2 & NL &   & NA &  NA & Neotoma & albigula & Rodent & Control\\\\\n\t5 & 349 & 11 & 12 & 1977 & 2 & NL &   & NA &  NA & Neotoma & albigula & Rodent & Control\\\\\n\t6 & 363 & 11 & 12 & 1977 & 2 & NL &   & NA &  NA & Neotoma & albigula & Rodent & Control\\\\\n\t7 & 435 & 12 & 10 & 1977 & 2 & NL &   & NA &  NA & Neotoma & albigula & Rodent & Control\\\\\n\t8 & 506 &  1 &  8 & 1978 & 2 & NL &   & NA &  NA & Neotoma & albigula & Rodent & Control\\\\\n\t9 & 588 &  2 & 18 & 1978 & 2 & NL & M & NA & 218 & Neotoma & albigula & Rodent & Control\\\\\n\t10 & 661 &  3 & 11 & 1978 & 2 & NL &   & NA &  NA & Neotoma & albigula & Rodent & Control\\\\\n\\end{tabular}\n",
            "text/plain": [
              "   record_id month day year plot_id species_id sex hindfoot_length weight\n",
              "1    1        7    16  1977 2       NL         M   32               NA   \n",
              "2   72        8    19  1977 2       NL         M   31               NA   \n",
              "3  224        9    13  1977 2       NL             NA               NA   \n",
              "4  266       10    16  1977 2       NL             NA               NA   \n",
              "5  349       11    12  1977 2       NL             NA               NA   \n",
              "6  363       11    12  1977 2       NL             NA               NA   \n",
              "7  435       12    10  1977 2       NL             NA               NA   \n",
              "8  506        1     8  1978 2       NL             NA               NA   \n",
              "9  588        2    18  1978 2       NL         M   NA              218   \n",
              "10 661        3    11  1978 2       NL             NA               NA   \n",
              "   genus   species  taxa   plot_type\n",
              "1  Neotoma albigula Rodent Control  \n",
              "2  Neotoma albigula Rodent Control  \n",
              "3  Neotoma albigula Rodent Control  \n",
              "4  Neotoma albigula Rodent Control  \n",
              "5  Neotoma albigula Rodent Control  \n",
              "6  Neotoma albigula Rodent Control  \n",
              "7  Neotoma albigula Rodent Control  \n",
              "8  Neotoma albigula Rodent Control  \n",
              "9  Neotoma albigula Rodent Control  \n",
              "10 Neotoma albigula Rodent Control  "
            ]
          },
          "metadata": {}
        }
      ]
    },
    {
      "cell_type": "markdown",
      "metadata": {
        "id": "vpquI1Z0ihAP"
      },
      "source": [
        "## Selecting columns with `select`"
      ]
    },
    {
      "cell_type": "code",
      "metadata": {
        "id": "dBpF4II8ihAQ",
        "outputId": "6ee3308a-6c22-4eb0-b99e-6190f8abf7e7",
        "colab": {
          "base_uri": "https://localhost:8080/",
          "height": 286
        }
      },
      "source": [
        "# Syntax: select(df, col1, col2, ...)\n",
        "\n",
        "new_df <- select(surveys, plot_id, species_id, weight)\n",
        "head(new_df)"
      ],
      "execution_count": 8,
      "outputs": [
        {
          "output_type": "display_data",
          "data": {
            "text/html": [
              "<table class=\"dataframe\">\n",
              "<caption>A data.frame: 6 × 3</caption>\n",
              "<thead>\n",
              "\t<tr><th></th><th scope=col>plot_id</th><th scope=col>species_id</th><th scope=col>weight</th></tr>\n",
              "\t<tr><th></th><th scope=col>&lt;int&gt;</th><th scope=col>&lt;chr&gt;</th><th scope=col>&lt;int&gt;</th></tr>\n",
              "</thead>\n",
              "<tbody>\n",
              "\t<tr><th scope=row>1</th><td>2</td><td>NL</td><td>NA</td></tr>\n",
              "\t<tr><th scope=row>2</th><td>2</td><td>NL</td><td>NA</td></tr>\n",
              "\t<tr><th scope=row>3</th><td>2</td><td>NL</td><td>NA</td></tr>\n",
              "\t<tr><th scope=row>4</th><td>2</td><td>NL</td><td>NA</td></tr>\n",
              "\t<tr><th scope=row>5</th><td>2</td><td>NL</td><td>NA</td></tr>\n",
              "\t<tr><th scope=row>6</th><td>2</td><td>NL</td><td>NA</td></tr>\n",
              "</tbody>\n",
              "</table>\n"
            ],
            "text/markdown": "\nA data.frame: 6 × 3\n\n| <!--/--> | plot_id &lt;int&gt; | species_id &lt;chr&gt; | weight &lt;int&gt; |\n|---|---|---|---|\n| 1 | 2 | NL | NA |\n| 2 | 2 | NL | NA |\n| 3 | 2 | NL | NA |\n| 4 | 2 | NL | NA |\n| 5 | 2 | NL | NA |\n| 6 | 2 | NL | NA |\n\n",
            "text/latex": "A data.frame: 6 × 3\n\\begin{tabular}{r|lll}\n  & plot\\_id & species\\_id & weight\\\\\n  & <int> & <chr> & <int>\\\\\n\\hline\n\t1 & 2 & NL & NA\\\\\n\t2 & 2 & NL & NA\\\\\n\t3 & 2 & NL & NA\\\\\n\t4 & 2 & NL & NA\\\\\n\t5 & 2 & NL & NA\\\\\n\t6 & 2 & NL & NA\\\\\n\\end{tabular}\n",
            "text/plain": [
              "  plot_id species_id weight\n",
              "1 2       NL         NA    \n",
              "2 2       NL         NA    \n",
              "3 2       NL         NA    \n",
              "4 2       NL         NA    \n",
              "5 2       NL         NA    \n",
              "6 2       NL         NA    "
            ]
          },
          "metadata": {}
        }
      ]
    },
    {
      "cell_type": "markdown",
      "metadata": {
        "id": "uBl321xOihAR"
      },
      "source": [
        "## Filtering rows with `filter`"
      ]
    },
    {
      "cell_type": "code",
      "metadata": {
        "id": "hxCIwG7uihAR",
        "outputId": "88b00e07-633a-419a-930b-240ab95731d3",
        "colab": {
          "base_uri": "https://localhost:8080/",
          "height": 286
        }
      },
      "source": [
        "new_df2 <- filter(surveys, year == 1995)\n",
        "head(new_df2)"
      ],
      "execution_count": 9,
      "outputs": [
        {
          "output_type": "display_data",
          "data": {
            "text/html": [
              "<table class=\"dataframe\">\n",
              "<caption>A data.frame: 6 × 13</caption>\n",
              "<thead>\n",
              "\t<tr><th></th><th scope=col>record_id</th><th scope=col>month</th><th scope=col>day</th><th scope=col>year</th><th scope=col>plot_id</th><th scope=col>species_id</th><th scope=col>sex</th><th scope=col>hindfoot_length</th><th scope=col>weight</th><th scope=col>genus</th><th scope=col>species</th><th scope=col>taxa</th><th scope=col>plot_type</th></tr>\n",
              "\t<tr><th></th><th scope=col>&lt;int&gt;</th><th scope=col>&lt;int&gt;</th><th scope=col>&lt;int&gt;</th><th scope=col>&lt;int&gt;</th><th scope=col>&lt;int&gt;</th><th scope=col>&lt;chr&gt;</th><th scope=col>&lt;chr&gt;</th><th scope=col>&lt;int&gt;</th><th scope=col>&lt;int&gt;</th><th scope=col>&lt;chr&gt;</th><th scope=col>&lt;chr&gt;</th><th scope=col>&lt;chr&gt;</th><th scope=col>&lt;chr&gt;</th></tr>\n",
              "</thead>\n",
              "<tbody>\n",
              "\t<tr><th scope=row>1</th><td>22314</td><td> 6</td><td> 7</td><td>1995</td><td>2</td><td>NL</td><td>M</td><td>34</td><td> NA</td><td>Neotoma  </td><td>albigula</td><td>Rodent</td><td>Control</td></tr>\n",
              "\t<tr><th scope=row>2</th><td>22728</td><td> 9</td><td>23</td><td>1995</td><td>2</td><td>NL</td><td>F</td><td>32</td><td>165</td><td>Neotoma  </td><td>albigula</td><td>Rodent</td><td>Control</td></tr>\n",
              "\t<tr><th scope=row>3</th><td>22899</td><td>10</td><td>28</td><td>1995</td><td>2</td><td>NL</td><td>F</td><td>32</td><td>171</td><td>Neotoma  </td><td>albigula</td><td>Rodent</td><td>Control</td></tr>\n",
              "\t<tr><th scope=row>4</th><td>23032</td><td>12</td><td> 2</td><td>1995</td><td>2</td><td>NL</td><td>F</td><td>33</td><td> NA</td><td>Neotoma  </td><td>albigula</td><td>Rodent</td><td>Control</td></tr>\n",
              "\t<tr><th scope=row>5</th><td>22003</td><td> 1</td><td>11</td><td>1995</td><td>2</td><td>DM</td><td>M</td><td>37</td><td> 41</td><td>Dipodomys</td><td>merriami</td><td>Rodent</td><td>Control</td></tr>\n",
              "\t<tr><th scope=row>6</th><td>22042</td><td> 2</td><td> 4</td><td>1995</td><td>2</td><td>DM</td><td>F</td><td>36</td><td> 45</td><td>Dipodomys</td><td>merriami</td><td>Rodent</td><td>Control</td></tr>\n",
              "</tbody>\n",
              "</table>\n"
            ],
            "text/markdown": "\nA data.frame: 6 × 13\n\n| <!--/--> | record_id &lt;int&gt; | month &lt;int&gt; | day &lt;int&gt; | year &lt;int&gt; | plot_id &lt;int&gt; | species_id &lt;chr&gt; | sex &lt;chr&gt; | hindfoot_length &lt;int&gt; | weight &lt;int&gt; | genus &lt;chr&gt; | species &lt;chr&gt; | taxa &lt;chr&gt; | plot_type &lt;chr&gt; |\n|---|---|---|---|---|---|---|---|---|---|---|---|---|---|\n| 1 | 22314 |  6 |  7 | 1995 | 2 | NL | M | 34 |  NA | Neotoma   | albigula | Rodent | Control |\n| 2 | 22728 |  9 | 23 | 1995 | 2 | NL | F | 32 | 165 | Neotoma   | albigula | Rodent | Control |\n| 3 | 22899 | 10 | 28 | 1995 | 2 | NL | F | 32 | 171 | Neotoma   | albigula | Rodent | Control |\n| 4 | 23032 | 12 |  2 | 1995 | 2 | NL | F | 33 |  NA | Neotoma   | albigula | Rodent | Control |\n| 5 | 22003 |  1 | 11 | 1995 | 2 | DM | M | 37 |  41 | Dipodomys | merriami | Rodent | Control |\n| 6 | 22042 |  2 |  4 | 1995 | 2 | DM | F | 36 |  45 | Dipodomys | merriami | Rodent | Control |\n\n",
            "text/latex": "A data.frame: 6 × 13\n\\begin{tabular}{r|lllllllllllll}\n  & record\\_id & month & day & year & plot\\_id & species\\_id & sex & hindfoot\\_length & weight & genus & species & taxa & plot\\_type\\\\\n  & <int> & <int> & <int> & <int> & <int> & <chr> & <chr> & <int> & <int> & <chr> & <chr> & <chr> & <chr>\\\\\n\\hline\n\t1 & 22314 &  6 &  7 & 1995 & 2 & NL & M & 34 &  NA & Neotoma   & albigula & Rodent & Control\\\\\n\t2 & 22728 &  9 & 23 & 1995 & 2 & NL & F & 32 & 165 & Neotoma   & albigula & Rodent & Control\\\\\n\t3 & 22899 & 10 & 28 & 1995 & 2 & NL & F & 32 & 171 & Neotoma   & albigula & Rodent & Control\\\\\n\t4 & 23032 & 12 &  2 & 1995 & 2 & NL & F & 33 &  NA & Neotoma   & albigula & Rodent & Control\\\\\n\t5 & 22003 &  1 & 11 & 1995 & 2 & DM & M & 37 &  41 & Dipodomys & merriami & Rodent & Control\\\\\n\t6 & 22042 &  2 &  4 & 1995 & 2 & DM & F & 36 &  45 & Dipodomys & merriami & Rodent & Control\\\\\n\\end{tabular}\n",
            "text/plain": [
              "  record_id month day year plot_id species_id sex hindfoot_length weight\n",
              "1 22314      6     7  1995 2       NL         M   34               NA   \n",
              "2 22728      9    23  1995 2       NL         F   32              165   \n",
              "3 22899     10    28  1995 2       NL         F   32              171   \n",
              "4 23032     12     2  1995 2       NL         F   33               NA   \n",
              "5 22003      1    11  1995 2       DM         M   37               41   \n",
              "6 22042      2     4  1995 2       DM         F   36               45   \n",
              "  genus     species  taxa   plot_type\n",
              "1 Neotoma   albigula Rodent Control  \n",
              "2 Neotoma   albigula Rodent Control  \n",
              "3 Neotoma   albigula Rodent Control  \n",
              "4 Neotoma   albigula Rodent Control  \n",
              "5 Dipodomys merriami Rodent Control  \n",
              "6 Dipodomys merriami Rodent Control  "
            ]
          },
          "metadata": {}
        }
      ]
    },
    {
      "cell_type": "markdown",
      "metadata": {
        "id": "h5E13Zc1-lb4"
      },
      "source": [
        "*Question: Why are the columns not selected up above still appearing here?*"
      ]
    },
    {
      "cell_type": "markdown",
      "metadata": {
        "id": "sBixZKVhihAS"
      },
      "source": [
        "## Creating a new column with `mutate`"
      ]
    },
    {
      "cell_type": "code",
      "metadata": {
        "id": "j9rFCK9LihAS",
        "outputId": "2040cf0e-82c3-439f-964d-91c5ecdd5f2d",
        "colab": {
          "base_uri": "https://localhost:8080/",
          "height": 286
        }
      },
      "source": [
        "new_df <- select(surveys, plot_id, species_id, weight, year)\n",
        "new_df2 <- filter(new_df, year == 1995)\n",
        "new_df3 <- mutate(new_df2, weight_kg = weight / 1000)\n",
        "head(new_df3)"
      ],
      "execution_count": 10,
      "outputs": [
        {
          "output_type": "display_data",
          "data": {
            "text/html": [
              "<table class=\"dataframe\">\n",
              "<caption>A data.frame: 6 × 5</caption>\n",
              "<thead>\n",
              "\t<tr><th></th><th scope=col>plot_id</th><th scope=col>species_id</th><th scope=col>weight</th><th scope=col>year</th><th scope=col>weight_kg</th></tr>\n",
              "\t<tr><th></th><th scope=col>&lt;int&gt;</th><th scope=col>&lt;chr&gt;</th><th scope=col>&lt;int&gt;</th><th scope=col>&lt;int&gt;</th><th scope=col>&lt;dbl&gt;</th></tr>\n",
              "</thead>\n",
              "<tbody>\n",
              "\t<tr><th scope=row>1</th><td>2</td><td>NL</td><td> NA</td><td>1995</td><td>   NA</td></tr>\n",
              "\t<tr><th scope=row>2</th><td>2</td><td>NL</td><td>165</td><td>1995</td><td>0.165</td></tr>\n",
              "\t<tr><th scope=row>3</th><td>2</td><td>NL</td><td>171</td><td>1995</td><td>0.171</td></tr>\n",
              "\t<tr><th scope=row>4</th><td>2</td><td>NL</td><td> NA</td><td>1995</td><td>   NA</td></tr>\n",
              "\t<tr><th scope=row>5</th><td>2</td><td>DM</td><td> 41</td><td>1995</td><td>0.041</td></tr>\n",
              "\t<tr><th scope=row>6</th><td>2</td><td>DM</td><td> 45</td><td>1995</td><td>0.045</td></tr>\n",
              "</tbody>\n",
              "</table>\n"
            ],
            "text/markdown": "\nA data.frame: 6 × 5\n\n| <!--/--> | plot_id &lt;int&gt; | species_id &lt;chr&gt; | weight &lt;int&gt; | year &lt;int&gt; | weight_kg &lt;dbl&gt; |\n|---|---|---|---|---|---|\n| 1 | 2 | NL |  NA | 1995 |    NA |\n| 2 | 2 | NL | 165 | 1995 | 0.165 |\n| 3 | 2 | NL | 171 | 1995 | 0.171 |\n| 4 | 2 | NL |  NA | 1995 |    NA |\n| 5 | 2 | DM |  41 | 1995 | 0.041 |\n| 6 | 2 | DM |  45 | 1995 | 0.045 |\n\n",
            "text/latex": "A data.frame: 6 × 5\n\\begin{tabular}{r|lllll}\n  & plot\\_id & species\\_id & weight & year & weight\\_kg\\\\\n  & <int> & <chr> & <int> & <int> & <dbl>\\\\\n\\hline\n\t1 & 2 & NL &  NA & 1995 &    NA\\\\\n\t2 & 2 & NL & 165 & 1995 & 0.165\\\\\n\t3 & 2 & NL & 171 & 1995 & 0.171\\\\\n\t4 & 2 & NL &  NA & 1995 &    NA\\\\\n\t5 & 2 & DM &  41 & 1995 & 0.041\\\\\n\t6 & 2 & DM &  45 & 1995 & 0.045\\\\\n\\end{tabular}\n",
            "text/plain": [
              "  plot_id species_id weight year weight_kg\n",
              "1 2       NL          NA    1995    NA    \n",
              "2 2       NL         165    1995 0.165    \n",
              "3 2       NL         171    1995 0.171    \n",
              "4 2       NL          NA    1995    NA    \n",
              "5 2       DM          41    1995 0.041    \n",
              "6 2       DM          45    1995 0.045    "
            ]
          },
          "metadata": {}
        }
      ]
    },
    {
      "cell_type": "code",
      "metadata": {
        "id": "-bkGoN2RihAT",
        "outputId": "e0c32069-3bec-4da5-c47c-4ce88aa04a5d",
        "colab": {
          "base_uri": "https://localhost:8080/",
          "height": 286
        }
      },
      "source": [
        "# To drop the old weight column:\n",
        "\n",
        "new_df4 <- select(new_df3, -weight)\n",
        "head(new_df4)"
      ],
      "execution_count": 11,
      "outputs": [
        {
          "output_type": "display_data",
          "data": {
            "text/html": [
              "<table class=\"dataframe\">\n",
              "<caption>A data.frame: 6 × 4</caption>\n",
              "<thead>\n",
              "\t<tr><th></th><th scope=col>plot_id</th><th scope=col>species_id</th><th scope=col>year</th><th scope=col>weight_kg</th></tr>\n",
              "\t<tr><th></th><th scope=col>&lt;int&gt;</th><th scope=col>&lt;chr&gt;</th><th scope=col>&lt;int&gt;</th><th scope=col>&lt;dbl&gt;</th></tr>\n",
              "</thead>\n",
              "<tbody>\n",
              "\t<tr><th scope=row>1</th><td>2</td><td>NL</td><td>1995</td><td>   NA</td></tr>\n",
              "\t<tr><th scope=row>2</th><td>2</td><td>NL</td><td>1995</td><td>0.165</td></tr>\n",
              "\t<tr><th scope=row>3</th><td>2</td><td>NL</td><td>1995</td><td>0.171</td></tr>\n",
              "\t<tr><th scope=row>4</th><td>2</td><td>NL</td><td>1995</td><td>   NA</td></tr>\n",
              "\t<tr><th scope=row>5</th><td>2</td><td>DM</td><td>1995</td><td>0.041</td></tr>\n",
              "\t<tr><th scope=row>6</th><td>2</td><td>DM</td><td>1995</td><td>0.045</td></tr>\n",
              "</tbody>\n",
              "</table>\n"
            ],
            "text/markdown": "\nA data.frame: 6 × 4\n\n| <!--/--> | plot_id &lt;int&gt; | species_id &lt;chr&gt; | year &lt;int&gt; | weight_kg &lt;dbl&gt; |\n|---|---|---|---|---|\n| 1 | 2 | NL | 1995 |    NA |\n| 2 | 2 | NL | 1995 | 0.165 |\n| 3 | 2 | NL | 1995 | 0.171 |\n| 4 | 2 | NL | 1995 |    NA |\n| 5 | 2 | DM | 1995 | 0.041 |\n| 6 | 2 | DM | 1995 | 0.045 |\n\n",
            "text/latex": "A data.frame: 6 × 4\n\\begin{tabular}{r|llll}\n  & plot\\_id & species\\_id & year & weight\\_kg\\\\\n  & <int> & <chr> & <int> & <dbl>\\\\\n\\hline\n\t1 & 2 & NL & 1995 &    NA\\\\\n\t2 & 2 & NL & 1995 & 0.165\\\\\n\t3 & 2 & NL & 1995 & 0.171\\\\\n\t4 & 2 & NL & 1995 &    NA\\\\\n\t5 & 2 & DM & 1995 & 0.041\\\\\n\t6 & 2 & DM & 1995 & 0.045\\\\\n\\end{tabular}\n",
            "text/plain": [
              "  plot_id species_id year weight_kg\n",
              "1 2       NL         1995    NA    \n",
              "2 2       NL         1995 0.165    \n",
              "3 2       NL         1995 0.171    \n",
              "4 2       NL         1995    NA    \n",
              "5 2       DM         1995 0.041    \n",
              "6 2       DM         1995 0.045    "
            ]
          },
          "metadata": {}
        }
      ]
    },
    {
      "cell_type": "markdown",
      "metadata": {
        "id": "a7kWqyk1ihAT"
      },
      "source": [
        "## Motivating pipes\n",
        "\n",
        "The pipe, `%>%`, is a powerful tool for clearly expressing a sequence of multiple operations. Before we explore using the pipe with `dplyr` functions, let's look at some alternatives.\n",
        "\n",
        "### Alternative #1: Imperative coding pattern - save, save, save!\n",
        "\n",
        "\n",
        "<img width=\"450\" src=\"https://github.com/WSU-DataScience/DSCI_210_R_notebooks/blob/main/img/imperative_pattern.png?raw=1\">\n",
        "\n",
        "This works, but it's not the best approach.\n",
        "- **Problem 1:** Creates lots of temporary variables \n",
        "- **Problem 2:** Messy and lots of overhead\n",
        "\n",
        "All the extra *stuff* clouds the meaning/intent of the code!"
      ]
    },
    {
      "cell_type": "markdown",
      "metadata": {
        "id": "jQOVwFjUihAU"
      },
      "source": [
        "### Alternative #2 - Rewrite to the same data frame\n",
        "\n",
        "Instead of creating new objects at each step, we could just overwrite the original:"
      ]
    },
    {
      "cell_type": "markdown",
      "metadata": {
        "id": "wZX-_XkIihAU"
      },
      "source": [
        "```{R}\n",
        "surveys <- select(surveys, plot_id, species_id, weight, year)\n",
        "surveys <- filter(surveys, year == 1995)\n",
        "surveys <- mutate(surveys, weight_kg = weight / 1000)\n",
        "```"
      ]
    },
    {
      "cell_type": "markdown",
      "metadata": {
        "id": "dRmKchEUihAU"
      },
      "source": [
        "**Problem:** This approach obscures what's changing on each line.\n",
        "\n"
      ]
    },
    {
      "cell_type": "markdown",
      "metadata": {
        "id": "z82-lT7DPbUq"
      },
      "source": [
        "### Alternative #3 - Functional coding approach\n",
        "\n",
        "This approach just strings the function calls together:"
      ]
    },
    {
      "cell_type": "code",
      "metadata": {
        "id": "TLCT5OPKPtVb",
        "outputId": "428453b4-5cec-4230-b66b-1c0482a12624",
        "colab": {
          "base_uri": "https://localhost:8080/",
          "height": 286
        }
      },
      "source": [
        "surveys2 <-\n",
        "select(\n",
        "  filter(\n",
        "    mutate(surveys,\n",
        "      weight_kg = weight / 1000), \n",
        "    year == 1995), \n",
        "  plot_id, species_id, weight, year)\n",
        "  head(surveys)"
      ],
      "execution_count": 12,
      "outputs": [
        {
          "output_type": "display_data",
          "data": {
            "text/html": [
              "<table class=\"dataframe\">\n",
              "<caption>A data.frame: 6 × 13</caption>\n",
              "<thead>\n",
              "\t<tr><th></th><th scope=col>record_id</th><th scope=col>month</th><th scope=col>day</th><th scope=col>year</th><th scope=col>plot_id</th><th scope=col>species_id</th><th scope=col>sex</th><th scope=col>hindfoot_length</th><th scope=col>weight</th><th scope=col>genus</th><th scope=col>species</th><th scope=col>taxa</th><th scope=col>plot_type</th></tr>\n",
              "\t<tr><th></th><th scope=col>&lt;int&gt;</th><th scope=col>&lt;int&gt;</th><th scope=col>&lt;int&gt;</th><th scope=col>&lt;int&gt;</th><th scope=col>&lt;int&gt;</th><th scope=col>&lt;chr&gt;</th><th scope=col>&lt;chr&gt;</th><th scope=col>&lt;int&gt;</th><th scope=col>&lt;int&gt;</th><th scope=col>&lt;chr&gt;</th><th scope=col>&lt;chr&gt;</th><th scope=col>&lt;chr&gt;</th><th scope=col>&lt;chr&gt;</th></tr>\n",
              "</thead>\n",
              "<tbody>\n",
              "\t<tr><th scope=row>1</th><td>  1</td><td> 7</td><td>16</td><td>1977</td><td>2</td><td>NL</td><td>M</td><td>32</td><td>NA</td><td>Neotoma</td><td>albigula</td><td>Rodent</td><td>Control</td></tr>\n",
              "\t<tr><th scope=row>2</th><td> 72</td><td> 8</td><td>19</td><td>1977</td><td>2</td><td>NL</td><td>M</td><td>31</td><td>NA</td><td>Neotoma</td><td>albigula</td><td>Rodent</td><td>Control</td></tr>\n",
              "\t<tr><th scope=row>3</th><td>224</td><td> 9</td><td>13</td><td>1977</td><td>2</td><td>NL</td><td> </td><td>NA</td><td>NA</td><td>Neotoma</td><td>albigula</td><td>Rodent</td><td>Control</td></tr>\n",
              "\t<tr><th scope=row>4</th><td>266</td><td>10</td><td>16</td><td>1977</td><td>2</td><td>NL</td><td> </td><td>NA</td><td>NA</td><td>Neotoma</td><td>albigula</td><td>Rodent</td><td>Control</td></tr>\n",
              "\t<tr><th scope=row>5</th><td>349</td><td>11</td><td>12</td><td>1977</td><td>2</td><td>NL</td><td> </td><td>NA</td><td>NA</td><td>Neotoma</td><td>albigula</td><td>Rodent</td><td>Control</td></tr>\n",
              "\t<tr><th scope=row>6</th><td>363</td><td>11</td><td>12</td><td>1977</td><td>2</td><td>NL</td><td> </td><td>NA</td><td>NA</td><td>Neotoma</td><td>albigula</td><td>Rodent</td><td>Control</td></tr>\n",
              "</tbody>\n",
              "</table>\n"
            ],
            "text/markdown": "\nA data.frame: 6 × 13\n\n| <!--/--> | record_id &lt;int&gt; | month &lt;int&gt; | day &lt;int&gt; | year &lt;int&gt; | plot_id &lt;int&gt; | species_id &lt;chr&gt; | sex &lt;chr&gt; | hindfoot_length &lt;int&gt; | weight &lt;int&gt; | genus &lt;chr&gt; | species &lt;chr&gt; | taxa &lt;chr&gt; | plot_type &lt;chr&gt; |\n|---|---|---|---|---|---|---|---|---|---|---|---|---|---|\n| 1 |   1 |  7 | 16 | 1977 | 2 | NL | M | 32 | NA | Neotoma | albigula | Rodent | Control |\n| 2 |  72 |  8 | 19 | 1977 | 2 | NL | M | 31 | NA | Neotoma | albigula | Rodent | Control |\n| 3 | 224 |  9 | 13 | 1977 | 2 | NL | <!----> | NA | NA | Neotoma | albigula | Rodent | Control |\n| 4 | 266 | 10 | 16 | 1977 | 2 | NL | <!----> | NA | NA | Neotoma | albigula | Rodent | Control |\n| 5 | 349 | 11 | 12 | 1977 | 2 | NL | <!----> | NA | NA | Neotoma | albigula | Rodent | Control |\n| 6 | 363 | 11 | 12 | 1977 | 2 | NL | <!----> | NA | NA | Neotoma | albigula | Rodent | Control |\n\n",
            "text/latex": "A data.frame: 6 × 13\n\\begin{tabular}{r|lllllllllllll}\n  & record\\_id & month & day & year & plot\\_id & species\\_id & sex & hindfoot\\_length & weight & genus & species & taxa & plot\\_type\\\\\n  & <int> & <int> & <int> & <int> & <int> & <chr> & <chr> & <int> & <int> & <chr> & <chr> & <chr> & <chr>\\\\\n\\hline\n\t1 &   1 &  7 & 16 & 1977 & 2 & NL & M & 32 & NA & Neotoma & albigula & Rodent & Control\\\\\n\t2 &  72 &  8 & 19 & 1977 & 2 & NL & M & 31 & NA & Neotoma & albigula & Rodent & Control\\\\\n\t3 & 224 &  9 & 13 & 1977 & 2 & NL &   & NA & NA & Neotoma & albigula & Rodent & Control\\\\\n\t4 & 266 & 10 & 16 & 1977 & 2 & NL &   & NA & NA & Neotoma & albigula & Rodent & Control\\\\\n\t5 & 349 & 11 & 12 & 1977 & 2 & NL &   & NA & NA & Neotoma & albigula & Rodent & Control\\\\\n\t6 & 363 & 11 & 12 & 1977 & 2 & NL &   & NA & NA & Neotoma & albigula & Rodent & Control\\\\\n\\end{tabular}\n",
            "text/plain": [
              "  record_id month day year plot_id species_id sex hindfoot_length weight\n",
              "1   1        7    16  1977 2       NL         M   32              NA    \n",
              "2  72        8    19  1977 2       NL         M   31              NA    \n",
              "3 224        9    13  1977 2       NL             NA              NA    \n",
              "4 266       10    16  1977 2       NL             NA              NA    \n",
              "5 349       11    12  1977 2       NL             NA              NA    \n",
              "6 363       11    12  1977 2       NL             NA              NA    \n",
              "  genus   species  taxa   plot_type\n",
              "1 Neotoma albigula Rodent Control  \n",
              "2 Neotoma albigula Rodent Control  \n",
              "3 Neotoma albigula Rodent Control  \n",
              "4 Neotoma albigula Rodent Control  \n",
              "5 Neotoma albigula Rodent Control  \n",
              "6 Neotoma albigula Rodent Control  "
            ]
          },
          "metadata": {}
        }
      ]
    },
    {
      "cell_type": "markdown",
      "metadata": {
        "id": "9IqZoSH3Qyd5"
      },
      "source": [
        "**Problem:** We have to read from inside-out and from right to left. This is difficult to understand!"
      ]
    },
    {
      "cell_type": "markdown",
      "metadata": {
        "id": "L6JI11XYihAV"
      },
      "source": [
        "### The fix: use a pipe for cleaner code\n",
        "\n",
        "The pipe helps us write code in a way that is easier to read and understand. The pipe pushes the data frame through the first position:\n",
        "\n",
        "<img width=\"350\" src=\"https://github.com/WSU-DataScience/DSCI_210_R_notebooks/blob/main/img/pipe1.png?raw=1\">"
      ]
    },
    {
      "cell_type": "markdown",
      "metadata": {
        "id": "03qpYyALihAV"
      },
      "source": [
        "Imagine an invisible data frame in the first spot... but don't write it!\n",
        "\n",
        "<img width=\"350\" src=\"https://github.com/WSU-DataScience/DSCI_210_R_notebooks/blob/main/img/pipe2.png?raw=1\">"
      ]
    },
    {
      "cell_type": "markdown",
      "metadata": {
        "id": "nZPoPz9PihAV"
      },
      "source": [
        "Note this important point - each data frame is NEW when you use the pipe.\n",
        "\n",
        "\\\\\n",
        "\n",
        "### The code with pipes - much cleaner!\n",
        "The code shown below uses the pipe with `dplyr` functions. The advantage is that we are now focusing on the data verbs!"
      ]
    },
    {
      "cell_type": "code",
      "metadata": {
        "id": "O9fIZX35ihAW",
        "outputId": "74b091a6-96c4-488b-e7bd-189f2a7ac963",
        "colab": {
          "base_uri": "https://localhost:8080/",
          "height": 286
        }
      },
      "source": [
        "surveys  %>% \n",
        "  select(plot_id, species_id, weight, year) %>%\n",
        "  filter(year == 1995) %>%\n",
        "  mutate(weight_kg = weight / 1000) %>%\n",
        "  head()"
      ],
      "execution_count": 15,
      "outputs": [
        {
          "output_type": "display_data",
          "data": {
            "text/html": [
              "<table class=\"dataframe\">\n",
              "<caption>A data.frame: 6 × 5</caption>\n",
              "<thead>\n",
              "\t<tr><th></th><th scope=col>plot_id</th><th scope=col>species_id</th><th scope=col>weight</th><th scope=col>year</th><th scope=col>weight_kg</th></tr>\n",
              "\t<tr><th></th><th scope=col>&lt;int&gt;</th><th scope=col>&lt;chr&gt;</th><th scope=col>&lt;int&gt;</th><th scope=col>&lt;int&gt;</th><th scope=col>&lt;dbl&gt;</th></tr>\n",
              "</thead>\n",
              "<tbody>\n",
              "\t<tr><th scope=row>1</th><td>2</td><td>NL</td><td> NA</td><td>1995</td><td>   NA</td></tr>\n",
              "\t<tr><th scope=row>2</th><td>2</td><td>NL</td><td>165</td><td>1995</td><td>0.165</td></tr>\n",
              "\t<tr><th scope=row>3</th><td>2</td><td>NL</td><td>171</td><td>1995</td><td>0.171</td></tr>\n",
              "\t<tr><th scope=row>4</th><td>2</td><td>NL</td><td> NA</td><td>1995</td><td>   NA</td></tr>\n",
              "\t<tr><th scope=row>5</th><td>2</td><td>DM</td><td> 41</td><td>1995</td><td>0.041</td></tr>\n",
              "\t<tr><th scope=row>6</th><td>2</td><td>DM</td><td> 45</td><td>1995</td><td>0.045</td></tr>\n",
              "</tbody>\n",
              "</table>\n"
            ],
            "text/markdown": "\nA data.frame: 6 × 5\n\n| <!--/--> | plot_id &lt;int&gt; | species_id &lt;chr&gt; | weight &lt;int&gt; | year &lt;int&gt; | weight_kg &lt;dbl&gt; |\n|---|---|---|---|---|---|\n| 1 | 2 | NL |  NA | 1995 |    NA |\n| 2 | 2 | NL | 165 | 1995 | 0.165 |\n| 3 | 2 | NL | 171 | 1995 | 0.171 |\n| 4 | 2 | NL |  NA | 1995 |    NA |\n| 5 | 2 | DM |  41 | 1995 | 0.041 |\n| 6 | 2 | DM |  45 | 1995 | 0.045 |\n\n",
            "text/latex": "A data.frame: 6 × 5\n\\begin{tabular}{r|lllll}\n  & plot\\_id & species\\_id & weight & year & weight\\_kg\\\\\n  & <int> & <chr> & <int> & <int> & <dbl>\\\\\n\\hline\n\t1 & 2 & NL &  NA & 1995 &    NA\\\\\n\t2 & 2 & NL & 165 & 1995 & 0.165\\\\\n\t3 & 2 & NL & 171 & 1995 & 0.171\\\\\n\t4 & 2 & NL &  NA & 1995 &    NA\\\\\n\t5 & 2 & DM &  41 & 1995 & 0.041\\\\\n\t6 & 2 & DM &  45 & 1995 & 0.045\\\\\n\\end{tabular}\n",
            "text/plain": [
              "  plot_id species_id weight year weight_kg\n",
              "1 2       NL          NA    1995    NA    \n",
              "2 2       NL         165    1995 0.165    \n",
              "3 2       NL         171    1995 0.171    \n",
              "4 2       NL          NA    1995    NA    \n",
              "5 2       DM          41    1995 0.041    \n",
              "6 2       DM          45    1995 0.045    "
            ]
          },
          "metadata": {}
        }
      ]
    },
    {
      "cell_type": "markdown",
      "metadata": {
        "id": "CElG_Cc0ihAW"
      },
      "source": [
        "### My preferred code format"
      ]
    },
    {
      "cell_type": "code",
      "metadata": {
        "id": "YH8_tXU1ihAX",
        "outputId": "908161b5-6d40-4321-d9a5-9c393162fde7",
        "colab": {
          "base_uri": "https://localhost:8080/",
          "height": 286
        }
      },
      "source": [
        "(surveys  \n",
        " %>% select(plot_id, species_id, weight, year) \n",
        " %>% filter(year == 1995) \n",
        " %>% mutate(weight_kg = weight / 1000) \n",
        " %>% head()\n",
        ")"
      ],
      "execution_count": 16,
      "outputs": [
        {
          "output_type": "display_data",
          "data": {
            "text/html": [
              "<table class=\"dataframe\">\n",
              "<caption>A data.frame: 6 × 5</caption>\n",
              "<thead>\n",
              "\t<tr><th></th><th scope=col>plot_id</th><th scope=col>species_id</th><th scope=col>weight</th><th scope=col>year</th><th scope=col>weight_kg</th></tr>\n",
              "\t<tr><th></th><th scope=col>&lt;int&gt;</th><th scope=col>&lt;chr&gt;</th><th scope=col>&lt;int&gt;</th><th scope=col>&lt;int&gt;</th><th scope=col>&lt;dbl&gt;</th></tr>\n",
              "</thead>\n",
              "<tbody>\n",
              "\t<tr><th scope=row>1</th><td>2</td><td>NL</td><td> NA</td><td>1995</td><td>   NA</td></tr>\n",
              "\t<tr><th scope=row>2</th><td>2</td><td>NL</td><td>165</td><td>1995</td><td>0.165</td></tr>\n",
              "\t<tr><th scope=row>3</th><td>2</td><td>NL</td><td>171</td><td>1995</td><td>0.171</td></tr>\n",
              "\t<tr><th scope=row>4</th><td>2</td><td>NL</td><td> NA</td><td>1995</td><td>   NA</td></tr>\n",
              "\t<tr><th scope=row>5</th><td>2</td><td>DM</td><td> 41</td><td>1995</td><td>0.041</td></tr>\n",
              "\t<tr><th scope=row>6</th><td>2</td><td>DM</td><td> 45</td><td>1995</td><td>0.045</td></tr>\n",
              "</tbody>\n",
              "</table>\n"
            ],
            "text/markdown": "\nA data.frame: 6 × 5\n\n| <!--/--> | plot_id &lt;int&gt; | species_id &lt;chr&gt; | weight &lt;int&gt; | year &lt;int&gt; | weight_kg &lt;dbl&gt; |\n|---|---|---|---|---|---|\n| 1 | 2 | NL |  NA | 1995 |    NA |\n| 2 | 2 | NL | 165 | 1995 | 0.165 |\n| 3 | 2 | NL | 171 | 1995 | 0.171 |\n| 4 | 2 | NL |  NA | 1995 |    NA |\n| 5 | 2 | DM |  41 | 1995 | 0.041 |\n| 6 | 2 | DM |  45 | 1995 | 0.045 |\n\n",
            "text/latex": "A data.frame: 6 × 5\n\\begin{tabular}{r|lllll}\n  & plot\\_id & species\\_id & weight & year & weight\\_kg\\\\\n  & <int> & <chr> & <int> & <int> & <dbl>\\\\\n\\hline\n\t1 & 2 & NL &  NA & 1995 &    NA\\\\\n\t2 & 2 & NL & 165 & 1995 & 0.165\\\\\n\t3 & 2 & NL & 171 & 1995 & 0.171\\\\\n\t4 & 2 & NL &  NA & 1995 &    NA\\\\\n\t5 & 2 & DM &  41 & 1995 & 0.041\\\\\n\t6 & 2 & DM &  45 & 1995 & 0.045\\\\\n\\end{tabular}\n",
            "text/plain": [
              "  plot_id species_id weight year weight_kg\n",
              "1 2       NL          NA    1995    NA    \n",
              "2 2       NL         165    1995 0.165    \n",
              "3 2       NL         171    1995 0.171    \n",
              "4 2       NL          NA    1995    NA    \n",
              "5 2       DM          41    1995 0.041    \n",
              "6 2       DM          45    1995 0.045    "
            ]
          },
          "metadata": {}
        }
      ]
    },
    {
      "cell_type": "markdown",
      "metadata": {
        "id": "gDSuiTyVihAX"
      },
      "source": [
        "## <font color=\"red\"> Exercise 1 </font>\n",
        "\n",
        "Write code using `dplyr` with pipes to perform the following tasks.\n",
        "\n",
        "1. Compute the weight of all species in lbs.\n",
        "2. Filter out the rows containing only weights (in lbs) greater than 0.2 lbs."
      ]
    },
    {
      "cell_type": "code",
      "metadata": {
        "id": "0wNj1orvihAX",
        "outputId": "0fa2878d-7ed9-4abf-d594-592fca3fe029",
        "colab": {
          "base_uri": "https://localhost:8080/",
          "height": 286
        }
      },
      "source": [
        "# Your code for 1 here\n",
        "surveys %>% mutate(weigth_lbs = weight*.002205) %>% head\n",
        "\n"
      ],
      "execution_count": 17,
      "outputs": [
        {
          "output_type": "display_data",
          "data": {
            "text/html": [
              "<table class=\"dataframe\">\n",
              "<caption>A data.frame: 6 × 14</caption>\n",
              "<thead>\n",
              "\t<tr><th></th><th scope=col>record_id</th><th scope=col>month</th><th scope=col>day</th><th scope=col>year</th><th scope=col>plot_id</th><th scope=col>species_id</th><th scope=col>sex</th><th scope=col>hindfoot_length</th><th scope=col>weight</th><th scope=col>genus</th><th scope=col>species</th><th scope=col>taxa</th><th scope=col>plot_type</th><th scope=col>weigth_lbs</th></tr>\n",
              "\t<tr><th></th><th scope=col>&lt;int&gt;</th><th scope=col>&lt;int&gt;</th><th scope=col>&lt;int&gt;</th><th scope=col>&lt;int&gt;</th><th scope=col>&lt;int&gt;</th><th scope=col>&lt;chr&gt;</th><th scope=col>&lt;chr&gt;</th><th scope=col>&lt;int&gt;</th><th scope=col>&lt;int&gt;</th><th scope=col>&lt;chr&gt;</th><th scope=col>&lt;chr&gt;</th><th scope=col>&lt;chr&gt;</th><th scope=col>&lt;chr&gt;</th><th scope=col>&lt;dbl&gt;</th></tr>\n",
              "</thead>\n",
              "<tbody>\n",
              "\t<tr><th scope=row>1</th><td>  1</td><td> 7</td><td>16</td><td>1977</td><td>2</td><td>NL</td><td>M</td><td>32</td><td>NA</td><td>Neotoma</td><td>albigula</td><td>Rodent</td><td>Control</td><td>NA</td></tr>\n",
              "\t<tr><th scope=row>2</th><td> 72</td><td> 8</td><td>19</td><td>1977</td><td>2</td><td>NL</td><td>M</td><td>31</td><td>NA</td><td>Neotoma</td><td>albigula</td><td>Rodent</td><td>Control</td><td>NA</td></tr>\n",
              "\t<tr><th scope=row>3</th><td>224</td><td> 9</td><td>13</td><td>1977</td><td>2</td><td>NL</td><td> </td><td>NA</td><td>NA</td><td>Neotoma</td><td>albigula</td><td>Rodent</td><td>Control</td><td>NA</td></tr>\n",
              "\t<tr><th scope=row>4</th><td>266</td><td>10</td><td>16</td><td>1977</td><td>2</td><td>NL</td><td> </td><td>NA</td><td>NA</td><td>Neotoma</td><td>albigula</td><td>Rodent</td><td>Control</td><td>NA</td></tr>\n",
              "\t<tr><th scope=row>5</th><td>349</td><td>11</td><td>12</td><td>1977</td><td>2</td><td>NL</td><td> </td><td>NA</td><td>NA</td><td>Neotoma</td><td>albigula</td><td>Rodent</td><td>Control</td><td>NA</td></tr>\n",
              "\t<tr><th scope=row>6</th><td>363</td><td>11</td><td>12</td><td>1977</td><td>2</td><td>NL</td><td> </td><td>NA</td><td>NA</td><td>Neotoma</td><td>albigula</td><td>Rodent</td><td>Control</td><td>NA</td></tr>\n",
              "</tbody>\n",
              "</table>\n"
            ],
            "text/markdown": "\nA data.frame: 6 × 14\n\n| <!--/--> | record_id &lt;int&gt; | month &lt;int&gt; | day &lt;int&gt; | year &lt;int&gt; | plot_id &lt;int&gt; | species_id &lt;chr&gt; | sex &lt;chr&gt; | hindfoot_length &lt;int&gt; | weight &lt;int&gt; | genus &lt;chr&gt; | species &lt;chr&gt; | taxa &lt;chr&gt; | plot_type &lt;chr&gt; | weigth_lbs &lt;dbl&gt; |\n|---|---|---|---|---|---|---|---|---|---|---|---|---|---|---|\n| 1 |   1 |  7 | 16 | 1977 | 2 | NL | M | 32 | NA | Neotoma | albigula | Rodent | Control | NA |\n| 2 |  72 |  8 | 19 | 1977 | 2 | NL | M | 31 | NA | Neotoma | albigula | Rodent | Control | NA |\n| 3 | 224 |  9 | 13 | 1977 | 2 | NL | <!----> | NA | NA | Neotoma | albigula | Rodent | Control | NA |\n| 4 | 266 | 10 | 16 | 1977 | 2 | NL | <!----> | NA | NA | Neotoma | albigula | Rodent | Control | NA |\n| 5 | 349 | 11 | 12 | 1977 | 2 | NL | <!----> | NA | NA | Neotoma | albigula | Rodent | Control | NA |\n| 6 | 363 | 11 | 12 | 1977 | 2 | NL | <!----> | NA | NA | Neotoma | albigula | Rodent | Control | NA |\n\n",
            "text/latex": "A data.frame: 6 × 14\n\\begin{tabular}{r|llllllllllllll}\n  & record\\_id & month & day & year & plot\\_id & species\\_id & sex & hindfoot\\_length & weight & genus & species & taxa & plot\\_type & weigth\\_lbs\\\\\n  & <int> & <int> & <int> & <int> & <int> & <chr> & <chr> & <int> & <int> & <chr> & <chr> & <chr> & <chr> & <dbl>\\\\\n\\hline\n\t1 &   1 &  7 & 16 & 1977 & 2 & NL & M & 32 & NA & Neotoma & albigula & Rodent & Control & NA\\\\\n\t2 &  72 &  8 & 19 & 1977 & 2 & NL & M & 31 & NA & Neotoma & albigula & Rodent & Control & NA\\\\\n\t3 & 224 &  9 & 13 & 1977 & 2 & NL &   & NA & NA & Neotoma & albigula & Rodent & Control & NA\\\\\n\t4 & 266 & 10 & 16 & 1977 & 2 & NL &   & NA & NA & Neotoma & albigula & Rodent & Control & NA\\\\\n\t5 & 349 & 11 & 12 & 1977 & 2 & NL &   & NA & NA & Neotoma & albigula & Rodent & Control & NA\\\\\n\t6 & 363 & 11 & 12 & 1977 & 2 & NL &   & NA & NA & Neotoma & albigula & Rodent & Control & NA\\\\\n\\end{tabular}\n",
            "text/plain": [
              "  record_id month day year plot_id species_id sex hindfoot_length weight\n",
              "1   1        7    16  1977 2       NL         M   32              NA    \n",
              "2  72        8    19  1977 2       NL         M   31              NA    \n",
              "3 224        9    13  1977 2       NL             NA              NA    \n",
              "4 266       10    16  1977 2       NL             NA              NA    \n",
              "5 349       11    12  1977 2       NL             NA              NA    \n",
              "6 363       11    12  1977 2       NL             NA              NA    \n",
              "  genus   species  taxa   plot_type weigth_lbs\n",
              "1 Neotoma albigula Rodent Control   NA        \n",
              "2 Neotoma albigula Rodent Control   NA        \n",
              "3 Neotoma albigula Rodent Control   NA        \n",
              "4 Neotoma albigula Rodent Control   NA        \n",
              "5 Neotoma albigula Rodent Control   NA        \n",
              "6 Neotoma albigula Rodent Control   NA        "
            ]
          },
          "metadata": {}
        }
      ]
    },
    {
      "cell_type": "code",
      "metadata": {
        "id": "HtLCA6C7ihAY"
      },
      "source": [
        "# Your code for task 2 here\n",
        "surveys %>% mutate(weight_lbs =*.002205) \n",
        "\n"
      ],
      "execution_count": 3,
      "outputs": []
    },
    {
      "cell_type": "markdown",
      "metadata": {
        "id": "OVpLbMkLihAY"
      },
      "source": [
        "\\\\\n",
        "# Part 2 - Converting code and types of errors"
      ]
    },
    {
      "cell_type": "markdown",
      "metadata": {
        "id": "9wdw6CclihAY"
      },
      "source": [
        "## You've seen piping before...\n",
        " \n",
        "<img width=\"850\" src=\"https://github.com/thooks630/DSCI_210_R_notebooks/raw/main/img/openrefine_piping.PNG\">"
      ]
    },
    {
      "cell_type": "markdown",
      "metadata": {
        "id": "s-MfMel7ihAY"
      },
      "source": [
        "## Saving the result of a piped operation"
      ]
    },
    {
      "cell_type": "code",
      "metadata": {
        "id": "W2eiFV5XUkLK",
        "outputId": "e880b35a-b557-46af-d112-2637bc896038",
        "colab": {
          "base_uri": "https://localhost:8080/",
          "height": 286
        }
      },
      "source": [
        "surveys_small <- \n",
        "(surveys \n",
        "  %>% filter(weight < 5) \n",
        "  %>% select(species_id, sex, weight)\n",
        ")\n",
        "\n",
        "head(surveys_small)"
      ],
      "execution_count": 19,
      "outputs": [
        {
          "output_type": "display_data",
          "data": {
            "text/html": [
              "<table class=\"dataframe\">\n",
              "<caption>A data.frame: 6 × 3</caption>\n",
              "<thead>\n",
              "\t<tr><th></th><th scope=col>species_id</th><th scope=col>sex</th><th scope=col>weight</th></tr>\n",
              "\t<tr><th></th><th scope=col>&lt;chr&gt;</th><th scope=col>&lt;chr&gt;</th><th scope=col>&lt;int&gt;</th></tr>\n",
              "</thead>\n",
              "<tbody>\n",
              "\t<tr><th scope=row>1</th><td>PF</td><td>F</td><td>4</td></tr>\n",
              "\t<tr><th scope=row>2</th><td>PF</td><td>F</td><td>4</td></tr>\n",
              "\t<tr><th scope=row>3</th><td>PF</td><td>M</td><td>4</td></tr>\n",
              "\t<tr><th scope=row>4</th><td>RM</td><td>F</td><td>4</td></tr>\n",
              "\t<tr><th scope=row>5</th><td>RM</td><td>M</td><td>4</td></tr>\n",
              "\t<tr><th scope=row>6</th><td>PF</td><td> </td><td>4</td></tr>\n",
              "</tbody>\n",
              "</table>\n"
            ],
            "text/markdown": "\nA data.frame: 6 × 3\n\n| <!--/--> | species_id &lt;chr&gt; | sex &lt;chr&gt; | weight &lt;int&gt; |\n|---|---|---|---|\n| 1 | PF | F | 4 |\n| 2 | PF | F | 4 |\n| 3 | PF | M | 4 |\n| 4 | RM | F | 4 |\n| 5 | RM | M | 4 |\n| 6 | PF | <!----> | 4 |\n\n",
            "text/latex": "A data.frame: 6 × 3\n\\begin{tabular}{r|lll}\n  & species\\_id & sex & weight\\\\\n  & <chr> & <chr> & <int>\\\\\n\\hline\n\t1 & PF & F & 4\\\\\n\t2 & PF & F & 4\\\\\n\t3 & PF & M & 4\\\\\n\t4 & RM & F & 4\\\\\n\t5 & RM & M & 4\\\\\n\t6 & PF &   & 4\\\\\n\\end{tabular}\n",
            "text/plain": [
              "  species_id sex weight\n",
              "1 PF         F   4     \n",
              "2 PF         F   4     \n",
              "3 PF         M   4     \n",
              "4 RM         F   4     \n",
              "5 RM         M   4     \n",
              "6 PF             4     "
            ]
          },
          "metadata": {}
        }
      ]
    },
    {
      "cell_type": "markdown",
      "metadata": {
        "id": "OrXpJg4eihAZ"
      },
      "source": [
        "## A recap - the advantages of piping\n",
        "\n",
        "* Reads left-to-right\n",
        "* Reads top-to-bottom\n",
        "* Focuses on verbs\n",
        "* Removes pointless nouns"
      ]
    },
    {
      "cell_type": "markdown",
      "metadata": {
        "id": "eDcLOKxhihAZ"
      },
      "source": [
        "## Comparing three different coding approaches\n",
        "\n",
        "* Imperative\n",
        "* Functional\n",
        "* Piping"
      ]
    },
    {
      "cell_type": "markdown",
      "metadata": {
        "id": "9Gt9GQNBihAZ"
      },
      "source": [
        "### Imperative:"
      ]
    },
    {
      "cell_type": "code",
      "metadata": {
        "id": "QHkno9_zihAa",
        "outputId": "f5f47f6d-2efe-479d-e292-193dad86961a",
        "colab": {
          "base_uri": "https://localhost:8080/",
          "height": 34
        }
      },
      "source": [
        "x <- pi\n",
        "r_x <- round(x, 2)\n",
        "c_x <- as.character(r_x)\n",
        "c_x"
      ],
      "execution_count": 20,
      "outputs": [
        {
          "output_type": "display_data",
          "data": {
            "text/html": [
              "'3.14'"
            ],
            "text/markdown": "'3.14'",
            "text/latex": "'3.14'",
            "text/plain": [
              "[1] \"3.14\""
            ]
          },
          "metadata": {}
        }
      ]
    },
    {
      "cell_type": "markdown",
      "metadata": {
        "id": "oPHoXGtIihAa"
      },
      "source": [
        "### Functional:"
      ]
    },
    {
      "cell_type": "code",
      "metadata": {
        "id": "DRD7lBqyihAa",
        "outputId": "53f36d64-9883-4c86-e994-6c28b191f11d",
        "colab": {
          "base_uri": "https://localhost:8080/",
          "height": 34
        }
      },
      "source": [
        "as.character(round(pi,2))"
      ],
      "execution_count": 21,
      "outputs": [
        {
          "output_type": "display_data",
          "data": {
            "text/html": [
              "'3.14'"
            ],
            "text/markdown": "'3.14'",
            "text/latex": "'3.14'",
            "text/plain": [
              "[1] \"3.14\""
            ]
          },
          "metadata": {}
        }
      ]
    },
    {
      "cell_type": "markdown",
      "metadata": {
        "id": "jQHLv4TQihAa"
      },
      "source": [
        "### Piping:"
      ]
    },
    {
      "cell_type": "code",
      "metadata": {
        "id": "DnoK1CJnihAb",
        "outputId": "25dcc59e-63b2-4f6e-e335-343ea86bab3a",
        "colab": {
          "base_uri": "https://localhost:8080/",
          "height": 34
        }
      },
      "source": [
        "pi %>%\n",
        "  round(2) %>%\n",
        "  as.character"
      ],
      "execution_count": 22,
      "outputs": [
        {
          "output_type": "display_data",
          "data": {
            "text/html": [
              "'3.14'"
            ],
            "text/markdown": "'3.14'",
            "text/latex": "'3.14'",
            "text/plain": [
              "[1] \"3.14\""
            ]
          },
          "metadata": {}
        }
      ]
    },
    {
      "cell_type": "markdown",
      "metadata": {
        "id": "mG0w_dvMihAb"
      },
      "source": [
        "## Example 1 - converting to pipes"
      ]
    },
    {
      "cell_type": "code",
      "metadata": {
        "id": "DcF7RDyvihAb",
        "outputId": "5dbdce2c-3469-4cd0-bfb9-65386161318a",
        "colab": {
          "base_uri": "https://localhost:8080/",
          "height": 286
        }
      },
      "source": [
        "surveys_small <- filter(surveys, weight < 5) \n",
        "survey_small_id_sex_wgt <- select(surveys_small, species_id, sex, weight)\n",
        "head(survey_small_id_sex_wgt)"
      ],
      "execution_count": 23,
      "outputs": [
        {
          "output_type": "display_data",
          "data": {
            "text/html": [
              "<table class=\"dataframe\">\n",
              "<caption>A data.frame: 6 × 3</caption>\n",
              "<thead>\n",
              "\t<tr><th></th><th scope=col>species_id</th><th scope=col>sex</th><th scope=col>weight</th></tr>\n",
              "\t<tr><th></th><th scope=col>&lt;chr&gt;</th><th scope=col>&lt;chr&gt;</th><th scope=col>&lt;int&gt;</th></tr>\n",
              "</thead>\n",
              "<tbody>\n",
              "\t<tr><th scope=row>1</th><td>PF</td><td>F</td><td>4</td></tr>\n",
              "\t<tr><th scope=row>2</th><td>PF</td><td>F</td><td>4</td></tr>\n",
              "\t<tr><th scope=row>3</th><td>PF</td><td>M</td><td>4</td></tr>\n",
              "\t<tr><th scope=row>4</th><td>RM</td><td>F</td><td>4</td></tr>\n",
              "\t<tr><th scope=row>5</th><td>RM</td><td>M</td><td>4</td></tr>\n",
              "\t<tr><th scope=row>6</th><td>PF</td><td> </td><td>4</td></tr>\n",
              "</tbody>\n",
              "</table>\n"
            ],
            "text/markdown": "\nA data.frame: 6 × 3\n\n| <!--/--> | species_id &lt;chr&gt; | sex &lt;chr&gt; | weight &lt;int&gt; |\n|---|---|---|---|\n| 1 | PF | F | 4 |\n| 2 | PF | F | 4 |\n| 3 | PF | M | 4 |\n| 4 | RM | F | 4 |\n| 5 | RM | M | 4 |\n| 6 | PF | <!----> | 4 |\n\n",
            "text/latex": "A data.frame: 6 × 3\n\\begin{tabular}{r|lll}\n  & species\\_id & sex & weight\\\\\n  & <chr> & <chr> & <int>\\\\\n\\hline\n\t1 & PF & F & 4\\\\\n\t2 & PF & F & 4\\\\\n\t3 & PF & M & 4\\\\\n\t4 & RM & F & 4\\\\\n\t5 & RM & M & 4\\\\\n\t6 & PF &   & 4\\\\\n\\end{tabular}\n",
            "text/plain": [
              "  species_id sex weight\n",
              "1 PF         F   4     \n",
              "2 PF         F   4     \n",
              "3 PF         M   4     \n",
              "4 RM         F   4     \n",
              "5 RM         M   4     \n",
              "6 PF             4     "
            ]
          },
          "metadata": {}
        }
      ]
    },
    {
      "cell_type": "code",
      "metadata": {
        "id": "6mcgQ3ogihAb",
        "outputId": "fbc0e134-1459-4179-8770-49cd9983076e",
        "colab": {
          "base_uri": "https://localhost:8080/",
          "height": 286
        }
      },
      "source": [
        "# Convert to piped code\n",
        "surveys %>%\n",
        "filter(weight < 5) %>%\n",
        "select(species_id, sex, weight) %>%\n",
        "head"
      ],
      "execution_count": 24,
      "outputs": [
        {
          "output_type": "display_data",
          "data": {
            "text/html": [
              "<table class=\"dataframe\">\n",
              "<caption>A data.frame: 6 × 3</caption>\n",
              "<thead>\n",
              "\t<tr><th></th><th scope=col>species_id</th><th scope=col>sex</th><th scope=col>weight</th></tr>\n",
              "\t<tr><th></th><th scope=col>&lt;chr&gt;</th><th scope=col>&lt;chr&gt;</th><th scope=col>&lt;int&gt;</th></tr>\n",
              "</thead>\n",
              "<tbody>\n",
              "\t<tr><th scope=row>1</th><td>PF</td><td>F</td><td>4</td></tr>\n",
              "\t<tr><th scope=row>2</th><td>PF</td><td>F</td><td>4</td></tr>\n",
              "\t<tr><th scope=row>3</th><td>PF</td><td>M</td><td>4</td></tr>\n",
              "\t<tr><th scope=row>4</th><td>RM</td><td>F</td><td>4</td></tr>\n",
              "\t<tr><th scope=row>5</th><td>RM</td><td>M</td><td>4</td></tr>\n",
              "\t<tr><th scope=row>6</th><td>PF</td><td> </td><td>4</td></tr>\n",
              "</tbody>\n",
              "</table>\n"
            ],
            "text/markdown": "\nA data.frame: 6 × 3\n\n| <!--/--> | species_id &lt;chr&gt; | sex &lt;chr&gt; | weight &lt;int&gt; |\n|---|---|---|---|\n| 1 | PF | F | 4 |\n| 2 | PF | F | 4 |\n| 3 | PF | M | 4 |\n| 4 | RM | F | 4 |\n| 5 | RM | M | 4 |\n| 6 | PF | <!----> | 4 |\n\n",
            "text/latex": "A data.frame: 6 × 3\n\\begin{tabular}{r|lll}\n  & species\\_id & sex & weight\\\\\n  & <chr> & <chr> & <int>\\\\\n\\hline\n\t1 & PF & F & 4\\\\\n\t2 & PF & F & 4\\\\\n\t3 & PF & M & 4\\\\\n\t4 & RM & F & 4\\\\\n\t5 & RM & M & 4\\\\\n\t6 & PF &   & 4\\\\\n\\end{tabular}\n",
            "text/plain": [
              "  species_id sex weight\n",
              "1 PF         F   4     \n",
              "2 PF         F   4     \n",
              "3 PF         M   4     \n",
              "4 RM         F   4     \n",
              "5 RM         M   4     \n",
              "6 PF             4     "
            ]
          },
          "metadata": {}
        }
      ]
    },
    {
      "cell_type": "markdown",
      "metadata": {
        "id": "9lDTzww9ihAb"
      },
      "source": [
        "## Example 2 - converting to imperative approach"
      ]
    },
    {
      "cell_type": "code",
      "metadata": {
        "id": "cqcujEKSihAb",
        "outputId": "9bd58d2d-cc9c-4d07-f0b3-4ff71f92450d",
        "colab": {
          "base_uri": "https://localhost:8080/",
          "height": 286
        }
      },
      "source": [
        "surveys_small <- surveys %>%\n",
        "  filter(species_id == 'NL') %>%\n",
        "  select(species_id, sex, weight)\n",
        "\n",
        "head(surveys_small)"
      ],
      "execution_count": 25,
      "outputs": [
        {
          "output_type": "display_data",
          "data": {
            "text/html": [
              "<table class=\"dataframe\">\n",
              "<caption>A data.frame: 6 × 3</caption>\n",
              "<thead>\n",
              "\t<tr><th></th><th scope=col>species_id</th><th scope=col>sex</th><th scope=col>weight</th></tr>\n",
              "\t<tr><th></th><th scope=col>&lt;chr&gt;</th><th scope=col>&lt;chr&gt;</th><th scope=col>&lt;int&gt;</th></tr>\n",
              "</thead>\n",
              "<tbody>\n",
              "\t<tr><th scope=row>1</th><td>NL</td><td>M</td><td>NA</td></tr>\n",
              "\t<tr><th scope=row>2</th><td>NL</td><td>M</td><td>NA</td></tr>\n",
              "\t<tr><th scope=row>3</th><td>NL</td><td> </td><td>NA</td></tr>\n",
              "\t<tr><th scope=row>4</th><td>NL</td><td> </td><td>NA</td></tr>\n",
              "\t<tr><th scope=row>5</th><td>NL</td><td> </td><td>NA</td></tr>\n",
              "\t<tr><th scope=row>6</th><td>NL</td><td> </td><td>NA</td></tr>\n",
              "</tbody>\n",
              "</table>\n"
            ],
            "text/markdown": "\nA data.frame: 6 × 3\n\n| <!--/--> | species_id &lt;chr&gt; | sex &lt;chr&gt; | weight &lt;int&gt; |\n|---|---|---|---|\n| 1 | NL | M | NA |\n| 2 | NL | M | NA |\n| 3 | NL | <!----> | NA |\n| 4 | NL | <!----> | NA |\n| 5 | NL | <!----> | NA |\n| 6 | NL | <!----> | NA |\n\n",
            "text/latex": "A data.frame: 6 × 3\n\\begin{tabular}{r|lll}\n  & species\\_id & sex & weight\\\\\n  & <chr> & <chr> & <int>\\\\\n\\hline\n\t1 & NL & M & NA\\\\\n\t2 & NL & M & NA\\\\\n\t3 & NL &   & NA\\\\\n\t4 & NL &   & NA\\\\\n\t5 & NL &   & NA\\\\\n\t6 & NL &   & NA\\\\\n\\end{tabular}\n",
            "text/plain": [
              "  species_id sex weight\n",
              "1 NL         M   NA    \n",
              "2 NL         M   NA    \n",
              "3 NL             NA    \n",
              "4 NL             NA    \n",
              "5 NL             NA    \n",
              "6 NL             NA    "
            ]
          },
          "metadata": {}
        }
      ]
    },
    {
      "cell_type": "code",
      "metadata": {
        "id": "mvkpAMgxihAc",
        "outputId": "69877e17-e386-46e3-8d4a-8c5958a6f7d0",
        "colab": {
          "base_uri": "https://localhost:8080/",
          "height": 286
        }
      },
      "source": [
        "# Convert to imperative\n",
        "surveys_small <- filter(surveys, species_id == \"NL\")\n",
        "surveys_small2 <- select(surveys_small, species_id, sex, weight)\n",
        "head(surveys_small2)\n",
        "\n"
      ],
      "execution_count": 26,
      "outputs": [
        {
          "output_type": "display_data",
          "data": {
            "text/html": [
              "<table class=\"dataframe\">\n",
              "<caption>A data.frame: 6 × 3</caption>\n",
              "<thead>\n",
              "\t<tr><th></th><th scope=col>species_id</th><th scope=col>sex</th><th scope=col>weight</th></tr>\n",
              "\t<tr><th></th><th scope=col>&lt;chr&gt;</th><th scope=col>&lt;chr&gt;</th><th scope=col>&lt;int&gt;</th></tr>\n",
              "</thead>\n",
              "<tbody>\n",
              "\t<tr><th scope=row>1</th><td>NL</td><td>M</td><td>NA</td></tr>\n",
              "\t<tr><th scope=row>2</th><td>NL</td><td>M</td><td>NA</td></tr>\n",
              "\t<tr><th scope=row>3</th><td>NL</td><td> </td><td>NA</td></tr>\n",
              "\t<tr><th scope=row>4</th><td>NL</td><td> </td><td>NA</td></tr>\n",
              "\t<tr><th scope=row>5</th><td>NL</td><td> </td><td>NA</td></tr>\n",
              "\t<tr><th scope=row>6</th><td>NL</td><td> </td><td>NA</td></tr>\n",
              "</tbody>\n",
              "</table>\n"
            ],
            "text/markdown": "\nA data.frame: 6 × 3\n\n| <!--/--> | species_id &lt;chr&gt; | sex &lt;chr&gt; | weight &lt;int&gt; |\n|---|---|---|---|\n| 1 | NL | M | NA |\n| 2 | NL | M | NA |\n| 3 | NL | <!----> | NA |\n| 4 | NL | <!----> | NA |\n| 5 | NL | <!----> | NA |\n| 6 | NL | <!----> | NA |\n\n",
            "text/latex": "A data.frame: 6 × 3\n\\begin{tabular}{r|lll}\n  & species\\_id & sex & weight\\\\\n  & <chr> & <chr> & <int>\\\\\n\\hline\n\t1 & NL & M & NA\\\\\n\t2 & NL & M & NA\\\\\n\t3 & NL &   & NA\\\\\n\t4 & NL &   & NA\\\\\n\t5 & NL &   & NA\\\\\n\t6 & NL &   & NA\\\\\n\\end{tabular}\n",
            "text/plain": [
              "  species_id sex weight\n",
              "1 NL         M   NA    \n",
              "2 NL         M   NA    \n",
              "3 NL             NA    \n",
              "4 NL             NA    \n",
              "5 NL             NA    \n",
              "6 NL             NA    "
            ]
          },
          "metadata": {}
        }
      ]
    },
    {
      "cell_type": "markdown",
      "metadata": {
        "id": "i9xSkGA1ihAc"
      },
      "source": [
        "## Example 3 - converting to functional approach"
      ]
    },
    {
      "cell_type": "code",
      "metadata": {
        "id": "VBnzmc5ZihAc",
        "outputId": "1e9a3d80-f862-43c6-913a-67bf38ff4dbc",
        "colab": {
          "base_uri": "https://localhost:8080/",
          "height": 286
        }
      },
      "source": [
        "surveys_small <- surveys %>%\n",
        "  filter(weight < 5) %>%\n",
        "  select(species_id, sex, weight)\n",
        "\n",
        "head(surveys_small)"
      ],
      "execution_count": 27,
      "outputs": [
        {
          "output_type": "display_data",
          "data": {
            "text/html": [
              "<table class=\"dataframe\">\n",
              "<caption>A data.frame: 6 × 3</caption>\n",
              "<thead>\n",
              "\t<tr><th></th><th scope=col>species_id</th><th scope=col>sex</th><th scope=col>weight</th></tr>\n",
              "\t<tr><th></th><th scope=col>&lt;chr&gt;</th><th scope=col>&lt;chr&gt;</th><th scope=col>&lt;int&gt;</th></tr>\n",
              "</thead>\n",
              "<tbody>\n",
              "\t<tr><th scope=row>1</th><td>PF</td><td>F</td><td>4</td></tr>\n",
              "\t<tr><th scope=row>2</th><td>PF</td><td>F</td><td>4</td></tr>\n",
              "\t<tr><th scope=row>3</th><td>PF</td><td>M</td><td>4</td></tr>\n",
              "\t<tr><th scope=row>4</th><td>RM</td><td>F</td><td>4</td></tr>\n",
              "\t<tr><th scope=row>5</th><td>RM</td><td>M</td><td>4</td></tr>\n",
              "\t<tr><th scope=row>6</th><td>PF</td><td> </td><td>4</td></tr>\n",
              "</tbody>\n",
              "</table>\n"
            ],
            "text/markdown": "\nA data.frame: 6 × 3\n\n| <!--/--> | species_id &lt;chr&gt; | sex &lt;chr&gt; | weight &lt;int&gt; |\n|---|---|---|---|\n| 1 | PF | F | 4 |\n| 2 | PF | F | 4 |\n| 3 | PF | M | 4 |\n| 4 | RM | F | 4 |\n| 5 | RM | M | 4 |\n| 6 | PF | <!----> | 4 |\n\n",
            "text/latex": "A data.frame: 6 × 3\n\\begin{tabular}{r|lll}\n  & species\\_id & sex & weight\\\\\n  & <chr> & <chr> & <int>\\\\\n\\hline\n\t1 & PF & F & 4\\\\\n\t2 & PF & F & 4\\\\\n\t3 & PF & M & 4\\\\\n\t4 & RM & F & 4\\\\\n\t5 & RM & M & 4\\\\\n\t6 & PF &   & 4\\\\\n\\end{tabular}\n",
            "text/plain": [
              "  species_id sex weight\n",
              "1 PF         F   4     \n",
              "2 PF         F   4     \n",
              "3 PF         M   4     \n",
              "4 RM         F   4     \n",
              "5 RM         M   4     \n",
              "6 PF             4     "
            ]
          },
          "metadata": {}
        }
      ]
    },
    {
      "cell_type": "code",
      "metadata": {
        "id": "sYI4AJ9MihAd",
        "outputId": "6ad3f762-2f46-46b4-a1a2-18b4389c2cdc",
        "colab": {
          "base_uri": "https://localhost:8080/",
          "height": 286
        }
      },
      "source": [
        "# Convert to functional\n",
        "head(select(filter(surveys, weight < 5), species_id, sex, weight))"
      ],
      "execution_count": 28,
      "outputs": [
        {
          "output_type": "display_data",
          "data": {
            "text/html": [
              "<table class=\"dataframe\">\n",
              "<caption>A data.frame: 6 × 3</caption>\n",
              "<thead>\n",
              "\t<tr><th></th><th scope=col>species_id</th><th scope=col>sex</th><th scope=col>weight</th></tr>\n",
              "\t<tr><th></th><th scope=col>&lt;chr&gt;</th><th scope=col>&lt;chr&gt;</th><th scope=col>&lt;int&gt;</th></tr>\n",
              "</thead>\n",
              "<tbody>\n",
              "\t<tr><th scope=row>1</th><td>PF</td><td>F</td><td>4</td></tr>\n",
              "\t<tr><th scope=row>2</th><td>PF</td><td>F</td><td>4</td></tr>\n",
              "\t<tr><th scope=row>3</th><td>PF</td><td>M</td><td>4</td></tr>\n",
              "\t<tr><th scope=row>4</th><td>RM</td><td>F</td><td>4</td></tr>\n",
              "\t<tr><th scope=row>5</th><td>RM</td><td>M</td><td>4</td></tr>\n",
              "\t<tr><th scope=row>6</th><td>PF</td><td> </td><td>4</td></tr>\n",
              "</tbody>\n",
              "</table>\n"
            ],
            "text/markdown": "\nA data.frame: 6 × 3\n\n| <!--/--> | species_id &lt;chr&gt; | sex &lt;chr&gt; | weight &lt;int&gt; |\n|---|---|---|---|\n| 1 | PF | F | 4 |\n| 2 | PF | F | 4 |\n| 3 | PF | M | 4 |\n| 4 | RM | F | 4 |\n| 5 | RM | M | 4 |\n| 6 | PF | <!----> | 4 |\n\n",
            "text/latex": "A data.frame: 6 × 3\n\\begin{tabular}{r|lll}\n  & species\\_id & sex & weight\\\\\n  & <chr> & <chr> & <int>\\\\\n\\hline\n\t1 & PF & F & 4\\\\\n\t2 & PF & F & 4\\\\\n\t3 & PF & M & 4\\\\\n\t4 & RM & F & 4\\\\\n\t5 & RM & M & 4\\\\\n\t6 & PF &   & 4\\\\\n\\end{tabular}\n",
            "text/plain": [
              "  species_id sex weight\n",
              "1 PF         F   4     \n",
              "2 PF         F   4     \n",
              "3 PF         M   4     \n",
              "4 RM         F   4     \n",
              "5 RM         M   4     \n",
              "6 PF             4     "
            ]
          },
          "metadata": {}
        }
      ]
    },
    {
      "cell_type": "markdown",
      "metadata": {
        "id": "ysPH1OJEihAd"
      },
      "source": [
        "## <font color=\"red\"> Exercise 2 </font>\n",
        "\n",
        "Perform each of the following code conversions."
      ]
    },
    {
      "cell_type": "code",
      "metadata": {
        "id": "c--UUpl4ihAd",
        "outputId": "9e6755fd-40d2-403a-9cf9-63c03a545362",
        "colab": {
          "base_uri": "https://localhost:8080/",
          "height": 224
        }
      },
      "source": [
        "sales <- read.csv('https://github.com/WSU-DataScience/DSCI_210_R_notebooks/raw/main/data/auto_sales.csv')\n",
        "head(sales)"
      ],
      "execution_count": 29,
      "outputs": [
        {
          "output_type": "display_data",
          "data": {
            "text/html": [
              "<table class=\"dataframe\">\n",
              "<caption>A data.frame: 4 × 5</caption>\n",
              "<thead>\n",
              "\t<tr><th></th><th scope=col>Salesperson</th><th scope=col>Compact</th><th scope=col>Sedan</th><th scope=col>SUV</th><th scope=col>Truck</th></tr>\n",
              "\t<tr><th></th><th scope=col>&lt;chr&gt;</th><th scope=col>&lt;int&gt;</th><th scope=col>&lt;int&gt;</th><th scope=col>&lt;int&gt;</th><th scope=col>&lt;int&gt;</th></tr>\n",
              "</thead>\n",
              "<tbody>\n",
              "\t<tr><th scope=row>1</th><td>Ann    </td><td>22</td><td>18</td><td>15</td><td>12</td></tr>\n",
              "\t<tr><th scope=row>2</th><td>Bob    </td><td>19</td><td>12</td><td>17</td><td>20</td></tr>\n",
              "\t<tr><th scope=row>3</th><td>Yolanda</td><td>19</td><td> 8</td><td>32</td><td>15</td></tr>\n",
              "\t<tr><th scope=row>4</th><td>Xerxes </td><td>12</td><td>23</td><td>18</td><td> 9</td></tr>\n",
              "</tbody>\n",
              "</table>\n"
            ],
            "text/markdown": "\nA data.frame: 4 × 5\n\n| <!--/--> | Salesperson &lt;chr&gt; | Compact &lt;int&gt; | Sedan &lt;int&gt; | SUV &lt;int&gt; | Truck &lt;int&gt; |\n|---|---|---|---|---|---|\n| 1 | Ann     | 22 | 18 | 15 | 12 |\n| 2 | Bob     | 19 | 12 | 17 | 20 |\n| 3 | Yolanda | 19 |  8 | 32 | 15 |\n| 4 | Xerxes  | 12 | 23 | 18 |  9 |\n\n",
            "text/latex": "A data.frame: 4 × 5\n\\begin{tabular}{r|lllll}\n  & Salesperson & Compact & Sedan & SUV & Truck\\\\\n  & <chr> & <int> & <int> & <int> & <int>\\\\\n\\hline\n\t1 & Ann     & 22 & 18 & 15 & 12\\\\\n\t2 & Bob     & 19 & 12 & 17 & 20\\\\\n\t3 & Yolanda & 19 &  8 & 32 & 15\\\\\n\t4 & Xerxes  & 12 & 23 & 18 &  9\\\\\n\\end{tabular}\n",
            "text/plain": [
              "  Salesperson Compact Sedan SUV Truck\n",
              "1 Ann         22      18    15  12   \n",
              "2 Bob         19      12    17  20   \n",
              "3 Yolanda     19       8    32  15   \n",
              "4 Xerxes      12      23    18   9   "
            ]
          },
          "metadata": {}
        }
      ]
    },
    {
      "cell_type": "markdown",
      "metadata": {
        "id": "wLkmIHr8ihAd"
      },
      "source": [
        "#### <font color=\"red\">TASK 1</font>. Convert the following *piped code* to the *imperative style*"
      ]
    },
    {
      "cell_type": "code",
      "metadata": {
        "id": "GNpFwdAjihAe",
        "outputId": "b7671f8c-44cc-4b2a-9568-924c256451b4",
        "colab": {
          "base_uri": "https://localhost:8080/",
          "height": 224
        }
      },
      "source": [
        "sales %>%\n",
        "    select(Salesperson, Compact, Sedan) %>%\n",
        "    mutate(Car = Compact + Sedan) "
      ],
      "execution_count": 32,
      "outputs": [
        {
          "output_type": "display_data",
          "data": {
            "text/html": [
              "<table class=\"dataframe\">\n",
              "<caption>A data.frame: 4 × 4</caption>\n",
              "<thead>\n",
              "\t<tr><th scope=col>Salesperson</th><th scope=col>Compact</th><th scope=col>Sedan</th><th scope=col>Car</th></tr>\n",
              "\t<tr><th scope=col>&lt;chr&gt;</th><th scope=col>&lt;int&gt;</th><th scope=col>&lt;int&gt;</th><th scope=col>&lt;int&gt;</th></tr>\n",
              "</thead>\n",
              "<tbody>\n",
              "\t<tr><td>Ann    </td><td>22</td><td>18</td><td>40</td></tr>\n",
              "\t<tr><td>Bob    </td><td>19</td><td>12</td><td>31</td></tr>\n",
              "\t<tr><td>Yolanda</td><td>19</td><td> 8</td><td>27</td></tr>\n",
              "\t<tr><td>Xerxes </td><td>12</td><td>23</td><td>35</td></tr>\n",
              "</tbody>\n",
              "</table>\n"
            ],
            "text/markdown": "\nA data.frame: 4 × 4\n\n| Salesperson &lt;chr&gt; | Compact &lt;int&gt; | Sedan &lt;int&gt; | Car &lt;int&gt; |\n|---|---|---|---|\n| Ann     | 22 | 18 | 40 |\n| Bob     | 19 | 12 | 31 |\n| Yolanda | 19 |  8 | 27 |\n| Xerxes  | 12 | 23 | 35 |\n\n",
            "text/latex": "A data.frame: 4 × 4\n\\begin{tabular}{llll}\n Salesperson & Compact & Sedan & Car\\\\\n <chr> & <int> & <int> & <int>\\\\\n\\hline\n\t Ann     & 22 & 18 & 40\\\\\n\t Bob     & 19 & 12 & 31\\\\\n\t Yolanda & 19 &  8 & 27\\\\\n\t Xerxes  & 12 & 23 & 35\\\\\n\\end{tabular}\n",
            "text/plain": [
              "  Salesperson Compact Sedan Car\n",
              "1 Ann         22      18    40 \n",
              "2 Bob         19      12    31 \n",
              "3 Yolanda     19       8    27 \n",
              "4 Xerxes      12      23    35 "
            ]
          },
          "metadata": {}
        }
      ]
    },
    {
      "cell_type": "code",
      "metadata": {
        "id": "LufAaHWfihAe",
        "outputId": "d3e73b1b-ca59-4df0-c661-b5db07628b22",
        "colab": {
          "base_uri": "https://localhost:8080/",
          "height": 224
        }
      },
      "source": [
        "# Your code here (using imperative approach)\n",
        "slases2 = select(sales, Salesperson, Compact, Sedan)\n",
        "slases3 = mutate(slases2, Car = Compact + Sedan)\n",
        "head(slases3) "
      ],
      "execution_count": 42,
      "outputs": [
        {
          "output_type": "display_data",
          "data": {
            "text/html": [
              "<table class=\"dataframe\">\n",
              "<caption>A data.frame: 4 × 4</caption>\n",
              "<thead>\n",
              "\t<tr><th></th><th scope=col>Salesperson</th><th scope=col>Compact</th><th scope=col>Sedan</th><th scope=col>Car</th></tr>\n",
              "\t<tr><th></th><th scope=col>&lt;chr&gt;</th><th scope=col>&lt;int&gt;</th><th scope=col>&lt;int&gt;</th><th scope=col>&lt;int&gt;</th></tr>\n",
              "</thead>\n",
              "<tbody>\n",
              "\t<tr><th scope=row>1</th><td>Ann    </td><td>22</td><td>18</td><td>40</td></tr>\n",
              "\t<tr><th scope=row>2</th><td>Bob    </td><td>19</td><td>12</td><td>31</td></tr>\n",
              "\t<tr><th scope=row>3</th><td>Yolanda</td><td>19</td><td> 8</td><td>27</td></tr>\n",
              "\t<tr><th scope=row>4</th><td>Xerxes </td><td>12</td><td>23</td><td>35</td></tr>\n",
              "</tbody>\n",
              "</table>\n"
            ],
            "text/markdown": "\nA data.frame: 4 × 4\n\n| <!--/--> | Salesperson &lt;chr&gt; | Compact &lt;int&gt; | Sedan &lt;int&gt; | Car &lt;int&gt; |\n|---|---|---|---|---|\n| 1 | Ann     | 22 | 18 | 40 |\n| 2 | Bob     | 19 | 12 | 31 |\n| 3 | Yolanda | 19 |  8 | 27 |\n| 4 | Xerxes  | 12 | 23 | 35 |\n\n",
            "text/latex": "A data.frame: 4 × 4\n\\begin{tabular}{r|llll}\n  & Salesperson & Compact & Sedan & Car\\\\\n  & <chr> & <int> & <int> & <int>\\\\\n\\hline\n\t1 & Ann     & 22 & 18 & 40\\\\\n\t2 & Bob     & 19 & 12 & 31\\\\\n\t3 & Yolanda & 19 &  8 & 27\\\\\n\t4 & Xerxes  & 12 & 23 & 35\\\\\n\\end{tabular}\n",
            "text/plain": [
              "  Salesperson Compact Sedan Car\n",
              "1 Ann         22      18    40 \n",
              "2 Bob         19      12    31 \n",
              "3 Yolanda     19       8    27 \n",
              "4 Xerxes      12      23    35 "
            ]
          },
          "metadata": {}
        }
      ]
    },
    {
      "cell_type": "markdown",
      "metadata": {
        "id": "RL1MTMBKihAe"
      },
      "source": [
        "#### <font color=\"red\">TASK 2</font>. Convert the following *imperative code* to the *piped style*"
      ]
    },
    {
      "cell_type": "code",
      "metadata": {
        "id": "dUKg0E_zihAe",
        "outputId": "d185f019-dcd9-4833-f219-849ac26ad6f1",
        "colab": {
          "base_uri": "https://localhost:8080/",
          "height": 224
        }
      },
      "source": [
        "df2 <- mutate(sales, Car = Compact + Sedan)\n",
        "df3 <- mutate(df2, Utility = SUV + Truck)\n",
        "df4 <- select(df3, Salesperson, Car, Utility)\n",
        "head(df4)"
      ],
      "execution_count": 39,
      "outputs": [
        {
          "output_type": "display_data",
          "data": {
            "text/html": [
              "<table class=\"dataframe\">\n",
              "<caption>A data.frame: 4 × 3</caption>\n",
              "<thead>\n",
              "\t<tr><th></th><th scope=col>Salesperson</th><th scope=col>Car</th><th scope=col>Utility</th></tr>\n",
              "\t<tr><th></th><th scope=col>&lt;chr&gt;</th><th scope=col>&lt;int&gt;</th><th scope=col>&lt;int&gt;</th></tr>\n",
              "</thead>\n",
              "<tbody>\n",
              "\t<tr><th scope=row>1</th><td>Ann    </td><td>40</td><td>27</td></tr>\n",
              "\t<tr><th scope=row>2</th><td>Bob    </td><td>31</td><td>37</td></tr>\n",
              "\t<tr><th scope=row>3</th><td>Yolanda</td><td>27</td><td>47</td></tr>\n",
              "\t<tr><th scope=row>4</th><td>Xerxes </td><td>35</td><td>27</td></tr>\n",
              "</tbody>\n",
              "</table>\n"
            ],
            "text/markdown": "\nA data.frame: 4 × 3\n\n| <!--/--> | Salesperson &lt;chr&gt; | Car &lt;int&gt; | Utility &lt;int&gt; |\n|---|---|---|---|\n| 1 | Ann     | 40 | 27 |\n| 2 | Bob     | 31 | 37 |\n| 3 | Yolanda | 27 | 47 |\n| 4 | Xerxes  | 35 | 27 |\n\n",
            "text/latex": "A data.frame: 4 × 3\n\\begin{tabular}{r|lll}\n  & Salesperson & Car & Utility\\\\\n  & <chr> & <int> & <int>\\\\\n\\hline\n\t1 & Ann     & 40 & 27\\\\\n\t2 & Bob     & 31 & 37\\\\\n\t3 & Yolanda & 27 & 47\\\\\n\t4 & Xerxes  & 35 & 27\\\\\n\\end{tabular}\n",
            "text/plain": [
              "  Salesperson Car Utility\n",
              "1 Ann         40  27     \n",
              "2 Bob         31  37     \n",
              "3 Yolanda     27  47     \n",
              "4 Xerxes      35  27     "
            ]
          },
          "metadata": {}
        }
      ]
    },
    {
      "cell_type": "code",
      "metadata": {
        "id": "00T9PwNHihAe",
        "outputId": "2c3de346-a1b8-462c-aee2-bf2ccdebbe77",
        "colab": {
          "base_uri": "https://localhost:8080/",
          "height": 224
        }
      },
      "source": [
        "# Your code here\n",
        "sales %>%\n",
        "    mutate(sales, Car = Compact + Sedan) %>%\n",
        "    mutate( Utility = SUV + Truck) %>%\n",
        "    select( Salesperson, Car, Utility) %>%\n",
        "    head"
      ],
      "execution_count": 38,
      "outputs": [
        {
          "output_type": "display_data",
          "data": {
            "text/html": [
              "<table class=\"dataframe\">\n",
              "<caption>A data.frame: 4 × 3</caption>\n",
              "<thead>\n",
              "\t<tr><th></th><th scope=col>Salesperson</th><th scope=col>Car</th><th scope=col>Utility</th></tr>\n",
              "\t<tr><th></th><th scope=col>&lt;chr&gt;</th><th scope=col>&lt;int&gt;</th><th scope=col>&lt;int&gt;</th></tr>\n",
              "</thead>\n",
              "<tbody>\n",
              "\t<tr><th scope=row>1</th><td>Ann    </td><td>40</td><td>27</td></tr>\n",
              "\t<tr><th scope=row>2</th><td>Bob    </td><td>31</td><td>37</td></tr>\n",
              "\t<tr><th scope=row>3</th><td>Yolanda</td><td>27</td><td>47</td></tr>\n",
              "\t<tr><th scope=row>4</th><td>Xerxes </td><td>35</td><td>27</td></tr>\n",
              "</tbody>\n",
              "</table>\n"
            ],
            "text/markdown": "\nA data.frame: 4 × 3\n\n| <!--/--> | Salesperson &lt;chr&gt; | Car &lt;int&gt; | Utility &lt;int&gt; |\n|---|---|---|---|\n| 1 | Ann     | 40 | 27 |\n| 2 | Bob     | 31 | 37 |\n| 3 | Yolanda | 27 | 47 |\n| 4 | Xerxes  | 35 | 27 |\n\n",
            "text/latex": "A data.frame: 4 × 3\n\\begin{tabular}{r|lll}\n  & Salesperson & Car & Utility\\\\\n  & <chr> & <int> & <int>\\\\\n\\hline\n\t1 & Ann     & 40 & 27\\\\\n\t2 & Bob     & 31 & 37\\\\\n\t3 & Yolanda & 27 & 47\\\\\n\t4 & Xerxes  & 35 & 27\\\\\n\\end{tabular}\n",
            "text/plain": [
              "  Salesperson Car Utility\n",
              "1 Ann         40  27     \n",
              "2 Bob         31  37     \n",
              "3 Yolanda     27  47     \n",
              "4 Xerxes      35  27     "
            ]
          },
          "metadata": {}
        }
      ]
    },
    {
      "cell_type": "markdown",
      "metadata": {
        "id": "CyILabYJihAf"
      },
      "source": [
        "## Types of programming errors\n",
        "\n",
        "* Name errors\n",
        "* Syntax errors\n",
        "* Semantic errors (hardest/worst)"
      ]
    },
    {
      "cell_type": "markdown",
      "metadata": {
        "id": "D5hwQuIkihAf"
      },
      "source": [
        "### Name Errors - Using the wrong name"
      ]
    },
    {
      "cell_type": "code",
      "metadata": {
        "id": "zDKam4WgihAf",
        "outputId": "e26fb086-dd64-4d00-d650-bf0696edd243",
        "colab": {
          "base_uri": "https://localhost:8080/",
          "height": 224
        }
      },
      "source": [
        "sales <- read.csv('https://github.com/WSU-DataScience/DSCI_210_R_notebooks/raw/main/data/auto_sales.csv')\n",
        "head(sales)"
      ],
      "execution_count": 43,
      "outputs": [
        {
          "output_type": "display_data",
          "data": {
            "text/html": [
              "<table class=\"dataframe\">\n",
              "<caption>A data.frame: 4 × 5</caption>\n",
              "<thead>\n",
              "\t<tr><th></th><th scope=col>Salesperson</th><th scope=col>Compact</th><th scope=col>Sedan</th><th scope=col>SUV</th><th scope=col>Truck</th></tr>\n",
              "\t<tr><th></th><th scope=col>&lt;chr&gt;</th><th scope=col>&lt;int&gt;</th><th scope=col>&lt;int&gt;</th><th scope=col>&lt;int&gt;</th><th scope=col>&lt;int&gt;</th></tr>\n",
              "</thead>\n",
              "<tbody>\n",
              "\t<tr><th scope=row>1</th><td>Ann    </td><td>22</td><td>18</td><td>15</td><td>12</td></tr>\n",
              "\t<tr><th scope=row>2</th><td>Bob    </td><td>19</td><td>12</td><td>17</td><td>20</td></tr>\n",
              "\t<tr><th scope=row>3</th><td>Yolanda</td><td>19</td><td> 8</td><td>32</td><td>15</td></tr>\n",
              "\t<tr><th scope=row>4</th><td>Xerxes </td><td>12</td><td>23</td><td>18</td><td> 9</td></tr>\n",
              "</tbody>\n",
              "</table>\n"
            ],
            "text/markdown": "\nA data.frame: 4 × 5\n\n| <!--/--> | Salesperson &lt;chr&gt; | Compact &lt;int&gt; | Sedan &lt;int&gt; | SUV &lt;int&gt; | Truck &lt;int&gt; |\n|---|---|---|---|---|---|\n| 1 | Ann     | 22 | 18 | 15 | 12 |\n| 2 | Bob     | 19 | 12 | 17 | 20 |\n| 3 | Yolanda | 19 |  8 | 32 | 15 |\n| 4 | Xerxes  | 12 | 23 | 18 |  9 |\n\n",
            "text/latex": "A data.frame: 4 × 5\n\\begin{tabular}{r|lllll}\n  & Salesperson & Compact & Sedan & SUV & Truck\\\\\n  & <chr> & <int> & <int> & <int> & <int>\\\\\n\\hline\n\t1 & Ann     & 22 & 18 & 15 & 12\\\\\n\t2 & Bob     & 19 & 12 & 17 & 20\\\\\n\t3 & Yolanda & 19 &  8 & 32 & 15\\\\\n\t4 & Xerxes  & 12 & 23 & 18 &  9\\\\\n\\end{tabular}\n",
            "text/plain": [
              "  Salesperson Compact Sedan SUV Truck\n",
              "1 Ann         22      18    15  12   \n",
              "2 Bob         19      12    17  20   \n",
              "3 Yolanda     19       8    32  15   \n",
              "4 Xerxes      12      23    18   9   "
            ]
          },
          "metadata": {}
        }
      ]
    },
    {
      "cell_type": "code",
      "metadata": {
        "scrolled": true,
        "id": "A9NCyTe6ihAf",
        "outputId": "57a1c05c-3d09-4dcd-def2-2cdef68552c5",
        "colab": {
          "base_uri": "https://localhost:8080/",
          "height": 1000
        }
      },
      "source": [
        "# Find the name errors\n",
        "sales %>%\n",
        "  select(Salesperson, sedan) #sedan should be Sedan"
      ],
      "execution_count": 44,
      "outputs": [
        {
          "output_type": "error",
          "ename": "ERROR",
          "evalue": "ignored",
          "traceback": [
            "\u001b[1m\u001b[33mError\u001b[39m in `select()`:\u001b[22m\n\u001b[33m!\u001b[39m Can't subset columns that don't exist.\n\u001b[31m✖\u001b[39m Column `sedan` doesn't exist.\nTraceback:\n",
            "1. sales %>% select(Salesperson, sedan)",
            "2. select(., Salesperson, sedan)",
            "3. select.data.frame(., Salesperson, sedan)",
            "4. tidyselect_fix_call(tidyselect::eval_select(expr(c(...)), .data), \n .     call = error_call)",
            "5. withCallingHandlers(expr, error = function(cnd) {\n .     cnd$call <- call\n .     cnd$parent <- NULL\n .     cnd_signal(cnd)\n . })",
            "6. tidyselect::eval_select(expr(c(...)), .data)",
            "7. eval_select_impl(data, names(data), as_quosure(expr, env), include = include, \n .     exclude = exclude, strict = strict, name_spec = name_spec, \n .     allow_rename = allow_rename, error_call = error_call, )",
            "8. with_subscript_errors(vars_select_eval(vars, expr, strict = strict, \n .     data = x, name_spec = name_spec, uniquely_named = uniquely_named, \n .     allow_rename = allow_rename, type = type, error_call = error_call), \n .     type = type)",
            "9. tryCatch(with_entraced_errors(expr), vctrs_error_subscript = function(cnd) {\n .     cnd$subscript_action <- subscript_action(type)\n .     cnd$subscript_elt <- \"column\"\n .     cnd_signal(cnd)\n . })",
            "10. tryCatchList(expr, classes, parentenv, handlers)",
            "11. tryCatchOne(expr, names, parentenv, handlers[[1L]])",
            "12. value[[3L]](cond)",
            "13. cnd_signal(cnd)",
            "14. signal_abort(cnd)",
            "15. signalCondition(cnd)",
            "16. (function (cnd) \n  . {\n  .     cnd$call <- call\n  .     cnd$parent <- NULL\n  .     cnd_signal(cnd)\n  . })(structure(list(message = \"\", trace = structure(list(call = list(\n  .     IRkernel::main(), kernel$run(), handle_shell(), executor$execute(msg), \n  .     tryCatch(evaluate(request$content$code, envir = .GlobalEnv, \n  .         output_handler = oh, stop_on_error = 1L), interrupt = function(cond) {\n  .         log_debug(\"Interrupt during execution\")\n  .         interrupted <<- TRUE\n  .     }, error = .self$handle_error), tryCatchList(expr, classes, \n  .         parentenv, handlers), tryCatchOne(tryCatchList(expr, \n  .         names[-nh], parentenv, handlers[-nh]), names[nh], parentenv, \n  .         handlers[[nh]]), doTryCatch(return(expr), name, parentenv, \n  .         handler), tryCatchList(expr, names[-nh], parentenv, handlers[-nh]), \n  .     tryCatchOne(expr, names, parentenv, handlers[[1L]]), doTryCatch(return(expr), \n  .         name, parentenv, handler), evaluate(request$content$code, \n  .         envir = .GlobalEnv, output_handler = oh, stop_on_error = 1L), \n  .     evaluate_call(expr, parsed$src[[i]], envir = envir, enclos = enclos, \n  .         debug = debug, last = i == length(out), use_try = stop_on_error != \n  .             2L, keep_warning = keep_warning, keep_message = keep_message, \n  .         output_handler = output_handler, include_timing = include_timing), \n  .     timing_fn(handle(ev <- withCallingHandlers(withVisible(eval_with_user_handlers(expr, \n  .         envir, enclos, user_handlers)), warning = wHandler, error = eHandler, \n  .         message = mHandler))), handle(ev <- withCallingHandlers(withVisible(eval_with_user_handlers(expr, \n  .         envir, enclos, user_handlers)), warning = wHandler, error = eHandler, \n  .         message = mHandler)), try(f, silent = TRUE), tryCatch(expr, \n  .         error = function(e) {\n  .             call <- conditionCall(e)\n  .             if (!is.null(call)) {\n  .                 if (identical(call[[1L]], quote(doTryCatch))) \n  .                   call <- sys.call(-4L)\n  .                 dcall <- deparse(call, nlines = 1L)\n  .                 prefix <- paste(\"Error in\", dcall, \": \")\n  .                 LONG <- 75L\n  .                 sm <- strsplit(conditionMessage(e), \"\\n\")[[1L]]\n  .                 w <- 14L + nchar(dcall, type = \"w\") + nchar(sm[1L], \n  .                   type = \"w\")\n  .                 if (is.na(w)) \n  .                   w <- 14L + nchar(dcall, type = \"b\") + nchar(sm[1L], \n  .                     type = \"b\")\n  .                 if (w > LONG) \n  .                   prefix <- paste0(prefix, \"\\n  \")\n  .             }\n  .             else prefix <- \"Error : \"\n  .             msg <- paste0(prefix, conditionMessage(e), \"\\n\")\n  .             .Internal(seterrmessage(msg[1L]))\n  .             if (!silent && isTRUE(getOption(\"show.error.messages\"))) {\n  .                 cat(msg, file = outFile)\n  .                 .Internal(printDeferredWarnings())\n  .             }\n  .             invisible(structure(msg, class = \"try-error\", condition = e))\n  .         }), tryCatchList(expr, classes, parentenv, handlers), \n  .     tryCatchOne(expr, names, parentenv, handlers[[1L]]), doTryCatch(return(expr), \n  .         name, parentenv, handler), withCallingHandlers(withVisible(eval_with_user_handlers(expr, \n  .         envir, enclos, user_handlers)), warning = wHandler, error = eHandler, \n  .         message = mHandler), withVisible(eval_with_user_handlers(expr, \n  .         envir, enclos, user_handlers)), eval_with_user_handlers(expr, \n  .         envir, enclos, user_handlers), eval(expr, envir, enclos), \n  .     eval(expr, envir, enclos), sales %>% select(Salesperson, \n  .         sedan), select(., Salesperson, sedan), select.data.frame(., \n  .         Salesperson, sedan), tidyselect_fix_call(tidyselect::eval_select(expr(c(...)), \n  .         .data), call = error_call), withCallingHandlers(expr, \n  .         error = function(cnd) {\n  .             cnd$call <- call\n  .             cnd$parent <- NULL\n  .             cnd_signal(cnd)\n  .         }), tidyselect::eval_select(expr(c(...)), .data), eval_select_impl(data, \n  .         names(data), as_quosure(expr, env), include = include, \n  .         exclude = exclude, strict = strict, name_spec = name_spec, \n  .         allow_rename = allow_rename, error_call = error_call, \n  .         ), with_subscript_errors(vars_select_eval(vars, expr, \n  .         strict = strict, data = x, name_spec = name_spec, uniquely_named = uniquely_named, \n  .         allow_rename = allow_rename, type = type, error_call = error_call), \n  .         type = type), tryCatch(with_entraced_errors(expr), vctrs_error_subscript = function(cnd) {\n  .         cnd$subscript_action <- subscript_action(type)\n  .         cnd$subscript_elt <- \"column\"\n  .         cnd_signal(cnd)\n  .     }), tryCatchList(expr, classes, parentenv, handlers), tryCatchOne(expr, \n  .         names, parentenv, handlers[[1L]]), doTryCatch(return(expr), \n  .         name, parentenv, handler), with_entraced_errors(expr), \n  .     try_fetch(expr, simpleError = function(cnd) {\n  .         abort(conditionMessage(cnd), call = conditionCall(cnd))\n  .     }), withCallingHandlers(expr, simpleError = function(cnd) {\n  .         {\n  .             .__handler_frame__. <- TRUE\n  .             .__setup_frame__. <- frame\n  .         }\n  .         out <- handlers[[1L]](cnd)\n  .         if (!inherits(out, \"rlang_zap\")) \n  .             throw(out)\n  .     }), vars_select_eval(vars, expr, strict = strict, data = x, \n  .         name_spec = name_spec, uniquely_named = uniquely_named, \n  .         allow_rename = allow_rename, type = type, error_call = error_call), \n  .     walk_data_tree(expr, data_mask, context_mask, error_call), \n  .     eval_c(expr, data_mask, context_mask), reduce_sels(node, \n  .         data_mask, context_mask, init = init), walk_data_tree(new, \n  .         data_mask, context_mask), as_indices_sel_impl(out, vars = vars, \n  .         strict = strict, data = data, call = error_call), as_indices_impl(x, \n  .         vars, call = call, strict = strict), chr_as_locations(x, \n  .         vars, call = call), vctrs::vec_as_location(x, n = length(vars), \n  .         names = vars), `<fn>`(), stop_subscript_oob(i = i, subscript_type = subscript_type, \n  .         names = names, subscript_action = subscript_action, subscript_arg = subscript_arg, \n  .         call = call), stop_subscript(class = \"vctrs_error_subscript_oob\", \n  .         i = i, subscript_type = subscript_type, ..., call = call), \n  .     abort(class = c(class, \"vctrs_error_subscript\"), i = i, ..., \n  .         call = vctrs_error_call(call))), parent = c(0L, 1L, 2L, \n  . 3L, 4L, 5L, 6L, 7L, 6L, 9L, 10L, 4L, 12L, 13L, 13L, 15L, 16L, \n  . 17L, 18L, 19L, 13L, 13L, 13L, 23L, 24L, 0L, 0L, 0L, 28L, 29L, \n  . 28L, 31L, 32L, 33L, 34L, 35L, 36L, 33L, 38L, 39L, 32L, 41L, 42L, \n  . 43L, 44L, 45L, 46L, 47L, 48L, 49L, 50L, 51L, 52L), visible = c(TRUE, \n  . TRUE, TRUE, TRUE, TRUE, TRUE, TRUE, TRUE, TRUE, TRUE, TRUE, TRUE, \n  . TRUE, TRUE, TRUE, TRUE, TRUE, TRUE, TRUE, TRUE, TRUE, TRUE, TRUE, \n  . TRUE, TRUE, TRUE, TRUE, TRUE, TRUE, TRUE, TRUE, TRUE, TRUE, TRUE, \n  . TRUE, TRUE, TRUE, TRUE, TRUE, TRUE, TRUE, TRUE, TRUE, TRUE, TRUE, \n  . TRUE, TRUE, TRUE, FALSE, FALSE, FALSE, FALSE, FALSE), namespace = c(\"IRkernel\", \n  . NA, \"IRkernel\", NA, \"base\", \"base\", \"base\", \"base\", \"base\", \"base\", \n  . \"base\", \"evaluate\", \"evaluate\", \"evaluate\", \"evaluate\", \"base\", \n  . \"base\", \"base\", \"base\", \"base\", \"base\", \"base\", \"evaluate\", \"base\", \n  . \"base\", NA, \"dplyr\", \"dplyr\", \"dplyr\", \"base\", \"tidyselect\", \n  . \"tidyselect\", \"tidyselect\", \"base\", \"base\", \"base\", \"base\", \"tidyselect\", \n  . \"rlang\", \"base\", \"tidyselect\", \"tidyselect\", \"tidyselect\", \"tidyselect\", \n  . \"tidyselect\", \"tidyselect\", \"tidyselect\", \"tidyselect\", \"vctrs\", \n  . \"vctrs\", \"vctrs\", \"vctrs\", \"rlang\"), scope = c(\"::\", NA, \"local\", \n  . NA, \"::\", \"local\", \"local\", \"local\", \"local\", \"local\", \"local\", \n  . \"::\", \":::\", \"local\", \"local\", \"::\", \"::\", \"local\", \"local\", \n  . \"local\", \"::\", \"::\", \":::\", \"::\", \"::\", NA, \"::\", \":::\", \":::\", \n  . \"::\", \"::\", \":::\", \":::\", \"::\", \"local\", \"local\", \"local\", \":::\", \n  . \"::\", \"::\", \":::\", \":::\", \":::\", \":::\", \":::\", \":::\", \":::\", \n  . \":::\", \"::\", \"local\", \":::\", \":::\", \"::\"), error_frame = c(FALSE, \n  . FALSE, FALSE, FALSE, FALSE, FALSE, FALSE, FALSE, FALSE, FALSE, \n  . FALSE, FALSE, FALSE, FALSE, FALSE, FALSE, FALSE, FALSE, FALSE, \n  . FALSE, FALSE, FALSE, FALSE, FALSE, FALSE, FALSE, FALSE, FALSE, \n  . FALSE, FALSE, FALSE, FALSE, FALSE, FALSE, FALSE, FALSE, FALSE, \n  . FALSE, FALSE, FALSE, FALSE, FALSE, FALSE, FALSE, FALSE, FALSE, \n  . FALSE, TRUE, FALSE, FALSE, FALSE, FALSE, FALSE)), row.names = c(NA, \n  . -53L), version = 2L, class = c(\"rlang_trace\", \"rlib_trace\", \"tbl\", \n  . \"data.frame\")), parent = NULL, i = \"sedan\", subscript_type = \"character\", \n  .     names = c(\"Salesperson\", \"Compact\", \"Sedan\", \"SUV\", \"Truck\"\n  .     ), subscript_action = \"subset\", subscript_arg = \"x\", call = chr_as_locations(x, \n  .         vars, call = call), subscript_elt = \"column\"), class = c(\"vctrs_error_subscript_oob\", \n  . \"vctrs_error_subscript\", \"rlang_error\", \"error\", \"condition\")))",
            "17. cnd_signal(cnd)",
            "18. signal_abort(cnd)"
          ]
        }
      ]
    },
    {
      "cell_type": "markdown",
      "metadata": {
        "id": "XpUWZTfuihAf"
      },
      "source": [
        "### Syntax errors - Incorrect syntax"
      ]
    },
    {
      "cell_type": "code",
      "metadata": {
        "id": "tVE82GRdihAf",
        "outputId": "9fd69f9f-f170-4744-a63b-144545a32ec5",
        "colab": {
          "base_uri": "https://localhost:8080/",
          "height": 224
        }
      },
      "source": [
        "head(sales)"
      ],
      "execution_count": 45,
      "outputs": [
        {
          "output_type": "display_data",
          "data": {
            "text/html": [
              "<table class=\"dataframe\">\n",
              "<caption>A data.frame: 4 × 5</caption>\n",
              "<thead>\n",
              "\t<tr><th></th><th scope=col>Salesperson</th><th scope=col>Compact</th><th scope=col>Sedan</th><th scope=col>SUV</th><th scope=col>Truck</th></tr>\n",
              "\t<tr><th></th><th scope=col>&lt;chr&gt;</th><th scope=col>&lt;int&gt;</th><th scope=col>&lt;int&gt;</th><th scope=col>&lt;int&gt;</th><th scope=col>&lt;int&gt;</th></tr>\n",
              "</thead>\n",
              "<tbody>\n",
              "\t<tr><th scope=row>1</th><td>Ann    </td><td>22</td><td>18</td><td>15</td><td>12</td></tr>\n",
              "\t<tr><th scope=row>2</th><td>Bob    </td><td>19</td><td>12</td><td>17</td><td>20</td></tr>\n",
              "\t<tr><th scope=row>3</th><td>Yolanda</td><td>19</td><td> 8</td><td>32</td><td>15</td></tr>\n",
              "\t<tr><th scope=row>4</th><td>Xerxes </td><td>12</td><td>23</td><td>18</td><td> 9</td></tr>\n",
              "</tbody>\n",
              "</table>\n"
            ],
            "text/markdown": "\nA data.frame: 4 × 5\n\n| <!--/--> | Salesperson &lt;chr&gt; | Compact &lt;int&gt; | Sedan &lt;int&gt; | SUV &lt;int&gt; | Truck &lt;int&gt; |\n|---|---|---|---|---|---|\n| 1 | Ann     | 22 | 18 | 15 | 12 |\n| 2 | Bob     | 19 | 12 | 17 | 20 |\n| 3 | Yolanda | 19 |  8 | 32 | 15 |\n| 4 | Xerxes  | 12 | 23 | 18 |  9 |\n\n",
            "text/latex": "A data.frame: 4 × 5\n\\begin{tabular}{r|lllll}\n  & Salesperson & Compact & Sedan & SUV & Truck\\\\\n  & <chr> & <int> & <int> & <int> & <int>\\\\\n\\hline\n\t1 & Ann     & 22 & 18 & 15 & 12\\\\\n\t2 & Bob     & 19 & 12 & 17 & 20\\\\\n\t3 & Yolanda & 19 &  8 & 32 & 15\\\\\n\t4 & Xerxes  & 12 & 23 & 18 &  9\\\\\n\\end{tabular}\n",
            "text/plain": [
              "  Salesperson Compact Sedan SUV Truck\n",
              "1 Ann         22      18    15  12   \n",
              "2 Bob         19      12    17  20   \n",
              "3 Yolanda     19       8    32  15   \n",
              "4 Xerxes      12      23    18   9   "
            ]
          },
          "metadata": {}
        }
      ]
    },
    {
      "cell_type": "code",
      "metadata": {
        "id": "2eA_sSdOihAg",
        "outputId": "365fe8e8-6d3b-4ff7-db6f-8088a7d99362",
        "colab": {
          "base_uri": "https://localhost:8080/",
          "height": 148
        }
      },
      "source": [
        "# Find the syntax errors\n",
        "sales %>%\n",
        "  mutate(monthly_sedan = Sedan/3 #there should be a comma in this line\n",
        "         monthly_suv = SUV/3,\n",
        "         monthly_truck = Truck/3)"
      ],
      "execution_count": 47,
      "outputs": [
        {
          "output_type": "error",
          "ename": "ERROR",
          "evalue": "ignored",
          "traceback": [
            "Error in parse(text = x, srcfile = src): <text>:4:10: unexpected symbol\n3:   mutate(monthly_sedan = Sedan/3\n4:          monthly_suv\n            ^\nTraceback:\n"
          ]
        }
      ]
    },
    {
      "cell_type": "markdown",
      "metadata": {
        "id": "o9xtnhjiihAg"
      },
      "source": [
        "### Semantic Errors - Correct code, wrong meaning"
      ]
    },
    {
      "cell_type": "code",
      "metadata": {
        "id": "EFbYXnbmihAg"
      },
      "source": [
        "# Find the semantic errors\n",
        "sales %>%\n",
        "  group_by(Salesperson) %>%\n",
        "  mutate(avg_sedan = median(Truck))"
      ],
      "execution_count": null,
      "outputs": []
    },
    {
      "cell_type": "markdown",
      "metadata": {
        "id": "0WD7nCLEihAg"
      },
      "source": [
        "## <font color=\"red\"> Exercise 3 </font>\n",
        "\n",
        "Identify all of the errors in the following code and classify each as either a name, syntax, or semantic error."
      ]
    },
    {
      "cell_type": "code",
      "metadata": {
        "id": "M_Nz8AxKihAh",
        "outputId": "89aa44c0-aab6-493e-d33e-8d7b4d0ecab1",
        "colab": {
          "base_uri": "https://localhost:8080/",
          "height": 1000
        }
      },
      "source": [
        "sales %>%\n",
        "    mutate(Car = compact + sedan) %>%\n",
        "    mutate(Utility = SUV * Truck)\n",
        "    "
      ],
      "execution_count": 49,
      "outputs": [
        {
          "output_type": "error",
          "ename": "ERROR",
          "evalue": "ignored",
          "traceback": [
            "\u001b[1m\u001b[33mError\u001b[39m in `mutate()`:\u001b[22m\n\u001b[1m\u001b[22m\u001b[33m!\u001b[39m Problem while computing `Car = compact + sedan`.\n\u001b[1mCaused by error in `mask$eval_all_mutate()`:\u001b[22m\n\u001b[33m!\u001b[39m object 'compact' not found\nTraceback:\n",
            "1. sales %>% mutate(Car = compact + sedan) %>% mutate(Utility = SUV * \n .     Truck)",
            "2. mutate(., Utility = SUV * Truck)",
            "3. mutate(., Car = compact + sedan)",
            "4. mutate.data.frame(., Car = compact + sedan)",
            "5. mutate_cols(.data, dplyr_quosures(...), caller_env = caller_env())",
            "6. withCallingHandlers({\n .     for (i in seq_along(dots)) {\n .         context_poke(\"column\", old_current_column)\n .         quosures <- expand_across(dots[[i]])\n .         quosures_results <- vector(mode = \"list\", length = length(quosures))\n .         for (k in seq_along(quosures)) {\n .             quo <- quosures[[k]]\n .             quo_data <- attr(quo, \"dplyr:::data\")\n .             if (!is.null(quo_data$column)) {\n .                 context_poke(\"column\", quo_data$column)\n .             }\n .             chunks <- NULL\n .             result <- NULL\n .             if (quo_is_symbol(quo)) {\n .                 name <- as_string(quo_get_expr(quo))\n .                 if (name %in% names(new_columns)) {\n .                   result <- new_columns[[name]]\n .                   chunks <- mask$resolve(name)\n .                 }\n .                 else if (name %in% names(.data)) {\n .                   result <- .data[[name]]\n .                   chunks <- mask$resolve(name)\n .                 }\n .                 if (inherits(.data, \"rowwise_df\") && vec_is_list(result)) {\n .                   sizes <- list_sizes(result)\n .                   wrong <- which(sizes != 1)\n .                   if (length(wrong)) {\n .                     group <- wrong[1L]\n .                     mask$set_current_group(group)\n .                     abort(class = c(\"dplyr:::mutate_incompatible_size\", \n .                       \"dplyr:::internal_error\"), dplyr_error_data = list(result_size = sizes[group], \n .                       expected_size = 1))\n .                   }\n .                 }\n .             }\n .             else if (!quo_is_symbolic(quo) && !is.null(quo_get_expr(quo))) {\n .                 result <- quo_get_expr(quo)\n .                 result <- withCallingHandlers(vec_recycle(result, \n .                   vec_size(.data)), error = function(cnd) {\n .                   abort(class = c(\"dplyr:::mutate_constant_recycle_error\", \n .                     \"dplyr:::internal_error\"), constant_size = vec_size(result), \n .                     data_size = vec_size(.data))\n .                 })\n .                 chunks <- vec_chop(result, rows)\n .             }\n .             if (is.null(chunks)) {\n .                 if (is.null(quo_data$column)) {\n .                   chunks <- mask$eval_all_mutate(quo)\n .                 }\n .                 else {\n .                   chunks <- withCallingHandlers(mask$eval_all_mutate(quo), \n .                     error = function(cnd) {\n .                       msg <- glue(\"Problem while computing column `{quo_data$name_auto}`.\")\n .                       abort(msg, call = call(\"across\"), parent = cnd)\n .                     })\n .                 }\n .             }\n .             if (is.null(chunks)) {\n .                 next\n .             }\n .             if (is.null(result)) {\n .                 if (length(rows) == 1) {\n .                   result <- chunks[[1]]\n .                 }\n .                 else {\n .                   chunks <- dplyr_vec_cast_common(chunks, quo_data$name_auto)\n .                   result <- vec_unchop(chunks, rows)\n .                 }\n .             }\n .             quosures_results[[k]] <- list(result = result, chunks = chunks)\n .         }\n .         for (k in seq_along(quosures)) {\n .             quo <- quosures[[k]]\n .             quo_data <- attr(quo, \"dplyr:::data\")\n .             quo_result <- quosures_results[[k]]\n .             if (is.null(quo_result)) {\n .                 if (quo_data$is_named) {\n .                   name <- quo_data$name_given\n .                   new_columns[[name]] <- zap()\n .                   mask$remove(name)\n .                 }\n .                 next\n .             }\n .             result <- quo_result$result\n .             chunks <- quo_result$chunks\n .             if (!quo_data$is_named && is.data.frame(result)) {\n .                 types <- vec_ptype(result)\n .                 types_names <- names(types)\n .                 chunks_extracted <- .Call(dplyr_extract_chunks, \n .                   chunks, types)\n .                 for (j in seq_along(types)) {\n .                   mask$add_one(types_names[j], chunks_extracted[[j]], \n .                     result = result[[j]])\n .                 }\n .                 new_columns[types_names] <- result\n .             }\n .             else {\n .                 name <- quo_data$name_auto\n .                 mask$add_one(name = name, chunks = chunks, result = result)\n .                 new_columns[[name]] <- result\n .             }\n .         }\n .     }\n . }, error = function(e) {\n .     local_error_context(dots = dots, .index = i, mask = mask)\n .     bullets <- c(cnd_bullet_header(\"computing\"), mutate_bullets(e))\n .     abort(bullets, class = \"dplyr:::mutate_error\", parent = skip_internal_condition(e), \n .         bullets = bullets, call = error_call)\n . }, warning = function(w) {\n .     if (check_muffled_warning(w)) {\n .         maybe_restart(\"muffleWarning\")\n .     }\n .     local_error_context(dots = dots, .index = i, mask = mask)\n .     warn(c(cnd_bullet_header(\"computing\"), i = cnd_header(w), \n .         i = cnd_bullet_cur_group_label(what = \"warning\")))\n .     maybe_restart(\"muffleWarning\")\n . })",
            "7. mask$eval_all_mutate(quo)",
            "8. .handleSimpleError(function (e) \n . {\n .     local_error_context(dots = dots, .index = i, mask = mask)\n .     bullets <- c(cnd_bullet_header(\"computing\"), mutate_bullets(e))\n .     abort(bullets, class = \"dplyr:::mutate_error\", parent = skip_internal_condition(e), \n .         bullets = bullets, call = error_call)\n . }, \"object 'compact' not found\", base::quote(mask$eval_all_mutate(quo)))",
            "9. h(simpleError(msg, call))",
            "10. abort(bullets, class = \"dplyr:::mutate_error\", parent = skip_internal_condition(e), \n  .     bullets = bullets, call = error_call)",
            "11. signal_abort(cnd, .file)"
          ]
        }
      ]
    },
    {
      "cell_type": "code",
      "source": [
        "#Last line is missing a ')' and has extra '%>%' at the end"
      ],
      "metadata": {
        "id": "Pkd_40Il6M4N"
      },
      "execution_count": null,
      "outputs": []
    }
  ]
}