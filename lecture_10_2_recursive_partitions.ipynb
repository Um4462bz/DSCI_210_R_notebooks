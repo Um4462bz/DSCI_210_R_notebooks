{
 "cells": [
  {
   "cell_type": "markdown",
   "metadata": {},
   "source": [
    "## Quickly computing $G^2$\n",
    "\n",
    "The $G^2$ statistic is used to measure the entropy of a tree, with a smaller number corresponding to a better tree.  As the formula for $G^2$ is cumbersome, We will make a function in `R` to speed up the computations. "
   ]
  },
  {
   "cell_type": "code",
   "execution_count": 34,
   "metadata": {},
   "outputs": [],
   "source": [
    "g2 <- function(pos, total) {\n",
    "    neg <- total - pos\n",
    "    ifelse( pos == 0 | neg == 0,\n",
    "           0,\n",
    "           -2*(pos*log(pos/total) + neg*log(neg/total)))\n",
    "}"
   ]
  },
  {
   "cell_type": "code",
   "execution_count": 42,
   "metadata": {},
   "outputs": [
    {
     "data": {
      "text/html": [
       "13.4602333401851"
      ],
      "text/latex": [
       "13.4602333401851"
      ],
      "text/markdown": [
       "13.4602333401851"
      ],
      "text/plain": [
       "[1] 13.46023"
      ]
     },
     "metadata": {},
     "output_type": "display_data"
    }
   ],
   "source": [
    "g2(4, 10)"
   ]
  },
  {
   "cell_type": "code",
   "execution_count": 37,
   "metadata": {},
   "outputs": [
    {
     "data": {
      "text/html": [
       "873.056084542667"
      ],
      "text/latex": [
       "873.056084542667"
      ],
      "text/markdown": [
       "873.056084542667"
      ],
      "text/plain": [
       "[1] 873.0561"
      ]
     },
     "metadata": {},
     "output_type": "display_data"
    }
   ],
   "source": [
    "g2(981, 1128)"
   ]
  },
  {
   "cell_type": "code",
   "execution_count": 10,
   "metadata": {},
   "outputs": [
    {
     "data": {
      "text/html": [
       "147"
      ],
      "text/latex": [
       "147"
      ],
      "text/markdown": [
       "147"
      ],
      "text/plain": [
       "[1] 147"
      ]
     },
     "metadata": {},
     "output_type": "display_data"
    }
   ],
   "source": [
    "1128 - 981"
   ]
  },
  {
   "cell_type": "code",
   "execution_count": 24,
   "metadata": {},
   "outputs": [
    {
     "data": {
      "text/html": [
       "873.056084542667"
      ],
      "text/latex": [
       "873.056084542667"
      ],
      "text/markdown": [
       "873.056084542667"
      ],
      "text/plain": [
       "[1] 873.0561"
      ]
     },
     "metadata": {},
     "output_type": "display_data"
    }
   ],
   "source": [
    "-2*(981*log(981/1128) + 147*log(147/1128))"
   ]
  },
  {
   "cell_type": "code",
   "execution_count": 17,
   "metadata": {},
   "outputs": [
    {
     "data": {
      "text/html": [
       "2.77160634920635"
      ],
      "text/latex": [
       "2.77160634920635"
      ],
      "text/markdown": [
       "2.77160634920635"
      ],
      "text/plain": [
       "[1] 2.771606"
      ]
     },
     "metadata": {},
     "output_type": "display_data"
    }
   ],
   "source": [
    "873.056/315"
   ]
  },
  {
   "cell_type": "code",
   "execution_count": 38,
   "metadata": {},
   "outputs": [
    {
     "data": {
      "text/html": [
       "847.068878073566"
      ],
      "text/latex": [
       "847.068878073566"
      ],
      "text/markdown": [
       "847.068878073566"
      ],
      "text/plain": [
       "[1] 847.0689"
      ]
     },
     "metadata": {},
     "output_type": "display_data"
    }
   ],
   "source": [
    "g2(961, 1103)"
   ]
  },
  {
   "cell_type": "code",
   "execution_count": 39,
   "metadata": {},
   "outputs": [
    {
     "data": {
      "text/html": [
       "25.0201211769094"
      ],
      "text/latex": [
       "25.0201211769094"
      ],
      "text/markdown": [
       "25.0201211769094"
      ],
      "text/plain": [
       "[1] 25.02012"
      ]
     },
     "metadata": {},
     "output_type": "display_data"
    }
   ],
   "source": [
    "g2(20,25)"
   ]
  },
  {
   "cell_type": "code",
   "execution_count": 40,
   "metadata": {},
   "outputs": [
    {
     "data": {
      "text/html": [
       "872.088999250475"
      ],
      "text/latex": [
       "872.088999250475"
      ],
      "text/markdown": [
       "872.088999250475"
      ],
      "text/plain": [
       "[1] 872.089"
      ]
     },
     "metadata": {},
     "output_type": "display_data"
    }
   ],
   "source": [
    "847.068878073566 + 25.0201211769094"
   ]
  },
  {
   "cell_type": "code",
   "execution_count": 41,
   "metadata": {},
   "outputs": [
    {
     "data": {
      "text/html": [
       "0.967085292191996"
      ],
      "text/latex": [
       "0.967085292191996"
      ],
      "text/markdown": [
       "0.967085292191996"
      ],
      "text/plain": [
       "[1] 0.9670853"
      ]
     },
     "metadata": {},
     "output_type": "display_data"
    }
   ],
   "source": [
    "873.056084542667 - 872.088999250475"
   ]
  },
  {
   "cell_type": "code",
   "execution_count": null,
   "metadata": {},
   "outputs": [],
   "source": []
  }
 ],
 "metadata": {
  "kernelspec": {
   "display_name": "R",
   "language": "R",
   "name": "ir"
  },
  "language_info": {
   "codemirror_mode": "r",
   "file_extension": ".r",
   "mimetype": "text/x-r-source",
   "name": "R",
   "pygments_lexer": "r",
   "version": "3.6.0"
  }
 },
 "nbformat": 4,
 "nbformat_minor": 2
}
