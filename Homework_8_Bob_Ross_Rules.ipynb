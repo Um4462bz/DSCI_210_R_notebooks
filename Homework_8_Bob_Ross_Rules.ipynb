{
  "nbformat": 4,
  "nbformat_minor": 0,
  "metadata": {
    "kernelspec": {
      "display_name": "R",
      "language": "R",
      "name": "ir"
    },
    "language_info": {
      "codemirror_mode": "r",
      "file_extension": ".r",
      "mimetype": "text/x-r-source",
      "name": "R",
      "pygments_lexer": "r",
      "version": "3.5.1"
    },
    "colab": {
      "name": "activity_8_4_Bob_Ross_Rules.ipynb",
      "provenance": [],
      "include_colab_link": true
    }
  },
  "cells": [
    {
      "cell_type": "markdown",
      "metadata": {
        "id": "view-in-github",
        "colab_type": "text"
      },
      "source": [
        "<a href=\"https://colab.research.google.com/github/thooks630/DSCI_210_R_notebooks/blob/main/Homework_8_Bob_Ross_Rules.ipynb\" target=\"_parent\"><img src=\"https://colab.research.google.com/assets/colab-badge.svg\" alt=\"Open In Colab\"/></a>"
      ]
    },
    {
      "cell_type": "markdown",
      "metadata": {
        "id": "RCDLPP-JNZ5C"
      },
      "source": [
        "For this assignment, we will consider the BobRoss dataset. Bob Ross was a painter that was often on public television. The purpose of this analysis is to determine which features were commonly used in conjunction with each other in his paintings.\n",
        "\n",
        "\n",
        "![](https://github.com/WSU-DataScience/DSCI_210_R_notebooks/raw/main/img/Bob.png)\n",
        "\n",
        "**Deliverables**: upload all screen shots of all code as well as a link to your notebook (save with Google Drive or GitHub)."
      ]
    },
    {
      "cell_type": "code",
      "metadata": {
        "id": "ebj-7TPBNZ5F"
      },
      "source": [
        "install.packages(\"arules\") # Must run everytime in Colab"
      ],
      "execution_count": null,
      "outputs": []
    },
    {
      "cell_type": "code",
      "metadata": {
        "id": "ruNswXmENZ5G"
      },
      "source": [
        "library(arules)"
      ],
      "execution_count": null,
      "outputs": []
    },
    {
      "cell_type": "code",
      "metadata": {
        "id": "jAo3WU9sNZ5H"
      },
      "source": [
        "library(tidyr)\n",
        "library(dplyr)"
      ],
      "execution_count": null,
      "outputs": []
    },
    {
      "cell_type": "code",
      "metadata": {
        "id": "nW7YPqqsNZ5H"
      },
      "source": [
        "bobross <- read.csv(\"https://github.com/WSU-DataScience/DSCI_210_R_notebooks/raw/main/data/BobRossPaintings.csv\")\n",
        "head(bobross)"
      ],
      "execution_count": null,
      "outputs": []
    },
    {
      "cell_type": "code",
      "metadata": {
        "id": "v4X90L11NZ5I"
      },
      "source": [
        "# Preprocess the dataframe - you'll complete this in Task 0 below.\n",
        "bobrossDB <- (bobross\n",
        "              %>% TODO # Create the new column called ANY_MOUNTAIN (and make sure the values are saved as integers)\n",
        "              %>% TODO # Drop the first three columns\n",
        "              %>% TODO # Switch all remaining columns to type = factor\n",
        "              )\n",
        "bobrossDB %>% head"
      ],
      "execution_count": null,
      "outputs": []
    },
    {
      "cell_type": "markdown",
      "metadata": {
        "id": "DI6SLy0nNZ5J"
      },
      "source": [
        "***Task 0***\n",
        "\n",
        "There are three columns that are very similar: `SNOWY_MOUNTAIN`, `MOUNTAIN`, and `MOUNTAINS`.  Make a new column called `ANY_MOUNTAIN` that equals 1 if any of the three appear in a painting, and 0 if none of the three appear.  Also ensure that `ANY_MOUNTAIN` is an integer.  Then remove `SNOWY_MOUNTAIN`, `MOUNTAIN`, and `MOUNTAINS` from the data set. Finally, make sure that you save all columns as factors."
      ]
    },
    {
      "cell_type": "code",
      "metadata": {
        "id": "NpyqbxR-NZ5K"
      },
      "source": [
        "# Your code here"
      ],
      "execution_count": null,
      "outputs": []
    },
    {
      "cell_type": "markdown",
      "metadata": {
        "id": "sVw5lmedNZ5K"
      },
      "source": [
        "***Task 1*** \n",
        "\n",
        "Use `dplyr`/`tidyr` computations alone to compute the support of the LHS, the support of the RHS, the joing support, confidence, and lift for all rules of the form `{LHS} => {ANY_MOUNTAIN}` (considering only one item on the LHS).  Filter to include only rules with at least 10% joint support (hint: there are six of them), and print the joint support, confidence, and lift of these rules *sorted by lift from largest to smallest.* "
      ]
    },
    {
      "cell_type": "code",
      "metadata": {
        "id": "kiecHvJWNZ5L"
      },
      "source": [
        "# Your code here"
      ],
      "execution_count": null,
      "outputs": []
    },
    {
      "cell_type": "markdown",
      "metadata": {
        "id": "FZ_y3G09NZ5L"
      },
      "source": [
        "***Task 2*** \n",
        "\n",
        "Now, suppose we want to consider *all* length-two rules (one LHS item, one RHS item). To do this, you may use the `arules` package.\n",
        "\n",
        "a. Print the top-10 *best overall rules of length 2*, restricted to rules with at least 1% support and confidence. \n",
        "\n",
        "b. Note that there are two \"best\" rules with the same lift of 11.85294, but with very different confidences.  Interpret these two confidences; does it make sense that they are so different??\n",
        "\n",
        "c. Both of the \"top two\" rules have very small joint supports. What is the best rule among those with at least 20% joint support?  **Interpret the lift of this rule.**"
      ]
    },
    {
      "cell_type": "code",
      "metadata": {
        "id": "npoXxut6NZ5L"
      },
      "source": [
        "# Your code here"
      ],
      "execution_count": null,
      "outputs": []
    },
    {
      "cell_type": "markdown",
      "metadata": {
        "id": "SKpW-29fPbFr"
      },
      "source": [
        "Your interpretations from Task 2 part b:"
      ]
    },
    {
      "cell_type": "markdown",
      "metadata": {
        "id": "dRmiTKxCPi97"
      },
      "source": [
        "Your answer and interpretation from Task 2 part c:"
      ]
    },
    {
      "cell_type": "markdown",
      "metadata": {
        "id": "gr_v9VFqNZ5M"
      },
      "source": [
        "***Task 3***  \n",
        "\n",
        "Now consider all length-3 rules.  What is the best rule with a support of at least 20%?  Interpret the lift of this rule.  "
      ]
    },
    {
      "cell_type": "code",
      "metadata": {
        "id": "qwJRA2EzNZ5M"
      },
      "source": [
        "# Your code here"
      ],
      "execution_count": null,
      "outputs": []
    },
    {
      "cell_type": "markdown",
      "metadata": {
        "id": "5s4HBkaXPs2h"
      },
      "source": [
        "Your interpretation from Task 3:"
      ]
    },
    {
      "cell_type": "markdown",
      "metadata": {
        "id": "s46Bx0nINZ5M"
      },
      "source": [
        "***Task 4*** \n",
        "\n",
        "Verify the support, confidence, and lift from the Task 3 best rule using `dplyr` computations alone.  "
      ]
    },
    {
      "cell_type": "code",
      "metadata": {
        "id": "L7rDB3VjNZ5N"
      },
      "source": [
        "# Your code here"
      ],
      "execution_count": null,
      "outputs": []
    },
    {
      "cell_type": "markdown",
      "metadata": {
        "id": "5CpENL7FNZ5N"
      },
      "source": [
        "***Task 5*** \n",
        "\n",
        "Construct some visualization of the top 10 rules from Task 3."
      ]
    },
    {
      "cell_type": "code",
      "metadata": {
        "id": "RbVxlC6TNZ5N"
      },
      "source": [
        "install.packages('arulesViz') # Must run everytime in Colab"
      ],
      "execution_count": null,
      "outputs": []
    },
    {
      "cell_type": "code",
      "metadata": {
        "id": "YTq1nVr8NZ5N"
      },
      "source": [
        "library(arulesViz)"
      ],
      "execution_count": null,
      "outputs": []
    },
    {
      "cell_type": "code",
      "metadata": {
        "id": "s_hWVXcBNZ5N"
      },
      "source": [
        "# Your code here"
      ],
      "execution_count": null,
      "outputs": []
    }
  ]
}