{
  "nbformat": 4,
  "nbformat_minor": 0,
  "metadata": {
    "kernelspec": {
      "display_name": "R",
      "language": "R",
      "name": "ir"
    },
    "language_info": {
      "codemirror_mode": "r",
      "file_extension": ".r",
      "mimetype": "text/x-r-source",
      "name": "R",
      "pygments_lexer": "r",
      "version": "3.5.1"
    },
    "colab": {
      "name": "lecture_8_3_computing_arules_the_dplyr_way.ipynb",
      "provenance": [],
      "include_colab_link": true
    }
  },
  "cells": [
    {
      "cell_type": "markdown",
      "metadata": {
        "id": "view-in-github",
        "colab_type": "text"
      },
      "source": [
        "<a href=\"https://colab.research.google.com/github/thooks630/DSCI_210_R_notebooks/blob/main/lecture_8_3_computing_arules_the_dplyr_way.ipynb\" target=\"_parent\"><img src=\"https://colab.research.google.com/assets/colab-badge.svg\" alt=\"Open In Colab\"/></a>"
      ]
    },
    {
      "cell_type": "markdown",
      "metadata": {
        "id": "YiLrjFioVhyJ"
      },
      "source": [
        "# Lecture 8.3 - Computing Association Rules with `dplyr`"
      ]
    },
    {
      "cell_type": "markdown",
      "metadata": {
        "id": "HP0f14gaVhyM"
      },
      "source": [
        "### Review - Association Rules\n",
        "\n",
        "Consider the rule $\\{butter\\} \\rightarrow \\{whole.milk\\}$\n",
        "\n",
        "  * $Support(\\textrm{butter and milk}) = \\frac{\\textrm{# butter and milk transactions}}{\\textrm{# total transactions}}$ \n",
        "  * $Support(\\textrm{butter}) = \\frac{\\textrm{# butter transactions}}{\\textrm{#\n",
        "  total transactions}}$ \n",
        "  * $Confidence= \\frac{Support(\\textrm{butter and milk})}{Support(\\textrm{butter})}$ \n",
        "  * $Lift= \\frac{Confidence}{Support(\\textrm{milk})}$ \n",
        "  "
      ]
    },
    {
      "cell_type": "markdown",
      "metadata": {
        "id": "-IFkCM1SVhyN"
      },
      "source": [
        "### Example: investigate rule $\\{butter\\} \\longrightarrow \\{milk\\}$ with `dplyr`\n",
        "  "
      ]
    },
    {
      "cell_type": "code",
      "metadata": {
        "id": "XPE-FhAuVhyN",
        "outputId": "64d896b4-f972-4ee5-bdc1-00091f5fb888",
        "colab": {
          "base_uri": "https://localhost:8080/",
          "height": 303
        }
      },
      "source": [
        "groceries <- read.csv('https://github.com/WSU-DataScience/DSCI_210_R_notebooks/raw/main/data/Groceries.csv')\n",
        "head(groceries)"
      ],
      "execution_count": 1,
      "outputs": [
        {
          "output_type": "display_data",
          "data": {
            "text/plain": [
              "  frankfurter sausage liver.loaf ham meat finished.products organic.sausage\n",
              "1 0           0       0          0   0    0                 0              \n",
              "2 0           0       0          0   0    0                 0              \n",
              "3 0           0       0          0   0    0                 0              \n",
              "4 0           0       0          0   0    0                 0              \n",
              "5 0           0       0          0   0    0                 0              \n",
              "6 0           0       0          0   0    0                 0              \n",
              "  chicken turkey pork ⋯ candles light.bulbs sound.storage.medium newspapers\n",
              "1 0       0      0    ⋯ 0       0           0                    0         \n",
              "2 0       0      0    ⋯ 0       0           0                    0         \n",
              "3 0       0      0    ⋯ 0       0           0                    0         \n",
              "4 0       0      0    ⋯ 0       0           0                    0         \n",
              "5 0       0      0    ⋯ 0       0           0                    0         \n",
              "6 0       0      0    ⋯ 0       0           0                    0         \n",
              "  photo.film pot.plants flower.soil.fertilizer flower..seeds. shopping.bags\n",
              "1 0          0          0                      0              0            \n",
              "2 0          0          0                      0              0            \n",
              "3 0          0          0                      0              0            \n",
              "4 0          0          0                      0              0            \n",
              "5 0          0          0                      0              0            \n",
              "6 0          0          0                      0              0            \n",
              "  bags\n",
              "1 0   \n",
              "2 0   \n",
              "3 0   \n",
              "4 0   \n",
              "5 0   \n",
              "6 0   "
            ],
            "text/latex": "A data.frame: 6 × 169\n\\begin{tabular}{r|lllllllllllllllllllll}\n  & frankfurter & sausage & liver.loaf & ham & meat & finished.products & organic.sausage & chicken & turkey & pork & ⋯ & candles & light.bulbs & sound.storage.medium & newspapers & photo.film & pot.plants & flower.soil.fertilizer & flower..seeds. & shopping.bags & bags\\\\\n  & <int> & <int> & <int> & <int> & <int> & <int> & <int> & <int> & <int> & <int> & ⋯ & <int> & <int> & <int> & <int> & <int> & <int> & <int> & <int> & <int> & <int>\\\\\n\\hline\n\t1 & 0 & 0 & 0 & 0 & 0 & 0 & 0 & 0 & 0 & 0 & ⋯ & 0 & 0 & 0 & 0 & 0 & 0 & 0 & 0 & 0 & 0\\\\\n\t2 & 0 & 0 & 0 & 0 & 0 & 0 & 0 & 0 & 0 & 0 & ⋯ & 0 & 0 & 0 & 0 & 0 & 0 & 0 & 0 & 0 & 0\\\\\n\t3 & 0 & 0 & 0 & 0 & 0 & 0 & 0 & 0 & 0 & 0 & ⋯ & 0 & 0 & 0 & 0 & 0 & 0 & 0 & 0 & 0 & 0\\\\\n\t4 & 0 & 0 & 0 & 0 & 0 & 0 & 0 & 0 & 0 & 0 & ⋯ & 0 & 0 & 0 & 0 & 0 & 0 & 0 & 0 & 0 & 0\\\\\n\t5 & 0 & 0 & 0 & 0 & 0 & 0 & 0 & 0 & 0 & 0 & ⋯ & 0 & 0 & 0 & 0 & 0 & 0 & 0 & 0 & 0 & 0\\\\\n\t6 & 0 & 0 & 0 & 0 & 0 & 0 & 0 & 0 & 0 & 0 & ⋯ & 0 & 0 & 0 & 0 & 0 & 0 & 0 & 0 & 0 & 0\\\\\n\\end{tabular}\n",
            "text/markdown": "\nA data.frame: 6 × 169\n\n| <!--/--> | frankfurter &lt;int&gt; | sausage &lt;int&gt; | liver.loaf &lt;int&gt; | ham &lt;int&gt; | meat &lt;int&gt; | finished.products &lt;int&gt; | organic.sausage &lt;int&gt; | chicken &lt;int&gt; | turkey &lt;int&gt; | pork &lt;int&gt; | ⋯ ⋯ | candles &lt;int&gt; | light.bulbs &lt;int&gt; | sound.storage.medium &lt;int&gt; | newspapers &lt;int&gt; | photo.film &lt;int&gt; | pot.plants &lt;int&gt; | flower.soil.fertilizer &lt;int&gt; | flower..seeds. &lt;int&gt; | shopping.bags &lt;int&gt; | bags &lt;int&gt; |\n|---|---|---|---|---|---|---|---|---|---|---|---|---|---|---|---|---|---|---|---|---|---|\n| 1 | 0 | 0 | 0 | 0 | 0 | 0 | 0 | 0 | 0 | 0 | ⋯ | 0 | 0 | 0 | 0 | 0 | 0 | 0 | 0 | 0 | 0 |\n| 2 | 0 | 0 | 0 | 0 | 0 | 0 | 0 | 0 | 0 | 0 | ⋯ | 0 | 0 | 0 | 0 | 0 | 0 | 0 | 0 | 0 | 0 |\n| 3 | 0 | 0 | 0 | 0 | 0 | 0 | 0 | 0 | 0 | 0 | ⋯ | 0 | 0 | 0 | 0 | 0 | 0 | 0 | 0 | 0 | 0 |\n| 4 | 0 | 0 | 0 | 0 | 0 | 0 | 0 | 0 | 0 | 0 | ⋯ | 0 | 0 | 0 | 0 | 0 | 0 | 0 | 0 | 0 | 0 |\n| 5 | 0 | 0 | 0 | 0 | 0 | 0 | 0 | 0 | 0 | 0 | ⋯ | 0 | 0 | 0 | 0 | 0 | 0 | 0 | 0 | 0 | 0 |\n| 6 | 0 | 0 | 0 | 0 | 0 | 0 | 0 | 0 | 0 | 0 | ⋯ | 0 | 0 | 0 | 0 | 0 | 0 | 0 | 0 | 0 | 0 |\n\n",
            "text/html": [
              "<table class=\"dataframe\">\n",
              "<caption>A data.frame: 6 × 169</caption>\n",
              "<thead>\n",
              "\t<tr><th></th><th scope=col>frankfurter</th><th scope=col>sausage</th><th scope=col>liver.loaf</th><th scope=col>ham</th><th scope=col>meat</th><th scope=col>finished.products</th><th scope=col>organic.sausage</th><th scope=col>chicken</th><th scope=col>turkey</th><th scope=col>pork</th><th scope=col>⋯</th><th scope=col>candles</th><th scope=col>light.bulbs</th><th scope=col>sound.storage.medium</th><th scope=col>newspapers</th><th scope=col>photo.film</th><th scope=col>pot.plants</th><th scope=col>flower.soil.fertilizer</th><th scope=col>flower..seeds.</th><th scope=col>shopping.bags</th><th scope=col>bags</th></tr>\n",
              "\t<tr><th></th><th scope=col>&lt;int&gt;</th><th scope=col>&lt;int&gt;</th><th scope=col>&lt;int&gt;</th><th scope=col>&lt;int&gt;</th><th scope=col>&lt;int&gt;</th><th scope=col>&lt;int&gt;</th><th scope=col>&lt;int&gt;</th><th scope=col>&lt;int&gt;</th><th scope=col>&lt;int&gt;</th><th scope=col>&lt;int&gt;</th><th scope=col>⋯</th><th scope=col>&lt;int&gt;</th><th scope=col>&lt;int&gt;</th><th scope=col>&lt;int&gt;</th><th scope=col>&lt;int&gt;</th><th scope=col>&lt;int&gt;</th><th scope=col>&lt;int&gt;</th><th scope=col>&lt;int&gt;</th><th scope=col>&lt;int&gt;</th><th scope=col>&lt;int&gt;</th><th scope=col>&lt;int&gt;</th></tr>\n",
              "</thead>\n",
              "<tbody>\n",
              "\t<tr><th scope=row>1</th><td>0</td><td>0</td><td>0</td><td>0</td><td>0</td><td>0</td><td>0</td><td>0</td><td>0</td><td>0</td><td>⋯</td><td>0</td><td>0</td><td>0</td><td>0</td><td>0</td><td>0</td><td>0</td><td>0</td><td>0</td><td>0</td></tr>\n",
              "\t<tr><th scope=row>2</th><td>0</td><td>0</td><td>0</td><td>0</td><td>0</td><td>0</td><td>0</td><td>0</td><td>0</td><td>0</td><td>⋯</td><td>0</td><td>0</td><td>0</td><td>0</td><td>0</td><td>0</td><td>0</td><td>0</td><td>0</td><td>0</td></tr>\n",
              "\t<tr><th scope=row>3</th><td>0</td><td>0</td><td>0</td><td>0</td><td>0</td><td>0</td><td>0</td><td>0</td><td>0</td><td>0</td><td>⋯</td><td>0</td><td>0</td><td>0</td><td>0</td><td>0</td><td>0</td><td>0</td><td>0</td><td>0</td><td>0</td></tr>\n",
              "\t<tr><th scope=row>4</th><td>0</td><td>0</td><td>0</td><td>0</td><td>0</td><td>0</td><td>0</td><td>0</td><td>0</td><td>0</td><td>⋯</td><td>0</td><td>0</td><td>0</td><td>0</td><td>0</td><td>0</td><td>0</td><td>0</td><td>0</td><td>0</td></tr>\n",
              "\t<tr><th scope=row>5</th><td>0</td><td>0</td><td>0</td><td>0</td><td>0</td><td>0</td><td>0</td><td>0</td><td>0</td><td>0</td><td>⋯</td><td>0</td><td>0</td><td>0</td><td>0</td><td>0</td><td>0</td><td>0</td><td>0</td><td>0</td><td>0</td></tr>\n",
              "\t<tr><th scope=row>6</th><td>0</td><td>0</td><td>0</td><td>0</td><td>0</td><td>0</td><td>0</td><td>0</td><td>0</td><td>0</td><td>⋯</td><td>0</td><td>0</td><td>0</td><td>0</td><td>0</td><td>0</td><td>0</td><td>0</td><td>0</td><td>0</td></tr>\n",
              "</tbody>\n",
              "</table>\n"
            ]
          },
          "metadata": {}
        }
      ]
    },
    {
      "cell_type": "markdown",
      "metadata": {
        "id": "zWJUmx8xWPZJ"
      },
      "source": [
        "#### Use the commands below to load the `dplyr` package and select only the columns of interest."
      ]
    },
    {
      "cell_type": "code",
      "metadata": {
        "id": "Qr_JglQGVhyQ"
      },
      "source": [
        "library(dplyr)\n",
        "butter_milk <- groceries %>%\n",
        "                select(butter, whole.milk)\n",
        "head(butter_milk)"
      ],
      "execution_count": null,
      "outputs": []
    },
    {
      "cell_type": "markdown",
      "metadata": {
        "id": "xYbhgXpBWaRX"
      },
      "source": [
        "#### Next, we can compute the total number of transactions using the `nrow()` function:"
      ]
    },
    {
      "cell_type": "code",
      "metadata": {
        "id": "iVjmVqqTVhyR",
        "outputId": "c98d193c-e59b-4bac-d2f7-49991dcac3cb",
        "colab": {
          "base_uri": "https://localhost:8080/",
          "height": 34
        }
      },
      "source": [
        "N <- nrow(groceries)\n",
        "N"
      ],
      "execution_count": 4,
      "outputs": [
        {
          "output_type": "display_data",
          "data": {
            "text/plain": [
              "[1] 9835"
            ],
            "text/latex": "9835",
            "text/markdown": "9835",
            "text/html": [
              "9835"
            ]
          },
          "metadata": {}
        }
      ]
    },
    {
      "cell_type": "markdown",
      "metadata": {
        "id": "OjJoafBjVhyR"
      },
      "source": [
        "#### Note that we could compute Support(Butter) in 2 steps:"
      ]
    },
    {
      "cell_type": "code",
      "metadata": {
        "id": "NMNMVjvWVhyS",
        "outputId": "a63fe65f-a55c-4980-a5ae-c3c16be5adc0",
        "colab": {
          "base_uri": "https://localhost:8080/",
          "height": 128
        }
      },
      "source": [
        "butter_milk %>%\n",
        "  summarize(Nbutter = sum(butter)) %>% \n",
        "  mutate(support_butter = Nbutter/N)"
      ],
      "execution_count": 5,
      "outputs": [
        {
          "output_type": "display_data",
          "data": {
            "text/plain": [
              "  Nbutter support_butter\n",
              "1 545     0.05541434    "
            ],
            "text/latex": "A data.frame: 1 × 2\n\\begin{tabular}{ll}\n Nbutter & support\\_butter\\\\\n <int> & <dbl>\\\\\n\\hline\n\t 545 & 0.05541434\\\\\n\\end{tabular}\n",
            "text/markdown": "\nA data.frame: 1 × 2\n\n| Nbutter &lt;int&gt; | support_butter &lt;dbl&gt; |\n|---|---|\n| 545 | 0.05541434 |\n\n",
            "text/html": [
              "<table class=\"dataframe\">\n",
              "<caption>A data.frame: 1 × 2</caption>\n",
              "<thead>\n",
              "\t<tr><th scope=col>Nbutter</th><th scope=col>support_butter</th></tr>\n",
              "\t<tr><th scope=col>&lt;int&gt;</th><th scope=col>&lt;dbl&gt;</th></tr>\n",
              "</thead>\n",
              "<tbody>\n",
              "\t<tr><td>545</td><td>0.05541434</td></tr>\n",
              "</tbody>\n",
              "</table>\n"
            ]
          },
          "metadata": {}
        }
      ]
    },
    {
      "cell_type": "markdown",
      "metadata": {
        "id": "c7E_Sf2FVhyT"
      },
      "source": [
        "#### We can alternatively compute Support(Butter) all at once in a single step:"
      ]
    },
    {
      "cell_type": "code",
      "metadata": {
        "id": "AzrpLvRwVhyT",
        "outputId": "caed0bdb-7c07-472d-be01-9aa00fd270fd",
        "colab": {
          "base_uri": "https://localhost:8080/",
          "height": 128
        }
      },
      "source": [
        "butter_milk %>%\n",
        "  summarize(support_butter = sum(butter)/N)"
      ],
      "execution_count": 6,
      "outputs": [
        {
          "output_type": "display_data",
          "data": {
            "text/plain": [
              "  support_butter\n",
              "1 0.05541434    "
            ],
            "text/latex": "A data.frame: 1 × 1\n\\begin{tabular}{l}\n support\\_butter\\\\\n <dbl>\\\\\n\\hline\n\t 0.05541434\\\\\n\\end{tabular}\n",
            "text/markdown": "\nA data.frame: 1 × 1\n\n| support_butter &lt;dbl&gt; |\n|---|\n| 0.05541434 |\n\n",
            "text/html": [
              "<table class=\"dataframe\">\n",
              "<caption>A data.frame: 1 × 1</caption>\n",
              "<thead>\n",
              "\t<tr><th scope=col>support_butter</th></tr>\n",
              "\t<tr><th scope=col>&lt;dbl&gt;</th></tr>\n",
              "</thead>\n",
              "<tbody>\n",
              "\t<tr><td>0.05541434</td></tr>\n",
              "</tbody>\n",
              "</table>\n"
            ]
          },
          "metadata": {}
        }
      ]
    },
    {
      "cell_type": "markdown",
      "metadata": {
        "id": "KmuGDsJqVhyT"
      },
      "source": [
        "#### Now, let's compute the support of whole.milk in a similar way:"
      ]
    },
    {
      "cell_type": "code",
      "metadata": {
        "id": "NtdEETwPVhyT",
        "outputId": "2cd6d20e-8288-404e-b0ca-06e6fd4d2817",
        "colab": {
          "base_uri": "https://localhost:8080/",
          "height": 145
        }
      },
      "source": [
        "butter_milk %>%\n",
        "  summarize(support_milk = sum(whole.milk)/N)"
      ],
      "execution_count": 7,
      "outputs": [
        {
          "output_type": "display_data",
          "data": {
            "text/plain": [
              "  support_milk\n",
              "1 0.255516    "
            ],
            "text/latex": "A data.frame: 1 × 1\n\\begin{tabular}{l}\n support\\_milk\\\\\n <dbl>\\\\\n\\hline\n\t 0.255516\\\\\n\\end{tabular}\n",
            "text/markdown": "\nA data.frame: 1 × 1\n\n| support_milk &lt;dbl&gt; |\n|---|\n| 0.255516 |\n\n",
            "text/html": [
              "<table class=\"dataframe\">\n",
              "<caption>A data.frame: 1 × 1</caption>\n",
              "<thead>\n",
              "\t<tr><th scope=col>support_milk</th></tr>\n",
              "\t<tr><th scope=col>&lt;dbl&gt;</th></tr>\n",
              "</thead>\n",
              "<tbody>\n",
              "\t<tr><td>0.255516</td></tr>\n",
              "</tbody>\n",
              "</table>\n"
            ]
          },
          "metadata": {}
        }
      ]
    },
    {
      "cell_type": "markdown",
      "metadata": {
        "id": "07-tySsJVhyU"
      },
      "source": [
        "#### Next, we need to compute the support of $\\{Butter\\;and\\;Milk\\}$\n",
        "\n",
        "To do this, note that we focus on `butter * whole.milk`. Think about why! "
      ]
    },
    {
      "cell_type": "code",
      "metadata": {
        "id": "CBgtXv-aVhyU",
        "outputId": "d5545ee2-69b7-46d6-beb5-01fd64842bce",
        "colab": {
          "base_uri": "https://localhost:8080/",
          "height": 145
        }
      },
      "source": [
        "butter_milk %>%\n",
        "  mutate(butter_and_milk = butter * whole.milk) %>%\n",
        "  summarize(support_rule = sum(butter_and_milk)/N)"
      ],
      "execution_count": 8,
      "outputs": [
        {
          "output_type": "display_data",
          "data": {
            "text/plain": [
              "  support_rule\n",
              "1 0.02755465  "
            ],
            "text/latex": "A data.frame: 1 × 1\n\\begin{tabular}{l}\n support\\_rule\\\\\n <dbl>\\\\\n\\hline\n\t 0.02755465\\\\\n\\end{tabular}\n",
            "text/markdown": "\nA data.frame: 1 × 1\n\n| support_rule &lt;dbl&gt; |\n|---|\n| 0.02755465 |\n\n",
            "text/html": [
              "<table class=\"dataframe\">\n",
              "<caption>A data.frame: 1 × 1</caption>\n",
              "<thead>\n",
              "\t<tr><th scope=col>support_rule</th></tr>\n",
              "\t<tr><th scope=col>&lt;dbl&gt;</th></tr>\n",
              "</thead>\n",
              "<tbody>\n",
              "\t<tr><td>0.02755465</td></tr>\n",
              "</tbody>\n",
              "</table>\n"
            ]
          },
          "metadata": {}
        }
      ]
    },
    {
      "cell_type": "markdown",
      "metadata": {
        "id": "mo__qOAmVhyU"
      },
      "source": [
        "#### Now, we can put it all together (and also compute the confidence and lift)."
      ]
    },
    {
      "cell_type": "code",
      "metadata": {
        "id": "FnqoOEa4VhyV",
        "outputId": "dbd4f818-6276-4b45-e314-20730cbed146",
        "colab": {
          "base_uri": "https://localhost:8080/",
          "height": 128
        }
      },
      "source": [
        "groceries %>%\n",
        "  mutate(bought_butter_milk = butter *  whole.milk) %>%\n",
        "  summarize(support_milk = sum(whole.milk)/N,\n",
        "            support_butter = sum(butter)/N,\n",
        "            support_rule = sum(bought_butter_milk)/N) %>%\n",
        "  mutate(confidence = support_rule/support_butter) %>%\n",
        "  mutate(lift = confidence/support_milk)"
      ],
      "execution_count": 9,
      "outputs": [
        {
          "output_type": "display_data",
          "data": {
            "text/plain": [
              "  support_milk support_butter support_rule confidence lift    \n",
              "1 0.255516     0.05541434     0.02755465   0.4972477  1.946053"
            ],
            "text/latex": "A data.frame: 1 × 5\n\\begin{tabular}{lllll}\n support\\_milk & support\\_butter & support\\_rule & confidence & lift\\\\\n <dbl> & <dbl> & <dbl> & <dbl> & <dbl>\\\\\n\\hline\n\t 0.255516 & 0.05541434 & 0.02755465 & 0.4972477 & 1.946053\\\\\n\\end{tabular}\n",
            "text/markdown": "\nA data.frame: 1 × 5\n\n| support_milk &lt;dbl&gt; | support_butter &lt;dbl&gt; | support_rule &lt;dbl&gt; | confidence &lt;dbl&gt; | lift &lt;dbl&gt; |\n|---|---|---|---|---|\n| 0.255516 | 0.05541434 | 0.02755465 | 0.4972477 | 1.946053 |\n\n",
            "text/html": [
              "<table class=\"dataframe\">\n",
              "<caption>A data.frame: 1 × 5</caption>\n",
              "<thead>\n",
              "\t<tr><th scope=col>support_milk</th><th scope=col>support_butter</th><th scope=col>support_rule</th><th scope=col>confidence</th><th scope=col>lift</th></tr>\n",
              "\t<tr><th scope=col>&lt;dbl&gt;</th><th scope=col>&lt;dbl&gt;</th><th scope=col>&lt;dbl&gt;</th><th scope=col>&lt;dbl&gt;</th><th scope=col>&lt;dbl&gt;</th></tr>\n",
              "</thead>\n",
              "<tbody>\n",
              "\t<tr><td>0.255516</td><td>0.05541434</td><td>0.02755465</td><td>0.4972477</td><td>1.946053</td></tr>\n",
              "</tbody>\n",
              "</table>\n"
            ]
          },
          "metadata": {}
        }
      ]
    },
    {
      "cell_type": "markdown",
      "metadata": {
        "id": "OtVN2irzVhyV"
      },
      "source": [
        "#### Important Things to Note\n",
        "\n",
        "* You must compute values before you use them\n",
        "    * Compute Supports before Confidence\n",
        "    * Compute Confidence before Lift"
      ]
    },
    {
      "cell_type": "markdown",
      "metadata": {
        "id": "_KoNoEZ1X0j-"
      },
      "source": [
        "## <font color=\"red\"> Activity 8.3 - Exercise 1 </font>\n",
        "\n",
        "Compute and interpret all interesting statistics (supports, confidence, and lift) for the rule $\\{domestic\\,eggs\\}\\rightarrow\\{ham\\}$"
      ]
    },
    {
      "cell_type": "code",
      "metadata": {
        "id": "O3Qn8HdEX3te"
      },
      "source": [
        "# Your code here"
      ],
      "execution_count": null,
      "outputs": []
    },
    {
      "cell_type": "markdown",
      "metadata": {
        "id": "y2we1hFYVhyV"
      },
      "source": [
        "#### Now, if you're interested, you can look at the code below which can be used to compute many rules at once.\n",
        "##### Here's the big idea:\n",
        "\n",
        "\n",
        "* Stack the items that could be considered on the LHS into one column named LHS\n",
        "* Group by LHS\n",
        "* Compute:\n",
        "    * Support\n",
        "    * Confidence\n",
        "    * Lift\n",
        "  "
      ]
    },
    {
      "cell_type": "markdown",
      "metadata": {
        "id": "JvVtHu2MVhyW"
      },
      "source": [
        "#### Step 0 - Read the data and load libraries"
      ]
    },
    {
      "cell_type": "code",
      "metadata": {
        "id": "pRwCaFLxVhyX"
      },
      "source": [
        "library(tidyr)\n",
        "library(dplyr)"
      ],
      "execution_count": 10,
      "outputs": []
    },
    {
      "cell_type": "code",
      "metadata": {
        "id": "eMMRAvAVVhyY"
      },
      "source": [
        "groceries <- read.csv('https://github.com/WSU-DataScience/DSCI_210_R_notebooks/raw/main/data/Groceries.csv')\n",
        "N <- nrow(groceries)"
      ],
      "execution_count": 11,
      "outputs": []
    },
    {
      "cell_type": "markdown",
      "metadata": {
        "id": "7WW5vy4WVhyY"
      },
      "source": [
        "#### Step 1 - Stack all of the other products"
      ]
    },
    {
      "cell_type": "code",
      "metadata": {
        "id": "y03927aVVhyZ",
        "outputId": "9f87ac87-9e60-4334-ee0d-0d7602214b94",
        "colab": {
          "base_uri": "https://localhost:8080/",
          "height": 283
        }
      },
      "source": [
        "groceries_stacked <-\n",
        "  groceries %>%\n",
        "  gather(key = \"lhs\",\n",
        "         value = \"pur_lhs\",\n",
        "         -whole.milk) \n",
        "head(groceries_stacked)"
      ],
      "execution_count": 12,
      "outputs": [
        {
          "output_type": "display_data",
          "data": {
            "text/plain": [
              "  whole.milk lhs         pur_lhs\n",
              "1 0          frankfurter 0      \n",
              "2 0          frankfurter 0      \n",
              "3 1          frankfurter 0      \n",
              "4 0          frankfurter 0      \n",
              "5 1          frankfurter 0      \n",
              "6 1          frankfurter 0      "
            ],
            "text/latex": "A data.frame: 6 × 3\n\\begin{tabular}{r|lll}\n  & whole.milk & lhs & pur\\_lhs\\\\\n  & <int> & <chr> & <int>\\\\\n\\hline\n\t1 & 0 & frankfurter & 0\\\\\n\t2 & 0 & frankfurter & 0\\\\\n\t3 & 1 & frankfurter & 0\\\\\n\t4 & 0 & frankfurter & 0\\\\\n\t5 & 1 & frankfurter & 0\\\\\n\t6 & 1 & frankfurter & 0\\\\\n\\end{tabular}\n",
            "text/markdown": "\nA data.frame: 6 × 3\n\n| <!--/--> | whole.milk &lt;int&gt; | lhs &lt;chr&gt; | pur_lhs &lt;int&gt; |\n|---|---|---|---|\n| 1 | 0 | frankfurter | 0 |\n| 2 | 0 | frankfurter | 0 |\n| 3 | 1 | frankfurter | 0 |\n| 4 | 0 | frankfurter | 0 |\n| 5 | 1 | frankfurter | 0 |\n| 6 | 1 | frankfurter | 0 |\n\n",
            "text/html": [
              "<table class=\"dataframe\">\n",
              "<caption>A data.frame: 6 × 3</caption>\n",
              "<thead>\n",
              "\t<tr><th></th><th scope=col>whole.milk</th><th scope=col>lhs</th><th scope=col>pur_lhs</th></tr>\n",
              "\t<tr><th></th><th scope=col>&lt;int&gt;</th><th scope=col>&lt;chr&gt;</th><th scope=col>&lt;int&gt;</th></tr>\n",
              "</thead>\n",
              "<tbody>\n",
              "\t<tr><th scope=row>1</th><td>0</td><td>frankfurter</td><td>0</td></tr>\n",
              "\t<tr><th scope=row>2</th><td>0</td><td>frankfurter</td><td>0</td></tr>\n",
              "\t<tr><th scope=row>3</th><td>1</td><td>frankfurter</td><td>0</td></tr>\n",
              "\t<tr><th scope=row>4</th><td>0</td><td>frankfurter</td><td>0</td></tr>\n",
              "\t<tr><th scope=row>5</th><td>1</td><td>frankfurter</td><td>0</td></tr>\n",
              "\t<tr><th scope=row>6</th><td>1</td><td>frankfurter</td><td>0</td></tr>\n",
              "</tbody>\n",
              "</table>\n"
            ]
          },
          "metadata": {}
        }
      ]
    },
    {
      "cell_type": "markdown",
      "metadata": {
        "id": "CnnQRWsOVhyZ"
      },
      "source": [
        "#### Step 2 - find whether lhs and milk were bought together"
      ]
    },
    {
      "cell_type": "code",
      "metadata": {
        "id": "eiiLIR_GVhyZ",
        "outputId": "413b6f4b-f21b-4bf4-8039-5969127c7a07",
        "colab": {
          "base_uri": "https://localhost:8080/",
          "height": 283
        }
      },
      "source": [
        "groceries_stacked <-\n",
        "  groceries_stacked %>%\n",
        "  mutate(pur_both = whole.milk * pur_lhs) \n",
        "head(groceries_stacked)"
      ],
      "execution_count": 14,
      "outputs": [
        {
          "output_type": "display_data",
          "data": {
            "text/plain": [
              "  whole.milk lhs         pur_lhs pur_both\n",
              "1 0          frankfurter 0       0       \n",
              "2 0          frankfurter 0       0       \n",
              "3 1          frankfurter 0       0       \n",
              "4 0          frankfurter 0       0       \n",
              "5 1          frankfurter 0       0       \n",
              "6 1          frankfurter 0       0       "
            ],
            "text/latex": "A data.frame: 6 × 4\n\\begin{tabular}{r|llll}\n  & whole.milk & lhs & pur\\_lhs & pur\\_both\\\\\n  & <int> & <chr> & <int> & <int>\\\\\n\\hline\n\t1 & 0 & frankfurter & 0 & 0\\\\\n\t2 & 0 & frankfurter & 0 & 0\\\\\n\t3 & 1 & frankfurter & 0 & 0\\\\\n\t4 & 0 & frankfurter & 0 & 0\\\\\n\t5 & 1 & frankfurter & 0 & 0\\\\\n\t6 & 1 & frankfurter & 0 & 0\\\\\n\\end{tabular}\n",
            "text/markdown": "\nA data.frame: 6 × 4\n\n| <!--/--> | whole.milk &lt;int&gt; | lhs &lt;chr&gt; | pur_lhs &lt;int&gt; | pur_both &lt;int&gt; |\n|---|---|---|---|---|\n| 1 | 0 | frankfurter | 0 | 0 |\n| 2 | 0 | frankfurter | 0 | 0 |\n| 3 | 1 | frankfurter | 0 | 0 |\n| 4 | 0 | frankfurter | 0 | 0 |\n| 5 | 1 | frankfurter | 0 | 0 |\n| 6 | 1 | frankfurter | 0 | 0 |\n\n",
            "text/html": [
              "<table class=\"dataframe\">\n",
              "<caption>A data.frame: 6 × 4</caption>\n",
              "<thead>\n",
              "\t<tr><th></th><th scope=col>whole.milk</th><th scope=col>lhs</th><th scope=col>pur_lhs</th><th scope=col>pur_both</th></tr>\n",
              "\t<tr><th></th><th scope=col>&lt;int&gt;</th><th scope=col>&lt;chr&gt;</th><th scope=col>&lt;int&gt;</th><th scope=col>&lt;int&gt;</th></tr>\n",
              "</thead>\n",
              "<tbody>\n",
              "\t<tr><th scope=row>1</th><td>0</td><td>frankfurter</td><td>0</td><td>0</td></tr>\n",
              "\t<tr><th scope=row>2</th><td>0</td><td>frankfurter</td><td>0</td><td>0</td></tr>\n",
              "\t<tr><th scope=row>3</th><td>1</td><td>frankfurter</td><td>0</td><td>0</td></tr>\n",
              "\t<tr><th scope=row>4</th><td>0</td><td>frankfurter</td><td>0</td><td>0</td></tr>\n",
              "\t<tr><th scope=row>5</th><td>1</td><td>frankfurter</td><td>0</td><td>0</td></tr>\n",
              "\t<tr><th scope=row>6</th><td>1</td><td>frankfurter</td><td>0</td><td>0</td></tr>\n",
              "</tbody>\n",
              "</table>\n"
            ]
          },
          "metadata": {}
        }
      ]
    },
    {
      "cell_type": "markdown",
      "metadata": {
        "id": "MHYZy0KdVhyZ"
      },
      "source": [
        "#### Step 3 - Compute the support, confidence, and lift for each"
      ]
    },
    {
      "cell_type": "code",
      "metadata": {
        "id": "cw-WfFsfVhya",
        "outputId": "b8788369-7706-4d58-9399-47e3358fdf0f",
        "colab": {
          "base_uri": "https://localhost:8080/",
          "height": 283
        }
      },
      "source": [
        "# Note that we group_by the products to keep them separate.\n",
        "many_rules <-\n",
        "groceries_stacked %>%\n",
        "  group_by(lhs) %>%\n",
        "  summarize(sup_milk = sum(whole.milk)/N,\n",
        "            sup_lhs = sum(pur_lhs)/N,\n",
        "            joint_support = sum(pur_both)/N) %>%\n",
        "  mutate(conf = joint_support/sup_lhs) %>%\n",
        "  mutate(lift = conf/sup_milk) \n",
        "many_rules %>% head"
      ],
      "execution_count": 15,
      "outputs": [
        {
          "output_type": "display_data",
          "data": {
            "text/plain": [
              "  lhs              sup_milk sup_lhs      joint_support conf      lift     \n",
              "1 abrasive.cleaner 0.255516 0.0035587189 0.0016268429  0.4571429 1.7890967\n",
              "2 artif..sweetener 0.255516 0.0032536858 0.0011184545  0.3437500 1.3453169\n",
              "3 baby.cosmetics   0.255516 0.0006100661 0.0003050330  0.5000000 1.9568245\n",
              "4 baby.food        0.255516 0.0001016777 0.0000000000  0.0000000 0.0000000\n",
              "5 bags             0.255516 0.0004067107 0.0001016777  0.2500000 0.9784123\n",
              "6 baking.powder    0.255516 0.0176919166 0.0092526690  0.5229885 2.0467935"
            ],
            "text/latex": "A tibble: 6 × 6\n\\begin{tabular}{llllll}\n lhs & sup\\_milk & sup\\_lhs & joint\\_support & conf & lift\\\\\n <chr> & <dbl> & <dbl> & <dbl> & <dbl> & <dbl>\\\\\n\\hline\n\t abrasive.cleaner & 0.255516 & 0.0035587189 & 0.0016268429 & 0.4571429 & 1.7890967\\\\\n\t artif..sweetener & 0.255516 & 0.0032536858 & 0.0011184545 & 0.3437500 & 1.3453169\\\\\n\t baby.cosmetics   & 0.255516 & 0.0006100661 & 0.0003050330 & 0.5000000 & 1.9568245\\\\\n\t baby.food        & 0.255516 & 0.0001016777 & 0.0000000000 & 0.0000000 & 0.0000000\\\\\n\t bags             & 0.255516 & 0.0004067107 & 0.0001016777 & 0.2500000 & 0.9784123\\\\\n\t baking.powder    & 0.255516 & 0.0176919166 & 0.0092526690 & 0.5229885 & 2.0467935\\\\\n\\end{tabular}\n",
            "text/markdown": "\nA tibble: 6 × 6\n\n| lhs &lt;chr&gt; | sup_milk &lt;dbl&gt; | sup_lhs &lt;dbl&gt; | joint_support &lt;dbl&gt; | conf &lt;dbl&gt; | lift &lt;dbl&gt; |\n|---|---|---|---|---|---|\n| abrasive.cleaner | 0.255516 | 0.0035587189 | 0.0016268429 | 0.4571429 | 1.7890967 |\n| artif..sweetener | 0.255516 | 0.0032536858 | 0.0011184545 | 0.3437500 | 1.3453169 |\n| baby.cosmetics   | 0.255516 | 0.0006100661 | 0.0003050330 | 0.5000000 | 1.9568245 |\n| baby.food        | 0.255516 | 0.0001016777 | 0.0000000000 | 0.0000000 | 0.0000000 |\n| bags             | 0.255516 | 0.0004067107 | 0.0001016777 | 0.2500000 | 0.9784123 |\n| baking.powder    | 0.255516 | 0.0176919166 | 0.0092526690 | 0.5229885 | 2.0467935 |\n\n",
            "text/html": [
              "<table class=\"dataframe\">\n",
              "<caption>A tibble: 6 × 6</caption>\n",
              "<thead>\n",
              "\t<tr><th scope=col>lhs</th><th scope=col>sup_milk</th><th scope=col>sup_lhs</th><th scope=col>joint_support</th><th scope=col>conf</th><th scope=col>lift</th></tr>\n",
              "\t<tr><th scope=col>&lt;chr&gt;</th><th scope=col>&lt;dbl&gt;</th><th scope=col>&lt;dbl&gt;</th><th scope=col>&lt;dbl&gt;</th><th scope=col>&lt;dbl&gt;</th><th scope=col>&lt;dbl&gt;</th></tr>\n",
              "</thead>\n",
              "<tbody>\n",
              "\t<tr><td>abrasive.cleaner</td><td>0.255516</td><td>0.0035587189</td><td>0.0016268429</td><td>0.4571429</td><td>1.7890967</td></tr>\n",
              "\t<tr><td>artif..sweetener</td><td>0.255516</td><td>0.0032536858</td><td>0.0011184545</td><td>0.3437500</td><td>1.3453169</td></tr>\n",
              "\t<tr><td>baby.cosmetics  </td><td>0.255516</td><td>0.0006100661</td><td>0.0003050330</td><td>0.5000000</td><td>1.9568245</td></tr>\n",
              "\t<tr><td>baby.food       </td><td>0.255516</td><td>0.0001016777</td><td>0.0000000000</td><td>0.0000000</td><td>0.0000000</td></tr>\n",
              "\t<tr><td>bags            </td><td>0.255516</td><td>0.0004067107</td><td>0.0001016777</td><td>0.2500000</td><td>0.9784123</td></tr>\n",
              "\t<tr><td>baking.powder   </td><td>0.255516</td><td>0.0176919166</td><td>0.0092526690</td><td>0.5229885</td><td>2.0467935</td></tr>\n",
              "</tbody>\n",
              "</table>\n"
            ]
          },
          "metadata": {}
        }
      ]
    },
    {
      "cell_type": "markdown",
      "metadata": {
        "id": "a3uMP2VEVhya"
      },
      "source": [
        "#### Step 4 - filter rules with low support; sort by lift"
      ]
    },
    {
      "cell_type": "code",
      "metadata": {
        "id": "FJYcyy_PVhya",
        "outputId": "0905c851-36ce-4e76-8d43-a98fb07bc07e",
        "colab": {
          "base_uri": "https://localhost:8080/",
          "height": 190
        }
      },
      "source": [
        "many_rules %>%\n",
        "  filter(joint_support > .05) %>%\n",
        "  arrange(-lift)"
      ],
      "execution_count": 16,
      "outputs": [
        {
          "output_type": "display_data",
          "data": {
            "text/plain": [
              "  lhs              sup_milk sup_lhs   joint_support conf      lift    \n",
              "1 yogurt           0.255516 0.1395018 0.05602440    0.4016035 1.571735\n",
              "2 other.vegetables 0.255516 0.1934926 0.07483477    0.3867578 1.513634\n",
              "3 rolls.buns       0.255516 0.1839349 0.05663447    0.3079049 1.205032"
            ],
            "text/latex": "A tibble: 3 × 6\n\\begin{tabular}{llllll}\n lhs & sup\\_milk & sup\\_lhs & joint\\_support & conf & lift\\\\\n <chr> & <dbl> & <dbl> & <dbl> & <dbl> & <dbl>\\\\\n\\hline\n\t yogurt           & 0.255516 & 0.1395018 & 0.05602440 & 0.4016035 & 1.571735\\\\\n\t other.vegetables & 0.255516 & 0.1934926 & 0.07483477 & 0.3867578 & 1.513634\\\\\n\t rolls.buns       & 0.255516 & 0.1839349 & 0.05663447 & 0.3079049 & 1.205032\\\\\n\\end{tabular}\n",
            "text/markdown": "\nA tibble: 3 × 6\n\n| lhs &lt;chr&gt; | sup_milk &lt;dbl&gt; | sup_lhs &lt;dbl&gt; | joint_support &lt;dbl&gt; | conf &lt;dbl&gt; | lift &lt;dbl&gt; |\n|---|---|---|---|---|---|\n| yogurt           | 0.255516 | 0.1395018 | 0.05602440 | 0.4016035 | 1.571735 |\n| other.vegetables | 0.255516 | 0.1934926 | 0.07483477 | 0.3867578 | 1.513634 |\n| rolls.buns       | 0.255516 | 0.1839349 | 0.05663447 | 0.3079049 | 1.205032 |\n\n",
            "text/html": [
              "<table class=\"dataframe\">\n",
              "<caption>A tibble: 3 × 6</caption>\n",
              "<thead>\n",
              "\t<tr><th scope=col>lhs</th><th scope=col>sup_milk</th><th scope=col>sup_lhs</th><th scope=col>joint_support</th><th scope=col>conf</th><th scope=col>lift</th></tr>\n",
              "\t<tr><th scope=col>&lt;chr&gt;</th><th scope=col>&lt;dbl&gt;</th><th scope=col>&lt;dbl&gt;</th><th scope=col>&lt;dbl&gt;</th><th scope=col>&lt;dbl&gt;</th><th scope=col>&lt;dbl&gt;</th></tr>\n",
              "</thead>\n",
              "<tbody>\n",
              "\t<tr><td>yogurt          </td><td>0.255516</td><td>0.1395018</td><td>0.05602440</td><td>0.4016035</td><td>1.571735</td></tr>\n",
              "\t<tr><td>other.vegetables</td><td>0.255516</td><td>0.1934926</td><td>0.07483477</td><td>0.3867578</td><td>1.513634</td></tr>\n",
              "\t<tr><td>rolls.buns      </td><td>0.255516</td><td>0.1839349</td><td>0.05663447</td><td>0.3079049</td><td>1.205032</td></tr>\n",
              "</tbody>\n",
              "</table>\n"
            ]
          },
          "metadata": {}
        }
      ]
    },
    {
      "cell_type": "markdown",
      "metadata": {
        "id": "E-pCRz5ZVhya"
      },
      "source": [
        "Interpretation of first rule: \n",
        "\n",
        "* Milk is purchased 25.6% of the time.  \n",
        "* Knowing yogurt was also purchased 'lifts' this rate of purchase by 57%.  \n",
        "* In other words, knowing yogurt was purchased increases the likelihood that milk was purchased by 57%, relative to the underlying rate at which milk was already being purchased."
      ]
    }
  ]
}