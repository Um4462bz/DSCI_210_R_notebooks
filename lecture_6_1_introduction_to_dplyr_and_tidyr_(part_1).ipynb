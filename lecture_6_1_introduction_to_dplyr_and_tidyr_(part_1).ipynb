{
  "nbformat": 4,
  "nbformat_minor": 0,
  "metadata": {
    "kernelspec": {
      "display_name": "R",
      "language": "R",
      "name": "ir"
    },
    "language_info": {
      "codemirror_mode": "r",
      "file_extension": ".r",
      "mimetype": "text/x-r-source",
      "name": "R",
      "pygments_lexer": "r",
      "version": "3.5.1"
    },
    "colab": {
      "name": "Copy of lecture_6_1_introduction_to_dplyr_and_tidyr_(part_1).ipynb",
      "provenance": [],
      "include_colab_link": true
    }
  },
  "cells": [
    {
      "cell_type": "markdown",
      "metadata": {
        "id": "view-in-github",
        "colab_type": "text"
      },
      "source": [
        "<a href=\"https://colab.research.google.com/github/thooks630/DSCI_210_R_notebooks/blob/main/lecture_6_1_introduction_to_dplyr_and_tidyr_(part_1).ipynb\" target=\"_parent\"><img src=\"https://colab.research.google.com/assets/colab-badge.svg\" alt=\"Open In Colab\"/></a>"
      ]
    },
    {
      "cell_type": "markdown",
      "metadata": {
        "id": "xwhAe-Auig_9"
      },
      "source": [
        "# Introduction to the `tidyverse` in `R`"
      ]
    },
    {
      "cell_type": "markdown",
      "metadata": {
        "id": "XkwD9qfBihAD"
      },
      "source": [
        "## Why use R?\n",
        "\n",
        "\n",
        "- Save and rerun code\n",
        "- Several data science/statistics packages available\n",
        "- Great graphics\n",
        "- Built for data\n",
        "- Free and open-source\n",
        "- Large user community"
      ]
    },
    {
      "cell_type": "markdown",
      "metadata": {
        "id": "bYHkVIWMihAF"
      },
      "source": [
        "### Market-share\n",
        "\n",
        "![](https://github.com/WSU-DataScience/DSCI_210_R_notebooks/blob/main/img/Fig-1a-IndeedJobs-2017.png?raw=1)"
      ]
    },
    {
      "cell_type": "markdown",
      "metadata": {
        "id": "Kje2BaGPihAG"
      },
      "source": [
        "## What is the `tidyverse`?\n",
        "\n",
        "The tidyverse is a collection of `R` packages designed for data science. They all share an underlying design philosophy, grammar, and data structures. We will focus on a few packages for managing data, using the data verb syntax.\n",
        "*   `dplyr` (`select`, `filter`, `mutate`, `group_by`, `aggregate`)\n",
        "* `tidyr` (stack and unstack with `gather` and `spread`)\n",
        "\n",
        "\n",
        "In future data science courses, you will likely use `ggplot`  to create nice graphics.   \n",
        "    "
      ]
    },
    {
      "cell_type": "markdown",
      "metadata": {
        "id": "Q-Vk1RHiihAH"
      },
      "source": [
        "# Introduction to the `dplyr` package in `R`\n",
        "\n",
        "## Loading a Library"
      ]
    },
    {
      "cell_type": "code",
      "metadata": {
        "id": "IkxsiMxsihAH"
      },
      "source": [
        "# This loads all of the dplyr functions\n",
        "# You must do everytime you start new R session\n",
        "\n",
        "library(\"dplyr\")"
      ],
      "execution_count": null,
      "outputs": []
    },
    {
      "cell_type": "markdown",
      "metadata": {
        "id": "kOZjy6VJihAK"
      },
      "source": [
        "## Reading in data"
      ]
    },
    {
      "cell_type": "code",
      "metadata": {
        "id": "_KCnzap0ihAM"
      },
      "source": [
        "surveys <- read.csv('https://github.com/WSU-DataScience/DSCI_210_R_notebooks/raw/main/data/portal_data_joined.csv')\n",
        "\n",
        "# Good habit: Always inspect the result with head\n",
        "head(surveys)"
      ],
      "execution_count": null,
      "outputs": []
    },
    {
      "cell_type": "markdown",
      "metadata": {
        "id": "vpquI1Z0ihAP"
      },
      "source": [
        "## Selecting columns with `select`"
      ]
    },
    {
      "cell_type": "code",
      "metadata": {
        "id": "dBpF4II8ihAQ"
      },
      "source": [
        "# Syntax: select(df, col1, col2, ...)\n",
        "\n",
        "new_df <- select(surveys, plot_id, species_id, weight)\n",
        "head(new_df)"
      ],
      "execution_count": null,
      "outputs": []
    },
    {
      "cell_type": "markdown",
      "metadata": {
        "id": "uBl321xOihAR"
      },
      "source": [
        "## Filtering rows with `filter`"
      ]
    },
    {
      "cell_type": "code",
      "metadata": {
        "id": "hxCIwG7uihAR",
        "colab": {
          "base_uri": "https://localhost:8080/",
          "height": 283
        },
        "outputId": "f2bbea74-9fd7-48b9-d241-8618f4dce9d0"
      },
      "source": [
        "new_df2 <- filter(surveys, year == 1995)\n",
        "head(new_df2)"
      ],
      "execution_count": 6,
      "outputs": [
        {
          "output_type": "display_data",
          "data": {
            "text/plain": [
              "  record_id month day year plot_id species_id sex hindfoot_length weight\n",
              "1 22314      6     7  1995 2       NL         M   34               NA   \n",
              "2 22728      9    23  1995 2       NL         F   32              165   \n",
              "3 22899     10    28  1995 2       NL         F   32              171   \n",
              "4 23032     12     2  1995 2       NL         F   33               NA   \n",
              "5 22003      1    11  1995 2       DM         M   37               41   \n",
              "6 22042      2     4  1995 2       DM         F   36               45   \n",
              "  genus     species  taxa   plot_type\n",
              "1 Neotoma   albigula Rodent Control  \n",
              "2 Neotoma   albigula Rodent Control  \n",
              "3 Neotoma   albigula Rodent Control  \n",
              "4 Neotoma   albigula Rodent Control  \n",
              "5 Dipodomys merriami Rodent Control  \n",
              "6 Dipodomys merriami Rodent Control  "
            ],
            "text/latex": "A data.frame: 6 × 13\n\\begin{tabular}{r|lllllllllllll}\n  & record\\_id & month & day & year & plot\\_id & species\\_id & sex & hindfoot\\_length & weight & genus & species & taxa & plot\\_type\\\\\n  & <int> & <int> & <int> & <int> & <int> & <chr> & <chr> & <int> & <int> & <chr> & <chr> & <chr> & <chr>\\\\\n\\hline\n\t1 & 22314 &  6 &  7 & 1995 & 2 & NL & M & 34 &  NA & Neotoma   & albigula & Rodent & Control\\\\\n\t2 & 22728 &  9 & 23 & 1995 & 2 & NL & F & 32 & 165 & Neotoma   & albigula & Rodent & Control\\\\\n\t3 & 22899 & 10 & 28 & 1995 & 2 & NL & F & 32 & 171 & Neotoma   & albigula & Rodent & Control\\\\\n\t4 & 23032 & 12 &  2 & 1995 & 2 & NL & F & 33 &  NA & Neotoma   & albigula & Rodent & Control\\\\\n\t5 & 22003 &  1 & 11 & 1995 & 2 & DM & M & 37 &  41 & Dipodomys & merriami & Rodent & Control\\\\\n\t6 & 22042 &  2 &  4 & 1995 & 2 & DM & F & 36 &  45 & Dipodomys & merriami & Rodent & Control\\\\\n\\end{tabular}\n",
            "text/markdown": "\nA data.frame: 6 × 13\n\n| <!--/--> | record_id &lt;int&gt; | month &lt;int&gt; | day &lt;int&gt; | year &lt;int&gt; | plot_id &lt;int&gt; | species_id &lt;chr&gt; | sex &lt;chr&gt; | hindfoot_length &lt;int&gt; | weight &lt;int&gt; | genus &lt;chr&gt; | species &lt;chr&gt; | taxa &lt;chr&gt; | plot_type &lt;chr&gt; |\n|---|---|---|---|---|---|---|---|---|---|---|---|---|---|\n| 1 | 22314 |  6 |  7 | 1995 | 2 | NL | M | 34 |  NA | Neotoma   | albigula | Rodent | Control |\n| 2 | 22728 |  9 | 23 | 1995 | 2 | NL | F | 32 | 165 | Neotoma   | albigula | Rodent | Control |\n| 3 | 22899 | 10 | 28 | 1995 | 2 | NL | F | 32 | 171 | Neotoma   | albigula | Rodent | Control |\n| 4 | 23032 | 12 |  2 | 1995 | 2 | NL | F | 33 |  NA | Neotoma   | albigula | Rodent | Control |\n| 5 | 22003 |  1 | 11 | 1995 | 2 | DM | M | 37 |  41 | Dipodomys | merriami | Rodent | Control |\n| 6 | 22042 |  2 |  4 | 1995 | 2 | DM | F | 36 |  45 | Dipodomys | merriami | Rodent | Control |\n\n",
            "text/html": [
              "<table class=\"dataframe\">\n",
              "<caption>A data.frame: 6 × 13</caption>\n",
              "<thead>\n",
              "\t<tr><th></th><th scope=col>record_id</th><th scope=col>month</th><th scope=col>day</th><th scope=col>year</th><th scope=col>plot_id</th><th scope=col>species_id</th><th scope=col>sex</th><th scope=col>hindfoot_length</th><th scope=col>weight</th><th scope=col>genus</th><th scope=col>species</th><th scope=col>taxa</th><th scope=col>plot_type</th></tr>\n",
              "\t<tr><th></th><th scope=col>&lt;int&gt;</th><th scope=col>&lt;int&gt;</th><th scope=col>&lt;int&gt;</th><th scope=col>&lt;int&gt;</th><th scope=col>&lt;int&gt;</th><th scope=col>&lt;chr&gt;</th><th scope=col>&lt;chr&gt;</th><th scope=col>&lt;int&gt;</th><th scope=col>&lt;int&gt;</th><th scope=col>&lt;chr&gt;</th><th scope=col>&lt;chr&gt;</th><th scope=col>&lt;chr&gt;</th><th scope=col>&lt;chr&gt;</th></tr>\n",
              "</thead>\n",
              "<tbody>\n",
              "\t<tr><th scope=row>1</th><td>22314</td><td> 6</td><td> 7</td><td>1995</td><td>2</td><td>NL</td><td>M</td><td>34</td><td> NA</td><td>Neotoma  </td><td>albigula</td><td>Rodent</td><td>Control</td></tr>\n",
              "\t<tr><th scope=row>2</th><td>22728</td><td> 9</td><td>23</td><td>1995</td><td>2</td><td>NL</td><td>F</td><td>32</td><td>165</td><td>Neotoma  </td><td>albigula</td><td>Rodent</td><td>Control</td></tr>\n",
              "\t<tr><th scope=row>3</th><td>22899</td><td>10</td><td>28</td><td>1995</td><td>2</td><td>NL</td><td>F</td><td>32</td><td>171</td><td>Neotoma  </td><td>albigula</td><td>Rodent</td><td>Control</td></tr>\n",
              "\t<tr><th scope=row>4</th><td>23032</td><td>12</td><td> 2</td><td>1995</td><td>2</td><td>NL</td><td>F</td><td>33</td><td> NA</td><td>Neotoma  </td><td>albigula</td><td>Rodent</td><td>Control</td></tr>\n",
              "\t<tr><th scope=row>5</th><td>22003</td><td> 1</td><td>11</td><td>1995</td><td>2</td><td>DM</td><td>M</td><td>37</td><td> 41</td><td>Dipodomys</td><td>merriami</td><td>Rodent</td><td>Control</td></tr>\n",
              "\t<tr><th scope=row>6</th><td>22042</td><td> 2</td><td> 4</td><td>1995</td><td>2</td><td>DM</td><td>F</td><td>36</td><td> 45</td><td>Dipodomys</td><td>merriami</td><td>Rodent</td><td>Control</td></tr>\n",
              "</tbody>\n",
              "</table>\n"
            ]
          },
          "metadata": {}
        }
      ]
    },
    {
      "cell_type": "markdown",
      "metadata": {
        "id": "h5E13Zc1-lb4"
      },
      "source": [
        "*Question: Why are the columns not selected up above still appearing here?*"
      ]
    },
    {
      "cell_type": "markdown",
      "metadata": {
        "id": "sBixZKVhihAS"
      },
      "source": [
        "## Creating a new column with `mutate`"
      ]
    },
    {
      "cell_type": "code",
      "metadata": {
        "id": "j9rFCK9LihAS"
      },
      "source": [
        "new_df <- select(surveys, plot_id, species_id, weight, year)\n",
        "new_df2 <- filter(new_df, year == 1995)\n",
        "new_df3 <- mutate(new_df2, weight_kg = weight / 1000)\n",
        "head(new_df3)"
      ],
      "execution_count": null,
      "outputs": []
    },
    {
      "cell_type": "code",
      "metadata": {
        "id": "-bkGoN2RihAT",
        "colab": {
          "base_uri": "https://localhost:8080/",
          "height": 283
        },
        "outputId": "e017793d-4129-4d0d-dbee-cfe72376e8b4"
      },
      "source": [
        "# To drop the old weight column:\n",
        "\n",
        "new_df4 <- select(new_df3, -weight)\n",
        "head(new_df4)"
      ],
      "execution_count": 8,
      "outputs": [
        {
          "output_type": "display_data",
          "data": {
            "text/plain": [
              "  plot_id species_id year weight_kg\n",
              "1 2       NL         1995    NA    \n",
              "2 2       NL         1995 0.165    \n",
              "3 2       NL         1995 0.171    \n",
              "4 2       NL         1995    NA    \n",
              "5 2       DM         1995 0.041    \n",
              "6 2       DM         1995 0.045    "
            ],
            "text/latex": "A data.frame: 6 × 4\n\\begin{tabular}{r|llll}\n  & plot\\_id & species\\_id & year & weight\\_kg\\\\\n  & <int> & <chr> & <int> & <dbl>\\\\\n\\hline\n\t1 & 2 & NL & 1995 &    NA\\\\\n\t2 & 2 & NL & 1995 & 0.165\\\\\n\t3 & 2 & NL & 1995 & 0.171\\\\\n\t4 & 2 & NL & 1995 &    NA\\\\\n\t5 & 2 & DM & 1995 & 0.041\\\\\n\t6 & 2 & DM & 1995 & 0.045\\\\\n\\end{tabular}\n",
            "text/markdown": "\nA data.frame: 6 × 4\n\n| <!--/--> | plot_id &lt;int&gt; | species_id &lt;chr&gt; | year &lt;int&gt; | weight_kg &lt;dbl&gt; |\n|---|---|---|---|---|\n| 1 | 2 | NL | 1995 |    NA |\n| 2 | 2 | NL | 1995 | 0.165 |\n| 3 | 2 | NL | 1995 | 0.171 |\n| 4 | 2 | NL | 1995 |    NA |\n| 5 | 2 | DM | 1995 | 0.041 |\n| 6 | 2 | DM | 1995 | 0.045 |\n\n",
            "text/html": [
              "<table class=\"dataframe\">\n",
              "<caption>A data.frame: 6 × 4</caption>\n",
              "<thead>\n",
              "\t<tr><th></th><th scope=col>plot_id</th><th scope=col>species_id</th><th scope=col>year</th><th scope=col>weight_kg</th></tr>\n",
              "\t<tr><th></th><th scope=col>&lt;int&gt;</th><th scope=col>&lt;chr&gt;</th><th scope=col>&lt;int&gt;</th><th scope=col>&lt;dbl&gt;</th></tr>\n",
              "</thead>\n",
              "<tbody>\n",
              "\t<tr><th scope=row>1</th><td>2</td><td>NL</td><td>1995</td><td>   NA</td></tr>\n",
              "\t<tr><th scope=row>2</th><td>2</td><td>NL</td><td>1995</td><td>0.165</td></tr>\n",
              "\t<tr><th scope=row>3</th><td>2</td><td>NL</td><td>1995</td><td>0.171</td></tr>\n",
              "\t<tr><th scope=row>4</th><td>2</td><td>NL</td><td>1995</td><td>   NA</td></tr>\n",
              "\t<tr><th scope=row>5</th><td>2</td><td>DM</td><td>1995</td><td>0.041</td></tr>\n",
              "\t<tr><th scope=row>6</th><td>2</td><td>DM</td><td>1995</td><td>0.045</td></tr>\n",
              "</tbody>\n",
              "</table>\n"
            ]
          },
          "metadata": {}
        }
      ]
    },
    {
      "cell_type": "markdown",
      "metadata": {
        "id": "a7kWqyk1ihAT"
      },
      "source": [
        "# Motivating pipes\n",
        "\n",
        "## Imperative coding pattern - save, save, save!\n",
        "\n",
        "\n",
        "<img width=\"450\" src=\"https://github.com/WSU-DataScience/DSCI_210_R_notebooks/blob/main/img/imperative_pattern.png?raw=1\">\n",
        "\n",
        "This works, but it's not the best approach.\n",
        "- **Problem 1:** Creates lots of temporary variables \n",
        "- **Problem 2:** Messy and lots of overhead\n",
        "    - All the extra *stuff* clouds the meaning/intent of the code "
      ]
    },
    {
      "cell_type": "markdown",
      "metadata": {
        "id": "jQOVwFjUihAU"
      },
      "source": [
        "## Another poor solution - Rewrite to the same data frame"
      ]
    },
    {
      "cell_type": "markdown",
      "metadata": {
        "id": "wZX-_XkIihAU"
      },
      "source": [
        "```{R}\n",
        "surveys <- select(surveys, plot_id, species_id, weight, year)\n",
        "surveys <- filter(surveys, year == 1995)\n",
        "surveys <- mutate(surveys, weight_kg = weight / 1000)\n",
        "```"
      ]
    },
    {
      "cell_type": "markdown",
      "metadata": {
        "id": "dRmKchEUihAU"
      },
      "source": [
        "**Question:** What is the problem with this approach?"
      ]
    },
    {
      "cell_type": "markdown",
      "metadata": {
        "id": "L6JI11XYihAV"
      },
      "source": [
        "### Use a pipe for cleaner code\n",
        "\n",
        "Pipe pushes the data frame through the first position:\n",
        "\n",
        "<img width=\"350\" src=\"https://github.com/WSU-DataScience/DSCI_210_R_notebooks/blob/main/img/pipe1.png?raw=1\">"
      ]
    },
    {
      "cell_type": "markdown",
      "metadata": {
        "id": "03qpYyALihAV"
      },
      "source": [
        "### Imagine an invisible data frame in the first spot...\n",
        "\n",
        "Important Point - Each data frame is NEW\n",
        "\n",
        "<img width=\"350\" src=\"https://github.com/WSU-DataScience/DSCI_210_R_notebooks/blob/main/img/pipe2.png?raw=1\">"
      ]
    },
    {
      "cell_type": "markdown",
      "metadata": {
        "id": "nZPoPz9PihAV"
      },
      "source": [
        "### ... but don't write it!"
      ]
    },
    {
      "cell_type": "code",
      "metadata": {
        "id": "O9fIZX35ihAW",
        "colab": {
          "base_uri": "https://localhost:8080/",
          "height": 283
        },
        "outputId": "1c6a745c-972b-48ee-a71f-71f83b9c3d84"
      },
      "source": [
        "surveys  %>% \n",
        "  select(plot_id, species_id, weight, year) %>%\n",
        "  filter(year == 1995) %>%\n",
        "  mutate(weight_kg = weight / 1000) %>%\n",
        "  head()"
      ],
      "execution_count": 9,
      "outputs": [
        {
          "output_type": "display_data",
          "data": {
            "text/plain": [
              "  plot_id species_id weight year weight_kg\n",
              "1 2       NL          NA    1995    NA    \n",
              "2 2       NL         165    1995 0.165    \n",
              "3 2       NL         171    1995 0.171    \n",
              "4 2       NL          NA    1995    NA    \n",
              "5 2       DM          41    1995 0.041    \n",
              "6 2       DM          45    1995 0.045    "
            ],
            "text/latex": "A data.frame: 6 × 5\n\\begin{tabular}{r|lllll}\n  & plot\\_id & species\\_id & weight & year & weight\\_kg\\\\\n  & <int> & <chr> & <int> & <int> & <dbl>\\\\\n\\hline\n\t1 & 2 & NL &  NA & 1995 &    NA\\\\\n\t2 & 2 & NL & 165 & 1995 & 0.165\\\\\n\t3 & 2 & NL & 171 & 1995 & 0.171\\\\\n\t4 & 2 & NL &  NA & 1995 &    NA\\\\\n\t5 & 2 & DM &  41 & 1995 & 0.041\\\\\n\t6 & 2 & DM &  45 & 1995 & 0.045\\\\\n\\end{tabular}\n",
            "text/markdown": "\nA data.frame: 6 × 5\n\n| <!--/--> | plot_id &lt;int&gt; | species_id &lt;chr&gt; | weight &lt;int&gt; | year &lt;int&gt; | weight_kg &lt;dbl&gt; |\n|---|---|---|---|---|---|\n| 1 | 2 | NL |  NA | 1995 |    NA |\n| 2 | 2 | NL | 165 | 1995 | 0.165 |\n| 3 | 2 | NL | 171 | 1995 | 0.171 |\n| 4 | 2 | NL |  NA | 1995 |    NA |\n| 5 | 2 | DM |  41 | 1995 | 0.041 |\n| 6 | 2 | DM |  45 | 1995 | 0.045 |\n\n",
            "text/html": [
              "<table class=\"dataframe\">\n",
              "<caption>A data.frame: 6 × 5</caption>\n",
              "<thead>\n",
              "\t<tr><th></th><th scope=col>plot_id</th><th scope=col>species_id</th><th scope=col>weight</th><th scope=col>year</th><th scope=col>weight_kg</th></tr>\n",
              "\t<tr><th></th><th scope=col>&lt;int&gt;</th><th scope=col>&lt;chr&gt;</th><th scope=col>&lt;int&gt;</th><th scope=col>&lt;int&gt;</th><th scope=col>&lt;dbl&gt;</th></tr>\n",
              "</thead>\n",
              "<tbody>\n",
              "\t<tr><th scope=row>1</th><td>2</td><td>NL</td><td> NA</td><td>1995</td><td>   NA</td></tr>\n",
              "\t<tr><th scope=row>2</th><td>2</td><td>NL</td><td>165</td><td>1995</td><td>0.165</td></tr>\n",
              "\t<tr><th scope=row>3</th><td>2</td><td>NL</td><td>171</td><td>1995</td><td>0.171</td></tr>\n",
              "\t<tr><th scope=row>4</th><td>2</td><td>NL</td><td> NA</td><td>1995</td><td>   NA</td></tr>\n",
              "\t<tr><th scope=row>5</th><td>2</td><td>DM</td><td> 41</td><td>1995</td><td>0.041</td></tr>\n",
              "\t<tr><th scope=row>6</th><td>2</td><td>DM</td><td> 45</td><td>1995</td><td>0.045</td></tr>\n",
              "</tbody>\n",
              "</table>\n"
            ]
          },
          "metadata": {}
        }
      ]
    },
    {
      "cell_type": "markdown",
      "metadata": {
        "id": "CElG_Cc0ihAW"
      },
      "source": [
        "### My preferred code format"
      ]
    },
    {
      "cell_type": "code",
      "metadata": {
        "id": "YH8_tXU1ihAX"
      },
      "source": [
        "(surveys  \n",
        " %>% select(plot_id, species_id, weight, year) \n",
        " %>% filter(year == 1995) \n",
        " %>% mutate(weight_kg = weight / 1000) \n",
        " %>% head()\n",
        " )"
      ],
      "execution_count": null,
      "outputs": []
    },
    {
      "cell_type": "markdown",
      "metadata": {
        "id": "gDSuiTyVihAX"
      },
      "source": [
        "## <font color=\"red\"> Exercise 2 </font>\n",
        "\n",
        "Write a pipe to perform the following tasks.\n",
        "\n",
        "1. Compute the a weight of all species in lbs.\n",
        "2. Compute the a weight of all species in lbs for each `genus`"
      ]
    },
    {
      "cell_type": "code",
      "metadata": {
        "id": "0wNj1orvihAX"
      },
      "source": [
        "# Your code for task 1 here"
      ],
      "execution_count": null,
      "outputs": []
    },
    {
      "cell_type": "code",
      "metadata": {
        "id": "HtLCA6C7ihAY"
      },
      "source": [
        "# Your code for task 2 here"
      ],
      "execution_count": null,
      "outputs": []
    },
    {
      "cell_type": "markdown",
      "metadata": {
        "id": "OVpLbMkLihAY"
      },
      "source": [
        "# Part 2 - Converting code and types of errors."
      ]
    },
    {
      "cell_type": "markdown",
      "metadata": {
        "id": "9wdw6CclihAY"
      },
      "source": [
        "### You've seen piping before...\n",
        " \n",
        "<img width=\"850\" src=\"https://github.com/WSU-DataScience/DSCI_210_R_notebooks/blob/main/img/openrefine_piping.png?raw=1\">"
      ]
    },
    {
      "cell_type": "markdown",
      "metadata": {
        "id": "s-MfMel7ihAY"
      },
      "source": [
        "### Saving the result of a piped operation"
      ]
    },
    {
      "cell_type": "code",
      "metadata": {
        "id": "r8Gmj_pYihAY"
      },
      "source": [
        "surveys_small <- surveys %>%\n",
        "  filter(weight < 5) %>%\n",
        "  select(species_id, sex, weight)\n",
        "\n",
        "head(surveys_small)"
      ],
      "execution_count": null,
      "outputs": []
    },
    {
      "cell_type": "markdown",
      "metadata": {
        "id": "OrXpJg4eihAZ"
      },
      "source": [
        "### The advantages of piping\n",
        "\n",
        "* reads left-to-right\n",
        "* reads top-to-bottom\n",
        "* Focuses on verbs\n",
        "* Removes pointless nouns"
      ]
    },
    {
      "cell_type": "markdown",
      "metadata": {
        "id": "eDcLOKxhihAZ"
      },
      "source": [
        "### Compare\n",
        "\n",
        "* Imperative\n",
        "* Functional\n",
        "* Piping"
      ]
    },
    {
      "cell_type": "markdown",
      "metadata": {
        "id": "9Gt9GQNBihAZ"
      },
      "source": [
        "### Imperative:"
      ]
    },
    {
      "cell_type": "code",
      "metadata": {
        "id": "QHkno9_zihAa",
        "colab": {
          "base_uri": "https://localhost:8080/",
          "height": 34
        },
        "outputId": "a62e9a36-84af-448e-9593-fc177cc5598a"
      },
      "source": [
        "x <- pi\n",
        "r_x <- round(x, 2)\n",
        "c_x <- as.character(r_x)\n",
        "c_x"
      ],
      "execution_count": 10,
      "outputs": [
        {
          "output_type": "display_data",
          "data": {
            "text/plain": [
              "[1] \"3.14\""
            ],
            "text/latex": "'3.14'",
            "text/markdown": "'3.14'",
            "text/html": [
              "'3.14'"
            ]
          },
          "metadata": {}
        }
      ]
    },
    {
      "cell_type": "markdown",
      "metadata": {
        "id": "oPHoXGtIihAa"
      },
      "source": [
        "### Functional:"
      ]
    },
    {
      "cell_type": "code",
      "metadata": {
        "id": "DRD7lBqyihAa",
        "colab": {
          "base_uri": "https://localhost:8080/",
          "height": 34
        },
        "outputId": "9debb43e-0412-4ef2-8202-97ab66917b4e"
      },
      "source": [
        "as.character(round(pi, 2))"
      ],
      "execution_count": 11,
      "outputs": [
        {
          "output_type": "display_data",
          "data": {
            "text/plain": [
              "[1] \"3.14\""
            ],
            "text/latex": "'3.14'",
            "text/markdown": "'3.14'",
            "text/html": [
              "'3.14'"
            ]
          },
          "metadata": {}
        }
      ]
    },
    {
      "cell_type": "markdown",
      "metadata": {
        "id": "jQHLv4TQihAa"
      },
      "source": [
        "### Piping:"
      ]
    },
    {
      "cell_type": "code",
      "metadata": {
        "id": "DnoK1CJnihAb",
        "colab": {
          "base_uri": "https://localhost:8080/",
          "height": 34
        },
        "outputId": "6ed73bf4-eb05-4b6a-bf7b-9cff3f74fec3"
      },
      "source": [
        "pi %>%\n",
        "  round(2) %>%\n",
        "  as.character"
      ],
      "execution_count": 12,
      "outputs": [
        {
          "output_type": "display_data",
          "data": {
            "text/plain": [
              "[1] \"3.14\""
            ],
            "text/latex": "'3.14'",
            "text/markdown": "'3.14'",
            "text/html": [
              "'3.14'"
            ]
          },
          "metadata": {}
        }
      ]
    },
    {
      "cell_type": "markdown",
      "metadata": {
        "id": "mG0w_dvMihAb"
      },
      "source": [
        "## Example 1 - Converting to pipes"
      ]
    },
    {
      "cell_type": "code",
      "metadata": {
        "id": "DcF7RDyvihAb",
        "colab": {
          "base_uri": "https://localhost:8080/",
          "height": 283
        },
        "outputId": "84beb77a-dac7-42b5-8ca7-1d266ccde869"
      },
      "source": [
        "surveys_small <- filter(surveys, weight < 5) \n",
        "survey_small_id_sex_wgt <- select(surveys_small, species_id, sex, weight)\n",
        "head(survey_small_id_sex_wgt)"
      ],
      "execution_count": 13,
      "outputs": [
        {
          "output_type": "display_data",
          "data": {
            "text/plain": [
              "  species_id sex weight\n",
              "1 PF         F   4     \n",
              "2 PF         F   4     \n",
              "3 PF         M   4     \n",
              "4 RM         F   4     \n",
              "5 RM         M   4     \n",
              "6 PF             4     "
            ],
            "text/latex": "A data.frame: 6 × 3\n\\begin{tabular}{r|lll}\n  & species\\_id & sex & weight\\\\\n  & <chr> & <chr> & <int>\\\\\n\\hline\n\t1 & PF & F & 4\\\\\n\t2 & PF & F & 4\\\\\n\t3 & PF & M & 4\\\\\n\t4 & RM & F & 4\\\\\n\t5 & RM & M & 4\\\\\n\t6 & PF &   & 4\\\\\n\\end{tabular}\n",
            "text/markdown": "\nA data.frame: 6 × 3\n\n| <!--/--> | species_id &lt;chr&gt; | sex &lt;chr&gt; | weight &lt;int&gt; |\n|---|---|---|---|\n| 1 | PF | F | 4 |\n| 2 | PF | F | 4 |\n| 3 | PF | M | 4 |\n| 4 | RM | F | 4 |\n| 5 | RM | M | 4 |\n| 6 | PF | <!----> | 4 |\n\n",
            "text/html": [
              "<table class=\"dataframe\">\n",
              "<caption>A data.frame: 6 × 3</caption>\n",
              "<thead>\n",
              "\t<tr><th></th><th scope=col>species_id</th><th scope=col>sex</th><th scope=col>weight</th></tr>\n",
              "\t<tr><th></th><th scope=col>&lt;chr&gt;</th><th scope=col>&lt;chr&gt;</th><th scope=col>&lt;int&gt;</th></tr>\n",
              "</thead>\n",
              "<tbody>\n",
              "\t<tr><th scope=row>1</th><td>PF</td><td>F</td><td>4</td></tr>\n",
              "\t<tr><th scope=row>2</th><td>PF</td><td>F</td><td>4</td></tr>\n",
              "\t<tr><th scope=row>3</th><td>PF</td><td>M</td><td>4</td></tr>\n",
              "\t<tr><th scope=row>4</th><td>RM</td><td>F</td><td>4</td></tr>\n",
              "\t<tr><th scope=row>5</th><td>RM</td><td>M</td><td>4</td></tr>\n",
              "\t<tr><th scope=row>6</th><td>PF</td><td> </td><td>4</td></tr>\n",
              "</tbody>\n",
              "</table>\n"
            ]
          },
          "metadata": {}
        }
      ]
    },
    {
      "cell_type": "code",
      "metadata": {
        "id": "6mcgQ3ogihAb"
      },
      "source": [
        "# Convert to piped code"
      ],
      "execution_count": null,
      "outputs": []
    },
    {
      "cell_type": "markdown",
      "metadata": {
        "id": "9lDTzww9ihAb"
      },
      "source": [
        "## Example 2 - Converting to imperative"
      ]
    },
    {
      "cell_type": "code",
      "metadata": {
        "id": "cqcujEKSihAb",
        "colab": {
          "base_uri": "https://localhost:8080/",
          "height": 283
        },
        "outputId": "4036489d-3878-4cde-fdfc-7a117b82ce85"
      },
      "source": [
        "surveys_small <- surveys %>%\n",
        "  filter(species_id == 'NL') %>%\n",
        "  select(species_id, sex, weight)\n",
        "\n",
        "head(surveys_small)"
      ],
      "execution_count": 14,
      "outputs": [
        {
          "output_type": "display_data",
          "data": {
            "text/plain": [
              "  species_id sex weight\n",
              "1 NL         M   NA    \n",
              "2 NL         M   NA    \n",
              "3 NL             NA    \n",
              "4 NL             NA    \n",
              "5 NL             NA    \n",
              "6 NL             NA    "
            ],
            "text/latex": "A data.frame: 6 × 3\n\\begin{tabular}{r|lll}\n  & species\\_id & sex & weight\\\\\n  & <chr> & <chr> & <int>\\\\\n\\hline\n\t1 & NL & M & NA\\\\\n\t2 & NL & M & NA\\\\\n\t3 & NL &   & NA\\\\\n\t4 & NL &   & NA\\\\\n\t5 & NL &   & NA\\\\\n\t6 & NL &   & NA\\\\\n\\end{tabular}\n",
            "text/markdown": "\nA data.frame: 6 × 3\n\n| <!--/--> | species_id &lt;chr&gt; | sex &lt;chr&gt; | weight &lt;int&gt; |\n|---|---|---|---|\n| 1 | NL | M | NA |\n| 2 | NL | M | NA |\n| 3 | NL | <!----> | NA |\n| 4 | NL | <!----> | NA |\n| 5 | NL | <!----> | NA |\n| 6 | NL | <!----> | NA |\n\n",
            "text/html": [
              "<table class=\"dataframe\">\n",
              "<caption>A data.frame: 6 × 3</caption>\n",
              "<thead>\n",
              "\t<tr><th></th><th scope=col>species_id</th><th scope=col>sex</th><th scope=col>weight</th></tr>\n",
              "\t<tr><th></th><th scope=col>&lt;chr&gt;</th><th scope=col>&lt;chr&gt;</th><th scope=col>&lt;int&gt;</th></tr>\n",
              "</thead>\n",
              "<tbody>\n",
              "\t<tr><th scope=row>1</th><td>NL</td><td>M</td><td>NA</td></tr>\n",
              "\t<tr><th scope=row>2</th><td>NL</td><td>M</td><td>NA</td></tr>\n",
              "\t<tr><th scope=row>3</th><td>NL</td><td> </td><td>NA</td></tr>\n",
              "\t<tr><th scope=row>4</th><td>NL</td><td> </td><td>NA</td></tr>\n",
              "\t<tr><th scope=row>5</th><td>NL</td><td> </td><td>NA</td></tr>\n",
              "\t<tr><th scope=row>6</th><td>NL</td><td> </td><td>NA</td></tr>\n",
              "</tbody>\n",
              "</table>\n"
            ]
          },
          "metadata": {}
        }
      ]
    },
    {
      "cell_type": "code",
      "metadata": {
        "id": "mvkpAMgxihAc"
      },
      "source": [
        "# Convert to imperative"
      ],
      "execution_count": null,
      "outputs": []
    },
    {
      "cell_type": "markdown",
      "metadata": {
        "id": "i9xSkGA1ihAc"
      },
      "source": [
        "## Example 3 - Converting to functional"
      ]
    },
    {
      "cell_type": "code",
      "metadata": {
        "id": "VBnzmc5ZihAc",
        "colab": {
          "base_uri": "https://localhost:8080/",
          "height": 283
        },
        "outputId": "5add21e5-4563-417e-cfb4-cf077b5fcf62"
      },
      "source": [
        "surveys_small <- surveys %>%\n",
        "  filter(weight < 5) %>%\n",
        "  select(species_id, sex, weight)\n",
        "\n",
        "head(surveys_small)"
      ],
      "execution_count": 15,
      "outputs": [
        {
          "output_type": "display_data",
          "data": {
            "text/plain": [
              "  species_id sex weight\n",
              "1 PF         F   4     \n",
              "2 PF         F   4     \n",
              "3 PF         M   4     \n",
              "4 RM         F   4     \n",
              "5 RM         M   4     \n",
              "6 PF             4     "
            ],
            "text/latex": "A data.frame: 6 × 3\n\\begin{tabular}{r|lll}\n  & species\\_id & sex & weight\\\\\n  & <chr> & <chr> & <int>\\\\\n\\hline\n\t1 & PF & F & 4\\\\\n\t2 & PF & F & 4\\\\\n\t3 & PF & M & 4\\\\\n\t4 & RM & F & 4\\\\\n\t5 & RM & M & 4\\\\\n\t6 & PF &   & 4\\\\\n\\end{tabular}\n",
            "text/markdown": "\nA data.frame: 6 × 3\n\n| <!--/--> | species_id &lt;chr&gt; | sex &lt;chr&gt; | weight &lt;int&gt; |\n|---|---|---|---|\n| 1 | PF | F | 4 |\n| 2 | PF | F | 4 |\n| 3 | PF | M | 4 |\n| 4 | RM | F | 4 |\n| 5 | RM | M | 4 |\n| 6 | PF | <!----> | 4 |\n\n",
            "text/html": [
              "<table class=\"dataframe\">\n",
              "<caption>A data.frame: 6 × 3</caption>\n",
              "<thead>\n",
              "\t<tr><th></th><th scope=col>species_id</th><th scope=col>sex</th><th scope=col>weight</th></tr>\n",
              "\t<tr><th></th><th scope=col>&lt;chr&gt;</th><th scope=col>&lt;chr&gt;</th><th scope=col>&lt;int&gt;</th></tr>\n",
              "</thead>\n",
              "<tbody>\n",
              "\t<tr><th scope=row>1</th><td>PF</td><td>F</td><td>4</td></tr>\n",
              "\t<tr><th scope=row>2</th><td>PF</td><td>F</td><td>4</td></tr>\n",
              "\t<tr><th scope=row>3</th><td>PF</td><td>M</td><td>4</td></tr>\n",
              "\t<tr><th scope=row>4</th><td>RM</td><td>F</td><td>4</td></tr>\n",
              "\t<tr><th scope=row>5</th><td>RM</td><td>M</td><td>4</td></tr>\n",
              "\t<tr><th scope=row>6</th><td>PF</td><td> </td><td>4</td></tr>\n",
              "</tbody>\n",
              "</table>\n"
            ]
          },
          "metadata": {}
        }
      ]
    },
    {
      "cell_type": "code",
      "metadata": {
        "id": "sYI4AJ9MihAd"
      },
      "source": [
        "# Convert to imperative"
      ],
      "execution_count": null,
      "outputs": []
    },
    {
      "cell_type": "markdown",
      "metadata": {
        "id": "ysPH1OJEihAd"
      },
      "source": [
        "## <font color=\"red\"> Exercise 2 </font>\n",
        "\n",
        "Perform each of the following code conversions."
      ]
    },
    {
      "cell_type": "code",
      "metadata": {
        "id": "c--UUpl4ihAd"
      },
      "source": [
        "sales <- read.csv('https://github.com/WSU-DataScience/DSCI_210_R_notebooks/raw/main/auto_sales.csv')\n",
        "head(sales)"
      ],
      "execution_count": null,
      "outputs": []
    },
    {
      "cell_type": "markdown",
      "metadata": {
        "id": "wLkmIHr8ihAd"
      },
      "source": [
        "#### <font color=\"red\">TASK 1</font>. Convert the following *piped code* to the *imperative style*"
      ]
    },
    {
      "cell_type": "code",
      "metadata": {
        "id": "GNpFwdAjihAe"
      },
      "source": [
        "sales %>%\n",
        "    select(Salesperson, Compact, Sedan) %>%\n",
        "    mutate(Car = Compact + Sedan) "
      ],
      "execution_count": null,
      "outputs": []
    },
    {
      "cell_type": "code",
      "metadata": {
        "id": "LufAaHWfihAe"
      },
      "source": [
        "# Your code here"
      ],
      "execution_count": null,
      "outputs": []
    },
    {
      "cell_type": "markdown",
      "metadata": {
        "id": "RL1MTMBKihAe"
      },
      "source": [
        "#### <font color=\"red\">TASK 2</font>. Convert the following *imperative code* to the *piped style*"
      ]
    },
    {
      "cell_type": "code",
      "metadata": {
        "id": "dUKg0E_zihAe"
      },
      "source": [
        "df2 <- mutate(sales, Car = Compact + Sedan)\n",
        "df3 <- mutate(df2, Utility = SUV + Truck)\n",
        "df4 <- select(df3, Salesperson, Car, Utility)\n",
        "head(df4)"
      ],
      "execution_count": null,
      "outputs": []
    },
    {
      "cell_type": "code",
      "metadata": {
        "id": "00T9PwNHihAe"
      },
      "source": [
        "# Your code here"
      ],
      "execution_count": null,
      "outputs": []
    },
    {
      "cell_type": "markdown",
      "metadata": {
        "id": "CyILabYJihAf"
      },
      "source": [
        "Types of programming errors\n",
        "========================================================\n",
        "\n",
        "* Name errors\n",
        "* Syntax errors\n",
        "* Semantic errors (hardest/worst)"
      ]
    },
    {
      "cell_type": "markdown",
      "metadata": {
        "id": "D5hwQuIkihAf"
      },
      "source": [
        "### Name Errors - Using the wrong name"
      ]
    },
    {
      "cell_type": "code",
      "metadata": {
        "id": "zDKam4WgihAf"
      },
      "source": [
        "sales <- read.csv('https://github.com/WSU-DataScience/DSCI_210_R_notebooks/raw/main/auto_sales.csv')\n",
        "head(sales)"
      ],
      "execution_count": null,
      "outputs": []
    },
    {
      "cell_type": "markdown",
      "metadata": {
        "id": "L-Wq4F9XihAf"
      },
      "source": [
        "##  Find the name errors"
      ]
    },
    {
      "cell_type": "code",
      "metadata": {
        "scrolled": true,
        "id": "A9NCyTe6ihAf"
      },
      "source": [
        "sales %>%\n",
        "  select(salesperson, sedan)"
      ],
      "execution_count": null,
      "outputs": []
    },
    {
      "cell_type": "markdown",
      "metadata": {
        "id": "XpUWZTfuihAf"
      },
      "source": [
        "### Syntax errors - Incorrect syntax"
      ]
    },
    {
      "cell_type": "code",
      "metadata": {
        "id": "tVE82GRdihAf"
      },
      "source": [
        "head(sales"
      ],
      "execution_count": null,
      "outputs": []
    },
    {
      "cell_type": "markdown",
      "metadata": {
        "id": "bPH3WLLsihAg"
      },
      "source": [
        "##  Find the syntax errors "
      ]
    },
    {
      "cell_type": "code",
      "metadata": {
        "id": "2eA_sSdOihAg"
      },
      "source": [
        "# Find the syntax error\n",
        "sales %>%\n",
        "  mutate(monthly_sedan = Sedan/3,\n",
        "         monthly_suv = SUV/3\n",
        "         monthly_truck = Truck/3"
      ],
      "execution_count": null,
      "outputs": []
    },
    {
      "cell_type": "markdown",
      "metadata": {
        "id": "o9xtnhjiihAg"
      },
      "source": [
        "### Semantic Errors - Correct code, wrong meaning"
      ]
    },
    {
      "cell_type": "code",
      "metadata": {
        "id": "EFbYXnbmihAg"
      },
      "source": [
        "# Find the semantic errors\n",
        "sales %>%\n",
        "  group_by(Salesperson) %>%\n",
        "  mutate(avg_sedan = median(Truck))"
      ],
      "execution_count": null,
      "outputs": []
    },
    {
      "cell_type": "markdown",
      "metadata": {
        "id": "0WD7nCLEihAg"
      },
      "source": [
        "## <font color=\"red\"> Exercise 3 </font>\n",
        "\n",
        "Identify all of the errors and classify each as either a name, syntax, or semantic error."
      ]
    },
    {
      "cell_type": "code",
      "metadata": {
        "id": "M_Nz8AxKihAh"
      },
      "source": [
        "sales %>%\n",
        "    mutate(Car = compact + sedan) %>%\n",
        "    mutate(Utility = SUV * Truck %>%"
      ],
      "execution_count": null,
      "outputs": []
    },
    {
      "cell_type": "markdown",
      "metadata": {
        "id": "gc9uYcNAihAh"
      },
      "source": [
        "> Your answer here"
      ]
    }
  ]
}