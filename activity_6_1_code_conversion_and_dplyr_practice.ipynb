{
  "nbformat": 4,
  "nbformat_minor": 0,
  "metadata": {
    "kernelspec": {
      "display_name": "R",
      "language": "R",
      "name": "ir"
    },
    "language_info": {
      "codemirror_mode": "r",
      "file_extension": ".r",
      "mimetype": "text/x-r-source",
      "name": "R",
      "pygments_lexer": "r",
      "version": "3.5.1"
    },
    "colab": {
      "name": "activity_6_1_code_conversion_and_dplyr_practice.ipynb",
      "provenance": []
    }
  },
  "cells": [
    {
      "cell_type": "markdown",
      "metadata": {
        "id": "y7Uw0TxKiDdw"
      },
      "source": [
        "# Activity 6.1 - Code conversion and `dplyr` practice"
      ]
    },
    {
      "cell_type": "code",
      "metadata": {
        "id": "_pm3yK0piDd0"
      },
      "source": [
        "library('dplyr')"
      ],
      "execution_count": null,
      "outputs": []
    },
    {
      "cell_type": "code",
      "metadata": {
        "id": "xpn1nF8wiDd2"
      },
      "source": [
        "surveys <- read.csv('https://github.com/WSU-DataScience/DSCI_210_R_notebooks/raw/main/data/portal_data_joined.csv')\n",
        "head(surveys)"
      ],
      "execution_count": null,
      "outputs": []
    },
    {
      "cell_type": "markdown",
      "metadata": {
        "id": "8kAcHWTpiDd3"
      },
      "source": [
        "## Problem 1\n",
        "\n",
        "\n",
        "Consider the following code that uses piping:\n",
        "  "
      ]
    },
    {
      "cell_type": "code",
      "metadata": {
        "scrolled": true,
        "id": "LxuxMvVmiDd3"
      },
      "source": [
        "surveys %>%\n",
        "  filter(weight < 5) %>%\n",
        "  select(species_id, sex, weight)"
      ],
      "execution_count": null,
      "outputs": []
    },
    {
      "cell_type": "markdown",
      "metadata": {
        "id": "Q7pVHpyliDd4"
      },
      "source": [
        "### A. Write an imperative version of this code.  "
      ]
    },
    {
      "cell_type": "code",
      "metadata": {
        "id": "L-0QKexHiDd4"
      },
      "source": [
        "# Your code here\n",
        "surveys2 <- filter(surveys, weight < 5)\n",
        "surveys3 <- select(surveys2, species_id, sex, weight)"
      ],
      "execution_count": null,
      "outputs": []
    },
    {
      "cell_type": "markdown",
      "metadata": {
        "id": "511Jg0mwiDd5"
      },
      "source": [
        "### B. Write a functional version of this code.  "
      ]
    },
    {
      "cell_type": "code",
      "metadata": {
        "id": "N5FFnx5ziDd5"
      },
      "source": [
        "# Your code here"
      ],
      "execution_count": null,
      "outputs": []
    },
    {
      "cell_type": "markdown",
      "metadata": {
        "id": "qNeGO7RRiDd6"
      },
      "source": [
        "Now consider the following imperative code:"
      ]
    },
    {
      "cell_type": "code",
      "metadata": {
        "id": "NfEu8Y58iDd6"
      },
      "source": [
        "x <- rnorm(100)\n",
        "x_rounded <- round(x, 1)\n",
        "x_rounded_sorted <- sort(x_rounded)\n",
        "x_rounded_sorted_smallest10 <- head(x_rounded_sorted, 10)\n",
        "sum_x_rounded_sorted_smallest10 <- sum(x_rounded_sorted_smallest10)"
      ],
      "execution_count": null,
      "outputs": []
    },
    {
      "cell_type": "markdown",
      "metadata": {
        "id": "930I5ZSsiDd6"
      },
      "source": [
        "### C. Write a functional version of this code.  "
      ]
    },
    {
      "cell_type": "code",
      "metadata": {
        "id": "YRqyw4LfiDd7"
      },
      "source": [
        "# Your code here"
      ],
      "execution_count": null,
      "outputs": []
    },
    {
      "cell_type": "markdown",
      "metadata": {
        "id": "M68Fh44AiDd7"
      },
      "source": [
        "### D. Write a version of this code that uses piping. "
      ]
    },
    {
      "cell_type": "code",
      "metadata": {
        "id": "d_DD4077iDd7"
      },
      "source": [
        "# Your code here"
      ],
      "execution_count": null,
      "outputs": []
    },
    {
      "cell_type": "markdown",
      "metadata": {
        "id": "rUJlh47uiDd8"
      },
      "source": [
        "## Problem 2\n",
        "  Create a new data frame from the `surveys` data that meets the following criteria: \n",
        "  \n",
        "- The data frame contains only the **`species_id`** column and a new column named  **`hindfoot_half`**.\n",
        "- The new column **`'hindfoot_half`** should be created so that its values are half the **`hindfoot_length`** values.\n",
        "- Finally, all rows in this data frame should have values of `hindfoot_half` that are less than 30.\n",
        "\n",
        "Hint: think about how the commands should be ordered to produce this data frame!\n",
        "  \n",
        "  "
      ]
    },
    {
      "cell_type": "code",
      "metadata": {
        "id": "ikYd5khpiDd8",
        "outputId": "2713f086-0e30-4492-f648-026976a6e048",
        "colab": {
          "base_uri": "https://localhost:8080/",
          "height": 717
        }
      },
      "source": [
        "# Your code here"
      ],
      "execution_count": 23,
      "outputs": [
        {
          "output_type": "display_data",
          "data": {
            "text/plain": [
              "   species_id hindfoot_half\n",
              "1  NL         16.0         \n",
              "2  NL         15.5         \n",
              "3  NL         16.0         \n",
              "4  NL         17.0         \n",
              "5  NL         16.0         \n",
              "6  NL         16.5         \n",
              "7  NL         16.0         \n",
              "8  NL         16.0         \n",
              "9  NL         16.5         \n",
              "10 NL         15.0         \n",
              "11 NL         16.5         \n",
              "12 NL         15.5         \n",
              "13 NL         16.5         \n",
              "14 NL         15.0         \n",
              "15 NL         17.0         \n",
              "16 NL         17.0         \n",
              "17 NL         16.0         \n",
              "18 NL         17.0         \n",
              "19 NL         16.5         \n",
              "20 NL         15.5         "
            ],
            "text/latex": "A data.frame: 20 × 2\n\\begin{tabular}{r|ll}\n  & species\\_id & hindfoot\\_half\\\\\n  & <chr> & <dbl>\\\\\n\\hline\n\t1 & NL & 16.0\\\\\n\t2 & NL & 15.5\\\\\n\t3 & NL & 16.0\\\\\n\t4 & NL & 17.0\\\\\n\t5 & NL & 16.0\\\\\n\t6 & NL & 16.5\\\\\n\t7 & NL & 16.0\\\\\n\t8 & NL & 16.0\\\\\n\t9 & NL & 16.5\\\\\n\t10 & NL & 15.0\\\\\n\t11 & NL & 16.5\\\\\n\t12 & NL & 15.5\\\\\n\t13 & NL & 16.5\\\\\n\t14 & NL & 15.0\\\\\n\t15 & NL & 17.0\\\\\n\t16 & NL & 17.0\\\\\n\t17 & NL & 16.0\\\\\n\t18 & NL & 17.0\\\\\n\t19 & NL & 16.5\\\\\n\t20 & NL & 15.5\\\\\n\\end{tabular}\n",
            "text/markdown": "\nA data.frame: 20 × 2\n\n| <!--/--> | species_id &lt;chr&gt; | hindfoot_half &lt;dbl&gt; |\n|---|---|---|\n| 1 | NL | 16.0 |\n| 2 | NL | 15.5 |\n| 3 | NL | 16.0 |\n| 4 | NL | 17.0 |\n| 5 | NL | 16.0 |\n| 6 | NL | 16.5 |\n| 7 | NL | 16.0 |\n| 8 | NL | 16.0 |\n| 9 | NL | 16.5 |\n| 10 | NL | 15.0 |\n| 11 | NL | 16.5 |\n| 12 | NL | 15.5 |\n| 13 | NL | 16.5 |\n| 14 | NL | 15.0 |\n| 15 | NL | 17.0 |\n| 16 | NL | 17.0 |\n| 17 | NL | 16.0 |\n| 18 | NL | 17.0 |\n| 19 | NL | 16.5 |\n| 20 | NL | 15.5 |\n\n",
            "text/html": [
              "<table class=\"dataframe\">\n",
              "<caption>A data.frame: 20 × 2</caption>\n",
              "<thead>\n",
              "\t<tr><th></th><th scope=col>species_id</th><th scope=col>hindfoot_half</th></tr>\n",
              "\t<tr><th></th><th scope=col>&lt;chr&gt;</th><th scope=col>&lt;dbl&gt;</th></tr>\n",
              "</thead>\n",
              "<tbody>\n",
              "\t<tr><th scope=row>1</th><td>NL</td><td>16.0</td></tr>\n",
              "\t<tr><th scope=row>2</th><td>NL</td><td>15.5</td></tr>\n",
              "\t<tr><th scope=row>3</th><td>NL</td><td>16.0</td></tr>\n",
              "\t<tr><th scope=row>4</th><td>NL</td><td>17.0</td></tr>\n",
              "\t<tr><th scope=row>5</th><td>NL</td><td>16.0</td></tr>\n",
              "\t<tr><th scope=row>6</th><td>NL</td><td>16.5</td></tr>\n",
              "\t<tr><th scope=row>7</th><td>NL</td><td>16.0</td></tr>\n",
              "\t<tr><th scope=row>8</th><td>NL</td><td>16.0</td></tr>\n",
              "\t<tr><th scope=row>9</th><td>NL</td><td>16.5</td></tr>\n",
              "\t<tr><th scope=row>10</th><td>NL</td><td>15.0</td></tr>\n",
              "\t<tr><th scope=row>11</th><td>NL</td><td>16.5</td></tr>\n",
              "\t<tr><th scope=row>12</th><td>NL</td><td>15.5</td></tr>\n",
              "\t<tr><th scope=row>13</th><td>NL</td><td>16.5</td></tr>\n",
              "\t<tr><th scope=row>14</th><td>NL</td><td>15.0</td></tr>\n",
              "\t<tr><th scope=row>15</th><td>NL</td><td>17.0</td></tr>\n",
              "\t<tr><th scope=row>16</th><td>NL</td><td>17.0</td></tr>\n",
              "\t<tr><th scope=row>17</th><td>NL</td><td>16.0</td></tr>\n",
              "\t<tr><th scope=row>18</th><td>NL</td><td>17.0</td></tr>\n",
              "\t<tr><th scope=row>19</th><td>NL</td><td>16.5</td></tr>\n",
              "\t<tr><th scope=row>20</th><td>NL</td><td>15.5</td></tr>\n",
              "</tbody>\n",
              "</table>\n"
            ]
          },
          "metadata": {}
        }
      ]
    }
  ]
}