{
  "nbformat": 4,
  "nbformat_minor": 0,
  "metadata": {
    "kernelspec": {
      "display_name": "R",
      "language": "R",
      "name": "ir"
    },
    "language_info": {
      "codemirror_mode": "r",
      "file_extension": ".r",
      "mimetype": "text/x-r-source",
      "name": "R",
      "pygments_lexer": "r",
      "version": "3.5.1"
    },
    "colab": {
      "name": "activity_6_1_code_conversion_and_dplyr_practice.ipynb",
      "provenance": [],
      "include_colab_link": true
    }
  },
  "cells": [
    {
      "cell_type": "markdown",
      "metadata": {
        "id": "view-in-github",
        "colab_type": "text"
      },
      "source": [
        "<a href=\"https://colab.research.google.com/github/thooks630/DSCI_210_R_notebooks/blob/main/activity_6_1_code_conversion_and_dplyr_practice.ipynb\" target=\"_parent\"><img src=\"https://colab.research.google.com/assets/colab-badge.svg\" alt=\"Open In Colab\"/></a>"
      ]
    },
    {
      "cell_type": "markdown",
      "metadata": {
        "id": "y7Uw0TxKiDdw"
      },
      "source": [
        "# Activity 6.1 - Code conversion and `dplyr` practice"
      ]
    },
    {
      "cell_type": "code",
      "metadata": {
        "id": "_pm3yK0piDd0"
      },
      "source": [
        "library('dplyr')"
      ],
      "execution_count": null,
      "outputs": []
    },
    {
      "cell_type": "code",
      "metadata": {
        "id": "xpn1nF8wiDd2"
      },
      "source": [
        "surveys <- read.csv('https://github.com/WSU-DataScience/DSCI_210_R_notebooks/raw/main/data/portal_data_joined.csv')\n",
        "head(surveys)"
      ],
      "execution_count": null,
      "outputs": []
    },
    {
      "cell_type": "markdown",
      "metadata": {
        "id": "8kAcHWTpiDd3"
      },
      "source": [
        "## Problem 1\n",
        "\n",
        "\n",
        "Consider the following code that uses piping:\n",
        "  "
      ]
    },
    {
      "cell_type": "code",
      "metadata": {
        "scrolled": true,
        "id": "LxuxMvVmiDd3"
      },
      "source": [
        "surveys %>%\n",
        "  filter(weight < 5) %>%\n",
        "  select(species_id, sex, weight)"
      ],
      "execution_count": null,
      "outputs": []
    },
    {
      "cell_type": "markdown",
      "metadata": {
        "id": "Q7pVHpyliDd4"
      },
      "source": [
        "### A. Write an imperative version of this code.  "
      ]
    },
    {
      "cell_type": "code",
      "metadata": {
        "id": "L-0QKexHiDd4"
      },
      "source": [
        "# Your code here"
      ],
      "execution_count": null,
      "outputs": []
    },
    {
      "cell_type": "markdown",
      "metadata": {
        "id": "511Jg0mwiDd5"
      },
      "source": [
        "### B. Write a functional version of this code.  "
      ]
    },
    {
      "cell_type": "code",
      "metadata": {
        "id": "N5FFnx5ziDd5"
      },
      "source": [
        "# Your code here"
      ],
      "execution_count": null,
      "outputs": []
    },
    {
      "cell_type": "markdown",
      "metadata": {
        "id": "qNeGO7RRiDd6"
      },
      "source": [
        "Now consider the following imperative code:"
      ]
    },
    {
      "cell_type": "code",
      "metadata": {
        "id": "NfEu8Y58iDd6"
      },
      "source": [
        "x <- rnorm(100)\n",
        "x_rounded <- round(x, 1)\n",
        "x_rounded_sorted <- sort(x_rounded)\n",
        "x_rounded_sorted_smallest10 <- head(x_rounded_sorted, 10)\n",
        "sum_x_rounded_sorted_smallest10 <- sum(x_rounded_sorted_smallest10)"
      ],
      "execution_count": null,
      "outputs": []
    },
    {
      "cell_type": "markdown",
      "metadata": {
        "id": "930I5ZSsiDd6"
      },
      "source": [
        "### C. Write a functional version of this code.  "
      ]
    },
    {
      "cell_type": "code",
      "metadata": {
        "id": "YRqyw4LfiDd7"
      },
      "source": [
        "# Your code here"
      ],
      "execution_count": null,
      "outputs": []
    },
    {
      "cell_type": "markdown",
      "metadata": {
        "id": "M68Fh44AiDd7"
      },
      "source": [
        "### D. Write a version of this code that uses piping. "
      ]
    },
    {
      "cell_type": "code",
      "metadata": {
        "id": "d_DD4077iDd7"
      },
      "source": [
        "# Your code here"
      ],
      "execution_count": null,
      "outputs": []
    },
    {
      "cell_type": "markdown",
      "metadata": {
        "id": "rUJlh47uiDd8"
      },
      "source": [
        "## Problem 2\n",
        "  Create a new data frame from the `surveys` data that meets the following criteria: \n",
        "  \n",
        "- The data frame contains only the **`species_id`** column and a new column named  **`hindfoot_half`**.\n",
        "- The new column **`'hindfoot_half`** should be created so that its values are half the **`hindfoot_length`** values.\n",
        "- Finally, all rows in this data frame should have values of `hindfoot_half` that are less than 30.\n",
        "\n",
        "Hint: think about how the commands should be ordered to produce this data frame!\n",
        "  \n",
        "  "
      ]
    },
    {
      "cell_type": "code",
      "metadata": {
        "id": "ikYd5khpiDd8"
      },
      "source": [
        "# Your code here"
      ],
      "execution_count": null,
      "outputs": []
    }
  ]
}