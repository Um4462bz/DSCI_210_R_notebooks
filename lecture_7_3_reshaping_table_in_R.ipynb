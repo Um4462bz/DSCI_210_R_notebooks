{
  "nbformat": 4,
  "nbformat_minor": 0,
  "metadata": {
    "kernelspec": {
      "display_name": "R",
      "language": "R",
      "name": "ir"
    },
    "language_info": {
      "codemirror_mode": "r",
      "file_extension": ".r",
      "mimetype": "text/x-r-source",
      "name": "R",
      "pygments_lexer": "r",
      "version": "3.5.1"
    },
    "colab": {
      "name": "lecture_7_3_reshaping_table_in_R.ipynb",
      "provenance": [],
      "include_colab_link": true
    }
  },
  "cells": [
    {
      "cell_type": "markdown",
      "metadata": {
        "id": "view-in-github",
        "colab_type": "text"
      },
      "source": [
        "<a href=\"https://colab.research.google.com/github/thooks630/DSCI_210_R_notebooks/blob/main/lecture_7_3_reshaping_table_in_R.ipynb\" target=\"_parent\"><img src=\"https://colab.research.google.com/assets/colab-badge.svg\" alt=\"Open In Colab\"/></a>"
      ]
    },
    {
      "cell_type": "markdown",
      "metadata": {
        "id": "-HPxfEvlZGHY"
      },
      "source": [
        "# Stacking and Unstacking in R"
      ]
    },
    {
      "cell_type": "markdown",
      "metadata": {
        "id": "yapNSxNxZGHZ"
      },
      "source": [
        "# Stack and Unstack\n",
        "\n",
        "\n",
        "In the `tidyr` package:\n",
        "* Stack $\\rightarrow$ `gather`\n",
        "* Unstack $\\rightarrow$ `spread` "
      ]
    },
    {
      "cell_type": "code",
      "metadata": {
        "id": "pdQXu2evZGHa"
      },
      "source": [
        "library(dplyr)\n",
        "library(tidyr)"
      ],
      "execution_count": null,
      "outputs": []
    },
    {
      "cell_type": "markdown",
      "metadata": {
        "id": "TtJPMj9jZGHb"
      },
      "source": [
        "## Stacking columns with `gather()`\n",
        "\n",
        "The function `gather` from the `tidyr` library is used to stack columns."
      ]
    },
    {
      "cell_type": "markdown",
      "metadata": {
        "id": "LeA8VMSbZGHc"
      },
      "source": [
        "The arguments are:\n",
        "\n",
        "1. label column name \n",
        "2. data column name\n",
        "3. then a list of columns to stack"
      ]
    },
    {
      "cell_type": "markdown",
      "metadata": {
        "id": "IAbsVNGAZGHc"
      },
      "source": [
        "##### Imperative syntax:\n",
        "```{R}\n",
        "new_df <- gather(old_df, key = \"type_label\", value = \"data_label\", col1, col2, col3, ...)\n",
        "```"
      ]
    },
    {
      "cell_type": "markdown",
      "metadata": {
        "id": "gQWGhxKJZGHd"
      },
      "source": [
        "##### Piping syntax:\n",
        "```{R}\n",
        "data %>% \n",
        "  gather(key = \"type_label\", value = \"data_label\", col1, col2, col3, ...)\n",
        "```"
      ]
    },
    {
      "cell_type": "markdown",
      "metadata": {
        "id": "B5zwNXp5ZGHe"
      },
      "source": [
        "### A familiar example"
      ]
    },
    {
      "cell_type": "code",
      "metadata": {
        "id": "d30LY4u6ZGHf",
        "colab": {
          "base_uri": "https://localhost:8080/",
          "height": 220
        },
        "outputId": "585bfcde-d097-4e7d-dfc9-e847fad4da8a"
      },
      "source": [
        "sales <- read.csv(\"https://github.com/WSU-DataScience/DSCI_210_R_notebooks/raw/main/data/auto_sales.csv\")\n",
        "sales"
      ],
      "execution_count": 7,
      "outputs": [
        {
          "output_type": "display_data",
          "data": {
            "text/plain": [
              "  Salesperson Compact Sedan SUV Truck\n",
              "1 Ann         22      18    15  12   \n",
              "2 Bob         19      12    17  20   \n",
              "3 Yolanda     19       8    32  15   \n",
              "4 Xerxes      12      23    18   9   "
            ],
            "text/latex": "A data.frame: 4 × 5\n\\begin{tabular}{lllll}\n Salesperson & Compact & Sedan & SUV & Truck\\\\\n <chr> & <int> & <int> & <int> & <int>\\\\\n\\hline\n\t Ann     & 22 & 18 & 15 & 12\\\\\n\t Bob     & 19 & 12 & 17 & 20\\\\\n\t Yolanda & 19 &  8 & 32 & 15\\\\\n\t Xerxes  & 12 & 23 & 18 &  9\\\\\n\\end{tabular}\n",
            "text/markdown": "\nA data.frame: 4 × 5\n\n| Salesperson &lt;chr&gt; | Compact &lt;int&gt; | Sedan &lt;int&gt; | SUV &lt;int&gt; | Truck &lt;int&gt; |\n|---|---|---|---|---|\n| Ann     | 22 | 18 | 15 | 12 |\n| Bob     | 19 | 12 | 17 | 20 |\n| Yolanda | 19 |  8 | 32 | 15 |\n| Xerxes  | 12 | 23 | 18 |  9 |\n\n",
            "text/html": [
              "<table class=\"dataframe\">\n",
              "<caption>A data.frame: 4 × 5</caption>\n",
              "<thead>\n",
              "\t<tr><th scope=col>Salesperson</th><th scope=col>Compact</th><th scope=col>Sedan</th><th scope=col>SUV</th><th scope=col>Truck</th></tr>\n",
              "\t<tr><th scope=col>&lt;chr&gt;</th><th scope=col>&lt;int&gt;</th><th scope=col>&lt;int&gt;</th><th scope=col>&lt;int&gt;</th><th scope=col>&lt;int&gt;</th></tr>\n",
              "</thead>\n",
              "<tbody>\n",
              "\t<tr><td>Ann    </td><td>22</td><td>18</td><td>15</td><td>12</td></tr>\n",
              "\t<tr><td>Bob    </td><td>19</td><td>12</td><td>17</td><td>20</td></tr>\n",
              "\t<tr><td>Yolanda</td><td>19</td><td> 8</td><td>32</td><td>15</td></tr>\n",
              "\t<tr><td>Xerxes </td><td>12</td><td>23</td><td>18</td><td> 9</td></tr>\n",
              "</tbody>\n",
              "</table>\n"
            ]
          },
          "metadata": {}
        }
      ]
    },
    {
      "cell_type": "markdown",
      "metadata": {
        "id": "xbNoA6auZGHg"
      },
      "source": [
        "#### Option 1: Spell out all stacking columns"
      ]
    },
    {
      "cell_type": "code",
      "metadata": {
        "id": "9dGp_QVnZGHh"
      },
      "source": [
        "stacked_sales <- (\n",
        "  sales \n",
        "    %>% gather(key = \"auto_type\",\n",
        "               value = \"num_sales\", \n",
        "               Compact, Sedan, SUV, Truck)\n",
        ")\n",
        "head(stacked_sales)"
      ],
      "execution_count": null,
      "outputs": []
    },
    {
      "cell_type": "markdown",
      "metadata": {
        "id": "WWnOATqAZGHh"
      },
      "source": [
        "#### Option 2: Refer to column range"
      ]
    },
    {
      "cell_type": "code",
      "metadata": {
        "id": "1pkH2_pEZGHh"
      },
      "source": [
        "stacked_sales <- (\n",
        "  sales \n",
        "    %>% gather(key = \"auto_type\",\n",
        "               value = \"num_sales\",\n",
        "               Compact:Truck)\n",
        ")\n",
        "head(stacked_sales)"
      ],
      "execution_count": null,
      "outputs": []
    },
    {
      "cell_type": "markdown",
      "metadata": {
        "id": "J9KuT-f8ZGHi"
      },
      "source": [
        "#### Option 3: Select by exclusion"
      ]
    },
    {
      "cell_type": "code",
      "metadata": {
        "id": "4rr2GhtAZGHi",
        "colab": {
          "base_uri": "https://localhost:8080/",
          "height": 282
        },
        "outputId": "c077566c-4e39-4e18-8b55-2137519661de"
      },
      "source": [
        "stacked_sales <- (\n",
        "  sales \n",
        "    %>% gather(key = \"auto_type\",\n",
        "               value = \"num_sales\",\n",
        "               -Salesperson)\n",
        ")\n",
        "head(stacked_sales)"
      ],
      "execution_count": 13,
      "outputs": [
        {
          "output_type": "display_data",
          "data": {
            "text/plain": [
              "  Salesperson auto_type num_sales\n",
              "1 Ann         Compact   22       \n",
              "2 Bob         Compact   19       \n",
              "3 Yolanda     Compact   19       \n",
              "4 Xerxes      Compact   12       \n",
              "5 Ann         Sedan     18       \n",
              "6 Bob         Sedan     12       "
            ],
            "text/latex": "A data.frame: 6 × 3\n\\begin{tabular}{r|lll}\n  & Salesperson & auto\\_type & num\\_sales\\\\\n  & <chr> & <chr> & <int>\\\\\n\\hline\n\t1 & Ann     & Compact & 22\\\\\n\t2 & Bob     & Compact & 19\\\\\n\t3 & Yolanda & Compact & 19\\\\\n\t4 & Xerxes  & Compact & 12\\\\\n\t5 & Ann     & Sedan   & 18\\\\\n\t6 & Bob     & Sedan   & 12\\\\\n\\end{tabular}\n",
            "text/markdown": "\nA data.frame: 6 × 3\n\n| <!--/--> | Salesperson &lt;chr&gt; | auto_type &lt;chr&gt; | num_sales &lt;int&gt; |\n|---|---|---|---|\n| 1 | Ann     | Compact | 22 |\n| 2 | Bob     | Compact | 19 |\n| 3 | Yolanda | Compact | 19 |\n| 4 | Xerxes  | Compact | 12 |\n| 5 | Ann     | Sedan   | 18 |\n| 6 | Bob     | Sedan   | 12 |\n\n",
            "text/html": [
              "<table class=\"dataframe\">\n",
              "<caption>A data.frame: 6 × 3</caption>\n",
              "<thead>\n",
              "\t<tr><th></th><th scope=col>Salesperson</th><th scope=col>auto_type</th><th scope=col>num_sales</th></tr>\n",
              "\t<tr><th></th><th scope=col>&lt;chr&gt;</th><th scope=col>&lt;chr&gt;</th><th scope=col>&lt;int&gt;</th></tr>\n",
              "</thead>\n",
              "<tbody>\n",
              "\t<tr><th scope=row>1</th><td>Ann    </td><td>Compact</td><td>22</td></tr>\n",
              "\t<tr><th scope=row>2</th><td>Bob    </td><td>Compact</td><td>19</td></tr>\n",
              "\t<tr><th scope=row>3</th><td>Yolanda</td><td>Compact</td><td>19</td></tr>\n",
              "\t<tr><th scope=row>4</th><td>Xerxes </td><td>Compact</td><td>12</td></tr>\n",
              "\t<tr><th scope=row>5</th><td>Ann    </td><td>Sedan  </td><td>18</td></tr>\n",
              "\t<tr><th scope=row>6</th><td>Bob    </td><td>Sedan  </td><td>12</td></tr>\n",
              "</tbody>\n",
              "</table>\n"
            ]
          },
          "metadata": {}
        }
      ]
    },
    {
      "cell_type": "markdown",
      "metadata": {
        "id": "ARhs8r5HZGHi"
      },
      "source": [
        "\n",
        "## <font color=\"red\"> Exercise 7.3 - Problem 1 </font>\n",
        "\n",
        "Notice that the years are all in separate columns in the `world_bank_fresh_download.csv` file.  "
      ]
    },
    {
      "cell_type": "code",
      "metadata": {
        "id": "8mlN3RNCZGHi",
        "colab": {
          "base_uri": "https://localhost:8080/",
          "height": 302
        },
        "outputId": "89dea7df-08f5-4499-9bb5-c140ce87b7ce"
      },
      "source": [
        "world_bank = read.csv(\"https://github.com/WSU-DataScience/DSCI_210_R_notebooks/raw/main/data/world_bank_fresh_download.csv\")\n",
        "head(world_bank)"
      ],
      "execution_count": 14,
      "outputs": [
        {
          "output_type": "display_data",
          "data": {
            "text/plain": [
              "  Country Region Indicator        X1960        X1961        X1962       \n",
              "1 Algeria Africa Total_population 1.112489e+07 1.140486e+07 1.169015e+07\n",
              "2 Algeria Africa CO2_emissions    5.537636e-01 5.318100e-01 4.849537e-01\n",
              "3 Algeria Africa Life_expectancy  4.613512e+01 4.659032e+01 4.704500e+01\n",
              "4 Algeria Africa Internet_usage             NA           NA           NA\n",
              "5 Angola  Africa Total_population 5.270844e+06 5.367287e+06 5.465905e+06\n",
              "6 Angola  Africa CO2_emissions    1.043571e-01 8.471841e-02 2.160253e-01\n",
              "  X1963        X1964        X1965        X1966        ⋯ X2006       \n",
              "1 1.198513e+07 1.229597e+07 1.262695e+07 1.298027e+07 ⋯ 3.374933e+07\n",
              "2 4.528245e-01 4.595689e-01 5.224485e-01 6.494806e-01 ⋯ 2.990267e+00\n",
              "3 4.749620e+01 4.794190e+01 4.837610e+01 4.879080e+01 ⋯ 7.255771e+01\n",
              "4           NA           NA           NA           NA ⋯ 7.375985e+00\n",
              "5 5.565808e+06 5.665701e+06 5.765025e+06 5.863568e+06 ⋯ 1.854147e+07\n",
              "6 2.068771e-01 2.161741e-01 2.060890e-01 2.651641e-01 ⋯ 1.200877e+00\n",
              "  X2007        X2008        X2009        X2010        X2011        X2012       \n",
              "1 3.426197e+07 3.481106e+07 3.540179e+07 3.603616e+07 3.671713e+07 3.743943e+07\n",
              "2 3.189978e+00 3.205183e+00 3.428472e+00 3.309912e+00 3.316038e+00           NA\n",
              "3 7.289837e+01 7.321932e+01 7.352102e+01 7.380405e+01 7.407000e+01 7.432410e+01\n",
              "4 9.451191e+00 1.018000e+01 1.123000e+01 1.250000e+01 1.400000e+01 1.522803e+01\n",
              "5 1.918391e+07 1.984225e+07 2.052010e+07 2.121995e+07 2.194230e+07 2.268563e+07\n",
              "6 1.311096e+00 1.369425e+00 1.430873e+00 1.401654e+00 1.354008e+00           NA\n",
              "  X2013        X2014        X2015   \n",
              "1 3.818614e+07 3.893433e+07 39666519\n",
              "2           NA           NA       NA\n",
              "3 7.456895e+01 7.480810e+01       NA\n",
              "4 1.650000e+01 1.809000e+01       NA\n",
              "5 2.344820e+07 2.422752e+07 25021974\n",
              "6           NA           NA       NA"
            ],
            "text/latex": "A data.frame: 6 × 59\n\\begin{tabular}{r|lllllllllllllllllllll}\n  & Country & Region & Indicator & X1960 & X1961 & X1962 & X1963 & X1964 & X1965 & X1966 & ⋯ & X2006 & X2007 & X2008 & X2009 & X2010 & X2011 & X2012 & X2013 & X2014 & X2015\\\\\n  & <chr> & <chr> & <chr> & <dbl> & <dbl> & <dbl> & <dbl> & <dbl> & <dbl> & <dbl> & ⋯ & <dbl> & <dbl> & <dbl> & <dbl> & <dbl> & <dbl> & <dbl> & <dbl> & <dbl> & <dbl>\\\\\n\\hline\n\t1 & Algeria & Africa & Total\\_population & 1.112489e+07 & 1.140486e+07 & 1.169015e+07 & 1.198513e+07 & 1.229597e+07 & 1.262695e+07 & 1.298027e+07 & ⋯ & 3.374933e+07 & 3.426197e+07 & 3.481106e+07 & 3.540179e+07 & 3.603616e+07 & 3.671713e+07 & 3.743943e+07 & 3.818614e+07 & 3.893433e+07 & 39666519\\\\\n\t2 & Algeria & Africa & CO2\\_emissions    & 5.537636e-01 & 5.318100e-01 & 4.849537e-01 & 4.528245e-01 & 4.595689e-01 & 5.224485e-01 & 6.494806e-01 & ⋯ & 2.990267e+00 & 3.189978e+00 & 3.205183e+00 & 3.428472e+00 & 3.309912e+00 & 3.316038e+00 &           NA &           NA &           NA &       NA\\\\\n\t3 & Algeria & Africa & Life\\_expectancy  & 4.613512e+01 & 4.659032e+01 & 4.704500e+01 & 4.749620e+01 & 4.794190e+01 & 4.837610e+01 & 4.879080e+01 & ⋯ & 7.255771e+01 & 7.289837e+01 & 7.321932e+01 & 7.352102e+01 & 7.380405e+01 & 7.407000e+01 & 7.432410e+01 & 7.456895e+01 & 7.480810e+01 &       NA\\\\\n\t4 & Algeria & Africa & Internet\\_usage   &           NA &           NA &           NA &           NA &           NA &           NA &           NA & ⋯ & 7.375985e+00 & 9.451191e+00 & 1.018000e+01 & 1.123000e+01 & 1.250000e+01 & 1.400000e+01 & 1.522803e+01 & 1.650000e+01 & 1.809000e+01 &       NA\\\\\n\t5 & Angola  & Africa & Total\\_population & 5.270844e+06 & 5.367287e+06 & 5.465905e+06 & 5.565808e+06 & 5.665701e+06 & 5.765025e+06 & 5.863568e+06 & ⋯ & 1.854147e+07 & 1.918391e+07 & 1.984225e+07 & 2.052010e+07 & 2.121995e+07 & 2.194230e+07 & 2.268563e+07 & 2.344820e+07 & 2.422752e+07 & 25021974\\\\\n\t6 & Angola  & Africa & CO2\\_emissions    & 1.043571e-01 & 8.471841e-02 & 2.160253e-01 & 2.068771e-01 & 2.161741e-01 & 2.060890e-01 & 2.651641e-01 & ⋯ & 1.200877e+00 & 1.311096e+00 & 1.369425e+00 & 1.430873e+00 & 1.401654e+00 & 1.354008e+00 &           NA &           NA &           NA &       NA\\\\\n\\end{tabular}\n",
            "text/markdown": "\nA data.frame: 6 × 59\n\n| <!--/--> | Country &lt;chr&gt; | Region &lt;chr&gt; | Indicator &lt;chr&gt; | X1960 &lt;dbl&gt; | X1961 &lt;dbl&gt; | X1962 &lt;dbl&gt; | X1963 &lt;dbl&gt; | X1964 &lt;dbl&gt; | X1965 &lt;dbl&gt; | X1966 &lt;dbl&gt; | ⋯ ⋯ | X2006 &lt;dbl&gt; | X2007 &lt;dbl&gt; | X2008 &lt;dbl&gt; | X2009 &lt;dbl&gt; | X2010 &lt;dbl&gt; | X2011 &lt;dbl&gt; | X2012 &lt;dbl&gt; | X2013 &lt;dbl&gt; | X2014 &lt;dbl&gt; | X2015 &lt;dbl&gt; |\n|---|---|---|---|---|---|---|---|---|---|---|---|---|---|---|---|---|---|---|---|---|---|\n| 1 | Algeria | Africa | Total_population | 1.112489e+07 | 1.140486e+07 | 1.169015e+07 | 1.198513e+07 | 1.229597e+07 | 1.262695e+07 | 1.298027e+07 | ⋯ | 3.374933e+07 | 3.426197e+07 | 3.481106e+07 | 3.540179e+07 | 3.603616e+07 | 3.671713e+07 | 3.743943e+07 | 3.818614e+07 | 3.893433e+07 | 39666519 |\n| 2 | Algeria | Africa | CO2_emissions    | 5.537636e-01 | 5.318100e-01 | 4.849537e-01 | 4.528245e-01 | 4.595689e-01 | 5.224485e-01 | 6.494806e-01 | ⋯ | 2.990267e+00 | 3.189978e+00 | 3.205183e+00 | 3.428472e+00 | 3.309912e+00 | 3.316038e+00 |           NA |           NA |           NA |       NA |\n| 3 | Algeria | Africa | Life_expectancy  | 4.613512e+01 | 4.659032e+01 | 4.704500e+01 | 4.749620e+01 | 4.794190e+01 | 4.837610e+01 | 4.879080e+01 | ⋯ | 7.255771e+01 | 7.289837e+01 | 7.321932e+01 | 7.352102e+01 | 7.380405e+01 | 7.407000e+01 | 7.432410e+01 | 7.456895e+01 | 7.480810e+01 |       NA |\n| 4 | Algeria | Africa | Internet_usage   |           NA |           NA |           NA |           NA |           NA |           NA |           NA | ⋯ | 7.375985e+00 | 9.451191e+00 | 1.018000e+01 | 1.123000e+01 | 1.250000e+01 | 1.400000e+01 | 1.522803e+01 | 1.650000e+01 | 1.809000e+01 |       NA |\n| 5 | Angola  | Africa | Total_population | 5.270844e+06 | 5.367287e+06 | 5.465905e+06 | 5.565808e+06 | 5.665701e+06 | 5.765025e+06 | 5.863568e+06 | ⋯ | 1.854147e+07 | 1.918391e+07 | 1.984225e+07 | 2.052010e+07 | 2.121995e+07 | 2.194230e+07 | 2.268563e+07 | 2.344820e+07 | 2.422752e+07 | 25021974 |\n| 6 | Angola  | Africa | CO2_emissions    | 1.043571e-01 | 8.471841e-02 | 2.160253e-01 | 2.068771e-01 | 2.161741e-01 | 2.060890e-01 | 2.651641e-01 | ⋯ | 1.200877e+00 | 1.311096e+00 | 1.369425e+00 | 1.430873e+00 | 1.401654e+00 | 1.354008e+00 |           NA |           NA |           NA |       NA |\n\n",
            "text/html": [
              "<table class=\"dataframe\">\n",
              "<caption>A data.frame: 6 × 59</caption>\n",
              "<thead>\n",
              "\t<tr><th></th><th scope=col>Country</th><th scope=col>Region</th><th scope=col>Indicator</th><th scope=col>X1960</th><th scope=col>X1961</th><th scope=col>X1962</th><th scope=col>X1963</th><th scope=col>X1964</th><th scope=col>X1965</th><th scope=col>X1966</th><th scope=col>⋯</th><th scope=col>X2006</th><th scope=col>X2007</th><th scope=col>X2008</th><th scope=col>X2009</th><th scope=col>X2010</th><th scope=col>X2011</th><th scope=col>X2012</th><th scope=col>X2013</th><th scope=col>X2014</th><th scope=col>X2015</th></tr>\n",
              "\t<tr><th></th><th scope=col>&lt;chr&gt;</th><th scope=col>&lt;chr&gt;</th><th scope=col>&lt;chr&gt;</th><th scope=col>&lt;dbl&gt;</th><th scope=col>&lt;dbl&gt;</th><th scope=col>&lt;dbl&gt;</th><th scope=col>&lt;dbl&gt;</th><th scope=col>&lt;dbl&gt;</th><th scope=col>&lt;dbl&gt;</th><th scope=col>&lt;dbl&gt;</th><th scope=col>⋯</th><th scope=col>&lt;dbl&gt;</th><th scope=col>&lt;dbl&gt;</th><th scope=col>&lt;dbl&gt;</th><th scope=col>&lt;dbl&gt;</th><th scope=col>&lt;dbl&gt;</th><th scope=col>&lt;dbl&gt;</th><th scope=col>&lt;dbl&gt;</th><th scope=col>&lt;dbl&gt;</th><th scope=col>&lt;dbl&gt;</th><th scope=col>&lt;dbl&gt;</th></tr>\n",
              "</thead>\n",
              "<tbody>\n",
              "\t<tr><th scope=row>1</th><td>Algeria</td><td>Africa</td><td>Total_population</td><td>1.112489e+07</td><td>1.140486e+07</td><td>1.169015e+07</td><td>1.198513e+07</td><td>1.229597e+07</td><td>1.262695e+07</td><td>1.298027e+07</td><td>⋯</td><td>3.374933e+07</td><td>3.426197e+07</td><td>3.481106e+07</td><td>3.540179e+07</td><td>3.603616e+07</td><td>3.671713e+07</td><td>3.743943e+07</td><td>3.818614e+07</td><td>3.893433e+07</td><td>39666519</td></tr>\n",
              "\t<tr><th scope=row>2</th><td>Algeria</td><td>Africa</td><td>CO2_emissions   </td><td>5.537636e-01</td><td>5.318100e-01</td><td>4.849537e-01</td><td>4.528245e-01</td><td>4.595689e-01</td><td>5.224485e-01</td><td>6.494806e-01</td><td>⋯</td><td>2.990267e+00</td><td>3.189978e+00</td><td>3.205183e+00</td><td>3.428472e+00</td><td>3.309912e+00</td><td>3.316038e+00</td><td>          NA</td><td>          NA</td><td>          NA</td><td>      NA</td></tr>\n",
              "\t<tr><th scope=row>3</th><td>Algeria</td><td>Africa</td><td>Life_expectancy </td><td>4.613512e+01</td><td>4.659032e+01</td><td>4.704500e+01</td><td>4.749620e+01</td><td>4.794190e+01</td><td>4.837610e+01</td><td>4.879080e+01</td><td>⋯</td><td>7.255771e+01</td><td>7.289837e+01</td><td>7.321932e+01</td><td>7.352102e+01</td><td>7.380405e+01</td><td>7.407000e+01</td><td>7.432410e+01</td><td>7.456895e+01</td><td>7.480810e+01</td><td>      NA</td></tr>\n",
              "\t<tr><th scope=row>4</th><td>Algeria</td><td>Africa</td><td>Internet_usage  </td><td>          NA</td><td>          NA</td><td>          NA</td><td>          NA</td><td>          NA</td><td>          NA</td><td>          NA</td><td>⋯</td><td>7.375985e+00</td><td>9.451191e+00</td><td>1.018000e+01</td><td>1.123000e+01</td><td>1.250000e+01</td><td>1.400000e+01</td><td>1.522803e+01</td><td>1.650000e+01</td><td>1.809000e+01</td><td>      NA</td></tr>\n",
              "\t<tr><th scope=row>5</th><td>Angola </td><td>Africa</td><td>Total_population</td><td>5.270844e+06</td><td>5.367287e+06</td><td>5.465905e+06</td><td>5.565808e+06</td><td>5.665701e+06</td><td>5.765025e+06</td><td>5.863568e+06</td><td>⋯</td><td>1.854147e+07</td><td>1.918391e+07</td><td>1.984225e+07</td><td>2.052010e+07</td><td>2.121995e+07</td><td>2.194230e+07</td><td>2.268563e+07</td><td>2.344820e+07</td><td>2.422752e+07</td><td>25021974</td></tr>\n",
              "\t<tr><th scope=row>6</th><td>Angola </td><td>Africa</td><td>CO2_emissions   </td><td>1.043571e-01</td><td>8.471841e-02</td><td>2.160253e-01</td><td>2.068771e-01</td><td>2.161741e-01</td><td>2.060890e-01</td><td>2.651641e-01</td><td>⋯</td><td>1.200877e+00</td><td>1.311096e+00</td><td>1.369425e+00</td><td>1.430873e+00</td><td>1.401654e+00</td><td>1.354008e+00</td><td>          NA</td><td>          NA</td><td>          NA</td><td>      NA</td></tr>\n",
              "</tbody>\n",
              "</table>\n"
            ]
          },
          "metadata": {}
        }
      ]
    },
    {
      "cell_type": "markdown",
      "metadata": {
        "id": "rDo41DLqZGHj"
      },
      "source": [
        "**Question:** Why is this a violation of the Golden Rule?"
      ]
    },
    {
      "cell_type": "markdown",
      "metadata": {
        "id": "xzEWaRvWZGHj"
      },
      "source": [
        "> Your answer here"
      ]
    },
    {
      "cell_type": "markdown",
      "metadata": {
        "id": "-fNXp6AHZGHj"
      },
      "source": [
        "**Task:** Fix this issue as described below.\n",
        "\n",
        "1. Use `gather` in a pipe to stack all these columns.  Store the years in a column called `year` and the number in a column called `values`.\n",
        "2. Use `mutate`, `gsub`, and `as.numeric` to clean up the resulting `year` column and convert it to a numeric column.\n",
        "3. Save the resulting dataframe to an ojbect named `world_bank_stacked`."
      ]
    },
    {
      "cell_type": "code",
      "metadata": {
        "id": "8atjuK90ZGHj"
      },
      "source": [
        "# Your code here"
      ],
      "execution_count": null,
      "outputs": []
    },
    {
      "cell_type": "markdown",
      "metadata": {
        "id": "WVlyKNuWZGHj"
      },
      "source": [
        "## Unstacking columns with `spread()`\n",
        " \n",
        "The function `spread`, also from the `tidyr` library, is used to unstack columns.\n",
        "\n",
        "Arguments:\n",
        "\n",
        "1. Column to split on\n",
        "2. Column to split"
      ]
    },
    {
      "cell_type": "markdown",
      "metadata": {
        "id": "2EhPhzPvZGHk"
      },
      "source": [
        "#### Imperative syntax:\n",
        "\n",
        "```{r}\n",
        "new_df <- spread(old_df, key = col1, value = col2)\n",
        "```\n",
        "#### With Piping:\n",
        "\n",
        "```{r}\n",
        "data %>% \n",
        "  spread(key = col1, value = col2)\n",
        "```"
      ]
    },
    {
      "cell_type": "markdown",
      "metadata": {
        "id": "WWkRH0ueZGHk"
      },
      "source": [
        "#### A simple unstack"
      ]
    },
    {
      "cell_type": "code",
      "metadata": {
        "scrolled": true,
        "id": "R9KggIkhZGHk",
        "outputId": "e29c9f3e-4bd0-42ff-94fb-6eee7e2b3e64",
        "colab": {
          "base_uri": "https://localhost:8080/",
          "height": 282
        }
      },
      "source": [
        "head(stacked_sales)"
      ],
      "execution_count": 15,
      "outputs": [
        {
          "output_type": "display_data",
          "data": {
            "text/plain": [
              "  Salesperson auto_type num_sales\n",
              "1 Ann         Compact   22       \n",
              "2 Bob         Compact   19       \n",
              "3 Yolanda     Compact   19       \n",
              "4 Xerxes      Compact   12       \n",
              "5 Ann         Sedan     18       \n",
              "6 Bob         Sedan     12       "
            ],
            "text/latex": "A data.frame: 6 × 3\n\\begin{tabular}{r|lll}\n  & Salesperson & auto\\_type & num\\_sales\\\\\n  & <chr> & <chr> & <int>\\\\\n\\hline\n\t1 & Ann     & Compact & 22\\\\\n\t2 & Bob     & Compact & 19\\\\\n\t3 & Yolanda & Compact & 19\\\\\n\t4 & Xerxes  & Compact & 12\\\\\n\t5 & Ann     & Sedan   & 18\\\\\n\t6 & Bob     & Sedan   & 12\\\\\n\\end{tabular}\n",
            "text/markdown": "\nA data.frame: 6 × 3\n\n| <!--/--> | Salesperson &lt;chr&gt; | auto_type &lt;chr&gt; | num_sales &lt;int&gt; |\n|---|---|---|---|\n| 1 | Ann     | Compact | 22 |\n| 2 | Bob     | Compact | 19 |\n| 3 | Yolanda | Compact | 19 |\n| 4 | Xerxes  | Compact | 12 |\n| 5 | Ann     | Sedan   | 18 |\n| 6 | Bob     | Sedan   | 12 |\n\n",
            "text/html": [
              "<table class=\"dataframe\">\n",
              "<caption>A data.frame: 6 × 3</caption>\n",
              "<thead>\n",
              "\t<tr><th></th><th scope=col>Salesperson</th><th scope=col>auto_type</th><th scope=col>num_sales</th></tr>\n",
              "\t<tr><th></th><th scope=col>&lt;chr&gt;</th><th scope=col>&lt;chr&gt;</th><th scope=col>&lt;int&gt;</th></tr>\n",
              "</thead>\n",
              "<tbody>\n",
              "\t<tr><th scope=row>1</th><td>Ann    </td><td>Compact</td><td>22</td></tr>\n",
              "\t<tr><th scope=row>2</th><td>Bob    </td><td>Compact</td><td>19</td></tr>\n",
              "\t<tr><th scope=row>3</th><td>Yolanda</td><td>Compact</td><td>19</td></tr>\n",
              "\t<tr><th scope=row>4</th><td>Xerxes </td><td>Compact</td><td>12</td></tr>\n",
              "\t<tr><th scope=row>5</th><td>Ann    </td><td>Sedan  </td><td>18</td></tr>\n",
              "\t<tr><th scope=row>6</th><td>Bob    </td><td>Sedan  </td><td>12</td></tr>\n",
              "</tbody>\n",
              "</table>\n"
            ]
          },
          "metadata": {}
        }
      ]
    },
    {
      "cell_type": "code",
      "metadata": {
        "id": "09i4p5XKZGHk"
      },
      "source": [
        "(stacked_sales \n",
        " %>% spread(key = auto_type,\n",
        "            value = num_sales)\n",
        " )"
      ],
      "execution_count": null,
      "outputs": []
    },
    {
      "cell_type": "markdown",
      "metadata": {
        "id": "f1XWRn_PZGHl"
      },
      "source": [
        "## <font color=\"red\"> Exercise 7.3 - Problem 2 </font>\n",
        "\n",
        "Continuing with the example from Problem 1 above, notice that the labels in the `Indicator` column are actually variables.\n",
        "\n"
      ]
    },
    {
      "cell_type": "code",
      "metadata": {
        "id": "laCjrMMTZGHl"
      },
      "source": [
        "head(world_bank_stacked)"
      ],
      "execution_count": null,
      "outputs": []
    },
    {
      "cell_type": "markdown",
      "metadata": {
        "id": "KHHzmphCZGHl"
      },
      "source": [
        "**Question:** Why is this a violation of the Golden Rule?"
      ]
    },
    {
      "cell_type": "markdown",
      "metadata": {
        "id": "n-DtCK10ZGHl"
      },
      "source": [
        "> Your answer here"
      ]
    },
    {
      "cell_type": "markdown",
      "metadata": {
        "id": "rIpaweFzZGHl"
      },
      "source": [
        "**Task:** Fix this issue as follows:\n",
        "\n",
        "1. Use `spread` in a pipe to unstack all these labels into their own columns.\n",
        "2. Save the resulting dataframe to an object named `world_bank_clean`."
      ]
    },
    {
      "cell_type": "code",
      "metadata": {
        "id": "C2drv3g8ZGHm"
      },
      "source": [
        "# Your code here"
      ],
      "execution_count": null,
      "outputs": []
    },
    {
      "cell_type": "markdown",
      "metadata": {
        "id": "IhNHprxWZGHm"
      },
      "source": [
        "## The stack + mutate + aggregate +  unstack trick\n",
        "\n",
        "Recall that we can use stacking and unstacking columns to automate applying the same transformation to many columns."
      ]
    },
    {
      "cell_type": "markdown",
      "metadata": {
        "id": "KflGJHDdZGHm"
      },
      "source": [
        "### Example - Recoding auto sales"
      ]
    },
    {
      "cell_type": "code",
      "metadata": {
        "scrolled": true,
        "id": "R3bXkUAVZGHm",
        "outputId": "e3a9b133-ff91-4e45-8443-066c394724e2",
        "colab": {
          "base_uri": "https://localhost:8080/",
          "height": 456
        }
      },
      "source": [
        "(sales \n",
        " %>% gather(key = \"auto_type\",\n",
        "            value = \"num_sales\",\n",
        "            Compact:Truck) \n",
        " %>% mutate(car_type = recode(auto_type,\n",
        "                             `Compact` = 'car',\n",
        "                             `Sedan` = 'car',\n",
        "                             `SUV` = 'utility',\n",
        "                             `Truck` = 'utility')) \n",
        " %>% group_by(Salesperson, \n",
        "              car_type) \n",
        " %>% summarize(total_sales = sum(num_sales)) \n",
        " %>% spread(key = car_type, \n",
        "            value = total_sales)\n",
        " )\n",
        " sales"
      ],
      "execution_count": 32,
      "outputs": [
        {
          "output_type": "stream",
          "name": "stderr",
          "text": [
            "`summarise()` has grouped output by 'Salesperson'. You can override using the `.groups` argument.\n",
            "\n"
          ]
        },
        {
          "output_type": "display_data",
          "data": {
            "text/plain": [
              "  Salesperson car utility\n",
              "1 Ann         40  27     \n",
              "2 Bob         31  37     \n",
              "3 Xerxes      35  27     \n",
              "4 Yolanda     27  47     "
            ],
            "text/latex": "A grouped\\_df: 4 × 3\n\\begin{tabular}{lll}\n Salesperson & car & utility\\\\\n <chr> & <int> & <int>\\\\\n\\hline\n\t Ann     & 40 & 27\\\\\n\t Bob     & 31 & 37\\\\\n\t Xerxes  & 35 & 27\\\\\n\t Yolanda & 27 & 47\\\\\n\\end{tabular}\n",
            "text/markdown": "\nA grouped_df: 4 × 3\n\n| Salesperson &lt;chr&gt; | car &lt;int&gt; | utility &lt;int&gt; |\n|---|---|---|\n| Ann     | 40 | 27 |\n| Bob     | 31 | 37 |\n| Xerxes  | 35 | 27 |\n| Yolanda | 27 | 47 |\n\n",
            "text/html": [
              "<table class=\"dataframe\">\n",
              "<caption>A grouped_df: 4 × 3</caption>\n",
              "<thead>\n",
              "\t<tr><th scope=col>Salesperson</th><th scope=col>car</th><th scope=col>utility</th></tr>\n",
              "\t<tr><th scope=col>&lt;chr&gt;</th><th scope=col>&lt;int&gt;</th><th scope=col>&lt;int&gt;</th></tr>\n",
              "</thead>\n",
              "<tbody>\n",
              "\t<tr><td>Ann    </td><td>40</td><td>27</td></tr>\n",
              "\t<tr><td>Bob    </td><td>31</td><td>37</td></tr>\n",
              "\t<tr><td>Xerxes </td><td>35</td><td>27</td></tr>\n",
              "\t<tr><td>Yolanda</td><td>27</td><td>47</td></tr>\n",
              "</tbody>\n",
              "</table>\n"
            ]
          },
          "metadata": {}
        },
        {
          "output_type": "display_data",
          "data": {
            "text/plain": [
              "  Salesperson Compact Sedan SUV Truck\n",
              "1 Ann         22      18    15  12   \n",
              "2 Bob         19      12    17  20   \n",
              "3 Yolanda     19       8    32  15   \n",
              "4 Xerxes      12      23    18   9   "
            ],
            "text/latex": "A data.frame: 4 × 5\n\\begin{tabular}{lllll}\n Salesperson & Compact & Sedan & SUV & Truck\\\\\n <chr> & <int> & <int> & <int> & <int>\\\\\n\\hline\n\t Ann     & 22 & 18 & 15 & 12\\\\\n\t Bob     & 19 & 12 & 17 & 20\\\\\n\t Yolanda & 19 &  8 & 32 & 15\\\\\n\t Xerxes  & 12 & 23 & 18 &  9\\\\\n\\end{tabular}\n",
            "text/markdown": "\nA data.frame: 4 × 5\n\n| Salesperson &lt;chr&gt; | Compact &lt;int&gt; | Sedan &lt;int&gt; | SUV &lt;int&gt; | Truck &lt;int&gt; |\n|---|---|---|---|---|\n| Ann     | 22 | 18 | 15 | 12 |\n| Bob     | 19 | 12 | 17 | 20 |\n| Yolanda | 19 |  8 | 32 | 15 |\n| Xerxes  | 12 | 23 | 18 |  9 |\n\n",
            "text/html": [
              "<table class=\"dataframe\">\n",
              "<caption>A data.frame: 4 × 5</caption>\n",
              "<thead>\n",
              "\t<tr><th scope=col>Salesperson</th><th scope=col>Compact</th><th scope=col>Sedan</th><th scope=col>SUV</th><th scope=col>Truck</th></tr>\n",
              "\t<tr><th scope=col>&lt;chr&gt;</th><th scope=col>&lt;int&gt;</th><th scope=col>&lt;int&gt;</th><th scope=col>&lt;int&gt;</th><th scope=col>&lt;int&gt;</th></tr>\n",
              "</thead>\n",
              "<tbody>\n",
              "\t<tr><td>Ann    </td><td>22</td><td>18</td><td>15</td><td>12</td></tr>\n",
              "\t<tr><td>Bob    </td><td>19</td><td>12</td><td>17</td><td>20</td></tr>\n",
              "\t<tr><td>Yolanda</td><td>19</td><td> 8</td><td>32</td><td>15</td></tr>\n",
              "\t<tr><td>Xerxes </td><td>12</td><td>23</td><td>18</td><td> 9</td></tr>\n",
              "</tbody>\n",
              "</table>\n"
            ]
          },
          "metadata": {}
        }
      ]
    },
    {
      "cell_type": "markdown",
      "metadata": {
        "id": "s0Py7hwlZGHm"
      },
      "source": [
        "## <font color=\"red\"> Exercise 7.3 - Problem 3 </font>\n",
        "\n",
        "Recall that the MoMA `Artist.csv` data had two columns (`BeginDate` and `EndDate`) that needed to be cleaned up by  replacing zeros with a better representation of missing values, namely `NA` in R. \n",
        "\n",
        "Since we need to perform the same transformations on both columns, we can use the stack + transform + unstack trick to clean both columns at once."
      ]
    },
    {
      "cell_type": "code",
      "metadata": {
        "id": "KGflfGFEZGHm"
      },
      "source": [
        "artist = read.csv(\"https://github.com/MuseumofModernArt/collection/raw/master/Artists.csv\")\n",
        "head(artist)"
      ],
      "execution_count": null,
      "outputs": []
    },
    {
      "cell_type": "markdown",
      "metadata": {
        "id": "D9EMUXGoZGHn"
      },
      "source": [
        "**Task:** Fix this issue as follows:\n",
        "\n",
        "1. Use `gather` to stack the two columns.\n",
        "2. Use `mutate` and `ifelse` to replace all zeros with `NA`.\n",
        "3. Use `spread` to unstack the two columns, this time giving them more meaningful names."
      ]
    },
    {
      "cell_type": "code",
      "metadata": {
        "id": "BwgtgLliZGHn"
      },
      "source": [
        "# Your code here"
      ],
      "execution_count": null,
      "outputs": []
    },
    {
      "cell_type": "markdown",
      "metadata": {
        "id": "h2yqwFlMZGHn"
      },
      "source": [
        "## <font color=\"red\"> Exercise 7.3 - Problem 4 </font>\n",
        "\n",
        "In this problem we will once again visualize the effect of the introduction of the  designated hitter, by comparing the best overall team-wide earned run average (ERA) for each league. \n",
        "\n",
        "Recall the `Teams.csv` file. This file contains, for each season, team-by-team statistics.  We will focus on the ERA, which measures the average number of runs allowed by each team’s pitchers over a 9-inning game, with a smaller number indicating better pitching + defense. \n",
        "Your job is to recreate the following graph.  \n",
        "\n",
        "<img src=\"https://github.com/WSU-DataScience/DSCI_210_R_notebooks/raw/main/img/min_era.png\"/>"
      ]
    },
    {
      "cell_type": "code",
      "metadata": {
        "id": "NEPL4FlKZGHn"
      },
      "source": [
        "teams <- read.csv('https://github.com/WSU-DataScience/DSCI_210_R_notebooks/raw/main/data/Teams.csv')\n",
        "head(teams)"
      ],
      "execution_count": null,
      "outputs": []
    },
    {
      "cell_type": "markdown",
      "metadata": {
        "id": "ku6QGErwZGHn"
      },
      "source": [
        "**Tasks:**\n",
        "\n",
        "1. Filter the data to only the years after World War II (1946+).\n",
        "2. Group and aggregate the data to compute the minimum ERA for each league for each season.\n",
        "3. Split the min(ERA) by the leagues so that you have the two columns of min(ERA) values—one for each league—with one row per year.\n",
        "4. Compute AL – NL, storing the result in a new column.\n",
        "5. Stack the data for the AL, NL, and AL – NL, with the labels column called Type and the data column called min(ERA).\n",
        "6. Save the resulting data frame to a variable named `min_era_by_league`"
      ]
    },
    {
      "cell_type": "code",
      "metadata": {
        "id": "mr2nD_dwZGHo"
      },
      "source": [
        "# Your code here"
      ],
      "execution_count": null,
      "outputs": []
    },
    {
      "cell_type": "markdown",
      "metadata": {
        "id": "cn0c3OE1ZGHo"
      },
      "source": [
        "Finally, note that the `ggplot2` library can be used to create the graph.  Since creating plots with `ggplot2` is outside the scope of the course, the code needed to create this plot is provided below.  \n",
        "\n",
        "**Note:** Creating plots in `ggplot2` is covered in detail in DSCI 310, which is offered next fall.  If you enjoy creating visualizations, think about taking this course!"
      ]
    },
    {
      "cell_type": "code",
      "metadata": {
        "id": "rkOckfVnZGHo"
      },
      "source": [
        "library(ggplot2)\n",
        "\n",
        "ggplot(min_era_by_league) +\n",
        "  geom_line(aes(x = yearID, y = min_era, color = league)) +\n",
        "  geom_hline(yintercept = 0) +\n",
        "  geom_vline(xintercept = 1973, linetype = \"dotted\") +\n",
        "  annotate(\"text\", x = 1958, y = 1, label = \"DH introduced to the AL in 1973\", size = 3)"
      ],
      "execution_count": null,
      "outputs": []
    },
    {
      "cell_type": "code",
      "metadata": {
        "id": "cBawj8CbZGHo"
      },
      "source": [
        "library(ggplot2)\n",
        "\n",
        "ggplot(min_era_by_league) +\n",
        "  geom_line(aes(x = yearID, y = min_era, color = league)) +\n",
        "  geom_hline(yintercept = 0) +\n",
        "  geom_vline(xintercept = 1973, linetype = \"dotted\") +\n",
        "  annotate(\"text\", x = 1958, y = 1, label = \"DH introduced to the AL in 1973\", size = 3)"
      ],
      "execution_count": null,
      "outputs": []
    },
    {
      "cell_type": "markdown",
      "metadata": {
        "id": "F5G2Vb51ZGHo"
      },
      "source": [
        "# Translating JMP to `dplyr/tidyr`"
      ]
    },
    {
      "cell_type": "markdown",
      "metadata": {
        "id": "CxrObruQZGHo"
      },
      "source": [
        "### Stack/`gather`"
      ]
    },
    {
      "cell_type": "markdown",
      "metadata": {
        "id": "FTYAwLC1ZGHo"
      },
      "source": [
        "<img width=\"850\" src=\"https://raw.githubusercontent.com/WSU-DataScience/DSCI_210_R_notebooks/main/img/translate_gather_0.png\">"
      ]
    },
    {
      "cell_type": "markdown",
      "metadata": {
        "id": "y9-Sxf6OZGHp"
      },
      "source": [
        "<img width=\"850\" src=\"https://raw.githubusercontent.com/WSU-DataScience/DSCI_210_R_notebooks/main/img/translate_gather_1.png\">"
      ]
    },
    {
      "cell_type": "markdown",
      "metadata": {
        "id": "Y4cvsOz3ZGHp"
      },
      "source": [
        "<img width=\"850\" src=\"https://raw.githubusercontent.com/WSU-DataScience/DSCI_210_R_notebooks/main/img/translate_gather_2.png\">"
      ]
    },
    {
      "cell_type": "markdown",
      "metadata": {
        "id": "R83TUvyaZGHp"
      },
      "source": [
        "<img width=\"850\" src=\"https://raw.githubusercontent.com/WSU-DataScience/DSCI_210_R_notebooks/main/img/translate_gather_3.png\">"
      ]
    },
    {
      "cell_type": "markdown",
      "metadata": {
        "id": "jEhvOFE7ZGHp"
      },
      "source": [
        "### Unstack/`spread()`"
      ]
    },
    {
      "cell_type": "markdown",
      "metadata": {
        "id": "1A4q38cBZGHp"
      },
      "source": [
        "<img width=\"850\" src=\"https://raw.githubusercontent.com/WSU-DataScience/DSCI_210_R_notebooks/main/img/unstack_1.png\">"
      ]
    },
    {
      "cell_type": "markdown",
      "metadata": {
        "id": "XySBFu06ZGHp"
      },
      "source": [
        "<img width=\"850\" src=\"https://raw.githubusercontent.com/WSU-DataScience/DSCI_210_R_notebooks/main/img/unstack_2.png\">"
      ]
    },
    {
      "cell_type": "markdown",
      "metadata": {
        "id": "UZWG2eTvZGHp"
      },
      "source": [
        "<img width=\"850\" src=\"https://raw.githubusercontent.com/WSU-DataScience/DSCI_210_R_notebooks/main/img/unstack_3.png\">"
      ]
    }
  ]
}