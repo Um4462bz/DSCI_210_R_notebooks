{
 "cells": [
  {
   "cell_type": "markdown",
   "metadata": {},
   "source": [
    "# Activity 8.2 - `dplyr` and `tidyr`\n",
    "\n",
    "**Instructions:** Complete all the activities in code cells in this notebook, then move screenshots of your work to the corresponding Word document.  When complete, submit the work document to the D2L assignment folder for this activity."
   ]
  },
  {
   "cell_type": "markdown",
   "metadata": {},
   "source": [
    "## Problem 1 -- Football Sleep\n",
    "\n",
    "The  **Football_Sleep_Data.csv** file comes from a graduate student working on his master's degree in athletic training.  The students were all members of the university football team.  The data contain GPA and measures of athletic performance (how much students could lift in the clean, back squat, and bench press) at the beginning and again at the end of a semester.  Over the course of the semester, students were regularly asked via text message how much sleep they had received the previous night; their responses to this question were averaged.  At the end of the semester, the GPA and press measurements were taken again.   Of interest is analyzing how the weight lifted with clean press changed over time, and whether the change differed comparing students who averaged 7+ hours of sleep to those who averaged <7 hours of sleep.  The file looks like this:"
   ]
  },
  {
   "cell_type": "code",
   "execution_count": 2,
   "metadata": {},
   "outputs": [
    {
     "data": {
      "text/html": [
       "<table>\n",
       "<thead><tr><th scope=col>student</th><th scope=col>Class</th><th scope=col>Pct7</th><th scope=col>Avg.sleep.per.night</th><th scope=col>GPA.pre</th><th scope=col>GPA.post</th><th scope=col>Clean.pre</th><th scope=col>Clean.post</th><th scope=col>Back.pre</th><th scope=col>Back.post</th><th scope=col>Bench.pre</th><th scope=col>Bench.post</th></tr></thead>\n",
       "<tbody>\n",
       "\t<tr><td>1   </td><td>NA  </td><td>    </td><td> NA </td><td>3.21</td><td>3.60</td><td>270 </td><td> NA </td><td>425 </td><td> NA </td><td>315 </td><td> NA </td></tr>\n",
       "\t<tr><td>2   </td><td> 1  </td><td>95% </td><td>7.6 </td><td>3.10</td><td>3.30</td><td>265 </td><td>290 </td><td>385 </td><td>430 </td><td>255 </td><td>275 </td></tr>\n",
       "\t<tr><td>3   </td><td> 2  </td><td>90% </td><td>7.5 </td><td>2.94</td><td>3.46</td><td>264 </td><td>264 </td><td>290 </td><td>425 </td><td>290 </td><td>290 </td></tr>\n",
       "\t<tr><td>4   </td><td> 2  </td><td>25% </td><td>6.0 </td><td>2.57</td><td>2.20</td><td>290 </td><td> NA </td><td>450 </td><td> NA </td><td>275 </td><td> NA </td></tr>\n",
       "\t<tr><td>5   </td><td> 1  </td><td>44% </td><td>6.0 </td><td>3.50</td><td>3.50</td><td>280 </td><td>265 </td><td>415 </td><td>390 </td><td>270 </td><td>235 </td></tr>\n",
       "\t<tr><td>6   </td><td> 2  </td><td>88% </td><td>7.0 </td><td>2.64</td><td>1.53</td><td>253 </td><td>253 </td><td>405 </td><td>415 </td><td>305 </td><td>325 </td></tr>\n",
       "</tbody>\n",
       "</table>\n"
      ],
      "text/latex": [
       "\\begin{tabular}{r|llllllllllll}\n",
       " student & Class & Pct7 & Avg.sleep.per.night & GPA.pre & GPA.post & Clean.pre & Clean.post & Back.pre & Back.post & Bench.pre & Bench.post\\\\\n",
       "\\hline\n",
       "\t 1    & NA   &      &  NA  & 3.21 & 3.60 & 270  &  NA  & 425  &  NA  & 315  &  NA \\\\\n",
       "\t 2     &  1    & 95\\% & 7.6   & 3.10  & 3.30  & 265   & 290   & 385   & 430   & 255   & 275  \\\\\n",
       "\t 3     &  2    & 90\\% & 7.5   & 2.94  & 3.46  & 264   & 264   & 290   & 425   & 290   & 290  \\\\\n",
       "\t 4     &  2    & 25\\% & 6.0   & 2.57  & 2.20  & 290   &  NA   & 450   &  NA   & 275   &  NA  \\\\\n",
       "\t 5     &  1    & 44\\% & 6.0   & 3.50  & 3.50  & 280   & 265   & 415   & 390   & 270   & 235  \\\\\n",
       "\t 6     &  2    & 88\\% & 7.0   & 2.64  & 1.53  & 253   & 253   & 405   & 415   & 305   & 325  \\\\\n",
       "\\end{tabular}\n"
      ],
      "text/markdown": [
       "\n",
       "student | Class | Pct7 | Avg.sleep.per.night | GPA.pre | GPA.post | Clean.pre | Clean.post | Back.pre | Back.post | Bench.pre | Bench.post | \n",
       "|---|---|---|---|---|---|\n",
       "| 1    | NA   |      |  NA  | 3.21 | 3.60 | 270  |  NA  | 425  |  NA  | 315  |  NA  | \n",
       "| 2    |  1   | 95%  | 7.6  | 3.10 | 3.30 | 265  | 290  | 385  | 430  | 255  | 275  | \n",
       "| 3    |  2   | 90%  | 7.5  | 2.94 | 3.46 | 264  | 264  | 290  | 425  | 290  | 290  | \n",
       "| 4    |  2   | 25%  | 6.0  | 2.57 | 2.20 | 290  |  NA  | 450  |  NA  | 275  |  NA  | \n",
       "| 5    |  1   | 44%  | 6.0  | 3.50 | 3.50 | 280  | 265  | 415  | 390  | 270  | 235  | \n",
       "| 6    |  2   | 88%  | 7.0  | 2.64 | 1.53 | 253  | 253  | 405  | 415  | 305  | 325  | \n",
       "\n",
       "\n"
      ],
      "text/plain": [
       "  student Class Pct7 Avg.sleep.per.night GPA.pre GPA.post Clean.pre Clean.post\n",
       "1 1       NA          NA                 3.21    3.60     270        NA       \n",
       "2 2        1    95%  7.6                 3.10    3.30     265       290       \n",
       "3 3        2    90%  7.5                 2.94    3.46     264       264       \n",
       "4 4        2    25%  6.0                 2.57    2.20     290        NA       \n",
       "5 5        1    44%  6.0                 3.50    3.50     280       265       \n",
       "6 6        2    88%  7.0                 2.64    1.53     253       253       \n",
       "  Back.pre Back.post Bench.pre Bench.post\n",
       "1 425       NA       315        NA       \n",
       "2 385      430       255       275       \n",
       "3 290      425       290       290       \n",
       "4 450       NA       275        NA       \n",
       "5 415      390       270       235       \n",
       "6 405      415       305       325       "
      ]
     },
     "metadata": {},
     "output_type": "display_data"
    }
   ],
   "source": [
    "fb <- read.csv('https://github.com/WSU-DataScience/DSCI_210_R_notebooks/raw/main/Football_Sleep_data.csv')\n",
    "head(fb)"
   ]
  },
  {
   "cell_type": "markdown",
   "metadata": {},
   "source": [
    "### Question 1\n",
    "\n",
    "Complete the following with `dplyr`. Use imperative code for each step by naming the resulting data frame from each step `fb1`, `fb2`, etc.\n",
    "\n",
    "Hint: the `ifelse()` function will be helpful below.\n",
    "\n",
    "1. Create variable `clean_diff` which takes `Clean.post-Clean.pre`.  \n",
    "2. Create variable `seven_plus` which equals \"yes\" if the student averaged 7 or more hours of sleep, and \"no\" if not.  \n",
    "3. Create variable `age` which equals \"young\" if `Class` = 1 or 2 and \"old\" if `Class` is 3 or more.  \n",
    "4.  Filter the data to include only students with nonmissing `clean_diff` and `seven_plus`.   \n",
    "5.  Find the number of students, and the average `clean_diff`, for each `seven_plus`/`age` combination.  \n",
    "6. Convert the averaged difference (which is in pounds) to kg."
   ]
  },
  {
   "cell_type": "code",
   "execution_count": 4,
   "metadata": {},
   "outputs": [],
   "source": [
    "# Your code here.  Feel free to add more code cells as needed!"
   ]
  },
  {
   "cell_type": "markdown",
   "metadata": {},
   "source": [
    "### Question 2  \n",
    "\n",
    "Repeat Question 1 using piping instead of imperative code."
   ]
  },
  {
   "cell_type": "code",
   "execution_count": 5,
   "metadata": {},
   "outputs": [],
   "source": [
    "# Your code here.  Feel free to add more code cells as needed!"
   ]
  },
  {
   "cell_type": "markdown",
   "metadata": {},
   "source": [
    "## Problem 2 -- World Bank "
   ]
  },
  {
   "cell_type": "markdown",
   "metadata": {},
   "source": [
    "Read in the **world_bank_fresh_download.csv** file.  The file looks like this:"
   ]
  },
  {
   "cell_type": "code",
   "execution_count": 6,
   "metadata": {},
   "outputs": [
    {
     "data": {
      "text/html": [
       "<table>\n",
       "<thead><tr><th scope=col>Country</th><th scope=col>Region</th><th scope=col>Indicator</th><th scope=col>X1960</th><th scope=col>X1961</th><th scope=col>X1962</th><th scope=col>X1963</th><th scope=col>X1964</th><th scope=col>X1965</th><th scope=col>X1966</th></tr></thead>\n",
       "<tbody>\n",
       "\t<tr><td>Algeria         </td><td>Africa          </td><td>Total_population</td><td>1.112489e+07    </td><td>1.140486e+07    </td><td>1.169015e+07    </td><td>1.198513e+07    </td><td>1.229597e+07    </td><td>1.262695e+07    </td><td>1.298027e+07    </td></tr>\n",
       "\t<tr><td>Algeria         </td><td>Africa          </td><td>CO2_emissions   </td><td>5.537636e-01    </td><td>5.318100e-01    </td><td>4.849537e-01    </td><td>4.528245e-01    </td><td>4.595689e-01    </td><td>5.224485e-01    </td><td>6.494806e-01    </td></tr>\n",
       "\t<tr><td>Algeria         </td><td>Africa          </td><td>Life_expectancy </td><td>4.613512e+01    </td><td>4.659032e+01    </td><td>4.704500e+01    </td><td>4.749620e+01    </td><td>4.794190e+01    </td><td>4.837610e+01    </td><td>4.879080e+01    </td></tr>\n",
       "\t<tr><td>Algeria         </td><td>Africa          </td><td>Internet_usage  </td><td>          NA    </td><td>          NA    </td><td>          NA    </td><td>          NA    </td><td>          NA    </td><td>          NA    </td><td>          NA    </td></tr>\n",
       "\t<tr><td>Angola          </td><td>Africa          </td><td>Total_population</td><td>5.270844e+06    </td><td>5.367287e+06    </td><td>5.465905e+06    </td><td>5.565808e+06    </td><td>5.665701e+06    </td><td>5.765025e+06    </td><td>5.863568e+06    </td></tr>\n",
       "\t<tr><td>Angola          </td><td>Africa          </td><td>CO2_emissions   </td><td>1.043571e-01    </td><td>8.471841e-02    </td><td>2.160253e-01    </td><td>2.068771e-01    </td><td>2.161741e-01    </td><td>2.060890e-01    </td><td>2.651641e-01    </td></tr>\n",
       "</tbody>\n",
       "</table>\n"
      ],
      "text/latex": [
       "\\begin{tabular}{r|llllllllll}\n",
       " Country & Region & Indicator & X1960 & X1961 & X1962 & X1963 & X1964 & X1965 & X1966\\\\\n",
       "\\hline\n",
       "\t Algeria            & Africa             & Total\\_population & 1.112489e+07       & 1.140486e+07       & 1.169015e+07       & 1.198513e+07       & 1.229597e+07       & 1.262695e+07       & 1.298027e+07      \\\\\n",
       "\t Algeria            & Africa             & CO2\\_emissions    & 5.537636e-01       & 5.318100e-01       & 4.849537e-01       & 4.528245e-01       & 4.595689e-01       & 5.224485e-01       & 6.494806e-01      \\\\\n",
       "\t Algeria            & Africa             & Life\\_expectancy  & 4.613512e+01       & 4.659032e+01       & 4.704500e+01       & 4.749620e+01       & 4.794190e+01       & 4.837610e+01       & 4.879080e+01      \\\\\n",
       "\t Algeria            & Africa             & Internet\\_usage   &           NA       &           NA       &           NA       &           NA       &           NA       &           NA       &           NA      \\\\\n",
       "\t Angola             & Africa             & Total\\_population & 5.270844e+06       & 5.367287e+06       & 5.465905e+06       & 5.565808e+06       & 5.665701e+06       & 5.765025e+06       & 5.863568e+06      \\\\\n",
       "\t Angola             & Africa             & CO2\\_emissions    & 1.043571e-01       & 8.471841e-02       & 2.160253e-01       & 2.068771e-01       & 2.161741e-01       & 2.060890e-01       & 2.651641e-01      \\\\\n",
       "\\end{tabular}\n"
      ],
      "text/markdown": [
       "\n",
       "Country | Region | Indicator | X1960 | X1961 | X1962 | X1963 | X1964 | X1965 | X1966 | \n",
       "|---|---|---|---|---|---|\n",
       "| Algeria          | Africa           | Total_population | 1.112489e+07     | 1.140486e+07     | 1.169015e+07     | 1.198513e+07     | 1.229597e+07     | 1.262695e+07     | 1.298027e+07     | \n",
       "| Algeria          | Africa           | CO2_emissions    | 5.537636e-01     | 5.318100e-01     | 4.849537e-01     | 4.528245e-01     | 4.595689e-01     | 5.224485e-01     | 6.494806e-01     | \n",
       "| Algeria          | Africa           | Life_expectancy  | 4.613512e+01     | 4.659032e+01     | 4.704500e+01     | 4.749620e+01     | 4.794190e+01     | 4.837610e+01     | 4.879080e+01     | \n",
       "| Algeria          | Africa           | Internet_usage   |           NA     |           NA     |           NA     |           NA     |           NA     |           NA     |           NA     | \n",
       "| Angola           | Africa           | Total_population | 5.270844e+06     | 5.367287e+06     | 5.465905e+06     | 5.565808e+06     | 5.665701e+06     | 5.765025e+06     | 5.863568e+06     | \n",
       "| Angola           | Africa           | CO2_emissions    | 1.043571e-01     | 8.471841e-02     | 2.160253e-01     | 2.068771e-01     | 2.161741e-01     | 2.060890e-01     | 2.651641e-01     | \n",
       "\n",
       "\n"
      ],
      "text/plain": [
       "  Country Region Indicator        X1960        X1961        X1962       \n",
       "1 Algeria Africa Total_population 1.112489e+07 1.140486e+07 1.169015e+07\n",
       "2 Algeria Africa CO2_emissions    5.537636e-01 5.318100e-01 4.849537e-01\n",
       "3 Algeria Africa Life_expectancy  4.613512e+01 4.659032e+01 4.704500e+01\n",
       "4 Algeria Africa Internet_usage             NA           NA           NA\n",
       "5 Angola  Africa Total_population 5.270844e+06 5.367287e+06 5.465905e+06\n",
       "6 Angola  Africa CO2_emissions    1.043571e-01 8.471841e-02 2.160253e-01\n",
       "  X1963        X1964        X1965        X1966       \n",
       "1 1.198513e+07 1.229597e+07 1.262695e+07 1.298027e+07\n",
       "2 4.528245e-01 4.595689e-01 5.224485e-01 6.494806e-01\n",
       "3 4.749620e+01 4.794190e+01 4.837610e+01 4.879080e+01\n",
       "4           NA           NA           NA           NA\n",
       "5 5.565808e+06 5.665701e+06 5.765025e+06 5.863568e+06\n",
       "6 2.068771e-01 2.161741e-01 2.060890e-01 2.651641e-01"
      ]
     },
     "metadata": {},
     "output_type": "display_data"
    }
   ],
   "source": [
    "wb <- read.csv('https://github.com/WSU-DataScience/DSCI_210_R_notebooks/raw/main/world_bank_fresh_download.csv')\n",
    "head(wb)[,1:10] #first 6 rows, only first 10 cols"
   ]
  },
  {
   "attachments": {},
   "cell_type": "markdown",
   "metadata": {},
   "source": [
    "***Goal: plot life expectancy over time for each country in Africa.*** \n",
    "\n",
    "### Question 3\n",
    "\n",
    "Use imperative code to create the following data frames.\n",
    "\n",
    "A. Create `wb1` so that it looks like this:\n",
    "\n",
    "<img src=\"https://github.com/WSU-DataScience/DSCI_210_R_notebooks/raw/main/img/world_bank1.png\" width=\"850\"/>"
   ]
  },
  {
   "cell_type": "code",
   "execution_count": 7,
   "metadata": {},
   "outputs": [],
   "source": [
    "# Your code here"
   ]
  },
  {
   "cell_type": "markdown",
   "metadata": {},
   "source": [
    "B. Create `wb2` that looks like this:\n",
    "\n",
    "<img src=\"https://github.com/WSU-DataScience/DSCI_210_R_notebooks/raw/main/img/world_bank2.png\" width=\"850\"/>"
   ]
  },
  {
   "cell_type": "code",
   "execution_count": 9,
   "metadata": {},
   "outputs": [],
   "source": [
    "# Your code here"
   ]
  },
  {
   "cell_type": "markdown",
   "metadata": {},
   "source": [
    "C. Create data frame `africa_df` that includes only the African countries, and that converts `Year` to a numeric variable.  You can use the output below to double-check that you did the right thing:\n",
    "\n",
    "<img src=\"https://github.com/WSU-DataScience/DSCI_210_R_notebooks/raw/main/img/world_bank3.png\" width=\"850\"/>"
   ]
  },
  {
   "cell_type": "code",
   "execution_count": 10,
   "metadata": {},
   "outputs": [],
   "source": [
    "# Your code here"
   ]
  },
  {
   "cell_type": "markdown",
   "metadata": {},
   "source": [
    "### Question 4\n",
    "\n",
    "A. Re-do Question 3 with piping instead of imperative code.  "
   ]
  },
  {
   "cell_type": "code",
   "execution_count": 11,
   "metadata": {},
   "outputs": [],
   "source": [
    "# Your code here"
   ]
  },
  {
   "cell_type": "markdown",
   "metadata": {},
   "source": [
    "B. Run the following code to recreate the life expectancy over time chart:"
   ]
  },
  {
   "cell_type": "code",
   "execution_count": null,
   "metadata": {},
   "outputs": [],
   "source": [
    "library(ggplot2) \n",
    "ggplot(data = africa_df) + \n",
    "  geom_line(aes(x = Year, y = Life_expectancy)) + \n",
    "  facet_wrap(~Country)"
   ]
  }
 ],
 "metadata": {
  "kernelspec": {
   "display_name": "R",
   "language": "R",
   "name": "ir"
  },
  "language_info": {
   "codemirror_mode": "r",
   "file_extension": ".r",
   "mimetype": "text/x-r-source",
   "name": "R",
   "pygments_lexer": "r",
   "version": "3.5.1"
  }
 },
 "nbformat": 4,
 "nbformat_minor": 2
}
