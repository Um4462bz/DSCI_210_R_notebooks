{
 "cells": [
  {
   "cell_type": "markdown",
   "metadata": {},
   "source": [
    "# Introduction to dplyr and tidyr (part 2)"
   ]
  },
  {
   "cell_type": "code",
   "execution_count": 2,
   "metadata": {},
   "outputs": [
    {
     "name": "stderr",
     "output_type": "stream",
     "text": [
      "\n",
      "Attaching package: ‘dplyr’\n",
      "\n",
      "The following objects are masked from ‘package:stats’:\n",
      "\n",
      "    filter, lag\n",
      "\n",
      "The following objects are masked from ‘package:base’:\n",
      "\n",
      "    intersect, setdiff, setequal, union\n",
      "\n"
     ]
    }
   ],
   "source": [
    "library(dplyr)"
   ]
  },
  {
   "cell_type": "code",
   "execution_count": 3,
   "metadata": {},
   "outputs": [
    {
     "data": {
      "text/html": [
       "<table>\n",
       "<thead><tr><th scope=col>record_id</th><th scope=col>month</th><th scope=col>day</th><th scope=col>year</th><th scope=col>plot_id</th><th scope=col>species_id</th><th scope=col>sex</th><th scope=col>hindfoot_length</th><th scope=col>weight</th><th scope=col>genus</th><th scope=col>species</th><th scope=col>taxa</th><th scope=col>plot_type</th></tr></thead>\n",
       "<tbody>\n",
       "\t<tr><td>  1     </td><td> 7      </td><td>16      </td><td>1977    </td><td>2       </td><td>NL      </td><td>M       </td><td>32      </td><td>NA      </td><td>Neotoma </td><td>albigula</td><td>Rodent  </td><td>Control </td></tr>\n",
       "\t<tr><td> 72     </td><td> 8      </td><td>19      </td><td>1977    </td><td>2       </td><td>NL      </td><td>M       </td><td>31      </td><td>NA      </td><td>Neotoma </td><td>albigula</td><td>Rodent  </td><td>Control </td></tr>\n",
       "\t<tr><td>224     </td><td> 9      </td><td>13      </td><td>1977    </td><td>2       </td><td>NL      </td><td>        </td><td>NA      </td><td>NA      </td><td>Neotoma </td><td>albigula</td><td>Rodent  </td><td>Control </td></tr>\n",
       "\t<tr><td>266     </td><td>10      </td><td>16      </td><td>1977    </td><td>2       </td><td>NL      </td><td>        </td><td>NA      </td><td>NA      </td><td>Neotoma </td><td>albigula</td><td>Rodent  </td><td>Control </td></tr>\n",
       "\t<tr><td>349     </td><td>11      </td><td>12      </td><td>1977    </td><td>2       </td><td>NL      </td><td>        </td><td>NA      </td><td>NA      </td><td>Neotoma </td><td>albigula</td><td>Rodent  </td><td>Control </td></tr>\n",
       "\t<tr><td>363     </td><td>11      </td><td>12      </td><td>1977    </td><td>2       </td><td>NL      </td><td>        </td><td>NA      </td><td>NA      </td><td>Neotoma </td><td>albigula</td><td>Rodent  </td><td>Control </td></tr>\n",
       "</tbody>\n",
       "</table>\n"
      ],
      "text/latex": [
       "\\begin{tabular}{r|lllllllllllll}\n",
       " record\\_id & month & day & year & plot\\_id & species\\_id & sex & hindfoot\\_length & weight & genus & species & taxa & plot\\_type\\\\\n",
       "\\hline\n",
       "\t   1      &  7       & 16       & 1977     & 2        & NL       & M        & 32       & NA       & Neotoma  & albigula & Rodent   & Control \\\\\n",
       "\t  72      &  8       & 19       & 1977     & 2        & NL       & M        & 31       & NA       & Neotoma  & albigula & Rodent   & Control \\\\\n",
       "\t 224      &  9       & 13       & 1977     & 2        & NL       &          & NA       & NA       & Neotoma  & albigula & Rodent   & Control \\\\\n",
       "\t 266      & 10       & 16       & 1977     & 2        & NL       &          & NA       & NA       & Neotoma  & albigula & Rodent   & Control \\\\\n",
       "\t 349      & 11       & 12       & 1977     & 2        & NL       &          & NA       & NA       & Neotoma  & albigula & Rodent   & Control \\\\\n",
       "\t 363      & 11       & 12       & 1977     & 2        & NL       &          & NA       & NA       & Neotoma  & albigula & Rodent   & Control \\\\\n",
       "\\end{tabular}\n"
      ],
      "text/markdown": [
       "\n",
       "record_id | month | day | year | plot_id | species_id | sex | hindfoot_length | weight | genus | species | taxa | plot_type | \n",
       "|---|---|---|---|---|---|\n",
       "|   1      |  7       | 16       | 1977     | 2        | NL       | M        | 32       | NA       | Neotoma  | albigula | Rodent   | Control  | \n",
       "|  72      |  8       | 19       | 1977     | 2        | NL       | M        | 31       | NA       | Neotoma  | albigula | Rodent   | Control  | \n",
       "| 224      |  9       | 13       | 1977     | 2        | NL       |          | NA       | NA       | Neotoma  | albigula | Rodent   | Control  | \n",
       "| 266      | 10       | 16       | 1977     | 2        | NL       |          | NA       | NA       | Neotoma  | albigula | Rodent   | Control  | \n",
       "| 349      | 11       | 12       | 1977     | 2        | NL       |          | NA       | NA       | Neotoma  | albigula | Rodent   | Control  | \n",
       "| 363      | 11       | 12       | 1977     | 2        | NL       |          | NA       | NA       | Neotoma  | albigula | Rodent   | Control  | \n",
       "\n",
       "\n"
      ],
      "text/plain": [
       "  record_id month day year plot_id species_id sex hindfoot_length weight\n",
       "1   1        7    16  1977 2       NL         M   32              NA    \n",
       "2  72        8    19  1977 2       NL         M   31              NA    \n",
       "3 224        9    13  1977 2       NL             NA              NA    \n",
       "4 266       10    16  1977 2       NL             NA              NA    \n",
       "5 349       11    12  1977 2       NL             NA              NA    \n",
       "6 363       11    12  1977 2       NL             NA              NA    \n",
       "  genus   species  taxa   plot_type\n",
       "1 Neotoma albigula Rodent Control  \n",
       "2 Neotoma albigula Rodent Control  \n",
       "3 Neotoma albigula Rodent Control  \n",
       "4 Neotoma albigula Rodent Control  \n",
       "5 Neotoma albigula Rodent Control  \n",
       "6 Neotoma albigula Rodent Control  "
      ]
     },
     "metadata": {},
     "output_type": "display_data"
    }
   ],
   "source": [
    "surveys <- read.csv('https://github.com/WSU-DataScience/DSCI_210_R_notebooks/raw/main/portal_data_joined.csv')\n",
    "head(surveys)"
   ]
  },
  {
   "cell_type": "markdown",
   "metadata": {},
   "source": [
    "# Outline\n",
    "\n",
    "* Grouped aggregations\n",
    "* Joins\n",
    "* Gather/spread (Stack/Unstack)\n",
    "* The JMP --> `dplyr/tidyr` translation"
   ]
  },
  {
   "cell_type": "markdown",
   "metadata": {},
   "source": [
    "# Aggregation"
   ]
  },
  {
   "cell_type": "markdown",
   "metadata": {},
   "source": [
    "### Simple aggregation "
   ]
  },
  {
   "cell_type": "code",
   "execution_count": 4,
   "metadata": {},
   "outputs": [
    {
     "data": {
      "text/html": [
       "<table>\n",
       "<thead><tr><th scope=col>record_id</th><th scope=col>month</th><th scope=col>day</th><th scope=col>year</th><th scope=col>plot_id</th><th scope=col>species_id</th><th scope=col>sex</th><th scope=col>hindfoot_length</th><th scope=col>weight</th><th scope=col>genus</th><th scope=col>species</th><th scope=col>taxa</th><th scope=col>plot_type</th></tr></thead>\n",
       "<tbody>\n",
       "\t<tr><td>  1     </td><td> 7      </td><td>16      </td><td>1977    </td><td>2       </td><td>NL      </td><td>M       </td><td>32      </td><td>NA      </td><td>Neotoma </td><td>albigula</td><td>Rodent  </td><td>Control </td></tr>\n",
       "\t<tr><td> 72     </td><td> 8      </td><td>19      </td><td>1977    </td><td>2       </td><td>NL      </td><td>M       </td><td>31      </td><td>NA      </td><td>Neotoma </td><td>albigula</td><td>Rodent  </td><td>Control </td></tr>\n",
       "\t<tr><td>224     </td><td> 9      </td><td>13      </td><td>1977    </td><td>2       </td><td>NL      </td><td>        </td><td>NA      </td><td>NA      </td><td>Neotoma </td><td>albigula</td><td>Rodent  </td><td>Control </td></tr>\n",
       "\t<tr><td>266     </td><td>10      </td><td>16      </td><td>1977    </td><td>2       </td><td>NL      </td><td>        </td><td>NA      </td><td>NA      </td><td>Neotoma </td><td>albigula</td><td>Rodent  </td><td>Control </td></tr>\n",
       "\t<tr><td>349     </td><td>11      </td><td>12      </td><td>1977    </td><td>2       </td><td>NL      </td><td>        </td><td>NA      </td><td>NA      </td><td>Neotoma </td><td>albigula</td><td>Rodent  </td><td>Control </td></tr>\n",
       "\t<tr><td>363     </td><td>11      </td><td>12      </td><td>1977    </td><td>2       </td><td>NL      </td><td>        </td><td>NA      </td><td>NA      </td><td>Neotoma </td><td>albigula</td><td>Rodent  </td><td>Control </td></tr>\n",
       "</tbody>\n",
       "</table>\n"
      ],
      "text/latex": [
       "\\begin{tabular}{r|lllllllllllll}\n",
       " record\\_id & month & day & year & plot\\_id & species\\_id & sex & hindfoot\\_length & weight & genus & species & taxa & plot\\_type\\\\\n",
       "\\hline\n",
       "\t   1      &  7       & 16       & 1977     & 2        & NL       & M        & 32       & NA       & Neotoma  & albigula & Rodent   & Control \\\\\n",
       "\t  72      &  8       & 19       & 1977     & 2        & NL       & M        & 31       & NA       & Neotoma  & albigula & Rodent   & Control \\\\\n",
       "\t 224      &  9       & 13       & 1977     & 2        & NL       &          & NA       & NA       & Neotoma  & albigula & Rodent   & Control \\\\\n",
       "\t 266      & 10       & 16       & 1977     & 2        & NL       &          & NA       & NA       & Neotoma  & albigula & Rodent   & Control \\\\\n",
       "\t 349      & 11       & 12       & 1977     & 2        & NL       &          & NA       & NA       & Neotoma  & albigula & Rodent   & Control \\\\\n",
       "\t 363      & 11       & 12       & 1977     & 2        & NL       &          & NA       & NA       & Neotoma  & albigula & Rodent   & Control \\\\\n",
       "\\end{tabular}\n"
      ],
      "text/markdown": [
       "\n",
       "record_id | month | day | year | plot_id | species_id | sex | hindfoot_length | weight | genus | species | taxa | plot_type | \n",
       "|---|---|---|---|---|---|\n",
       "|   1      |  7       | 16       | 1977     | 2        | NL       | M        | 32       | NA       | Neotoma  | albigula | Rodent   | Control  | \n",
       "|  72      |  8       | 19       | 1977     | 2        | NL       | M        | 31       | NA       | Neotoma  | albigula | Rodent   | Control  | \n",
       "| 224      |  9       | 13       | 1977     | 2        | NL       |          | NA       | NA       | Neotoma  | albigula | Rodent   | Control  | \n",
       "| 266      | 10       | 16       | 1977     | 2        | NL       |          | NA       | NA       | Neotoma  | albigula | Rodent   | Control  | \n",
       "| 349      | 11       | 12       | 1977     | 2        | NL       |          | NA       | NA       | Neotoma  | albigula | Rodent   | Control  | \n",
       "| 363      | 11       | 12       | 1977     | 2        | NL       |          | NA       | NA       | Neotoma  | albigula | Rodent   | Control  | \n",
       "\n",
       "\n"
      ],
      "text/plain": [
       "  record_id month day year plot_id species_id sex hindfoot_length weight\n",
       "1   1        7    16  1977 2       NL         M   32              NA    \n",
       "2  72        8    19  1977 2       NL         M   31              NA    \n",
       "3 224        9    13  1977 2       NL             NA              NA    \n",
       "4 266       10    16  1977 2       NL             NA              NA    \n",
       "5 349       11    12  1977 2       NL             NA              NA    \n",
       "6 363       11    12  1977 2       NL             NA              NA    \n",
       "  genus   species  taxa   plot_type\n",
       "1 Neotoma albigula Rodent Control  \n",
       "2 Neotoma albigula Rodent Control  \n",
       "3 Neotoma albigula Rodent Control  \n",
       "4 Neotoma albigula Rodent Control  \n",
       "5 Neotoma albigula Rodent Control  \n",
       "6 Neotoma albigula Rodent Control  "
      ]
     },
     "metadata": {},
     "output_type": "display_data"
    },
    {
     "data": {
      "text/html": [
       "<table>\n",
       "<thead><tr><th scope=col>avg_wgt</th></tr></thead>\n",
       "<tbody>\n",
       "\t<tr><td>NA</td></tr>\n",
       "</tbody>\n",
       "</table>\n"
      ],
      "text/latex": [
       "\\begin{tabular}{r|l}\n",
       " avg\\_wgt\\\\\n",
       "\\hline\n",
       "\t NA\\\\\n",
       "\\end{tabular}\n"
      ],
      "text/markdown": [
       "\n",
       "avg_wgt | \n",
       "|---|\n",
       "| NA | \n",
       "\n",
       "\n"
      ],
      "text/plain": [
       "  avg_wgt\n",
       "1 NA     "
      ]
     },
     "metadata": {},
     "output_type": "display_data"
    }
   ],
   "source": [
    "head(surveys)\n",
    "surveys %>%\n",
    "  summarize(avg_wgt = mean(weight))"
   ]
  },
  {
   "cell_type": "code",
   "execution_count": 5,
   "metadata": {},
   "outputs": [
    {
     "data": {
      "text/html": [
       "<table>\n",
       "<thead><tr><th scope=col>avg_wgt</th></tr></thead>\n",
       "<tbody>\n",
       "\t<tr><td>42.67243</td></tr>\n",
       "</tbody>\n",
       "</table>\n"
      ],
      "text/latex": [
       "\\begin{tabular}{r|l}\n",
       " avg\\_wgt\\\\\n",
       "\\hline\n",
       "\t 42.67243\\\\\n",
       "\\end{tabular}\n"
      ],
      "text/markdown": [
       "\n",
       "avg_wgt | \n",
       "|---|\n",
       "| 42.67243 | \n",
       "\n",
       "\n"
      ],
      "text/plain": [
       "  avg_wgt \n",
       "1 42.67243"
      ]
     },
     "metadata": {},
     "output_type": "display_data"
    }
   ],
   "source": [
    "surveys %>%\n",
    "  filter(complete.cases(weight)) %>%\n",
    "  summarize(avg_wgt = mean(weight))"
   ]
  },
  {
   "cell_type": "code",
   "execution_count": 6,
   "metadata": {},
   "outputs": [
    {
     "data": {
      "text/html": [
       "<table>\n",
       "<thead><tr><th scope=col>avg_wgt</th></tr></thead>\n",
       "<tbody>\n",
       "\t<tr><td>42.67243</td></tr>\n",
       "</tbody>\n",
       "</table>\n"
      ],
      "text/latex": [
       "\\begin{tabular}{r|l}\n",
       " avg\\_wgt\\\\\n",
       "\\hline\n",
       "\t 42.67243\\\\\n",
       "\\end{tabular}\n"
      ],
      "text/markdown": [
       "\n",
       "avg_wgt | \n",
       "|---|\n",
       "| 42.67243 | \n",
       "\n",
       "\n"
      ],
      "text/plain": [
       "  avg_wgt \n",
       "1 42.67243"
      ]
     },
     "metadata": {},
     "output_type": "display_data"
    }
   ],
   "source": [
    "surveys %>%\n",
    "  summarize(avg_wgt = mean(weight, na.rm=TRUE))"
   ]
  },
  {
   "cell_type": "markdown",
   "metadata": {},
   "source": [
    "### Grouped aggregation\n",
    "\n",
    "***One grouping variable:***"
   ]
  },
  {
   "cell_type": "code",
   "execution_count": 7,
   "metadata": {},
   "outputs": [
    {
     "name": "stderr",
     "output_type": "stream",
     "text": [
      "`summarise()` ungrouping output (override with `.groups` argument)\n"
     ]
    },
    {
     "data": {
      "text/html": [
       "<table>\n",
       "<thead><tr><th scope=col>taxa</th><th scope=col>avg_wt</th></tr></thead>\n",
       "<tbody>\n",
       "\t<tr><td>Bird    </td><td>     NaN</td></tr>\n",
       "\t<tr><td>Rabbit  </td><td>     NaN</td></tr>\n",
       "\t<tr><td>Reptile </td><td>     NaN</td></tr>\n",
       "\t<tr><td>Rodent  </td><td>42.67243</td></tr>\n",
       "</tbody>\n",
       "</table>\n"
      ],
      "text/latex": [
       "\\begin{tabular}{r|ll}\n",
       " taxa & avg\\_wt\\\\\n",
       "\\hline\n",
       "\t Bird     &      NaN\\\\\n",
       "\t Rabbit   &      NaN\\\\\n",
       "\t Reptile  &      NaN\\\\\n",
       "\t Rodent   & 42.67243\\\\\n",
       "\\end{tabular}\n"
      ],
      "text/markdown": [
       "\n",
       "taxa | avg_wt | \n",
       "|---|---|---|---|\n",
       "| Bird     |      NaN | \n",
       "| Rabbit   |      NaN | \n",
       "| Reptile  |      NaN | \n",
       "| Rodent   | 42.67243 | \n",
       "\n",
       "\n"
      ],
      "text/plain": [
       "  taxa    avg_wt  \n",
       "1 Bird         NaN\n",
       "2 Rabbit       NaN\n",
       "3 Reptile      NaN\n",
       "4 Rodent  42.67243"
      ]
     },
     "metadata": {},
     "output_type": "display_data"
    }
   ],
   "source": [
    "surveys %>%\n",
    "    group_by(taxa) %>%\n",
    "    summarize(avg_wt = mean(weight, na.rm = TRUE))"
   ]
  },
  {
   "cell_type": "markdown",
   "metadata": {},
   "source": [
    "***Two grouping variables:***"
   ]
  },
  {
   "cell_type": "code",
   "execution_count": 8,
   "metadata": {},
   "outputs": [
    {
     "name": "stderr",
     "output_type": "stream",
     "text": [
      "`summarise()` regrouping output by 'taxa' (override with `.groups` argument)\n"
     ]
    },
    {
     "data": {
      "text/html": [
       "<table>\n",
       "<thead><tr><th scope=col>taxa</th><th scope=col>sex</th><th scope=col>cnt</th></tr></thead>\n",
       "<tbody>\n",
       "\t<tr><td>Bird   </td><td>       </td><td>  450  </td></tr>\n",
       "\t<tr><td>Rabbit </td><td>       </td><td>   75  </td></tr>\n",
       "\t<tr><td>Reptile</td><td>       </td><td>   14  </td></tr>\n",
       "\t<tr><td>Rodent </td><td>       </td><td> 1209  </td></tr>\n",
       "\t<tr><td>Rodent </td><td>F      </td><td>15690  </td></tr>\n",
       "\t<tr><td>Rodent </td><td>M      </td><td>17348  </td></tr>\n",
       "</tbody>\n",
       "</table>\n"
      ],
      "text/latex": [
       "\\begin{tabular}{r|lll}\n",
       " taxa & sex & cnt\\\\\n",
       "\\hline\n",
       "\t Bird    &         &   450  \\\\\n",
       "\t Rabbit  &         &    75  \\\\\n",
       "\t Reptile &         &    14  \\\\\n",
       "\t Rodent  &         &  1209  \\\\\n",
       "\t Rodent  & F       & 15690  \\\\\n",
       "\t Rodent  & M       & 17348  \\\\\n",
       "\\end{tabular}\n"
      ],
      "text/markdown": [
       "\n",
       "taxa | sex | cnt | \n",
       "|---|---|---|---|---|---|\n",
       "| Bird    |         |   450   | \n",
       "| Rabbit  |         |    75   | \n",
       "| Reptile |         |    14   | \n",
       "| Rodent  |         |  1209   | \n",
       "| Rodent  | F       | 15690   | \n",
       "| Rodent  | M       | 17348   | \n",
       "\n",
       "\n"
      ],
      "text/plain": [
       "  taxa    sex cnt  \n",
       "1 Bird          450\n",
       "2 Rabbit         75\n",
       "3 Reptile        14\n",
       "4 Rodent       1209\n",
       "5 Rodent  F   15690\n",
       "6 Rodent  M   17348"
      ]
     },
     "metadata": {},
     "output_type": "display_data"
    }
   ],
   "source": [
    "surveys %>%\n",
    "  group_by(taxa, sex) %>%\n",
    "  summarize(cnt = n())"
   ]
  },
  {
   "cell_type": "markdown",
   "metadata": {},
   "source": [
    "***A mutate-group-aggregate with  the ever-useful `ifelse()`***"
   ]
  },
  {
   "cell_type": "code",
   "execution_count": 9,
   "metadata": {},
   "outputs": [
    {
     "name": "stderr",
     "output_type": "stream",
     "text": [
      "`summarise()` regrouping output by 'rodent' (override with `.groups` argument)\n"
     ]
    },
    {
     "data": {
      "text/html": [
       "<table>\n",
       "<thead><tr><th scope=col>rodent</th><th scope=col>sex</th><th scope=col>cnt</th><th scope=col>avg_wt</th></tr></thead>\n",
       "<tbody>\n",
       "\t<tr><td>no      </td><td>        </td><td>  539   </td><td>     NaN</td></tr>\n",
       "\t<tr><td>yes     </td><td>        </td><td> 1209   </td><td>64.74257</td></tr>\n",
       "\t<tr><td>yes     </td><td>F       </td><td>15690   </td><td>42.17055</td></tr>\n",
       "\t<tr><td>yes     </td><td>M       </td><td>17348   </td><td>42.99538</td></tr>\n",
       "</tbody>\n",
       "</table>\n"
      ],
      "text/latex": [
       "\\begin{tabular}{r|llll}\n",
       " rodent & sex & cnt & avg\\_wt\\\\\n",
       "\\hline\n",
       "\t no       &          &   539    &      NaN\\\\\n",
       "\t yes      &          &  1209    & 64.74257\\\\\n",
       "\t yes      & F        & 15690    & 42.17055\\\\\n",
       "\t yes      & M        & 17348    & 42.99538\\\\\n",
       "\\end{tabular}\n"
      ],
      "text/markdown": [
       "\n",
       "rodent | sex | cnt | avg_wt | \n",
       "|---|---|---|---|\n",
       "| no       |          |   539    |      NaN | \n",
       "| yes      |          |  1209    | 64.74257 | \n",
       "| yes      | F        | 15690    | 42.17055 | \n",
       "| yes      | M        | 17348    | 42.99538 | \n",
       "\n",
       "\n"
      ],
      "text/plain": [
       "  rodent sex cnt   avg_wt  \n",
       "1 no           539      NaN\n",
       "2 yes         1209 64.74257\n",
       "3 yes    F   15690 42.17055\n",
       "4 yes    M   17348 42.99538"
      ]
     },
     "metadata": {},
     "output_type": "display_data"
    }
   ],
   "source": [
    "surveys %>%\n",
    "  mutate(rodent = ifelse(taxa=='Rodent','yes','no')) %>% \n",
    "  group_by(rodent, sex) %>%\n",
    "  summarize(cnt = n(), avg_wt = mean(weight,na.rm=TRUE))\n"
   ]
  },
  {
   "cell_type": "markdown",
   "metadata": {},
   "source": [
    "***A mutate-group-aggregate-filter (note \"\" != NA):***"
   ]
  },
  {
   "cell_type": "code",
   "execution_count": 10,
   "metadata": {},
   "outputs": [
    {
     "name": "stderr",
     "output_type": "stream",
     "text": [
      "`summarise()` regrouping output by 'rodent' (override with `.groups` argument)\n"
     ]
    },
    {
     "data": {
      "text/html": [
       "<table>\n",
       "<thead><tr><th scope=col>rodent</th><th scope=col>sex</th><th scope=col>cnt</th><th scope=col>avg_wt</th></tr></thead>\n",
       "<tbody>\n",
       "\t<tr><td>yes     </td><td>F       </td><td>15690   </td><td>42.17055</td></tr>\n",
       "\t<tr><td>yes     </td><td>M       </td><td>17348   </td><td>42.99538</td></tr>\n",
       "</tbody>\n",
       "</table>\n"
      ],
      "text/latex": [
       "\\begin{tabular}{r|llll}\n",
       " rodent & sex & cnt & avg\\_wt\\\\\n",
       "\\hline\n",
       "\t yes      & F        & 15690    & 42.17055\\\\\n",
       "\t yes      & M        & 17348    & 42.99538\\\\\n",
       "\\end{tabular}\n"
      ],
      "text/markdown": [
       "\n",
       "rodent | sex | cnt | avg_wt | \n",
       "|---|---|\n",
       "| yes      | F        | 15690    | 42.17055 | \n",
       "| yes      | M        | 17348    | 42.99538 | \n",
       "\n",
       "\n"
      ],
      "text/plain": [
       "  rodent sex cnt   avg_wt  \n",
       "1 yes    F   15690 42.17055\n",
       "2 yes    M   17348 42.99538"
      ]
     },
     "metadata": {},
     "output_type": "display_data"
    }
   ],
   "source": [
    "surveys %>%\n",
    "  mutate(rodent = ifelse(taxa=='Rodent','yes','no')) %>% \n",
    "  group_by(rodent, sex) %>%\n",
    "  summarize(cnt = n(), avg_wt = mean(weight,na.rm=TRUE)) %>%\n",
    "  filter(sex!=\"\")"
   ]
  },
  {
   "cell_type": "markdown",
   "metadata": {},
   "source": [
    "# Stack and Unstack\n",
    "\n",
    "\n",
    "* `library(tidyr)`\n",
    "* Stack $\\rightarrow$ `gather`\n",
    "* Unstack $\\rightarrow$ `spread` "
   ]
  },
  {
   "cell_type": "markdown",
   "metadata": {},
   "source": [
    "### `gather()`"
   ]
  },
  {
   "cell_type": "code",
   "execution_count": 11,
   "metadata": {},
   "outputs": [],
   "source": [
    "library('tidyr')"
   ]
  },
  {
   "cell_type": "markdown",
   "metadata": {},
   "source": [
    "##### Imperative:\n",
    "```{R}\n",
    "gather(data, key = , value = , col1, col2, col3, ...)\n",
    "```"
   ]
  },
  {
   "cell_type": "markdown",
   "metadata": {},
   "source": [
    "#### Piping:\n",
    "```{R}\n",
    "data %>% \n",
    "  gather(key = , value = , col1, col2, col3, ...)\n",
    "```"
   ]
  },
  {
   "cell_type": "markdown",
   "metadata": {},
   "source": [
    "Arguments are:\n",
    "\n",
    "1. label column name \n",
    "2. data column name\n",
    "3. then a list of columns to stack"
   ]
  },
  {
   "cell_type": "markdown",
   "metadata": {},
   "source": [
    "A familiar example"
   ]
  },
  {
   "cell_type": "code",
   "execution_count": 12,
   "metadata": {},
   "outputs": [
    {
     "data": {
      "text/html": [
       "<table>\n",
       "<thead><tr><th scope=col>Salesperson</th><th scope=col>Compact</th><th scope=col>Sedan</th><th scope=col>SUV</th><th scope=col>Truck</th></tr></thead>\n",
       "<tbody>\n",
       "\t<tr><td>Ann    </td><td>22     </td><td>18     </td><td>15     </td><td>12     </td></tr>\n",
       "\t<tr><td>Bob    </td><td>19     </td><td>12     </td><td>17     </td><td>20     </td></tr>\n",
       "\t<tr><td>Yolanda</td><td>19     </td><td> 8     </td><td>32     </td><td>15     </td></tr>\n",
       "\t<tr><td>Xerxes </td><td>12     </td><td>23     </td><td>18     </td><td> 9     </td></tr>\n",
       "</tbody>\n",
       "</table>\n"
      ],
      "text/latex": [
       "\\begin{tabular}{r|lllll}\n",
       " Salesperson & Compact & Sedan & SUV & Truck\\\\\n",
       "\\hline\n",
       "\t Ann     & 22      & 18      & 15      & 12     \\\\\n",
       "\t Bob     & 19      & 12      & 17      & 20     \\\\\n",
       "\t Yolanda & 19      &  8      & 32      & 15     \\\\\n",
       "\t Xerxes  & 12      & 23      & 18      &  9     \\\\\n",
       "\\end{tabular}\n"
      ],
      "text/markdown": [
       "\n",
       "Salesperson | Compact | Sedan | SUV | Truck | \n",
       "|---|---|---|---|\n",
       "| Ann     | 22      | 18      | 15      | 12      | \n",
       "| Bob     | 19      | 12      | 17      | 20      | \n",
       "| Yolanda | 19      |  8      | 32      | 15      | \n",
       "| Xerxes  | 12      | 23      | 18      |  9      | \n",
       "\n",
       "\n"
      ],
      "text/plain": [
       "  Salesperson Compact Sedan SUV Truck\n",
       "1 Ann         22      18    15  12   \n",
       "2 Bob         19      12    17  20   \n",
       "3 Yolanda     19       8    32  15   \n",
       "4 Xerxes      12      23    18   9   "
      ]
     },
     "metadata": {},
     "output_type": "display_data"
    }
   ],
   "source": [
    "sales <- read.csv(\"https://github.com/WSU-DataScience/DSCI_210_R_notebooks/raw/main/auto_sales.csv\")\n",
    "sales"
   ]
  },
  {
   "cell_type": "markdown",
   "metadata": {},
   "source": [
    "#### Option 1: spell out all stacking columns"
   ]
  },
  {
   "cell_type": "code",
   "execution_count": 13,
   "metadata": {},
   "outputs": [
    {
     "data": {
      "text/html": [
       "<table>\n",
       "<thead><tr><th scope=col>Salesperson</th><th scope=col>auto_type</th><th scope=col>num_sales</th></tr></thead>\n",
       "<tbody>\n",
       "\t<tr><td>Ann    </td><td>Compact</td><td>22     </td></tr>\n",
       "\t<tr><td>Bob    </td><td>Compact</td><td>19     </td></tr>\n",
       "\t<tr><td>Yolanda</td><td>Compact</td><td>19     </td></tr>\n",
       "\t<tr><td>Xerxes </td><td>Compact</td><td>12     </td></tr>\n",
       "\t<tr><td>Ann    </td><td>Sedan  </td><td>18     </td></tr>\n",
       "\t<tr><td>Bob    </td><td>Sedan  </td><td>12     </td></tr>\n",
       "</tbody>\n",
       "</table>\n"
      ],
      "text/latex": [
       "\\begin{tabular}{r|lll}\n",
       " Salesperson & auto\\_type & num\\_sales\\\\\n",
       "\\hline\n",
       "\t Ann     & Compact & 22     \\\\\n",
       "\t Bob     & Compact & 19     \\\\\n",
       "\t Yolanda & Compact & 19     \\\\\n",
       "\t Xerxes  & Compact & 12     \\\\\n",
       "\t Ann     & Sedan   & 18     \\\\\n",
       "\t Bob     & Sedan   & 12     \\\\\n",
       "\\end{tabular}\n"
      ],
      "text/markdown": [
       "\n",
       "Salesperson | auto_type | num_sales | \n",
       "|---|---|---|---|---|---|\n",
       "| Ann     | Compact | 22      | \n",
       "| Bob     | Compact | 19      | \n",
       "| Yolanda | Compact | 19      | \n",
       "| Xerxes  | Compact | 12      | \n",
       "| Ann     | Sedan   | 18      | \n",
       "| Bob     | Sedan   | 12      | \n",
       "\n",
       "\n"
      ],
      "text/plain": [
       "  Salesperson auto_type num_sales\n",
       "1 Ann         Compact   22       \n",
       "2 Bob         Compact   19       \n",
       "3 Yolanda     Compact   19       \n",
       "4 Xerxes      Compact   12       \n",
       "5 Ann         Sedan     18       \n",
       "6 Bob         Sedan     12       "
      ]
     },
     "metadata": {},
     "output_type": "display_data"
    }
   ],
   "source": [
    "library(tidyr)\n",
    "stacked_sales <-\n",
    "  sales %>%\n",
    "  gather(key = auto_type,value = num_sales, Compact, Sedan, SUV, Truck)\n",
    "head(stacked_sales)"
   ]
  },
  {
   "cell_type": "markdown",
   "metadata": {},
   "source": [
    "#### Option 2: refer to column range"
   ]
  },
  {
   "cell_type": "code",
   "execution_count": 14,
   "metadata": {},
   "outputs": [
    {
     "data": {
      "text/html": [
       "<table>\n",
       "<thead><tr><th scope=col>Salesperson</th><th scope=col>auto_type</th><th scope=col>num_sales</th></tr></thead>\n",
       "<tbody>\n",
       "\t<tr><td>Ann    </td><td>Compact</td><td>22     </td></tr>\n",
       "\t<tr><td>Bob    </td><td>Compact</td><td>19     </td></tr>\n",
       "\t<tr><td>Yolanda</td><td>Compact</td><td>19     </td></tr>\n",
       "\t<tr><td>Xerxes </td><td>Compact</td><td>12     </td></tr>\n",
       "\t<tr><td>Ann    </td><td>Sedan  </td><td>18     </td></tr>\n",
       "\t<tr><td>Bob    </td><td>Sedan  </td><td>12     </td></tr>\n",
       "</tbody>\n",
       "</table>\n"
      ],
      "text/latex": [
       "\\begin{tabular}{r|lll}\n",
       " Salesperson & auto\\_type & num\\_sales\\\\\n",
       "\\hline\n",
       "\t Ann     & Compact & 22     \\\\\n",
       "\t Bob     & Compact & 19     \\\\\n",
       "\t Yolanda & Compact & 19     \\\\\n",
       "\t Xerxes  & Compact & 12     \\\\\n",
       "\t Ann     & Sedan   & 18     \\\\\n",
       "\t Bob     & Sedan   & 12     \\\\\n",
       "\\end{tabular}\n"
      ],
      "text/markdown": [
       "\n",
       "Salesperson | auto_type | num_sales | \n",
       "|---|---|---|---|---|---|\n",
       "| Ann     | Compact | 22      | \n",
       "| Bob     | Compact | 19      | \n",
       "| Yolanda | Compact | 19      | \n",
       "| Xerxes  | Compact | 12      | \n",
       "| Ann     | Sedan   | 18      | \n",
       "| Bob     | Sedan   | 12      | \n",
       "\n",
       "\n"
      ],
      "text/plain": [
       "  Salesperson auto_type num_sales\n",
       "1 Ann         Compact   22       \n",
       "2 Bob         Compact   19       \n",
       "3 Yolanda     Compact   19       \n",
       "4 Xerxes      Compact   12       \n",
       "5 Ann         Sedan     18       \n",
       "6 Bob         Sedan     12       "
      ]
     },
     "metadata": {},
     "output_type": "display_data"
    }
   ],
   "source": [
    "stacked_sales <-\n",
    "  sales %>%\n",
    "  gather(key = auto_type,value = num_sales,Compact:Truck)\n",
    "head(stacked_sales)"
   ]
  },
  {
   "cell_type": "markdown",
   "metadata": {},
   "source": [
    "#### Option 3: select by exclusion"
   ]
  },
  {
   "cell_type": "code",
   "execution_count": 15,
   "metadata": {},
   "outputs": [
    {
     "data": {
      "text/html": [
       "<table>\n",
       "<thead><tr><th scope=col>Salesperson</th><th scope=col>auto_type</th><th scope=col>num_sales</th></tr></thead>\n",
       "<tbody>\n",
       "\t<tr><td>Ann    </td><td>Compact</td><td>22     </td></tr>\n",
       "\t<tr><td>Bob    </td><td>Compact</td><td>19     </td></tr>\n",
       "\t<tr><td>Yolanda</td><td>Compact</td><td>19     </td></tr>\n",
       "\t<tr><td>Xerxes </td><td>Compact</td><td>12     </td></tr>\n",
       "\t<tr><td>Ann    </td><td>Sedan  </td><td>18     </td></tr>\n",
       "\t<tr><td>Bob    </td><td>Sedan  </td><td>12     </td></tr>\n",
       "</tbody>\n",
       "</table>\n"
      ],
      "text/latex": [
       "\\begin{tabular}{r|lll}\n",
       " Salesperson & auto\\_type & num\\_sales\\\\\n",
       "\\hline\n",
       "\t Ann     & Compact & 22     \\\\\n",
       "\t Bob     & Compact & 19     \\\\\n",
       "\t Yolanda & Compact & 19     \\\\\n",
       "\t Xerxes  & Compact & 12     \\\\\n",
       "\t Ann     & Sedan   & 18     \\\\\n",
       "\t Bob     & Sedan   & 12     \\\\\n",
       "\\end{tabular}\n"
      ],
      "text/markdown": [
       "\n",
       "Salesperson | auto_type | num_sales | \n",
       "|---|---|---|---|---|---|\n",
       "| Ann     | Compact | 22      | \n",
       "| Bob     | Compact | 19      | \n",
       "| Yolanda | Compact | 19      | \n",
       "| Xerxes  | Compact | 12      | \n",
       "| Ann     | Sedan   | 18      | \n",
       "| Bob     | Sedan   | 12      | \n",
       "\n",
       "\n"
      ],
      "text/plain": [
       "  Salesperson auto_type num_sales\n",
       "1 Ann         Compact   22       \n",
       "2 Bob         Compact   19       \n",
       "3 Yolanda     Compact   19       \n",
       "4 Xerxes      Compact   12       \n",
       "5 Ann         Sedan     18       \n",
       "6 Bob         Sedan     12       "
      ]
     },
     "metadata": {},
     "output_type": "display_data"
    }
   ],
   "source": [
    "stacked_sales <-\n",
    "  sales %>%\n",
    "  gather(key = auto_type,value = num_sales,-Salesperson)\n",
    "head(stacked_sales)"
   ]
  },
  {
   "cell_type": "markdown",
   "metadata": {},
   "source": [
    "### `spread()`"
   ]
  },
  {
   "cell_type": "markdown",
   "metadata": {},
   "source": [
    "#### Imperative:\n",
    "\n",
    "```{r}\n",
    "spread(data, key = , value = )\n",
    "```\n",
    "#### Piping:\n",
    "\n",
    "```{r}\n",
    "data %>% \n",
    "  spread(key = , value = )\n",
    "```"
   ]
  },
  {
   "cell_type": "markdown",
   "metadata": {},
   "source": [
    "Arguments:\n",
    "\n",
    "1. Column to split on\n",
    "2. Column to split"
   ]
  },
  {
   "cell_type": "markdown",
   "metadata": {},
   "source": [
    "#### A simple unstack"
   ]
  },
  {
   "cell_type": "code",
   "execution_count": 16,
   "metadata": {},
   "outputs": [
    {
     "data": {
      "text/html": [
       "<table>\n",
       "<thead><tr><th scope=col>Salesperson</th><th scope=col>auto_type</th><th scope=col>num_sales</th></tr></thead>\n",
       "<tbody>\n",
       "\t<tr><td>Ann    </td><td>Compact</td><td>22     </td></tr>\n",
       "\t<tr><td>Bob    </td><td>Compact</td><td>19     </td></tr>\n",
       "\t<tr><td>Yolanda</td><td>Compact</td><td>19     </td></tr>\n",
       "\t<tr><td>Xerxes </td><td>Compact</td><td>12     </td></tr>\n",
       "\t<tr><td>Ann    </td><td>Sedan  </td><td>18     </td></tr>\n",
       "\t<tr><td>Bob    </td><td>Sedan  </td><td>12     </td></tr>\n",
       "</tbody>\n",
       "</table>\n"
      ],
      "text/latex": [
       "\\begin{tabular}{r|lll}\n",
       " Salesperson & auto\\_type & num\\_sales\\\\\n",
       "\\hline\n",
       "\t Ann     & Compact & 22     \\\\\n",
       "\t Bob     & Compact & 19     \\\\\n",
       "\t Yolanda & Compact & 19     \\\\\n",
       "\t Xerxes  & Compact & 12     \\\\\n",
       "\t Ann     & Sedan   & 18     \\\\\n",
       "\t Bob     & Sedan   & 12     \\\\\n",
       "\\end{tabular}\n"
      ],
      "text/markdown": [
       "\n",
       "Salesperson | auto_type | num_sales | \n",
       "|---|---|---|---|---|---|\n",
       "| Ann     | Compact | 22      | \n",
       "| Bob     | Compact | 19      | \n",
       "| Yolanda | Compact | 19      | \n",
       "| Xerxes  | Compact | 12      | \n",
       "| Ann     | Sedan   | 18      | \n",
       "| Bob     | Sedan   | 12      | \n",
       "\n",
       "\n"
      ],
      "text/plain": [
       "  Salesperson auto_type num_sales\n",
       "1 Ann         Compact   22       \n",
       "2 Bob         Compact   19       \n",
       "3 Yolanda     Compact   19       \n",
       "4 Xerxes      Compact   12       \n",
       "5 Ann         Sedan     18       \n",
       "6 Bob         Sedan     12       "
      ]
     },
     "metadata": {},
     "output_type": "display_data"
    }
   ],
   "source": [
    "head(stacked_sales)"
   ]
  },
  {
   "cell_type": "code",
   "execution_count": 17,
   "metadata": {},
   "outputs": [
    {
     "data": {
      "text/html": [
       "<table>\n",
       "<thead><tr><th scope=col>Salesperson</th><th scope=col>Compact</th><th scope=col>Sedan</th><th scope=col>SUV</th><th scope=col>Truck</th></tr></thead>\n",
       "<tbody>\n",
       "\t<tr><td>Ann    </td><td>22     </td><td>18     </td><td>15     </td><td>12     </td></tr>\n",
       "\t<tr><td>Bob    </td><td>19     </td><td>12     </td><td>17     </td><td>20     </td></tr>\n",
       "\t<tr><td>Xerxes </td><td>12     </td><td>23     </td><td>18     </td><td> 9     </td></tr>\n",
       "\t<tr><td>Yolanda</td><td>19     </td><td> 8     </td><td>32     </td><td>15     </td></tr>\n",
       "</tbody>\n",
       "</table>\n"
      ],
      "text/latex": [
       "\\begin{tabular}{r|lllll}\n",
       " Salesperson & Compact & Sedan & SUV & Truck\\\\\n",
       "\\hline\n",
       "\t Ann     & 22      & 18      & 15      & 12     \\\\\n",
       "\t Bob     & 19      & 12      & 17      & 20     \\\\\n",
       "\t Xerxes  & 12      & 23      & 18      &  9     \\\\\n",
       "\t Yolanda & 19      &  8      & 32      & 15     \\\\\n",
       "\\end{tabular}\n"
      ],
      "text/markdown": [
       "\n",
       "Salesperson | Compact | Sedan | SUV | Truck | \n",
       "|---|---|---|---|\n",
       "| Ann     | 22      | 18      | 15      | 12      | \n",
       "| Bob     | 19      | 12      | 17      | 20      | \n",
       "| Xerxes  | 12      | 23      | 18      |  9      | \n",
       "| Yolanda | 19      |  8      | 32      | 15      | \n",
       "\n",
       "\n"
      ],
      "text/plain": [
       "  Salesperson Compact Sedan SUV Truck\n",
       "1 Ann         22      18    15  12   \n",
       "2 Bob         19      12    17  20   \n",
       "3 Xerxes      12      23    18   9   \n",
       "4 Yolanda     19       8    32  15   "
      ]
     },
     "metadata": {},
     "output_type": "display_data"
    }
   ],
   "source": [
    "stacked_sales %>%\n",
    "  spread(key = auto_type,value = num_sales)"
   ]
  },
  {
   "cell_type": "markdown",
   "metadata": {},
   "source": [
    "#### A stack + mutate + aggregate +  unstack"
   ]
  },
  {
   "cell_type": "code",
   "execution_count": 18,
   "metadata": {},
   "outputs": [
    {
     "name": "stderr",
     "output_type": "stream",
     "text": [
      "`summarise()` regrouping output by 'Salesperson' (override with `.groups` argument)\n"
     ]
    },
    {
     "data": {
      "text/html": [
       "<table>\n",
       "<thead><tr><th scope=col>Salesperson</th><th scope=col>car</th><th scope=col>utility</th></tr></thead>\n",
       "<tbody>\n",
       "\t<tr><td>Ann    </td><td>40     </td><td>27     </td></tr>\n",
       "\t<tr><td>Bob    </td><td>31     </td><td>37     </td></tr>\n",
       "\t<tr><td>Xerxes </td><td>35     </td><td>27     </td></tr>\n",
       "\t<tr><td>Yolanda</td><td>27     </td><td>47     </td></tr>\n",
       "</tbody>\n",
       "</table>\n"
      ],
      "text/latex": [
       "\\begin{tabular}{r|lll}\n",
       " Salesperson & car & utility\\\\\n",
       "\\hline\n",
       "\t Ann     & 40      & 27     \\\\\n",
       "\t Bob     & 31      & 37     \\\\\n",
       "\t Xerxes  & 35      & 27     \\\\\n",
       "\t Yolanda & 27      & 47     \\\\\n",
       "\\end{tabular}\n"
      ],
      "text/markdown": [
       "\n",
       "Salesperson | car | utility | \n",
       "|---|---|---|---|\n",
       "| Ann     | 40      | 27      | \n",
       "| Bob     | 31      | 37      | \n",
       "| Xerxes  | 35      | 27      | \n",
       "| Yolanda | 27      | 47      | \n",
       "\n",
       "\n"
      ],
      "text/plain": [
       "  Salesperson car utility\n",
       "1 Ann         40  27     \n",
       "2 Bob         31  37     \n",
       "3 Xerxes      35  27     \n",
       "4 Yolanda     27  47     "
      ]
     },
     "metadata": {},
     "output_type": "display_data"
    }
   ],
   "source": [
    "sales %>%\n",
    "  gather(key = auto_type,value = num_sales,Compact:Truck) %>% \n",
    "  mutate(car_type = recode(auto_type,\n",
    "                           'Compact' = 'car',\n",
    "                           'Sedan' = 'car',\n",
    "                           'SUV' = 'utility',\n",
    "                           'Truck' = 'utility')) %>% \n",
    "   group_by(Salesperson, car_type) %>% \n",
    "   summarize(total_sales = sum(num_sales)) %>% \n",
    "   spread(key = car_type, value = total_sales)"
   ]
  },
  {
   "cell_type": "markdown",
   "metadata": {},
   "source": [
    "An alternative recode:"
   ]
  },
  {
   "cell_type": "code",
   "execution_count": 19,
   "metadata": {},
   "outputs": [
    {
     "name": "stderr",
     "output_type": "stream",
     "text": [
      "`summarise()` regrouping output by 'Salesperson' (override with `.groups` argument)\n"
     ]
    },
    {
     "data": {
      "text/html": [
       "<table>\n",
       "<thead><tr><th scope=col>Salesperson</th><th scope=col>car</th><th scope=col>utility</th></tr></thead>\n",
       "<tbody>\n",
       "\t<tr><td>Ann    </td><td>40     </td><td>27     </td></tr>\n",
       "\t<tr><td>Bob    </td><td>31     </td><td>37     </td></tr>\n",
       "\t<tr><td>Xerxes </td><td>35     </td><td>27     </td></tr>\n",
       "\t<tr><td>Yolanda</td><td>27     </td><td>47     </td></tr>\n",
       "</tbody>\n",
       "</table>\n"
      ],
      "text/latex": [
       "\\begin{tabular}{r|lll}\n",
       " Salesperson & car & utility\\\\\n",
       "\\hline\n",
       "\t Ann     & 40      & 27     \\\\\n",
       "\t Bob     & 31      & 37     \\\\\n",
       "\t Xerxes  & 35      & 27     \\\\\n",
       "\t Yolanda & 27      & 47     \\\\\n",
       "\\end{tabular}\n"
      ],
      "text/markdown": [
       "\n",
       "Salesperson | car | utility | \n",
       "|---|---|---|---|\n",
       "| Ann     | 40      | 27      | \n",
       "| Bob     | 31      | 37      | \n",
       "| Xerxes  | 35      | 27      | \n",
       "| Yolanda | 27      | 47      | \n",
       "\n",
       "\n"
      ],
      "text/plain": [
       "  Salesperson car utility\n",
       "1 Ann         40  27     \n",
       "2 Bob         31  37     \n",
       "3 Xerxes      35  27     \n",
       "4 Yolanda     27  47     "
      ]
     },
     "metadata": {},
     "output_type": "display_data"
    }
   ],
   "source": [
    "sales %>%\n",
    "  gather(key = auto_type,value = num_sales,Compact:Truck) %>% \n",
    "  mutate(car_type = ifelse(auto_type %in% c('Compact','Sedan'), \n",
    "                           'car',\n",
    "                           'utility')) %>% \n",
    "   group_by(Salesperson, car_type) %>% \n",
    "   summarize(total_sales = sum(num_sales)) %>% \n",
    "   spread(key = car_type, value = total_sales)"
   ]
  },
  {
   "cell_type": "markdown",
   "metadata": {},
   "source": [
    "# Joining "
   ]
  },
  {
   "cell_type": "code",
   "execution_count": 20,
   "metadata": {},
   "outputs": [
    {
     "data": {
      "text/html": [
       "<table>\n",
       "<thead><tr><th scope=col>Last.Name</th><th scope=col>Department.ID</th></tr></thead>\n",
       "<tbody>\n",
       "\t<tr><td>Rafferty  </td><td>31        </td></tr>\n",
       "\t<tr><td>Jones     </td><td>33        </td></tr>\n",
       "\t<tr><td>Heisenberg</td><td>33        </td></tr>\n",
       "\t<tr><td>Robinson  </td><td>34        </td></tr>\n",
       "\t<tr><td>Smith     </td><td>34        </td></tr>\n",
       "\t<tr><td>Williams  </td><td>NA        </td></tr>\n",
       "</tbody>\n",
       "</table>\n"
      ],
      "text/latex": [
       "\\begin{tabular}{r|ll}\n",
       " Last.Name & Department.ID\\\\\n",
       "\\hline\n",
       "\t Rafferty   & 31        \\\\\n",
       "\t Jones      & 33        \\\\\n",
       "\t Heisenberg & 33        \\\\\n",
       "\t Robinson   & 34        \\\\\n",
       "\t Smith      & 34        \\\\\n",
       "\t Williams   & NA        \\\\\n",
       "\\end{tabular}\n"
      ],
      "text/markdown": [
       "\n",
       "Last.Name | Department.ID | \n",
       "|---|---|---|---|---|---|\n",
       "| Rafferty   | 31         | \n",
       "| Jones      | 33         | \n",
       "| Heisenberg | 33         | \n",
       "| Robinson   | 34         | \n",
       "| Smith      | 34         | \n",
       "| Williams   | NA         | \n",
       "\n",
       "\n"
      ],
      "text/plain": [
       "  Last.Name  Department.ID\n",
       "1 Rafferty   31           \n",
       "2 Jones      33           \n",
       "3 Heisenberg 33           \n",
       "4 Robinson   34           \n",
       "5 Smith      34           \n",
       "6 Williams   NA           "
      ]
     },
     "metadata": {},
     "output_type": "display_data"
    },
    {
     "data": {
      "text/html": [
       "<table>\n",
       "<thead><tr><th scope=col>Department.ID</th><th scope=col>Department.Name</th></tr></thead>\n",
       "<tbody>\n",
       "\t<tr><td>31         </td><td>Sales      </td></tr>\n",
       "\t<tr><td>33         </td><td>Engineering</td></tr>\n",
       "\t<tr><td>34         </td><td>Clerical   </td></tr>\n",
       "\t<tr><td>35         </td><td>Marketing  </td></tr>\n",
       "</tbody>\n",
       "</table>\n"
      ],
      "text/latex": [
       "\\begin{tabular}{r|ll}\n",
       " Department.ID & Department.Name\\\\\n",
       "\\hline\n",
       "\t 31          & Sales      \\\\\n",
       "\t 33          & Engineering\\\\\n",
       "\t 34          & Clerical   \\\\\n",
       "\t 35          & Marketing  \\\\\n",
       "\\end{tabular}\n"
      ],
      "text/markdown": [
       "\n",
       "Department.ID | Department.Name | \n",
       "|---|---|---|---|\n",
       "| 31          | Sales       | \n",
       "| 33          | Engineering | \n",
       "| 34          | Clerical    | \n",
       "| 35          | Marketing   | \n",
       "\n",
       "\n"
      ],
      "text/plain": [
       "  Department.ID Department.Name\n",
       "1 31            Sales          \n",
       "2 33            Engineering    \n",
       "3 34            Clerical       \n",
       "4 35            Marketing      "
      ]
     },
     "metadata": {},
     "output_type": "display_data"
    }
   ],
   "source": [
    "emp <- read.csv('https://github.com/WSU-DataScience/DSCI_210_R_notebooks/raw/main/employee.csv')\n",
    "dept <- read.csv('https://github.com/WSU-DataScience/DSCI_210_R_notebooks/raw/main/department.csv')\n",
    "emp\n",
    "dept"
   ]
  },
  {
   "cell_type": "markdown",
   "metadata": {},
   "source": [
    "#### Inner join"
   ]
  },
  {
   "cell_type": "code",
   "execution_count": 21,
   "metadata": {},
   "outputs": [
    {
     "data": {
      "text/html": [
       "<table>\n",
       "<thead><tr><th scope=col>Last.Name</th><th scope=col>Department.ID</th><th scope=col>Department.Name</th></tr></thead>\n",
       "<tbody>\n",
       "\t<tr><td>Rafferty   </td><td>31         </td><td>Sales      </td></tr>\n",
       "\t<tr><td>Jones      </td><td>33         </td><td>Engineering</td></tr>\n",
       "\t<tr><td>Heisenberg </td><td>33         </td><td>Engineering</td></tr>\n",
       "\t<tr><td>Robinson   </td><td>34         </td><td>Clerical   </td></tr>\n",
       "\t<tr><td>Smith      </td><td>34         </td><td>Clerical   </td></tr>\n",
       "</tbody>\n",
       "</table>\n"
      ],
      "text/latex": [
       "\\begin{tabular}{r|lll}\n",
       " Last.Name & Department.ID & Department.Name\\\\\n",
       "\\hline\n",
       "\t Rafferty    & 31          & Sales      \\\\\n",
       "\t Jones       & 33          & Engineering\\\\\n",
       "\t Heisenberg  & 33          & Engineering\\\\\n",
       "\t Robinson    & 34          & Clerical   \\\\\n",
       "\t Smith       & 34          & Clerical   \\\\\n",
       "\\end{tabular}\n"
      ],
      "text/markdown": [
       "\n",
       "Last.Name | Department.ID | Department.Name | \n",
       "|---|---|---|---|---|\n",
       "| Rafferty    | 31          | Sales       | \n",
       "| Jones       | 33          | Engineering | \n",
       "| Heisenberg  | 33          | Engineering | \n",
       "| Robinson    | 34          | Clerical    | \n",
       "| Smith       | 34          | Clerical    | \n",
       "\n",
       "\n"
      ],
      "text/plain": [
       "  Last.Name  Department.ID Department.Name\n",
       "1 Rafferty   31            Sales          \n",
       "2 Jones      33            Engineering    \n",
       "3 Heisenberg 33            Engineering    \n",
       "4 Robinson   34            Clerical       \n",
       "5 Smith      34            Clerical       "
      ]
     },
     "metadata": {},
     "output_type": "display_data"
    }
   ],
   "source": [
    "inner_join(emp,dept,by='Department.ID')"
   ]
  },
  {
   "cell_type": "markdown",
   "metadata": {},
   "source": [
    "#### Left join"
   ]
  },
  {
   "cell_type": "code",
   "execution_count": 22,
   "metadata": {},
   "outputs": [
    {
     "data": {
      "text/html": [
       "<table>\n",
       "<thead><tr><th scope=col>Last.Name</th><th scope=col>Department.ID</th><th scope=col>Department.Name</th></tr></thead>\n",
       "<tbody>\n",
       "\t<tr><td>Rafferty   </td><td>31         </td><td>Sales      </td></tr>\n",
       "\t<tr><td>Jones      </td><td>33         </td><td>Engineering</td></tr>\n",
       "\t<tr><td>Heisenberg </td><td>33         </td><td>Engineering</td></tr>\n",
       "\t<tr><td>Robinson   </td><td>34         </td><td>Clerical   </td></tr>\n",
       "\t<tr><td>Smith      </td><td>34         </td><td>Clerical   </td></tr>\n",
       "\t<tr><td>Williams   </td><td>NA         </td><td>NA         </td></tr>\n",
       "</tbody>\n",
       "</table>\n"
      ],
      "text/latex": [
       "\\begin{tabular}{r|lll}\n",
       " Last.Name & Department.ID & Department.Name\\\\\n",
       "\\hline\n",
       "\t Rafferty    & 31          & Sales      \\\\\n",
       "\t Jones       & 33          & Engineering\\\\\n",
       "\t Heisenberg  & 33          & Engineering\\\\\n",
       "\t Robinson    & 34          & Clerical   \\\\\n",
       "\t Smith       & 34          & Clerical   \\\\\n",
       "\t Williams    & NA          & NA         \\\\\n",
       "\\end{tabular}\n"
      ],
      "text/markdown": [
       "\n",
       "Last.Name | Department.ID | Department.Name | \n",
       "|---|---|---|---|---|---|\n",
       "| Rafferty    | 31          | Sales       | \n",
       "| Jones       | 33          | Engineering | \n",
       "| Heisenberg  | 33          | Engineering | \n",
       "| Robinson    | 34          | Clerical    | \n",
       "| Smith       | 34          | Clerical    | \n",
       "| Williams    | NA          | NA          | \n",
       "\n",
       "\n"
      ],
      "text/plain": [
       "  Last.Name  Department.ID Department.Name\n",
       "1 Rafferty   31            Sales          \n",
       "2 Jones      33            Engineering    \n",
       "3 Heisenberg 33            Engineering    \n",
       "4 Robinson   34            Clerical       \n",
       "5 Smith      34            Clerical       \n",
       "6 Williams   NA            NA             "
      ]
     },
     "metadata": {},
     "output_type": "display_data"
    }
   ],
   "source": [
    "left_join(emp,dept,by='Department.ID')"
   ]
  },
  {
   "cell_type": "markdown",
   "metadata": {},
   "source": [
    "#### Right join"
   ]
  },
  {
   "cell_type": "code",
   "execution_count": 23,
   "metadata": {},
   "outputs": [
    {
     "data": {
      "text/html": [
       "<table>\n",
       "<thead><tr><th scope=col>Last.Name</th><th scope=col>Department.ID</th><th scope=col>Department.Name</th></tr></thead>\n",
       "<tbody>\n",
       "\t<tr><td>Rafferty   </td><td>31         </td><td>Sales      </td></tr>\n",
       "\t<tr><td>Jones      </td><td>33         </td><td>Engineering</td></tr>\n",
       "\t<tr><td>Heisenberg </td><td>33         </td><td>Engineering</td></tr>\n",
       "\t<tr><td>Robinson   </td><td>34         </td><td>Clerical   </td></tr>\n",
       "\t<tr><td>Smith      </td><td>34         </td><td>Clerical   </td></tr>\n",
       "\t<tr><td>NA         </td><td>35         </td><td>Marketing  </td></tr>\n",
       "</tbody>\n",
       "</table>\n"
      ],
      "text/latex": [
       "\\begin{tabular}{r|lll}\n",
       " Last.Name & Department.ID & Department.Name\\\\\n",
       "\\hline\n",
       "\t Rafferty    & 31          & Sales      \\\\\n",
       "\t Jones       & 33          & Engineering\\\\\n",
       "\t Heisenberg  & 33          & Engineering\\\\\n",
       "\t Robinson    & 34          & Clerical   \\\\\n",
       "\t Smith       & 34          & Clerical   \\\\\n",
       "\t NA          & 35          & Marketing  \\\\\n",
       "\\end{tabular}\n"
      ],
      "text/markdown": [
       "\n",
       "Last.Name | Department.ID | Department.Name | \n",
       "|---|---|---|---|---|---|\n",
       "| Rafferty    | 31          | Sales       | \n",
       "| Jones       | 33          | Engineering | \n",
       "| Heisenberg  | 33          | Engineering | \n",
       "| Robinson    | 34          | Clerical    | \n",
       "| Smith       | 34          | Clerical    | \n",
       "| NA          | 35          | Marketing   | \n",
       "\n",
       "\n"
      ],
      "text/plain": [
       "  Last.Name  Department.ID Department.Name\n",
       "1 Rafferty   31            Sales          \n",
       "2 Jones      33            Engineering    \n",
       "3 Heisenberg 33            Engineering    \n",
       "4 Robinson   34            Clerical       \n",
       "5 Smith      34            Clerical       \n",
       "6 NA         35            Marketing      "
      ]
     },
     "metadata": {},
     "output_type": "display_data"
    }
   ],
   "source": [
    "right_join(emp,dept,by='Department.ID')"
   ]
  },
  {
   "cell_type": "markdown",
   "metadata": {},
   "source": [
    "# Translating JMP to `dplyr/tidyr`"
   ]
  },
  {
   "cell_type": "markdown",
   "metadata": {},
   "source": [
    "#### JMP\n",
    "\n",
    "* Visual\n",
    "* Point-and-click\n",
    "* No name or syntax errors\n",
    "  * Still have semantic errors"
   ]
  },
  {
   "cell_type": "markdown",
   "metadata": {},
   "source": [
    "#### `dplyr/tidyr`\n",
    "\n",
    "* automated\n",
    "* reproducible\n",
    "* easy to make changes"
   ]
  },
  {
   "cell_type": "markdown",
   "metadata": {},
   "source": [
    "### Implications for Translating dplyr to JMP\n",
    "\n",
    "* Same actions, different syntax\n",
    "* Use what you already know\n",
    "    * Figure out process in JMP\n",
    "    * Translate to `dplyr`"
   ]
  },
  {
   "cell_type": "markdown",
   "metadata": {},
   "source": [
    "### Simple Aggregations"
   ]
  },
  {
   "cell_type": "markdown",
   "metadata": {},
   "source": [
    "```{r}\n",
    "surveys %>%\n",
    "  summarize(\n",
    "    avg_wgt = mean(weight, \n",
    "                   na.rm = TRUE))\n",
    "```"
   ]
  },
  {
   "cell_type": "markdown",
   "metadata": {},
   "source": [
    "<img width=\"850\" src=\"https://raw.githubusercontent.com/WSU-DataScience/DSCI_210_R_notebooks/main/img/simple_aggregation_1.png\">"
   ]
  },
  {
   "cell_type": "markdown",
   "metadata": {},
   "source": [
    "<img width=\"850\" src=\"https://raw.githubusercontent.com/WSU-DataScience/DSCI_210_R_notebooks/main/img/simple_aggregation_2.png\">"
   ]
  },
  {
   "cell_type": "markdown",
   "metadata": {},
   "source": [
    "### Group and Aggregate"
   ]
  },
  {
   "cell_type": "markdown",
   "metadata": {},
   "source": [
    "```{r}\n",
    "grp_agg <- \n",
    "  surveys %>%\n",
    "    group_by(taxa) %>%\n",
    "    summarize(avg = mean(weight, na.rm = TRUE))\n",
    "grp_agg\n",
    "```"
   ]
  },
  {
   "cell_type": "markdown",
   "metadata": {},
   "source": [
    "<img width=\"850\" src=\"https://raw.githubusercontent.com/WSU-DataScience/DSCI_210_R_notebooks/main/img/group_and_aggregate_0.png\">"
   ]
  },
  {
   "cell_type": "markdown",
   "metadata": {},
   "source": [
    "<img width=\"850\" src=\"https://raw.githubusercontent.com/WSU-DataScience/DSCI_210_R_notebooks/main/img/group_and_aggregate_1.png\">"
   ]
  },
  {
   "cell_type": "markdown",
   "metadata": {},
   "source": [
    "<img width=\"850\" src=\"https://raw.githubusercontent.com/WSU-DataScience/DSCI_210_R_notebooks/main/img/group_and_aggregate_2.png\">"
   ]
  },
  {
   "cell_type": "markdown",
   "metadata": {},
   "source": [
    "### Multiple Group Variables\n",
    "\n",
    "<img width=\"850\" src=\"https://raw.githubusercontent.com/WSU-DataScience/DSCI_210_R_notebooks/main/img/grp2_agg.PNG\">"
   ]
  },
  {
   "cell_type": "markdown",
   "metadata": {},
   "source": [
    "### Numeric transformations"
   ]
  },
  {
   "cell_type": "markdown",
   "metadata": {},
   "source": [
    "<img width=\"850\" src=\"https://raw.githubusercontent.com/WSU-DataScience/DSCI_210_R_notebooks/main/img/numeric_transform_0.png\">"
   ]
  },
  {
   "cell_type": "markdown",
   "metadata": {},
   "source": [
    "<img width=\"850\" src=\"https://raw.githubusercontent.com/WSU-DataScience/DSCI_210_R_notebooks/main/img/numeric_transform_1.png\">"
   ]
  },
  {
   "cell_type": "markdown",
   "metadata": {},
   "source": [
    "<img width=\"850\" src=\"https://raw.githubusercontent.com/WSU-DataScience/DSCI_210_R_notebooks/main/img/numeric_transform_2.png\">"
   ]
  },
  {
   "cell_type": "markdown",
   "metadata": {},
   "source": [
    "### Character transformations "
   ]
  },
  {
   "cell_type": "markdown",
   "metadata": {},
   "source": [
    "```{r}\n",
    "stacked_sales\n",
    "stacked_sales %>%\n",
    "  mutate(car_type = \n",
    "           recode(auto_type, \n",
    "                  Compact = \"Car\",\n",
    "                  Sedan = \"Car\",\n",
    "                  SUV = \"Utility\",\n",
    "                  Truck = \"Utility\"))\n",
    "```"
   ]
  },
  {
   "cell_type": "markdown",
   "metadata": {},
   "source": [
    "<img width=\"850\" src=\"https://raw.githubusercontent.com/WSU-DataScience/DSCI_210_R_notebooks/main/img/character_transform_1.png\">"
   ]
  },
  {
   "cell_type": "markdown",
   "metadata": {},
   "source": [
    "<img width=\"850\" src=\"https://raw.githubusercontent.com/WSU-DataScience/DSCI_210_R_notebooks/main/img/character_transform_2.png\">"
   ]
  },
  {
   "cell_type": "markdown",
   "metadata": {},
   "source": [
    "<img width=\"850\" src=\"https://raw.githubusercontent.com/WSU-DataScience/DSCI_210_R_notebooks/main/img/character_transform_3.png\">"
   ]
  },
  {
   "cell_type": "markdown",
   "metadata": {},
   "source": [
    "<img width=\"850\" src=\"https://raw.githubusercontent.com/WSU-DataScience/DSCI_210_R_notebooks/main/img/character_transform_4.png\">\n",
    "\n",
    "\n",
    "  "
   ]
  },
  {
   "cell_type": "markdown",
   "metadata": {},
   "source": [
    "### Stack/`gather`"
   ]
  },
  {
   "cell_type": "markdown",
   "metadata": {},
   "source": [
    "<img width=\"850\" src=\"https://raw.githubusercontent.com/WSU-DataScience/DSCI_210_R_notebooks/main/img/translate_gather_0.png\">"
   ]
  },
  {
   "cell_type": "markdown",
   "metadata": {},
   "source": [
    "<img width=\"850\" src=\"https://raw.githubusercontent.com/WSU-DataScience/DSCI_210_R_notebooks/main/img/translate_gather_1.png\">"
   ]
  },
  {
   "cell_type": "markdown",
   "metadata": {},
   "source": [
    "<img width=\"850\" src=\"https://raw.githubusercontent.com/WSU-DataScience/DSCI_210_R_notebooks/main/img/translate_gather_2.png\">"
   ]
  },
  {
   "cell_type": "markdown",
   "metadata": {},
   "source": [
    "<img width=\"850\" src=\"https://raw.githubusercontent.com/WSU-DataScience/DSCI_210_R_notebooks/main/img/translate_gather_3.png\">"
   ]
  },
  {
   "cell_type": "markdown",
   "metadata": {},
   "source": [
    "###  Row filter"
   ]
  },
  {
   "cell_type": "markdown",
   "metadata": {},
   "source": [
    "```{r}\n",
    "stacked_sales %>%\n",
    "  filter(num_sales > 20)\n",
    "```"
   ]
  },
  {
   "cell_type": "markdown",
   "metadata": {},
   "source": [
    "<img width=\"850\" src=\"https://raw.githubusercontent.com/WSU-DataScience/DSCI_210_R_notebooks/main/img/filter_update.png\">"
   ]
  },
  {
   "cell_type": "markdown",
   "metadata": {},
   "source": [
    "### Unstack/`spread()`"
   ]
  },
  {
   "cell_type": "markdown",
   "metadata": {},
   "source": [
    "<img width=\"850\" src=\"https://raw.githubusercontent.com/WSU-DataScience/DSCI_210_R_notebooks/main/img/unstack_1.png\">"
   ]
  },
  {
   "cell_type": "markdown",
   "metadata": {},
   "source": [
    "<img width=\"850\" src=\"https://raw.githubusercontent.com/WSU-DataScience/DSCI_210_R_notebooks/main/img/unstack_2.png\">"
   ]
  },
  {
   "cell_type": "markdown",
   "metadata": {},
   "source": [
    "<img width=\"850\" src=\"https://raw.githubusercontent.com/WSU-DataScience/DSCI_210_R_notebooks/main/img/unstack_3.png\">"
   ]
  }
 ],
 "metadata": {
  "kernelspec": {
   "display_name": "R",
   "language": "R",
   "name": "ir"
  },
  "language_info": {
   "codemirror_mode": "r",
   "file_extension": ".r",
   "mimetype": "text/x-r-source",
   "name": "R",
   "pygments_lexer": "r",
   "version": "3.5.1"
  }
 },
 "nbformat": 4,
 "nbformat_minor": 2
}
