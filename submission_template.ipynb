{
 "cells": [
  {
   "cell_type": "markdown",
   "metadata": {},
   "source": [
    "## Reading in the data"
   ]
  },
  {
   "cell_type": "code",
   "execution_count": 1,
   "metadata": {},
   "outputs": [
    {
     "data": {
      "text/html": [
       "<table>\n",
       "<thead><tr><th scope=col>VID</th><th scope=col>Passengers</th><th scope=col>Vehicle_Info</th><th scope=col>Daily_Rate</th></tr></thead>\n",
       "<tbody>\n",
       "\t<tr><td>34                                                             </td><td>12                                                             </td><td>034 12 passenger 2003 Chev -  *Air conditioning does not work *</td><td>23                                                             </td></tr>\n",
       "\t<tr><td>46                                                             </td><td>12                                                             </td><td>046 12 passenger 2004 Chevrolet Van                            </td><td>23                                                             </td></tr>\n",
       "\t<tr><td>51                                                             </td><td> 7                                                             </td><td>051 7 passenger 2005 Dodge Caravan                             </td><td>23                                                             </td></tr>\n",
       "\t<tr><td>52                                                             </td><td> 5                                                             </td><td>052   5 passenger 2005 Chevrolet Impala                        </td><td>17                                                             </td></tr>\n",
       "\t<tr><td>53                                                             </td><td> 5                                                             </td><td>053 5 passenger 2005 Chevrolet Impala                          </td><td>17                                                             </td></tr>\n",
       "\t<tr><td>55                                                             </td><td> 7                                                             </td><td>055 7 passenger 2005 Grand Caravan with hitch                  </td><td>23                                                             </td></tr>\n",
       "</tbody>\n",
       "</table>\n"
      ],
      "text/latex": [
       "\\begin{tabular}{r|llll}\n",
       " VID & Passengers & Vehicle\\_Info & Daily\\_Rate\\\\\n",
       "\\hline\n",
       "\t 34                                                              & 12                                                              & 034 12 passenger 2003 Chev -  *Air conditioning does not work * & 23                                                             \\\\\n",
       "\t 46                                                              & 12                                                              & 046 12 passenger 2004 Chevrolet Van                             & 23                                                             \\\\\n",
       "\t 51                                                              &  7                                                              & 051 7 passenger 2005 Dodge Caravan                              & 23                                                             \\\\\n",
       "\t 52                                                              &  5                                                              & 052   5 passenger 2005 Chevrolet Impala                         & 17                                                             \\\\\n",
       "\t 53                                                              &  5                                                              & 053 5 passenger 2005 Chevrolet Impala                           & 17                                                             \\\\\n",
       "\t 55                                                              &  7                                                              & 055 7 passenger 2005 Grand Caravan with hitch                   & 23                                                             \\\\\n",
       "\\end{tabular}\n"
      ],
      "text/markdown": [
       "\n",
       "| VID | Passengers | Vehicle_Info | Daily_Rate |\n",
       "|---|---|---|---|\n",
       "| 34                                                              | 12                                                              | 034 12 passenger 2003 Chev -  *Air conditioning does not work * | 23                                                              |\n",
       "| 46                                                              | 12                                                              | 046 12 passenger 2004 Chevrolet Van                             | 23                                                              |\n",
       "| 51                                                              |  7                                                              | 051 7 passenger 2005 Dodge Caravan                              | 23                                                              |\n",
       "| 52                                                              |  5                                                              | 052   5 passenger 2005 Chevrolet Impala                         | 17                                                              |\n",
       "| 53                                                              |  5                                                              | 053 5 passenger 2005 Chevrolet Impala                           | 17                                                              |\n",
       "| 55                                                              |  7                                                              | 055 7 passenger 2005 Grand Caravan with hitch                   | 23                                                              |\n",
       "\n"
      ],
      "text/plain": [
       "  VID Passengers\n",
       "1 34  12        \n",
       "2 46  12        \n",
       "3 51   7        \n",
       "4 52   5        \n",
       "5 53   5        \n",
       "6 55   7        \n",
       "  Vehicle_Info                                                    Daily_Rate\n",
       "1 034 12 passenger 2003 Chev -  *Air conditioning does not work * 23        \n",
       "2 046 12 passenger 2004 Chevrolet Van                             23        \n",
       "3 051 7 passenger 2005 Dodge Caravan                              23        \n",
       "4 052   5 passenger 2005 Chevrolet Impala                         17        \n",
       "5 053 5 passenger 2005 Chevrolet Impala                           17        \n",
       "6 055 7 passenger 2005 Grand Caravan with hitch                   23        "
      ]
     },
     "metadata": {},
     "output_type": "display_data"
    }
   ],
   "source": [
    "daily_rates <- read.csv('https://github.com/WSU-DataScience/DSCI_210_R_notebooks/raw/main/data/daily_rates.csv')\n",
    "head(daily_rates)"
   ]
  },
  {
   "cell_type": "code",
   "execution_count": 2,
   "metadata": {},
   "outputs": [
    {
     "data": {
      "text/html": [
       "<table>\n",
       "<thead><tr><th scope=col>Depart</th><th scope=col>Return</th><th scope=col>Year</th><th scope=col>Length_days</th><th scope=col>VID</th><th scope=col>Passengers</th></tr></thead>\n",
       "<tbody>\n",
       "\t<tr><td>04/30/2009 2:00 PM </td><td>04/30/2009 10:00 PM</td><td>2009               </td><td>0.33               </td><td>52                 </td><td> 5                 </td></tr>\n",
       "\t<tr><td>04/30/2009 7:00 AM </td><td>05/01/2009 4:00 PM </td><td>2009               </td><td>1.38               </td><td>63                 </td><td> 5                 </td></tr>\n",
       "\t<tr><td>04/30/2009 1:00 PM </td><td>05/01/2009 11:00 PM</td><td>2009               </td><td>1.42               </td><td>66                 </td><td> 5                 </td></tr>\n",
       "\t<tr><td>04/30/2009 1:45 PM </td><td>04/30/2009 3:00 PM </td><td>2009               </td><td>0.05               </td><td>34                 </td><td>12                 </td></tr>\n",
       "\t<tr><td>04/30/2009 6:00 AM </td><td>04/30/2009 4:00 PM </td><td>2009               </td><td>0.42               </td><td>46                 </td><td>12                 </td></tr>\n",
       "\t<tr><td>05/01/2009 5:00 AM </td><td>05/01/2009 7:00 PM </td><td>2009               </td><td>0.58               </td><td>52                 </td><td> 5                 </td></tr>\n",
       "</tbody>\n",
       "</table>\n"
      ],
      "text/latex": [
       "\\begin{tabular}{r|llllll}\n",
       " Depart & Return & Year & Length\\_days & VID & Passengers\\\\\n",
       "\\hline\n",
       "\t 04/30/2009 2:00 PM  & 04/30/2009 10:00 PM & 2009                & 0.33                & 52                  &  5                 \\\\\n",
       "\t 04/30/2009 7:00 AM  & 05/01/2009 4:00 PM  & 2009                & 1.38                & 63                  &  5                 \\\\\n",
       "\t 04/30/2009 1:00 PM  & 05/01/2009 11:00 PM & 2009                & 1.42                & 66                  &  5                 \\\\\n",
       "\t 04/30/2009 1:45 PM  & 04/30/2009 3:00 PM  & 2009                & 0.05                & 34                  & 12                 \\\\\n",
       "\t 04/30/2009 6:00 AM  & 04/30/2009 4:00 PM  & 2009                & 0.42                & 46                  & 12                 \\\\\n",
       "\t 05/01/2009 5:00 AM  & 05/01/2009 7:00 PM  & 2009                & 0.58                & 52                  &  5                 \\\\\n",
       "\\end{tabular}\n"
      ],
      "text/markdown": [
       "\n",
       "| Depart | Return | Year | Length_days | VID | Passengers |\n",
       "|---|---|---|---|---|---|\n",
       "| 04/30/2009 2:00 PM  | 04/30/2009 10:00 PM | 2009                | 0.33                | 52                  |  5                  |\n",
       "| 04/30/2009 7:00 AM  | 05/01/2009 4:00 PM  | 2009                | 1.38                | 63                  |  5                  |\n",
       "| 04/30/2009 1:00 PM  | 05/01/2009 11:00 PM | 2009                | 1.42                | 66                  |  5                  |\n",
       "| 04/30/2009 1:45 PM  | 04/30/2009 3:00 PM  | 2009                | 0.05                | 34                  | 12                  |\n",
       "| 04/30/2009 6:00 AM  | 04/30/2009 4:00 PM  | 2009                | 0.42                | 46                  | 12                  |\n",
       "| 05/01/2009 5:00 AM  | 05/01/2009 7:00 PM  | 2009                | 0.58                | 52                  |  5                  |\n",
       "\n"
      ],
      "text/plain": [
       "  Depart             Return              Year Length_days VID Passengers\n",
       "1 04/30/2009 2:00 PM 04/30/2009 10:00 PM 2009 0.33        52   5        \n",
       "2 04/30/2009 7:00 AM 05/01/2009 4:00 PM  2009 1.38        63   5        \n",
       "3 04/30/2009 1:00 PM 05/01/2009 11:00 PM 2009 1.42        66   5        \n",
       "4 04/30/2009 1:45 PM 04/30/2009 3:00 PM  2009 0.05        34  12        \n",
       "5 04/30/2009 6:00 AM 04/30/2009 4:00 PM  2009 0.42        46  12        \n",
       "6 05/01/2009 5:00 AM 05/01/2009 7:00 PM  2009 0.58        52   5        "
      ]
     },
     "metadata": {},
     "output_type": "display_data"
    }
   ],
   "source": [
    "vehicle_request <- read.csv('https://github.com/WSU-DataScience/DSCI_210_R_notebooks/raw/main/data/vehicle_requests.csv')\n",
    "head(vehicle_request)"
   ]
  },
  {
   "cell_type": "code",
   "execution_count": null,
   "metadata": {},
   "outputs": [],
   "source": []
  }
 ],
 "metadata": {
  "kernelspec": {
   "display_name": "R",
   "language": "R",
   "name": "ir"
  },
  "language_info": {
   "codemirror_mode": "r",
   "file_extension": ".r",
   "mimetype": "text/x-r-source",
   "name": "R",
   "pygments_lexer": "r",
   "version": "3.6.0"
  }
 },
 "nbformat": 4,
 "nbformat_minor": 2
}
