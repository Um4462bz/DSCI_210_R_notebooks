{
  "nbformat": 4,
  "nbformat_minor": 0,
  "metadata": {
    "kernelspec": {
      "display_name": "R",
      "language": "R",
      "name": "ir"
    },
    "language_info": {
      "codemirror_mode": "r",
      "file_extension": ".r",
      "mimetype": "text/x-r-source",
      "name": "R",
      "pygments_lexer": "r",
      "version": "3.5.1"
    },
    "colab": {
      "name": "activity_6_3_more_practice_with_R_and_dplyr.ipynb",
      "provenance": [],
      "include_colab_link": true
    }
  },
  "cells": [
    {
      "cell_type": "markdown",
      "metadata": {
        "id": "view-in-github",
        "colab_type": "text"
      },
      "source": [
        "<a href=\"https://colab.research.google.com/github/thooks630/DSCI_210_R_notebooks/blob/main/activity_6_3_more_practice_with_R_and_dplyr.ipynb\" target=\"_parent\"><img src=\"https://colab.research.google.com/assets/colab-badge.svg\" alt=\"Open In Colab\"/></a>"
      ]
    },
    {
      "cell_type": "markdown",
      "metadata": {
        "id": "HztILfa1sD6d"
      },
      "source": [
        "# Activity 6.3 - More practice with `R` and `dplyr` \n",
        "\n",
        "**Instructions:** Open this notebook in Colab and complete the following questions.  **You should probably save a copy to Google Drive, but you will need to log in to a Gmail account.**\n",
        "\n",
        "The  **Football_Sleep_Data.csv** file comes from a graduate student working on his master's degree in athletic training.  The students were all members of the university football team.  The data contain GPA and measures of athletic performance (how much students could lift in the clean, back squat, and bench press) at the beginning and again at the end of a semester.  Over the course of the semester, students were regularly asked via text message how much sleep they had received the previous night; their responses to this question were averaged.  At the end of the semester, the GPA and press measurements were taken again.   Of interest is analyzing how the weight lifted with clean press changed over time, and whether the change differed comparing students who averaged 7+ hours of sleep to those who averaged <7 hours of sleep.  The file looks like this:"
      ]
    },
    {
      "cell_type": "code",
      "metadata": {
        "id": "D_hSNO6JsD6e"
      },
      "source": [
        "library(dplyr)\n",
        "fb <- read.csv('https://github.com/WSU-DataScience/DSCI_210_R_notebooks/raw/main/data/Football_Sleep_data.csv')\n",
        "head(fb)"
      ],
      "execution_count": null,
      "outputs": []
    },
    {
      "cell_type": "markdown",
      "metadata": {
        "id": "IKPj3n3ksD6g"
      },
      "source": [
        "### Problem 3\n",
        "\n",
        "Complete the following with `dplyr`. Use imperative code for each step by naming the resulting data frame from each step `fb1`, `fb2`, etc.\n",
        "\n",
        "Hint: the `ifelse()` function will be helpful below.\n",
        "\n",
        "1. Create a variable named `clean_diff` which takes `Clean.post-Clean.pre`.  \n",
        "2. Create a variable named `seven_plus` which equals \"yes\" if the student averaged 7 or more hours of sleep, and \"no\" if not.  \n",
        "3. Create a variable named `age` which equals \"young\" if `Class` = 1 or 2 and \"old\" if `Class` is 3 or more.  \n",
        "4.  Filter the data to include only students with nonmissing `clean_diff` and `seven_plus`.   \n",
        "5.  Find the number of students, and the average `clean_diff`, for each `seven_plus`/`age` combination.  \n",
        "6. Convert the average difference (which is in pounds) to kg."
      ]
    },
    {
      "cell_type": "code",
      "metadata": {
        "id": "IaHclg86sD6h"
      },
      "source": [
        "# Your code here (Make more code cells!)\n",
        "\n"
      ],
      "execution_count": null,
      "outputs": []
    },
    {
      "cell_type": "markdown",
      "metadata": {
        "id": "7YvXl8V0sD6h"
      },
      "source": [
        "### Problem 4\n",
        "\n",
        "Repeat **Question 3**, but this time solve the problem using one long pipe."
      ]
    },
    {
      "cell_type": "code",
      "metadata": {
        "id": "9mt4fQi9sD6i"
      },
      "source": [
        "# Your code here (Make more code cells!)\n"
      ],
      "execution_count": null,
      "outputs": []
    },
    {
      "cell_type": "code",
      "metadata": {
        "id": "8k48xQeR-omD"
      },
      "source": [
        ""
      ],
      "execution_count": null,
      "outputs": []
    }
  ]
}