{
  "nbformat": 4,
  "nbformat_minor": 0,
  "metadata": {
    "kernelspec": {
      "display_name": "R",
      "language": "R",
      "name": "ir"
    },
    "language_info": {
      "codemirror_mode": "r",
      "file_extension": ".r",
      "mimetype": "text/x-r-source",
      "name": "R",
      "pygments_lexer": "r",
      "version": "3.5.1"
    },
    "colab": {
      "name": "lecture_6_2_common_mutations.ipynb",
      "provenance": [],
      "include_colab_link": true
    }
  },
  "cells": [
    {
      "cell_type": "markdown",
      "metadata": {
        "id": "view-in-github",
        "colab_type": "text"
      },
      "source": [
        "<a href=\"https://colab.research.google.com/github/thooks630/DSCI_210_R_notebooks/blob/main/lecture_6_2_common_mutations.ipynb\" target=\"_parent\"><img src=\"https://colab.research.google.com/assets/colab-badge.svg\" alt=\"Open In Colab\"/></a>"
      ]
    },
    {
      "cell_type": "markdown",
      "metadata": {
        "id": "1ZIVSnhkpLfE"
      },
      "source": [
        "# **Common mutations**\n",
        "\n",
        "*   Numeric transformations\n",
        "*   String transformations\n",
        "\n"
      ]
    },
    {
      "cell_type": "markdown",
      "metadata": {
        "id": "SDuzqe86uYh5"
      },
      "source": [
        "Let's start by loading the `dplyr` package and the `surveys` dataset:"
      ]
    },
    {
      "cell_type": "code",
      "metadata": {
        "id": "G3lrP4vVpLfH"
      },
      "source": [
        "library(dplyr)"
      ],
      "execution_count": null,
      "outputs": []
    },
    {
      "cell_type": "code",
      "metadata": {
        "id": "2EkPXaa8pLfJ"
      },
      "source": [
        "surveys <- read.csv('https://github.com/WSU-DataScience/DSCI_210_R_notebooks/raw/main/data/portal_data_joined.csv')\n",
        "head(surveys)"
      ],
      "execution_count": null,
      "outputs": []
    },
    {
      "cell_type": "markdown",
      "metadata": {
        "id": "3BEGK_0qpLfL"
      },
      "source": [
        "# **Some Numeric Transformations**"
      ]
    },
    {
      "cell_type": "markdown",
      "metadata": {
        "id": "CgnU4QVbpLfM"
      },
      "source": [
        "## Example - Creating a decade column with the `floor` function"
      ]
    },
    {
      "cell_type": "code",
      "metadata": {
        "id": "XyZnOPcIpLfM"
      },
      "source": [
        "# Playing around\n",
        "# Step 1 - Save the column\n",
        "year <- surveys$year \n",
        "year %>% head"
      ],
      "execution_count": null,
      "outputs": []
    },
    {
      "cell_type": "code",
      "metadata": {
        "id": "0W55Y8HJpLfN"
      },
      "source": [
        "# Playing around\n",
        "# Step 2 - Try it out\n",
        "new <- floor(year/10)*10\n",
        "head(new)"
      ],
      "execution_count": null,
      "outputs": []
    },
    {
      "cell_type": "code",
      "metadata": {
        "id": "2QcC2PgDpLfO"
      },
      "source": [
        "# Step 3 - Embed in a mutate\n",
        "(surveys\n",
        " %>% mutate(decade = floor(year/10)*10)\n",
        " %>% head\n",
        " )"
      ],
      "execution_count": null,
      "outputs": []
    },
    {
      "cell_type": "markdown",
      "metadata": {
        "id": "_Jyeqj8OpLfO"
      },
      "source": [
        "## Example - Making an indicator column with the `ifelse` function"
      ]
    },
    {
      "cell_type": "code",
      "metadata": {
        "id": "XOZXsQBqpLfP"
      },
      "source": [
        "# Playing around\n",
        "sex <- surveys$sex\n",
        "new <- ifelse(sex == 'M', 1, 0)\n",
        "head(new)"
      ],
      "execution_count": null,
      "outputs": []
    },
    {
      "cell_type": "code",
      "metadata": {
        "scrolled": true,
        "id": "SmgUbhx7pLfP"
      },
      "source": [
        "(surveys\n",
        "%>% mutate(is_male = ifelse(sex == 'M', 1, 0))\n",
        "%>% head\n",
        ")"
      ],
      "execution_count": null,
      "outputs": []
    },
    {
      "cell_type": "markdown",
      "metadata": {
        "id": "v4Ihbff5pLfQ"
      },
      "source": [
        "## <font color=\"red\"> Exercise 6.2 - Problem 1 - Convert lbs. to kg. and create an indicator column </font>\n",
        "\n",
        "The variables `Bench.pre` and `Bench.post` represent the pre- and post-measurement for maximum bench press in lbs.\n",
        "\n",
        "* **Task 1:** Create two new columns that contain the bench press weights (pre- and post-) converted to kilograms.\n",
        "* **Task 2:** Create an indicator column called `is_class_1` that is `1` for all rows with `Class == 1` and `0` otherwise."
      ]
    },
    {
      "cell_type": "code",
      "metadata": {
        "id": "FCsjY_vjpLfQ"
      },
      "source": [
        "football_sleep <- read.csv('https://github.com/WSU-DataScience/DSCI_210_R_notebooks/raw/main/data/Football_Sleep_data.csv')\n",
        "head(football_sleep)"
      ],
      "execution_count": null,
      "outputs": []
    },
    {
      "cell_type": "code",
      "metadata": {
        "id": "RSV0UmATpLfQ"
      },
      "source": [
        "# Your code here"
      ],
      "execution_count": null,
      "outputs": []
    },
    {
      "cell_type": "markdown",
      "metadata": {
        "id": "lYPSFfoMpLfR"
      },
      "source": [
        "# **Some String Transformations**\n",
        "\n",
        "*   Substring extraction\n",
        "*   Replace\n",
        "*   Recode\n"
      ]
    },
    {
      "cell_type": "markdown",
      "metadata": {
        "id": "VdZtTVWBpLfR"
      },
      "source": [
        "## Example 1 - Substring extraction with the `substr` function\n",
        "\n",
        "**Syntax:** `substr(col, start, stop)`"
      ]
    },
    {
      "cell_type": "code",
      "metadata": {
        "id": "pT60VJMLpLfR"
      },
      "source": [
        "# Play around\n",
        "plot_type <- surveys$plot_type\n",
        "unique(plot_type)"
      ],
      "execution_count": null,
      "outputs": []
    },
    {
      "cell_type": "markdown",
      "metadata": {
        "id": "9BZNVpc4pLfR"
      },
      "source": [
        "**Note:** R indexing starts at 1 not 0"
      ]
    },
    {
      "cell_type": "code",
      "metadata": {
        "id": "qVm824ezpLfS"
      },
      "source": [
        "new <- substr(plot_type, 1, 5)\n",
        "head(new)"
      ],
      "execution_count": null,
      "outputs": []
    },
    {
      "cell_type": "code",
      "metadata": {
        "scrolled": true,
        "id": "4QTJD01SpLfS"
      },
      "source": [
        "(surveys\n",
        " %>% mutate(plot_type = substr(plot_type, 1, 5))\n",
        " %>% head\n",
        " )"
      ],
      "execution_count": null,
      "outputs": []
    },
    {
      "cell_type": "markdown",
      "metadata": {
        "id": "s6z-tGKCpLfS"
      },
      "source": [
        "## <font color=\"red\"> Exercise 6.2 - Problem 2 - Creating a decade column using string functions</font>\n",
        "\n",
        "In a previous example, we used division and the `floor` function to create a `decade` column.  Another approach to this problem is to convert the years to strings and use `substr` to extract the decade.\n",
        "\n",
        "**Tasks:** The basic process for converting to decade is\n",
        "\n",
        "1. Use `as.charactar` to convert `year` to a string.\n",
        "2. Use `substr` to extract the first three digits.\n",
        "3. Use `paste(column, '0', sep = '')` to add on a zero.\n",
        "4. Use `as.numeric` to convert back to a numeric column.\n",
        "\n",
        "Be sure to *play around* with the columns first, THEN mutate."
      ]
    },
    {
      "cell_type": "code",
      "metadata": {
        "id": "UlsgHnLGpLfS"
      },
      "source": [
        "head(surveys)"
      ],
      "execution_count": null,
      "outputs": []
    },
    {
      "cell_type": "code",
      "metadata": {
        "id": "x7WCJJeupLfT"
      },
      "source": [
        "example_paste <- paste(surveys$species_id, \"a\", sep = '')\n",
        "unique(example_paste)"
      ],
      "execution_count": null,
      "outputs": []
    },
    {
      "cell_type": "code",
      "metadata": {
        "id": "EUQR21W7pLfT"
      },
      "source": [
        "# Your play-around code here"
      ],
      "execution_count": null,
      "outputs": []
    },
    {
      "cell_type": "code",
      "metadata": {
        "id": "he4kqaV7pLfT"
      },
      "source": [
        "# Your mutate pipe here"
      ],
      "execution_count": null,
      "outputs": []
    },
    {
      "cell_type": "markdown",
      "metadata": {
        "id": "r2rCAXSupLfT"
      },
      "source": [
        "## Example 2 - Using the `str_replace` function from the `stringr` library\n",
        "\n",
        "**Syntax:** `str_replace(column, pattern, replace)`"
      ]
    },
    {
      "cell_type": "code",
      "metadata": {
        "id": "I8GY8OqgpLfU"
      },
      "source": [
        "library(stringr)"
      ],
      "execution_count": null,
      "outputs": []
    },
    {
      "cell_type": "markdown",
      "metadata": {
        "id": "6IOPbIuWpLfU"
      },
      "source": [
        "### Example - Cleaning up the percents"
      ]
    },
    {
      "cell_type": "code",
      "metadata": {
        "id": "IkdQXM0FpLfU",
        "outputId": "57fbdf02-2e05-4ceb-b722-ece709661039"
      },
      "source": [
        "pct7 <- football_sleep$Pct7\n",
        "head(pct7)"
      ],
      "execution_count": null,
      "outputs": [
        {
          "data": {
            "text/html": [
              "<ol class=list-inline>\n",
              "\t<li></li>\n",
              "\t<li>95%</li>\n",
              "\t<li>90%</li>\n",
              "\t<li>25%</li>\n",
              "\t<li>44%</li>\n",
              "\t<li>88%</li>\n",
              "</ol>\n",
              "\n",
              "<details>\n",
              "\t<summary style=display:list-item;cursor:pointer>\n",
              "\t\t<strong>Levels</strong>:\n",
              "\t</summary>\n",
              "\t<ol class=list-inline>\n",
              "\t\t<li>''</li>\n",
              "\t\t<li>'0%'</li>\n",
              "\t\t<li>'10%'</li>\n",
              "\t\t<li>'100%'</li>\n",
              "\t\t<li>'15%'</li>\n",
              "\t\t<li>'18%'</li>\n",
              "\t\t<li>'20%'</li>\n",
              "\t\t<li>'25%'</li>\n",
              "\t\t<li>'36%'</li>\n",
              "\t\t<li>'37%'</li>\n",
              "\t\t<li>'44%'</li>\n",
              "\t\t<li>'45%'</li>\n",
              "\t\t<li>'50%'</li>\n",
              "\t\t<li>'55%'</li>\n",
              "\t\t<li>'58%'</li>\n",
              "\t\t<li>'60%'</li>\n",
              "\t\t<li>'64%'</li>\n",
              "\t\t<li>'65%'</li>\n",
              "\t\t<li>'68%'</li>\n",
              "\t\t<li>'70%'</li>\n",
              "\t\t<li>'75%'</li>\n",
              "\t\t<li>'77%'</li>\n",
              "\t\t<li>'78%'</li>\n",
              "\t\t<li>'79%'</li>\n",
              "\t\t<li>'80%'</li>\n",
              "\t\t<li>'82%'</li>\n",
              "\t\t<li>'85%'</li>\n",
              "\t\t<li>'86%'</li>\n",
              "\t\t<li>'88%'</li>\n",
              "\t\t<li>'90%'</li>\n",
              "\t\t<li>'92%'</li>\n",
              "\t\t<li>'93%'</li>\n",
              "\t\t<li>'95%'</li>\n",
              "\t\t<li>'96%'</li>\n",
              "\t\t<li>'98%'</li>\n",
              "\t</ol>\n",
              "</details>"
            ],
            "text/latex": [
              "\\begin{enumerate*}\n",
              "\\item \n",
              "\\item 95\\%\n",
              "\\item 90\\%\n",
              "\\item 25\\%\n",
              "\\item 44\\%\n",
              "\\item 88\\%\n",
              "\\end{enumerate*}\n",
              "\n",
              "\\emph{Levels}: \\begin{enumerate*}\n",
              "\\item ''\n",
              "\\item '0\\%'\n",
              "\\item '10\\%'\n",
              "\\item '100\\%'\n",
              "\\item '15\\%'\n",
              "\\item '18\\%'\n",
              "\\item '20\\%'\n",
              "\\item '25\\%'\n",
              "\\item '36\\%'\n",
              "\\item '37\\%'\n",
              "\\item '44\\%'\n",
              "\\item '45\\%'\n",
              "\\item '50\\%'\n",
              "\\item '55\\%'\n",
              "\\item '58\\%'\n",
              "\\item '60\\%'\n",
              "\\item '64\\%'\n",
              "\\item '65\\%'\n",
              "\\item '68\\%'\n",
              "\\item '70\\%'\n",
              "\\item '75\\%'\n",
              "\\item '77\\%'\n",
              "\\item '78\\%'\n",
              "\\item '79\\%'\n",
              "\\item '80\\%'\n",
              "\\item '82\\%'\n",
              "\\item '85\\%'\n",
              "\\item '86\\%'\n",
              "\\item '88\\%'\n",
              "\\item '90\\%'\n",
              "\\item '92\\%'\n",
              "\\item '93\\%'\n",
              "\\item '95\\%'\n",
              "\\item '96\\%'\n",
              "\\item '98\\%'\n",
              "\\end{enumerate*}\n"
            ],
            "text/markdown": [
              "1. \n",
              "2. 95%\n",
              "3. 90%\n",
              "4. 25%\n",
              "5. 44%\n",
              "6. 88%\n",
              "\n",
              "\n",
              "\n",
              "**Levels**: 1. ''\n",
              "2. '0%'\n",
              "3. '10%'\n",
              "4. '100%'\n",
              "5. '15%'\n",
              "6. '18%'\n",
              "7. '20%'\n",
              "8. '25%'\n",
              "9. '36%'\n",
              "10. '37%'\n",
              "11. '44%'\n",
              "12. '45%'\n",
              "13. '50%'\n",
              "14. '55%'\n",
              "15. '58%'\n",
              "16. '60%'\n",
              "17. '64%'\n",
              "18. '65%'\n",
              "19. '68%'\n",
              "20. '70%'\n",
              "21. '75%'\n",
              "22. '77%'\n",
              "23. '78%'\n",
              "24. '79%'\n",
              "25. '80%'\n",
              "26. '82%'\n",
              "27. '85%'\n",
              "28. '86%'\n",
              "29. '88%'\n",
              "30. '90%'\n",
              "31. '92%'\n",
              "32. '93%'\n",
              "33. '95%'\n",
              "34. '96%'\n",
              "35. '98%'\n",
              "\n",
              "\n"
            ],
            "text/plain": [
              "[1]     95% 90% 25% 44% 88%\n",
              "35 Levels:  0% 10% 100% 15% 18% 20% 25% 36% 37% 44% 45% 50% 55% 58% 60% ... 98%"
            ]
          },
          "metadata": {},
          "output_type": "display_data"
        }
      ]
    },
    {
      "cell_type": "markdown",
      "metadata": {
        "id": "B4_4cDYxpLfV"
      },
      "source": [
        "#### (A) Try out `str_replace`"
      ]
    },
    {
      "cell_type": "code",
      "metadata": {
        "id": "3mEFFAcvpLfV",
        "outputId": "1aacc478-7d55-4e9a-e082-c90b87529fc6"
      },
      "source": [
        "new <- str_replace(pct7, '%', '')\n",
        "head(new)"
      ],
      "execution_count": null,
      "outputs": [
        {
          "data": {
            "text/html": [
              "<ol class=list-inline>\n",
              "\t<li>''</li>\n",
              "\t<li>'95'</li>\n",
              "\t<li>'90'</li>\n",
              "\t<li>'25'</li>\n",
              "\t<li>'44'</li>\n",
              "\t<li>'88'</li>\n",
              "</ol>\n"
            ],
            "text/latex": [
              "\\begin{enumerate*}\n",
              "\\item ''\n",
              "\\item '95'\n",
              "\\item '90'\n",
              "\\item '25'\n",
              "\\item '44'\n",
              "\\item '88'\n",
              "\\end{enumerate*}\n"
            ],
            "text/markdown": [
              "1. ''\n",
              "2. '95'\n",
              "3. '90'\n",
              "4. '25'\n",
              "5. '44'\n",
              "6. '88'\n",
              "\n",
              "\n"
            ],
            "text/plain": [
              "[1] \"\"   \"95\" \"90\" \"25\" \"44\" \"88\""
            ]
          },
          "metadata": {},
          "output_type": "display_data"
        }
      ]
    },
    {
      "cell_type": "markdown",
      "metadata": {
        "id": "-8BYT1zrpLfV"
      },
      "source": [
        "#### (B) Switch to numeric with `as.numeric`"
      ]
    },
    {
      "cell_type": "code",
      "metadata": {
        "id": "xcSubA9BpLfV",
        "outputId": "6174d50e-9d4e-44a0-de6a-5cb99ad04d1a"
      },
      "source": [
        "new <- str_replace(pct7, '%', '') %>% as.numeric\n",
        "head(new)"
      ],
      "execution_count": null,
      "outputs": [
        {
          "data": {
            "text/html": [
              "<ol class=list-inline>\n",
              "\t<li>&lt;NA&gt;</li>\n",
              "\t<li>95</li>\n",
              "\t<li>90</li>\n",
              "\t<li>25</li>\n",
              "\t<li>44</li>\n",
              "\t<li>88</li>\n",
              "</ol>\n"
            ],
            "text/latex": [
              "\\begin{enumerate*}\n",
              "\\item <NA>\n",
              "\\item 95\n",
              "\\item 90\n",
              "\\item 25\n",
              "\\item 44\n",
              "\\item 88\n",
              "\\end{enumerate*}\n"
            ],
            "text/markdown": [
              "1. &lt;NA&gt;\n",
              "2. 95\n",
              "3. 90\n",
              "4. 25\n",
              "5. 44\n",
              "6. 88\n",
              "\n",
              "\n"
            ],
            "text/plain": [
              "[1] NA 95 90 25 44 88"
            ]
          },
          "metadata": {},
          "output_type": "display_data"
        }
      ]
    },
    {
      "cell_type": "markdown",
      "metadata": {
        "id": "LDiFyerWpLfV"
      },
      "source": [
        "#### (C) Embed in a `mutate`"
      ]
    },
    {
      "cell_type": "code",
      "metadata": {
        "id": "OIWvmWxgpLfV",
        "outputId": "8bdb1b9f-df48-4ae7-f4ac-1c8828536d99"
      },
      "source": [
        "(football_sleep\n",
        " %>% mutate(percent = str_replace(pct7, '%', '') \n",
        "                     %>% as.numeric)\n",
        " %>% head\n",
        ")"
      ],
      "execution_count": null,
      "outputs": [
        {
          "data": {
            "text/html": [
              "<table>\n",
              "<thead><tr><th scope=col>student</th><th scope=col>Class</th><th scope=col>Pct7</th><th scope=col>Avg.sleep.per.night</th><th scope=col>GPA.pre</th><th scope=col>GPA.post</th><th scope=col>Clean.pre</th><th scope=col>Clean.post</th><th scope=col>Back.pre</th><th scope=col>Back.post</th><th scope=col>Bench.pre</th><th scope=col>Bench.post</th><th scope=col>percent</th></tr></thead>\n",
              "<tbody>\n",
              "\t<tr><td>1   </td><td>NA  </td><td>    </td><td> NA </td><td>3.21</td><td>3.60</td><td>270 </td><td> NA </td><td>425 </td><td> NA </td><td>315 </td><td> NA </td><td>NA  </td></tr>\n",
              "\t<tr><td>2   </td><td> 1  </td><td>95% </td><td>7.6 </td><td>3.10</td><td>3.30</td><td>265 </td><td>290 </td><td>385 </td><td>430 </td><td>255 </td><td>275 </td><td>95  </td></tr>\n",
              "\t<tr><td>3   </td><td> 2  </td><td>90% </td><td>7.5 </td><td>2.94</td><td>3.46</td><td>264 </td><td>264 </td><td>290 </td><td>425 </td><td>290 </td><td>290 </td><td>90  </td></tr>\n",
              "\t<tr><td>4   </td><td> 2  </td><td>25% </td><td>6.0 </td><td>2.57</td><td>2.20</td><td>290 </td><td> NA </td><td>450 </td><td> NA </td><td>275 </td><td> NA </td><td>25  </td></tr>\n",
              "\t<tr><td>5   </td><td> 1  </td><td>44% </td><td>6.0 </td><td>3.50</td><td>3.50</td><td>280 </td><td>265 </td><td>415 </td><td>390 </td><td>270 </td><td>235 </td><td>44  </td></tr>\n",
              "\t<tr><td>6   </td><td> 2  </td><td>88% </td><td>7.0 </td><td>2.64</td><td>1.53</td><td>253 </td><td>253 </td><td>405 </td><td>415 </td><td>305 </td><td>325 </td><td>88  </td></tr>\n",
              "</tbody>\n",
              "</table>\n"
            ],
            "text/latex": [
              "\\begin{tabular}{r|lllllllllllll}\n",
              " student & Class & Pct7 & Avg.sleep.per.night & GPA.pre & GPA.post & Clean.pre & Clean.post & Back.pre & Back.post & Bench.pre & Bench.post & percent\\\\\n",
              "\\hline\n",
              "\t 1    & NA   &      &  NA  & 3.21 & 3.60 & 270  &  NA  & 425  &  NA  & 315  &  NA  & NA  \\\\\n",
              "\t 2     &  1    & 95\\% & 7.6   & 3.10  & 3.30  & 265   & 290   & 385   & 430   & 255   & 275   & 95   \\\\\n",
              "\t 3     &  2    & 90\\% & 7.5   & 2.94  & 3.46  & 264   & 264   & 290   & 425   & 290   & 290   & 90   \\\\\n",
              "\t 4     &  2    & 25\\% & 6.0   & 2.57  & 2.20  & 290   &  NA   & 450   &  NA   & 275   &  NA   & 25   \\\\\n",
              "\t 5     &  1    & 44\\% & 6.0   & 3.50  & 3.50  & 280   & 265   & 415   & 390   & 270   & 235   & 44   \\\\\n",
              "\t 6     &  2    & 88\\% & 7.0   & 2.64  & 1.53  & 253   & 253   & 405   & 415   & 305   & 325   & 88   \\\\\n",
              "\\end{tabular}\n"
            ],
            "text/markdown": [
              "\n",
              "student | Class | Pct7 | Avg.sleep.per.night | GPA.pre | GPA.post | Clean.pre | Clean.post | Back.pre | Back.post | Bench.pre | Bench.post | percent | \n",
              "|---|---|---|---|---|---|\n",
              "| 1    | NA   |      |  NA  | 3.21 | 3.60 | 270  |  NA  | 425  |  NA  | 315  |  NA  | NA   | \n",
              "| 2    |  1   | 95%  | 7.6  | 3.10 | 3.30 | 265  | 290  | 385  | 430  | 255  | 275  | 95   | \n",
              "| 3    |  2   | 90%  | 7.5  | 2.94 | 3.46 | 264  | 264  | 290  | 425  | 290  | 290  | 90   | \n",
              "| 4    |  2   | 25%  | 6.0  | 2.57 | 2.20 | 290  |  NA  | 450  |  NA  | 275  |  NA  | 25   | \n",
              "| 5    |  1   | 44%  | 6.0  | 3.50 | 3.50 | 280  | 265  | 415  | 390  | 270  | 235  | 44   | \n",
              "| 6    |  2   | 88%  | 7.0  | 2.64 | 1.53 | 253  | 253  | 405  | 415  | 305  | 325  | 88   | \n",
              "\n",
              "\n"
            ],
            "text/plain": [
              "  student Class Pct7 Avg.sleep.per.night GPA.pre GPA.post Clean.pre Clean.post\n",
              "1 1       NA          NA                 3.21    3.60     270        NA       \n",
              "2 2        1    95%  7.6                 3.10    3.30     265       290       \n",
              "3 3        2    90%  7.5                 2.94    3.46     264       264       \n",
              "4 4        2    25%  6.0                 2.57    2.20     290        NA       \n",
              "5 5        1    44%  6.0                 3.50    3.50     280       265       \n",
              "6 6        2    88%  7.0                 2.64    1.53     253       253       \n",
              "  Back.pre Back.post Bench.pre Bench.post percent\n",
              "1 425       NA       315        NA        NA     \n",
              "2 385      430       255       275        95     \n",
              "3 290      425       290       290        90     \n",
              "4 450       NA       275        NA        25     \n",
              "5 415      390       270       235        44     \n",
              "6 405      415       305       325        88     "
            ]
          },
          "metadata": {},
          "output_type": "display_data"
        }
      ]
    },
    {
      "cell_type": "markdown",
      "metadata": {
        "id": "mUCZKQIWpLfW"
      },
      "source": [
        "#### (D) Also compute the fraction"
      ]
    },
    {
      "cell_type": "code",
      "metadata": {
        "id": "yOCIQ-0opLfW",
        "outputId": "14e9b4ce-8822-4a5a-8264-4898532b4d6c"
      },
      "source": [
        "(football_sleep\n",
        " %>% mutate(percent = str_replace(pct7, '%', '') \n",
        "                     %>% as.numeric,\n",
        "           fraction = percent/100)\n",
        " %>% head\n",
        ")"
      ],
      "execution_count": null,
      "outputs": [
        {
          "data": {
            "text/html": [
              "<table>\n",
              "<thead><tr><th scope=col>student</th><th scope=col>Class</th><th scope=col>Pct7</th><th scope=col>Avg.sleep.per.night</th><th scope=col>GPA.pre</th><th scope=col>GPA.post</th><th scope=col>Clean.pre</th><th scope=col>Clean.post</th><th scope=col>Back.pre</th><th scope=col>Back.post</th><th scope=col>Bench.pre</th><th scope=col>Bench.post</th><th scope=col>percent</th><th scope=col>fraction</th></tr></thead>\n",
              "<tbody>\n",
              "\t<tr><td>1   </td><td>NA  </td><td>    </td><td> NA </td><td>3.21</td><td>3.60</td><td>270 </td><td> NA </td><td>425 </td><td> NA </td><td>315 </td><td> NA </td><td>NA  </td><td>  NA</td></tr>\n",
              "\t<tr><td>2   </td><td> 1  </td><td>95% </td><td>7.6 </td><td>3.10</td><td>3.30</td><td>265 </td><td>290 </td><td>385 </td><td>430 </td><td>255 </td><td>275 </td><td>95  </td><td>0.95</td></tr>\n",
              "\t<tr><td>3   </td><td> 2  </td><td>90% </td><td>7.5 </td><td>2.94</td><td>3.46</td><td>264 </td><td>264 </td><td>290 </td><td>425 </td><td>290 </td><td>290 </td><td>90  </td><td>0.90</td></tr>\n",
              "\t<tr><td>4   </td><td> 2  </td><td>25% </td><td>6.0 </td><td>2.57</td><td>2.20</td><td>290 </td><td> NA </td><td>450 </td><td> NA </td><td>275 </td><td> NA </td><td>25  </td><td>0.25</td></tr>\n",
              "\t<tr><td>5   </td><td> 1  </td><td>44% </td><td>6.0 </td><td>3.50</td><td>3.50</td><td>280 </td><td>265 </td><td>415 </td><td>390 </td><td>270 </td><td>235 </td><td>44  </td><td>0.44</td></tr>\n",
              "\t<tr><td>6   </td><td> 2  </td><td>88% </td><td>7.0 </td><td>2.64</td><td>1.53</td><td>253 </td><td>253 </td><td>405 </td><td>415 </td><td>305 </td><td>325 </td><td>88  </td><td>0.88</td></tr>\n",
              "</tbody>\n",
              "</table>\n"
            ],
            "text/latex": [
              "\\begin{tabular}{r|llllllllllllll}\n",
              " student & Class & Pct7 & Avg.sleep.per.night & GPA.pre & GPA.post & Clean.pre & Clean.post & Back.pre & Back.post & Bench.pre & Bench.post & percent & fraction\\\\\n",
              "\\hline\n",
              "\t 1    & NA   &      &  NA  & 3.21 & 3.60 & 270  &  NA  & 425  &  NA  & 315  &  NA  & NA   &   NA\\\\\n",
              "\t 2     &  1    & 95\\% & 7.6   & 3.10  & 3.30  & 265   & 290   & 385   & 430   & 255   & 275   & 95    & 0.95 \\\\\n",
              "\t 3     &  2    & 90\\% & 7.5   & 2.94  & 3.46  & 264   & 264   & 290   & 425   & 290   & 290   & 90    & 0.90 \\\\\n",
              "\t 4     &  2    & 25\\% & 6.0   & 2.57  & 2.20  & 290   &  NA   & 450   &  NA   & 275   &  NA   & 25    & 0.25 \\\\\n",
              "\t 5     &  1    & 44\\% & 6.0   & 3.50  & 3.50  & 280   & 265   & 415   & 390   & 270   & 235   & 44    & 0.44 \\\\\n",
              "\t 6     &  2    & 88\\% & 7.0   & 2.64  & 1.53  & 253   & 253   & 405   & 415   & 305   & 325   & 88    & 0.88 \\\\\n",
              "\\end{tabular}\n"
            ],
            "text/markdown": [
              "\n",
              "student | Class | Pct7 | Avg.sleep.per.night | GPA.pre | GPA.post | Clean.pre | Clean.post | Back.pre | Back.post | Bench.pre | Bench.post | percent | fraction | \n",
              "|---|---|---|---|---|---|\n",
              "| 1    | NA   |      |  NA  | 3.21 | 3.60 | 270  |  NA  | 425  |  NA  | 315  |  NA  | NA   |   NA | \n",
              "| 2    |  1   | 95%  | 7.6  | 3.10 | 3.30 | 265  | 290  | 385  | 430  | 255  | 275  | 95   | 0.95 | \n",
              "| 3    |  2   | 90%  | 7.5  | 2.94 | 3.46 | 264  | 264  | 290  | 425  | 290  | 290  | 90   | 0.90 | \n",
              "| 4    |  2   | 25%  | 6.0  | 2.57 | 2.20 | 290  |  NA  | 450  |  NA  | 275  |  NA  | 25   | 0.25 | \n",
              "| 5    |  1   | 44%  | 6.0  | 3.50 | 3.50 | 280  | 265  | 415  | 390  | 270  | 235  | 44   | 0.44 | \n",
              "| 6    |  2   | 88%  | 7.0  | 2.64 | 1.53 | 253  | 253  | 405  | 415  | 305  | 325  | 88   | 0.88 | \n",
              "\n",
              "\n"
            ],
            "text/plain": [
              "  student Class Pct7 Avg.sleep.per.night GPA.pre GPA.post Clean.pre Clean.post\n",
              "1 1       NA          NA                 3.21    3.60     270        NA       \n",
              "2 2        1    95%  7.6                 3.10    3.30     265       290       \n",
              "3 3        2    90%  7.5                 2.94    3.46     264       264       \n",
              "4 4        2    25%  6.0                 2.57    2.20     290        NA       \n",
              "5 5        1    44%  6.0                 3.50    3.50     280       265       \n",
              "6 6        2    88%  7.0                 2.64    1.53     253       253       \n",
              "  Back.pre Back.post Bench.pre Bench.post percent fraction\n",
              "1 425       NA       315        NA        NA        NA    \n",
              "2 385      430       255       275        95      0.95    \n",
              "3 290      425       290       290        90      0.90    \n",
              "4 450       NA       275        NA        25      0.25    \n",
              "5 415      390       270       235        44      0.44    \n",
              "6 405      415       305       325        88      0.88    "
            ]
          },
          "metadata": {},
          "output_type": "display_data"
        }
      ]
    },
    {
      "cell_type": "markdown",
      "metadata": {
        "id": "fqDblHh_pLfW"
      },
      "source": [
        "## <font color=\"red\"> Exercise 6.2 - Problem 3 - Replacing `-` with `_`</font>\n",
        "\n",
        "Use `str_replace` to replace all hyphens in the `plot_type` column with underscores."
      ]
    },
    {
      "cell_type": "code",
      "metadata": {
        "id": "0BWrKKFepLfW",
        "outputId": "2a3b71f5-6373-4049-e520-27818edd28e3"
      },
      "source": [
        "unique(surveys$plot_type)"
      ],
      "execution_count": null,
      "outputs": [
        {
          "data": {
            "text/html": [
              "<ol class=list-inline>\n",
              "\t<li>Control</li>\n",
              "\t<li>Long-term Krat Exclosure</li>\n",
              "\t<li>Short-term Krat Exclosure</li>\n",
              "\t<li>Rodent Exclosure</li>\n",
              "\t<li>Spectab exclosure</li>\n",
              "</ol>\n",
              "\n",
              "<details>\n",
              "\t<summary style=display:list-item;cursor:pointer>\n",
              "\t\t<strong>Levels</strong>:\n",
              "\t</summary>\n",
              "\t<ol class=list-inline>\n",
              "\t\t<li>'Control'</li>\n",
              "\t\t<li>'Long-term Krat Exclosure'</li>\n",
              "\t\t<li>'Rodent Exclosure'</li>\n",
              "\t\t<li>'Short-term Krat Exclosure'</li>\n",
              "\t\t<li>'Spectab exclosure'</li>\n",
              "\t</ol>\n",
              "</details>"
            ],
            "text/latex": [
              "\\begin{enumerate*}\n",
              "\\item Control\n",
              "\\item Long-term Krat Exclosure\n",
              "\\item Short-term Krat Exclosure\n",
              "\\item Rodent Exclosure\n",
              "\\item Spectab exclosure\n",
              "\\end{enumerate*}\n",
              "\n",
              "\\emph{Levels}: \\begin{enumerate*}\n",
              "\\item 'Control'\n",
              "\\item 'Long-term Krat Exclosure'\n",
              "\\item 'Rodent Exclosure'\n",
              "\\item 'Short-term Krat Exclosure'\n",
              "\\item 'Spectab exclosure'\n",
              "\\end{enumerate*}\n"
            ],
            "text/markdown": [
              "1. Control\n",
              "2. Long-term Krat Exclosure\n",
              "3. Short-term Krat Exclosure\n",
              "4. Rodent Exclosure\n",
              "5. Spectab exclosure\n",
              "\n",
              "\n",
              "\n",
              "**Levels**: 1. 'Control'\n",
              "2. 'Long-term Krat Exclosure'\n",
              "3. 'Rodent Exclosure'\n",
              "4. 'Short-term Krat Exclosure'\n",
              "5. 'Spectab exclosure'\n",
              "\n",
              "\n"
            ],
            "text/plain": [
              "[1] Control                   Long-term Krat Exclosure \n",
              "[3] Short-term Krat Exclosure Rodent Exclosure         \n",
              "[5] Spectab exclosure        \n",
              "5 Levels: Control Long-term Krat Exclosure ... Spectab exclosure"
            ]
          },
          "metadata": {},
          "output_type": "display_data"
        }
      ]
    },
    {
      "cell_type": "code",
      "metadata": {
        "id": "-RvArUDzpLfX"
      },
      "source": [
        "# Your code here"
      ],
      "execution_count": null,
      "outputs": []
    },
    {
      "cell_type": "markdown",
      "metadata": {
        "id": "zyaRNpMHpLfX"
      },
      "source": [
        "## Example 3 - Recoding a character column\n",
        "\n",
        "\n",
        "**Syntax:**\n",
        "\n",
        "```{r}\n",
        "recode(column, \n",
        "      `old value 1` = \"new string 1\",\n",
        "      `old value 2` = \"new string 2\",\n",
        "      ...)\n",
        "```"
      ]
    },
    {
      "cell_type": "code",
      "metadata": {
        "id": "KgJ5bnugpLfX"
      },
      "source": [
        "(surveys\n",
        "%>% mutate(month_name = recode(month,\n",
        "                               `1` = \"Jan\",\n",
        "                               `2` = \"Feb\",\n",
        "                               `3` = \"Mar\"))\n",
        " %>% head(10)\n",
        ")"
      ],
      "execution_count": null,
      "outputs": []
    },
    {
      "cell_type": "markdown",
      "metadata": {
        "id": "qLRTFiBjpLfY"
      },
      "source": [
        "## <font color=\"red\"> Exercise 6.2 - Problem 4 - Cleaning up the comic column </font>\n",
        "\n",
        "**Tasks:** \n",
        "\n",
        "1. Use `unique` to explore the `comic` column and identify problems.\n",
        "2. Use `recode` to clean up the `comic` column"
      ]
    },
    {
      "cell_type": "code",
      "metadata": {
        "id": "yIDjM1YcpLfY"
      },
      "source": [
        "comics <- read.csv('https://github.com/WSU-DataScience/DSCI_210_R_notebooks/raw/main/data/Comic_Data_Messy.csv')\n",
        "comics %>% head"
      ],
      "execution_count": null,
      "outputs": []
    },
    {
      "cell_type": "code",
      "metadata": {
        "id": "hXEef82ApLfY"
      },
      "source": [
        "# Your code here"
      ],
      "execution_count": null,
      "outputs": []
    }
  ]
}