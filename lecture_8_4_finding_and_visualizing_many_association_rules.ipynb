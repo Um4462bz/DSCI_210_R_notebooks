{
 "cells": [
  {
   "cell_type": "markdown",
   "metadata": {},
   "source": [
    "### Introduction\n",
    "\n",
    "* `dplyr` is fine if we want to use just one LHS item to predict a single RHS item  \n",
    "* What about multiple LHS items?? \n",
    "* Best rule among all RHS items?? \n",
    "* Need a better \"search\" algorithm "
   ]
  },
  {
   "cell_type": "markdown",
   "metadata": {},
   "source": [
    "### Automation with `arules`\n",
    "\n",
    "Automate the process with the arules library"
   ]
  },
  {
   "cell_type": "code",
   "execution_count": 2,
   "metadata": {},
   "outputs": [
    {
     "name": "stderr",
     "output_type": "stream",
     "text": [
      "Warning message in install.packages(\"arules\"):\n",
      "“installation of package ‘arules’ had non-zero exit status”Updating HTML index of packages in '.Library'\n",
      "Making 'packages.html' ... done\n"
     ]
    }
   ],
   "source": [
    "install.packages(\"arules\")"
   ]
  },
  {
   "cell_type": "code",
   "execution_count": 3,
   "metadata": {},
   "outputs": [
    {
     "ename": "ERROR",
     "evalue": "Error in library(arules): there is no package called ‘arules’\n",
     "output_type": "error",
     "traceback": [
      "Error in library(arules): there is no package called ‘arules’\nTraceback:\n",
      "1. library(arules)",
      "2. stop(txt, domain = NA)"
     ]
    }
   ],
   "source": [
    "library(arules)"
   ]
  },
  {
   "cell_type": "markdown",
   "metadata": {},
   "source": [
    "To use `arules` package, columns must be factors:"
   ]
  },
  {
   "cell_type": "code",
   "execution_count": null,
   "metadata": {},
   "outputs": [],
   "source": [
    "library(dplyr)"
   ]
  },
  {
   "cell_type": "code",
   "execution_count": null,
   "metadata": {},
   "outputs": [],
   "source": [
    "groceries <- read.csv('https://github.com/WSU-DataScience/DSCI_210_R_notebooks/raw/main/data/Groceries.csv')\n",
    "head(groceries)"
   ]
  },
  {
   "cell_type": "code",
   "execution_count": null,
   "metadata": {},
   "outputs": [],
   "source": [
    "groc_factors <-\n",
    "  groceries %>%\n",
    "  mutate_if(is.integer, as.factor)"
   ]
  },
  {
   "cell_type": "markdown",
   "metadata": {},
   "source": [
    "### Compute the rules\n",
    "\n",
    "\n",
    "* Use `apriori` function to compute rules; `parameter = ` to set min values\n",
    "* Default: `parameter = list(support = .1, confidence = .8, maxlen = 10)`\n",
    "    * `maxlen = 2` sets one item on LHS, one on RHS\n",
    "    *  **Support filter refers to the JOINT support!  *SUPPORT{LHS, RHS}***"
   ]
  },
  {
   "cell_type": "code",
   "execution_count": null,
   "metadata": {},
   "outputs": [],
   "source": [
    "groc_rules <- apriori(groc_factors, \n",
    "                      parameter = list(supp = 0.05,\n",
    "                                       conf = 0.2,\n",
    "                                       maxlen = 2))"
   ]
  },
  {
   "cell_type": "markdown",
   "metadata": {},
   "source": [
    "### Investigate\n",
    "\n",
    "* `apriori` output are of S4 class `\"rules\"`\n",
    "* use `@` symbols like `$`, or as functions"
   ]
  },
  {
   "cell_type": "code",
   "execution_count": null,
   "metadata": {},
   "outputs": [],
   "source": [
    "class(groc_rules)\n",
    "str(groc_rules)"
   ]
  },
  {
   "cell_type": "markdown",
   "metadata": {},
   "source": [
    "### Inspect\n",
    "\n",
    "Use `inspect()` to get a feel for the structure:"
   ]
  },
  {
   "cell_type": "code",
   "execution_count": null,
   "metadata": {},
   "outputs": [],
   "source": [
    "inspect(groc_rules[1:10]) "
   ]
  },
  {
   "cell_type": "markdown",
   "metadata": {},
   "source": [
    "**Remember, `support` column is the JOINT support of {LHS,RHS}**"
   ]
  },
  {
   "cell_type": "markdown",
   "metadata": {},
   "source": [
    "### Pull out the rules with whole.milk\n",
    "\n",
    "* Use `subset()` function to filter rules\n",
    "* Use `head(rules, n= , by = , decreasing = )` to select top-n and bottom-n rules "
   ]
  },
  {
   "cell_type": "code",
   "execution_count": null,
   "metadata": {},
   "outputs": [],
   "source": [
    "milk_rules <-  subset(groc_rules, subset = rhs %in% 'whole.milk=1') \n",
    "inspect(head(milk_rules, n = 5, by = 'lift'))\n",
    "inspect(head(milk_rules, n = 5, by = 'lift', decreasing = FALSE))"
   ]
  },
  {
   "cell_type": "markdown",
   "metadata": {},
   "source": [
    "### Using piping"
   ]
  },
  {
   "cell_type": "code",
   "execution_count": null,
   "metadata": {},
   "outputs": [],
   "source": [
    "groc_rules %>%\n",
    "  subset(rhs %in% 'whole.milk=1') %>%\n",
    "  head(10, by = 'lift') %>% \n",
    "  inspect()"
   ]
  },
  {
   "cell_type": "markdown",
   "metadata": {},
   "source": [
    "### Considering more than one item on LHS the number of rules"
   ]
  },
  {
   "cell_type": "code",
   "execution_count": null,
   "metadata": {},
   "outputs": [],
   "source": [
    "#control = list(verbose = FALSE) to suppress progress printing \n",
    "groc_rules2 <- apriori(groc_factors, \n",
    "                      parameter = list(supp = 0.05,\n",
    "                                       conf = 0.2,\n",
    "                                       maxlen = 4), \n",
    "                      control = list(verbose = FALSE))"
   ]
  },
  {
   "cell_type": "markdown",
   "metadata": {},
   "source": [
    "#### Finding the 10 best rules for predicting whole milk, considering rules with at least 8% support."
   ]
  },
  {
   "cell_type": "code",
   "execution_count": null,
   "metadata": {},
   "outputs": [],
   "source": [
    "milk_rules_8pct <-  subset(groc_rules2, subset = rhs %in% 'whole.milk=1' & support > .08) \n",
    "milk_rules_8pct %>% \n",
    "  head(n=10, by = 'lift') %>% \n",
    "  inspect() "
   ]
  },
  {
   "cell_type": "markdown",
   "metadata": {},
   "source": [
    "#### Finding the 10 best rules overall, among rules with at least 10% support. "
   ]
  },
  {
   "cell_type": "code",
   "execution_count": null,
   "metadata": {},
   "outputs": [],
   "source": [
    "rules_10pct <-  subset(groc_rules2, subset = support > .1) \n",
    "rules_10pct %>% \n",
    "  head(10, by = 'lift') %>% \n",
    "  inspect()"
   ]
  },
  {
   "cell_type": "markdown",
   "metadata": {},
   "source": [
    "> Interpretation of lift = 1.095: *Knowing that vegetables were NOT purchased and soda WAS purchased increases the likelihood that milk was NOT purchased by 9.5%, relative to the overall rate at which milk was NOT purchased.*"
   ]
  },
  {
   "cell_type": "markdown",
   "metadata": {},
   "source": [
    "### Visualizing association rules\n",
    "\n",
    "\n",
    "The `arulesViz` package can be used to visualize and interact with individual rules "
   ]
  },
  {
   "cell_type": "code",
   "execution_count": null,
   "metadata": {},
   "outputs": [],
   "source": [
    "install.packages('arulesViz')"
   ]
  },
  {
   "cell_type": "code",
   "execution_count": null,
   "metadata": {},
   "outputs": [],
   "source": [
    "library(arulesViz)"
   ]
  },
  {
   "cell_type": "code",
   "execution_count": null,
   "metadata": {},
   "outputs": [],
   "source": [
    "plot(milk_rules_8pct)"
   ]
  },
  {
   "cell_type": "code",
   "execution_count": null,
   "metadata": {},
   "outputs": [],
   "source": [
    "#change the visual encoding:\n",
    "plot(milk_rules_8pct, measure = c('support','lift'), shading = 'confidence')"
   ]
  },
  {
   "cell_type": "markdown",
   "metadata": {},
   "source": [
    "Use `engine = 'interactive'` to highlight and inspect rules; double-clicking to shade then clicking \"inspect\" :"
   ]
  },
  {
   "cell_type": "code",
   "execution_count": null,
   "metadata": {},
   "outputs": [],
   "source": [
    "plot(milk_rules_8pct, measure = c('support','lift'), shading = 'confidence', \n",
    "     engine = 'interactive')"
   ]
  },
  {
   "cell_type": "markdown",
   "metadata": {},
   "source": [
    "<img width=\"400\" src=\"https://github.com/WSU-DataScience/DSCI_210_R_notebooks/raw/main/img/interactive-aviz.png\"> "
   ]
  },
  {
   "cell_type": "markdown",
   "metadata": {},
   "source": [
    "Use `method = 'grouped'` useful for identifying small numbers of quality rules with various `RHS`:"
   ]
  },
  {
   "cell_type": "code",
   "execution_count": null,
   "metadata": {},
   "outputs": [],
   "source": [
    "top1000 <- rules_10pct %>% \n",
    "  head(1000, by = 'lift') \n",
    "plot(top1000, method = 'grouped')"
   ]
  },
  {
   "cell_type": "code",
   "execution_count": null,
   "metadata": {},
   "outputs": [],
   "source": [
    "plot(top1000, method = 'grouped', measure = 'lift',shading = 'support')"
   ]
  }
 ],
 "metadata": {
  "kernelspec": {
   "display_name": "R",
   "language": "R",
   "name": "ir"
  },
  "language_info": {
   "codemirror_mode": "r",
   "file_extension": ".r",
   "mimetype": "text/x-r-source",
   "name": "R",
   "pygments_lexer": "r",
   "version": "3.5.1"
  }
 },
 "nbformat": 4,
 "nbformat_minor": 4
}
